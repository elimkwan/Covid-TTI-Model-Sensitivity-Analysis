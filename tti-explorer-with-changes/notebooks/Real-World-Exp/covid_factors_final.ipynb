{
 "cells": [
  {
   "cell_type": "code",
   "execution_count": 1,
   "metadata": {},
   "outputs": [],
   "source": [
    "import os\n",
    "import numpy as np\n",
    "import pandas as pd\n",
    "from   tqdm.notebook import trange\n",
    "from   tti_explorer import config, utils\n",
    "from   tti_explorer.case import simulate_case, CaseFactors\n",
    "from   tti_explorer.contacts import EmpiricalContactsSimulator\n",
    "from   tti_explorer.strategies import TTIFlowModel, RETURN_KEYS\n",
    "import urllib.request\n",
    "import numpy as np\n",
    "import matplotlib.pyplot as plt\n",
    "\n",
    "from   matplotlib import colors as mcolors\n",
    "from   matplotlib import cm\n",
    "import numpy as np\n",
    "import GPy\n",
    "from   emukit_new.core import ContinuousParameter, ParameterSpace\n",
    "from   emukit_new.sensitivity.monte_carlo import ModelFreeMonteCarloSensitivity\n",
    "from   emukit_new.core.initial_designs import RandomDesign\n",
    "from   GPy.models import GPRegression\n",
    "from   emukit_new.model_wrappers import GPyModelWrapper\n",
    "from   emukit_new.sensitivity.monte_carlo import MonteCarloSecondOrderSensitivity\n",
    "from   emukit_new.experimental_design.acquisitions import IntegratedVarianceReduction, ModelVariance\n",
    "from   emukit_new.experimental_design.experimental_design_loop import ExperimentalDesignLoop\n",
    "import matplotlib.pyplot as plt\n",
    "import teaching_plots as plot\n",
    "import mlai\n",
    "import pandas as pd\n",
    "from   tti_explorer.strategies import TTIFlowModel\n",
    "def print_doc(func):\n",
    "    print(func.__doc__)\n",
    "rng = np.random.RandomState(0)\n",
    "\n",
    "def load_csv(pth):\n",
    "    return np.loadtxt(pth, dtype=int, skiprows=1, delimiter=\",\")\n",
    "path_to_bbc_data = os.path.join(\"../../data\", \"bbc-pandemic\")\n",
    "\n",
    "\n",
    "def update_policy_config(app_uptake, pol_compl, wfh, go_to_school_prob, asym_fac):\n",
    "    policy_config['app_cov'] = app_uptake\n",
    "    policy_config['compliance'] = pol_compl\n",
    "    policy_config['wfh_prob'] = wfh\n",
    "    policy_config['go_to_school_prob']  = go_to_school_prob\n",
    "    contacts_config['asymp_factor']=asym_fac\n",
    "    return policy_config, contacts_config\n",
    "\n",
    "\n",
    "#     contacts_config['work_sar']=work_sar\n",
    "def update_policy_config(app_uptake, pol_compl):\n",
    "    policy_config['app_cov'] = app_uptake\n",
    "    policy_config['compliance'] = pol_compl\n",
    "    return policy_config\n",
    "\n",
    "# policy_config = update_policy_config(0.5, 0.05)\n",
    "# Separating this because it is built from the ammended policy_config\n",
    "\n",
    "from scipy.stats import gamma\n",
    "\n",
    "\n",
    "def update_case_config(p_day_noticed_symptoms_ab, inf_profile_ab):\n",
    "    alpha = [p_day_noticed_symptoms_ab[0], inf_profile_ab[0]]\n",
    "    beta = [p_day_noticed_symptoms_ab[1], inf_profile_ab[1]]\n",
    "    strs = ['p_day_noticed_symptoms', 'inf_profile']\n",
    "    \n",
    "    for i in range(2):\n",
    "    \n",
    "        x = np.linspace(gamma.pdf(0.01, a=alpha[i], scale=1/beta[i]),\n",
    "                        gamma.pdf(0.99, a=alpha[i], scale=1/beta[i]), 10)\n",
    "\n",
    "        #apply softmax\n",
    "        norm = np.exp(x)\n",
    "        s = sum(norm)\n",
    "        norm = np.round(norm/s, decimals=2)\n",
    "        norm[-1] = 1- sum(norm[:-1])\n",
    "\n",
    "        case_config[strs[i]] = norm\n",
    "    \n",
    "    return case_config\n",
    "\n",
    "\n",
    "\n",
    "def update_policy_config(latent_var):\n",
    "    policy_config['latent_period'] = int(latent_var)\n",
    "    return policy_config"
   ]
  },
  {
   "cell_type": "code",
   "execution_count": 3,
   "metadata": {},
   "outputs": [
    {
     "name": "stdout",
     "output_type": "stream",
     "text": [
      "[[2.27580461 1.15454065 4.46690989 4.22319852 4.09372654]\n",
      " [2.70168445 4.92139415 2.62151939 1.39721258 2.03939661]\n",
      " [3.19179248 3.5563196  4.17318107 2.6738318  4.15411347]\n",
      " [2.08716763 4.22572307 2.9272846  4.62893304 2.27087892]\n",
      " [1.63067914 1.25787297 1.07924708 2.99160261 7.15682024]\n",
      " [3.30323297 4.68024347 1.44497238 3.27692395 9.12272768]\n",
      " [4.38330505 4.94127021 3.19189173 4.20757515 8.17481577]\n",
      " [3.19650233 2.72988795 4.04284074 4.43013223 8.02342325]\n",
      " [1.38179355 4.93603884 4.06959422 3.62051724 6.76175638]\n",
      " [2.95842736 4.46665279 1.43854227 3.14277976 2.99183165]\n",
      " [2.21136552 4.16647822 3.53305408 1.62040118 2.2398752 ]\n",
      " [2.9551342  1.79320986 4.80953126 3.7168075  3.8967207 ]\n",
      " [3.14234598 4.98986107 3.1574958  1.61838154 5.54460913]\n",
      " [4.72448034 1.66909645 2.37641474 4.31268302 8.57554324]\n",
      " [4.24160395 1.0627503  1.28025655 3.70323523 5.65321982]\n",
      " [1.27291257 2.40672108 3.7119094  2.58688977 4.14781143]\n",
      " [4.03951822 4.32905696 4.08394742 2.27447849 7.52084784]\n",
      " [2.13917024 4.70904287 4.84112021 3.32157558 8.92401247]\n",
      " [4.8222042  1.21012352 4.16379125 4.92087388 9.26807505]\n",
      " [3.46279468 1.9028207  2.26273243 4.34268347 7.37952025]\n",
      " [4.17704041 1.22195152 4.62550036 3.38336644 3.75340769]\n",
      " [4.95805593 3.8166902  3.0246312  1.54581648 2.45277406]\n",
      " [1.28481101 1.65696294 1.99368402 2.61750248 6.50245891]\n",
      " [1.24206149 4.35860954 2.64153561 3.00832742 9.61227307]\n",
      " [1.52297893 2.35822308 1.12349385 4.07826562 5.27500626]\n",
      " [3.9125572  2.79921996 4.05405738 2.81205495 2.99641587]\n",
      " [4.61631629 4.67332672 3.26942918 3.18823976 7.83604243]\n",
      " [1.88711794 2.14640173 3.45561525 3.98028218 5.78622526]\n",
      " [1.77598925 3.72070953 2.77473466 3.46490766 2.27890154]\n",
      " [3.62331019 3.45521185 3.52763953 1.42146929 4.79117039]\n",
      " [4.19817962 1.9329974  1.54631021 4.55944139 3.38531777]\n",
      " [1.05628056 3.55236939 4.44664719 4.86910754 9.88976569]\n",
      " [3.67092429 2.96846427 1.0469346  4.84971935 6.09196484]\n",
      " [1.16529131 2.724354   2.64998994 2.18912599 7.77499293]\n",
      " [1.63894189 4.9507805  1.5095192  2.01688184 2.11329662]\n",
      " [3.43788495 2.04174142 3.60888493 2.55327857 8.11105147]\n",
      " [3.41877297 3.00842957 3.68342992 4.45378385 4.54234962]\n",
      " [2.6969158  1.52362302 4.46684618 1.53860974 9.50741793]\n",
      " [3.07912369 4.0857162  4.71197881 1.2350032  6.88554347]\n",
      " [2.41038184 3.57860041 4.57902445 1.25855596 5.20965654]\n",
      " [3.33254761 3.07780745 2.63708218 3.34603476 1.38297944]\n",
      " [4.39190381 1.898127   2.58689168 4.0078234  3.62876416]\n",
      " [3.22874482 2.37727903 4.88504719 4.69789868 1.82126641]\n",
      " [3.22555902 3.36361731 4.01014231 1.52037749 6.00830691]\n",
      " [2.7017912  4.75110667 3.28946423 3.53212815 6.18501997]\n",
      " [1.01707012 4.96114829 2.74410937 4.24346975 2.86576649]\n",
      " [3.34260077 4.27988653 2.70965228 2.37817799 7.23837389]\n",
      " [1.6453082  4.9123626  1.38809532 3.05949744 5.27337105]\n",
      " [3.20599251 2.15731386 1.96401145 3.35453251 1.83968295]\n",
      " [4.50865296 4.99351895 1.84985459 3.5565143  8.97215516]]\n"
     ]
    },
    {
     "data": {
      "application/vnd.jupyter.widget-view+json": {
       "model_id": "b0a290b8909a4fb4b87bb18206600cb2",
       "version_major": 2,
       "version_minor": 0
      },
      "text/plain": [
       "HBox(children=(HTML(value=''), FloatProgress(value=0.0, max=10000.0), HTML(value='')))"
      ]
     },
     "metadata": {},
     "output_type": "display_data"
    },
    {
     "name": "stdout",
     "output_type": "stream",
     "text": [
      "\n"
     ]
    },
    {
     "data": {
      "application/vnd.jupyter.widget-view+json": {
       "model_id": "b0ca3676dfc6474695bbdf827ac766f8",
       "version_major": 2,
       "version_minor": 0
      },
      "text/plain": [
       "HBox(children=(HTML(value=''), FloatProgress(value=0.0, max=10000.0), HTML(value='')))"
      ]
     },
     "metadata": {},
     "output_type": "display_data"
    },
    {
     "name": "stdout",
     "output_type": "stream",
     "text": [
      "\n"
     ]
    },
    {
     "data": {
      "application/vnd.jupyter.widget-view+json": {
       "model_id": "19c3f7a6597849cf8c1a1736512004d8",
       "version_major": 2,
       "version_minor": 0
      },
      "text/plain": [
       "HBox(children=(HTML(value=''), FloatProgress(value=0.0, max=10000.0), HTML(value='')))"
      ]
     },
     "metadata": {},
     "output_type": "display_data"
    },
    {
     "name": "stdout",
     "output_type": "stream",
     "text": [
      "\n"
     ]
    },
    {
     "data": {
      "application/vnd.jupyter.widget-view+json": {
       "model_id": "9ff3cd3cad0d4c4ea3f7b09afba1f9ed",
       "version_major": 2,
       "version_minor": 0
      },
      "text/plain": [
       "HBox(children=(HTML(value=''), FloatProgress(value=0.0, max=10000.0), HTML(value='')))"
      ]
     },
     "metadata": {},
     "output_type": "display_data"
    },
    {
     "name": "stdout",
     "output_type": "stream",
     "text": [
      "\n"
     ]
    },
    {
     "data": {
      "application/vnd.jupyter.widget-view+json": {
       "model_id": "313ce0bc0af0476b84dfcb78672f94e6",
       "version_major": 2,
       "version_minor": 0
      },
      "text/plain": [
       "HBox(children=(HTML(value=''), FloatProgress(value=0.0, max=10000.0), HTML(value='')))"
      ]
     },
     "metadata": {},
     "output_type": "display_data"
    },
    {
     "name": "stdout",
     "output_type": "stream",
     "text": [
      "\n"
     ]
    },
    {
     "data": {
      "application/vnd.jupyter.widget-view+json": {
       "model_id": "0ce26c4ae8404562baa542c56fd8659a",
       "version_major": 2,
       "version_minor": 0
      },
      "text/plain": [
       "HBox(children=(HTML(value=''), FloatProgress(value=0.0, max=10000.0), HTML(value='')))"
      ]
     },
     "metadata": {},
     "output_type": "display_data"
    },
    {
     "name": "stdout",
     "output_type": "stream",
     "text": [
      "\n"
     ]
    },
    {
     "data": {
      "application/vnd.jupyter.widget-view+json": {
       "model_id": "55a54336816c46898c5faae4519fe52a",
       "version_major": 2,
       "version_minor": 0
      },
      "text/plain": [
       "HBox(children=(HTML(value=''), FloatProgress(value=0.0, max=10000.0), HTML(value='')))"
      ]
     },
     "metadata": {},
     "output_type": "display_data"
    },
    {
     "name": "stdout",
     "output_type": "stream",
     "text": [
      "\n"
     ]
    },
    {
     "data": {
      "application/vnd.jupyter.widget-view+json": {
       "model_id": "c33942af9daa4ccba902be2147cca32f",
       "version_major": 2,
       "version_minor": 0
      },
      "text/plain": [
       "HBox(children=(HTML(value=''), FloatProgress(value=0.0, max=10000.0), HTML(value='')))"
      ]
     },
     "metadata": {},
     "output_type": "display_data"
    },
    {
     "name": "stdout",
     "output_type": "stream",
     "text": [
      "\n"
     ]
    },
    {
     "data": {
      "application/vnd.jupyter.widget-view+json": {
       "model_id": "8420db7c8ef54f3d93604eb0b24500f6",
       "version_major": 2,
       "version_minor": 0
      },
      "text/plain": [
       "HBox(children=(HTML(value=''), FloatProgress(value=0.0, max=10000.0), HTML(value='')))"
      ]
     },
     "metadata": {},
     "output_type": "display_data"
    },
    {
     "name": "stdout",
     "output_type": "stream",
     "text": [
      "\n"
     ]
    },
    {
     "data": {
      "application/vnd.jupyter.widget-view+json": {
       "model_id": "2ac8c73d0d714dc581a41bb6431c9eaf",
       "version_major": 2,
       "version_minor": 0
      },
      "text/plain": [
       "HBox(children=(HTML(value=''), FloatProgress(value=0.0, max=10000.0), HTML(value='')))"
      ]
     },
     "metadata": {},
     "output_type": "display_data"
    },
    {
     "name": "stdout",
     "output_type": "stream",
     "text": [
      "\n"
     ]
    },
    {
     "data": {
      "application/vnd.jupyter.widget-view+json": {
       "model_id": "57e5ae33ef02455fae0b55fb5286c868",
       "version_major": 2,
       "version_minor": 0
      },
      "text/plain": [
       "HBox(children=(HTML(value=''), FloatProgress(value=0.0, max=10000.0), HTML(value='')))"
      ]
     },
     "metadata": {},
     "output_type": "display_data"
    },
    {
     "name": "stdout",
     "output_type": "stream",
     "text": [
      "\n"
     ]
    },
    {
     "data": {
      "application/vnd.jupyter.widget-view+json": {
       "model_id": "08228bed51074f9db4058acde1e2af69",
       "version_major": 2,
       "version_minor": 0
      },
      "text/plain": [
       "HBox(children=(HTML(value=''), FloatProgress(value=0.0, max=10000.0), HTML(value='')))"
      ]
     },
     "metadata": {},
     "output_type": "display_data"
    },
    {
     "name": "stdout",
     "output_type": "stream",
     "text": [
      "\n"
     ]
    },
    {
     "data": {
      "application/vnd.jupyter.widget-view+json": {
       "model_id": "55e1d56277244ab5a0ab2d933403941f",
       "version_major": 2,
       "version_minor": 0
      },
      "text/plain": [
       "HBox(children=(HTML(value=''), FloatProgress(value=0.0, max=10000.0), HTML(value='')))"
      ]
     },
     "metadata": {},
     "output_type": "display_data"
    },
    {
     "name": "stdout",
     "output_type": "stream",
     "text": [
      "\n"
     ]
    },
    {
     "data": {
      "application/vnd.jupyter.widget-view+json": {
       "model_id": "fbca5033b7514cdfa9e44c66d582291c",
       "version_major": 2,
       "version_minor": 0
      },
      "text/plain": [
       "HBox(children=(HTML(value=''), FloatProgress(value=0.0, max=10000.0), HTML(value='')))"
      ]
     },
     "metadata": {},
     "output_type": "display_data"
    },
    {
     "name": "stdout",
     "output_type": "stream",
     "text": [
      "\n"
     ]
    },
    {
     "data": {
      "application/vnd.jupyter.widget-view+json": {
       "model_id": "307ad5ea891b445590ff5130d5d8f091",
       "version_major": 2,
       "version_minor": 0
      },
      "text/plain": [
       "HBox(children=(HTML(value=''), FloatProgress(value=0.0, max=10000.0), HTML(value='')))"
      ]
     },
     "metadata": {},
     "output_type": "display_data"
    },
    {
     "name": "stdout",
     "output_type": "stream",
     "text": [
      "\n"
     ]
    },
    {
     "data": {
      "application/vnd.jupyter.widget-view+json": {
       "model_id": "d6bc681d1439461b80fd962107edeac2",
       "version_major": 2,
       "version_minor": 0
      },
      "text/plain": [
       "HBox(children=(HTML(value=''), FloatProgress(value=0.0, max=10000.0), HTML(value='')))"
      ]
     },
     "metadata": {},
     "output_type": "display_data"
    },
    {
     "name": "stdout",
     "output_type": "stream",
     "text": [
      "\n"
     ]
    },
    {
     "data": {
      "application/vnd.jupyter.widget-view+json": {
       "model_id": "b802e964479047979cdb596a099f8501",
       "version_major": 2,
       "version_minor": 0
      },
      "text/plain": [
       "HBox(children=(HTML(value=''), FloatProgress(value=0.0, max=10000.0), HTML(value='')))"
      ]
     },
     "metadata": {},
     "output_type": "display_data"
    },
    {
     "name": "stdout",
     "output_type": "stream",
     "text": [
      "\n"
     ]
    },
    {
     "data": {
      "application/vnd.jupyter.widget-view+json": {
       "model_id": "b19dd2a8a6cc487a809760c477a9f70e",
       "version_major": 2,
       "version_minor": 0
      },
      "text/plain": [
       "HBox(children=(HTML(value=''), FloatProgress(value=0.0, max=10000.0), HTML(value='')))"
      ]
     },
     "metadata": {},
     "output_type": "display_data"
    },
    {
     "name": "stdout",
     "output_type": "stream",
     "text": [
      "\n"
     ]
    },
    {
     "data": {
      "application/vnd.jupyter.widget-view+json": {
       "model_id": "459c20285d3942c68023261144597a31",
       "version_major": 2,
       "version_minor": 0
      },
      "text/plain": [
       "HBox(children=(HTML(value=''), FloatProgress(value=0.0, max=10000.0), HTML(value='')))"
      ]
     },
     "metadata": {},
     "output_type": "display_data"
    },
    {
     "name": "stdout",
     "output_type": "stream",
     "text": [
      "\n"
     ]
    },
    {
     "data": {
      "application/vnd.jupyter.widget-view+json": {
       "model_id": "12527581dbf442ea93a86e333e942d80",
       "version_major": 2,
       "version_minor": 0
      },
      "text/plain": [
       "HBox(children=(HTML(value=''), FloatProgress(value=0.0, max=10000.0), HTML(value='')))"
      ]
     },
     "metadata": {},
     "output_type": "display_data"
    },
    {
     "name": "stdout",
     "output_type": "stream",
     "text": [
      "\n"
     ]
    },
    {
     "data": {
      "application/vnd.jupyter.widget-view+json": {
       "model_id": "4c95031a13964271ba2e6a7371b47684",
       "version_major": 2,
       "version_minor": 0
      },
      "text/plain": [
       "HBox(children=(HTML(value=''), FloatProgress(value=0.0, max=10000.0), HTML(value='')))"
      ]
     },
     "metadata": {},
     "output_type": "display_data"
    },
    {
     "name": "stdout",
     "output_type": "stream",
     "text": [
      "\n"
     ]
    },
    {
     "data": {
      "application/vnd.jupyter.widget-view+json": {
       "model_id": "66393afe19634f6fab9b47ff856cf88e",
       "version_major": 2,
       "version_minor": 0
      },
      "text/plain": [
       "HBox(children=(HTML(value=''), FloatProgress(value=0.0, max=10000.0), HTML(value='')))"
      ]
     },
     "metadata": {},
     "output_type": "display_data"
    },
    {
     "name": "stdout",
     "output_type": "stream",
     "text": [
      "\n"
     ]
    },
    {
     "data": {
      "application/vnd.jupyter.widget-view+json": {
       "model_id": "c41ffb97ce544cc182bcf3b2e74c0a58",
       "version_major": 2,
       "version_minor": 0
      },
      "text/plain": [
       "HBox(children=(HTML(value=''), FloatProgress(value=0.0, max=10000.0), HTML(value='')))"
      ]
     },
     "metadata": {},
     "output_type": "display_data"
    },
    {
     "name": "stdout",
     "output_type": "stream",
     "text": [
      "\n"
     ]
    },
    {
     "data": {
      "application/vnd.jupyter.widget-view+json": {
       "model_id": "fd5700b897eb412bbb43f1625c3a3180",
       "version_major": 2,
       "version_minor": 0
      },
      "text/plain": [
       "HBox(children=(HTML(value=''), FloatProgress(value=0.0, max=10000.0), HTML(value='')))"
      ]
     },
     "metadata": {},
     "output_type": "display_data"
    },
    {
     "name": "stdout",
     "output_type": "stream",
     "text": [
      "\n"
     ]
    },
    {
     "data": {
      "application/vnd.jupyter.widget-view+json": {
       "model_id": "41279608be1b459ab268bdfdf1b1be71",
       "version_major": 2,
       "version_minor": 0
      },
      "text/plain": [
       "HBox(children=(HTML(value=''), FloatProgress(value=0.0, max=10000.0), HTML(value='')))"
      ]
     },
     "metadata": {},
     "output_type": "display_data"
    },
    {
     "name": "stdout",
     "output_type": "stream",
     "text": [
      "\n"
     ]
    },
    {
     "data": {
      "application/vnd.jupyter.widget-view+json": {
       "model_id": "cdee377bbd7641f8a76b66bc25902a74",
       "version_major": 2,
       "version_minor": 0
      },
      "text/plain": [
       "HBox(children=(HTML(value=''), FloatProgress(value=0.0, max=10000.0), HTML(value='')))"
      ]
     },
     "metadata": {},
     "output_type": "display_data"
    },
    {
     "name": "stdout",
     "output_type": "stream",
     "text": [
      "\n"
     ]
    },
    {
     "data": {
      "application/vnd.jupyter.widget-view+json": {
       "model_id": "8bbc41e64e2047e5b903531bd4f9fff4",
       "version_major": 2,
       "version_minor": 0
      },
      "text/plain": [
       "HBox(children=(HTML(value=''), FloatProgress(value=0.0, max=10000.0), HTML(value='')))"
      ]
     },
     "metadata": {},
     "output_type": "display_data"
    },
    {
     "name": "stdout",
     "output_type": "stream",
     "text": [
      "\n"
     ]
    },
    {
     "data": {
      "application/vnd.jupyter.widget-view+json": {
       "model_id": "6cace7596db14710ab8d66b5b63bc638",
       "version_major": 2,
       "version_minor": 0
      },
      "text/plain": [
       "HBox(children=(HTML(value=''), FloatProgress(value=0.0, max=10000.0), HTML(value='')))"
      ]
     },
     "metadata": {},
     "output_type": "display_data"
    },
    {
     "name": "stdout",
     "output_type": "stream",
     "text": [
      "\n"
     ]
    },
    {
     "data": {
      "application/vnd.jupyter.widget-view+json": {
       "model_id": "f634eaede6534136bfee24bf5d21768e",
       "version_major": 2,
       "version_minor": 0
      },
      "text/plain": [
       "HBox(children=(HTML(value=''), FloatProgress(value=0.0, max=10000.0), HTML(value='')))"
      ]
     },
     "metadata": {},
     "output_type": "display_data"
    },
    {
     "name": "stdout",
     "output_type": "stream",
     "text": [
      "\n"
     ]
    },
    {
     "data": {
      "application/vnd.jupyter.widget-view+json": {
       "model_id": "4dcfddec8d874aab8573afd7420de64f",
       "version_major": 2,
       "version_minor": 0
      },
      "text/plain": [
       "HBox(children=(HTML(value=''), FloatProgress(value=0.0, max=10000.0), HTML(value='')))"
      ]
     },
     "metadata": {},
     "output_type": "display_data"
    },
    {
     "name": "stdout",
     "output_type": "stream",
     "text": [
      "\n"
     ]
    },
    {
     "data": {
      "application/vnd.jupyter.widget-view+json": {
       "model_id": "69717c2e6b984ba9919ba9eab4cb23a1",
       "version_major": 2,
       "version_minor": 0
      },
      "text/plain": [
       "HBox(children=(HTML(value=''), FloatProgress(value=0.0, max=10000.0), HTML(value='')))"
      ]
     },
     "metadata": {},
     "output_type": "display_data"
    },
    {
     "name": "stdout",
     "output_type": "stream",
     "text": [
      "\n"
     ]
    },
    {
     "data": {
      "application/vnd.jupyter.widget-view+json": {
       "model_id": "a17c66ed7f2c42b498f459e5537e5b72",
       "version_major": 2,
       "version_minor": 0
      },
      "text/plain": [
       "HBox(children=(HTML(value=''), FloatProgress(value=0.0, max=10000.0), HTML(value='')))"
      ]
     },
     "metadata": {},
     "output_type": "display_data"
    },
    {
     "name": "stdout",
     "output_type": "stream",
     "text": [
      "\n"
     ]
    },
    {
     "data": {
      "application/vnd.jupyter.widget-view+json": {
       "model_id": "a8a41e50e8524a4aa3144c2c9db66e01",
       "version_major": 2,
       "version_minor": 0
      },
      "text/plain": [
       "HBox(children=(HTML(value=''), FloatProgress(value=0.0, max=10000.0), HTML(value='')))"
      ]
     },
     "metadata": {},
     "output_type": "display_data"
    },
    {
     "name": "stdout",
     "output_type": "stream",
     "text": [
      "\n"
     ]
    },
    {
     "data": {
      "application/vnd.jupyter.widget-view+json": {
       "model_id": "bd94db106ff6448594a67238667e1f37",
       "version_major": 2,
       "version_minor": 0
      },
      "text/plain": [
       "HBox(children=(HTML(value=''), FloatProgress(value=0.0, max=10000.0), HTML(value='')))"
      ]
     },
     "metadata": {},
     "output_type": "display_data"
    },
    {
     "name": "stdout",
     "output_type": "stream",
     "text": [
      "\n"
     ]
    },
    {
     "data": {
      "application/vnd.jupyter.widget-view+json": {
       "model_id": "cc6a7a0d7b294b889a5bb38ac60564a8",
       "version_major": 2,
       "version_minor": 0
      },
      "text/plain": [
       "HBox(children=(HTML(value=''), FloatProgress(value=0.0, max=10000.0), HTML(value='')))"
      ]
     },
     "metadata": {},
     "output_type": "display_data"
    },
    {
     "name": "stdout",
     "output_type": "stream",
     "text": [
      "\n"
     ]
    },
    {
     "data": {
      "application/vnd.jupyter.widget-view+json": {
       "model_id": "d7a36b7e9380481795eded090ef0d1c3",
       "version_major": 2,
       "version_minor": 0
      },
      "text/plain": [
       "HBox(children=(HTML(value=''), FloatProgress(value=0.0, max=10000.0), HTML(value='')))"
      ]
     },
     "metadata": {},
     "output_type": "display_data"
    },
    {
     "name": "stdout",
     "output_type": "stream",
     "text": [
      "\n"
     ]
    },
    {
     "data": {
      "application/vnd.jupyter.widget-view+json": {
       "model_id": "d00639759b644fe499f7e6d623a2e92d",
       "version_major": 2,
       "version_minor": 0
      },
      "text/plain": [
       "HBox(children=(HTML(value=''), FloatProgress(value=0.0, max=10000.0), HTML(value='')))"
      ]
     },
     "metadata": {},
     "output_type": "display_data"
    },
    {
     "name": "stdout",
     "output_type": "stream",
     "text": [
      "\n"
     ]
    },
    {
     "data": {
      "application/vnd.jupyter.widget-view+json": {
       "model_id": "c008b7fb6d704615a0c3c3659379e05b",
       "version_major": 2,
       "version_minor": 0
      },
      "text/plain": [
       "HBox(children=(HTML(value=''), FloatProgress(value=0.0, max=10000.0), HTML(value='')))"
      ]
     },
     "metadata": {},
     "output_type": "display_data"
    },
    {
     "name": "stdout",
     "output_type": "stream",
     "text": [
      "\n"
     ]
    },
    {
     "data": {
      "application/vnd.jupyter.widget-view+json": {
       "model_id": "9d2715c47a5a4161be0bbc1d752bbeab",
       "version_major": 2,
       "version_minor": 0
      },
      "text/plain": [
       "HBox(children=(HTML(value=''), FloatProgress(value=0.0, max=10000.0), HTML(value='')))"
      ]
     },
     "metadata": {},
     "output_type": "display_data"
    },
    {
     "name": "stdout",
     "output_type": "stream",
     "text": [
      "\n"
     ]
    },
    {
     "data": {
      "application/vnd.jupyter.widget-view+json": {
       "model_id": "d5a614717ccb47e0af7b4ebf0ce03e31",
       "version_major": 2,
       "version_minor": 0
      },
      "text/plain": [
       "HBox(children=(HTML(value=''), FloatProgress(value=0.0, max=10000.0), HTML(value='')))"
      ]
     },
     "metadata": {},
     "output_type": "display_data"
    },
    {
     "name": "stdout",
     "output_type": "stream",
     "text": [
      "\n"
     ]
    },
    {
     "data": {
      "application/vnd.jupyter.widget-view+json": {
       "model_id": "dcff9bdd4ab2482f9e5f4ae322e31304",
       "version_major": 2,
       "version_minor": 0
      },
      "text/plain": [
       "HBox(children=(HTML(value=''), FloatProgress(value=0.0, max=10000.0), HTML(value='')))"
      ]
     },
     "metadata": {},
     "output_type": "display_data"
    },
    {
     "name": "stdout",
     "output_type": "stream",
     "text": [
      "\n"
     ]
    },
    {
     "data": {
      "application/vnd.jupyter.widget-view+json": {
       "model_id": "b3ae69acc29e49adad9a287fabce8e62",
       "version_major": 2,
       "version_minor": 0
      },
      "text/plain": [
       "HBox(children=(HTML(value=''), FloatProgress(value=0.0, max=10000.0), HTML(value='')))"
      ]
     },
     "metadata": {},
     "output_type": "display_data"
    },
    {
     "name": "stdout",
     "output_type": "stream",
     "text": [
      "\n"
     ]
    },
    {
     "data": {
      "application/vnd.jupyter.widget-view+json": {
       "model_id": "e422cd56cb3145d9a2df5706b67b0d59",
       "version_major": 2,
       "version_minor": 0
      },
      "text/plain": [
       "HBox(children=(HTML(value=''), FloatProgress(value=0.0, max=10000.0), HTML(value='')))"
      ]
     },
     "metadata": {},
     "output_type": "display_data"
    },
    {
     "name": "stdout",
     "output_type": "stream",
     "text": [
      "\n"
     ]
    },
    {
     "data": {
      "application/vnd.jupyter.widget-view+json": {
       "model_id": "04513ffe6fbb42ca9afaf19bc96bb16c",
       "version_major": 2,
       "version_minor": 0
      },
      "text/plain": [
       "HBox(children=(HTML(value=''), FloatProgress(value=0.0, max=10000.0), HTML(value='')))"
      ]
     },
     "metadata": {},
     "output_type": "display_data"
    },
    {
     "name": "stdout",
     "output_type": "stream",
     "text": [
      "\n"
     ]
    },
    {
     "data": {
      "application/vnd.jupyter.widget-view+json": {
       "model_id": "61bd3d92510b40158a182a82871ad8d9",
       "version_major": 2,
       "version_minor": 0
      },
      "text/plain": [
       "HBox(children=(HTML(value=''), FloatProgress(value=0.0, max=10000.0), HTML(value='')))"
      ]
     },
     "metadata": {},
     "output_type": "display_data"
    },
    {
     "name": "stdout",
     "output_type": "stream",
     "text": [
      "\n"
     ]
    },
    {
     "data": {
      "application/vnd.jupyter.widget-view+json": {
       "model_id": "4d0a3fe41545480db54aec0e10270450",
       "version_major": 2,
       "version_minor": 0
      },
      "text/plain": [
       "HBox(children=(HTML(value=''), FloatProgress(value=0.0, max=10000.0), HTML(value='')))"
      ]
     },
     "metadata": {},
     "output_type": "display_data"
    },
    {
     "name": "stdout",
     "output_type": "stream",
     "text": [
      "\n"
     ]
    },
    {
     "data": {
      "application/vnd.jupyter.widget-view+json": {
       "model_id": "119c7c8f347d4b4fa1104fb21d4ff61e",
       "version_major": 2,
       "version_minor": 0
      },
      "text/plain": [
       "HBox(children=(HTML(value=''), FloatProgress(value=0.0, max=10000.0), HTML(value='')))"
      ]
     },
     "metadata": {},
     "output_type": "display_data"
    },
    {
     "name": "stdout",
     "output_type": "stream",
     "text": [
      "\n"
     ]
    },
    {
     "data": {
      "application/vnd.jupyter.widget-view+json": {
       "model_id": "90d40f0429224cfb923c6bfd27cd66a4",
       "version_major": 2,
       "version_minor": 0
      },
      "text/plain": [
       "HBox(children=(HTML(value=''), FloatProgress(value=0.0, max=10000.0), HTML(value='')))"
      ]
     },
     "metadata": {},
     "output_type": "display_data"
    },
    {
     "name": "stdout",
     "output_type": "stream",
     "text": [
      "\n"
     ]
    },
    {
     "data": {
      "application/vnd.jupyter.widget-view+json": {
       "model_id": "e5f3a80640894959a8d22b8adf3a4183",
       "version_major": 2,
       "version_minor": 0
      },
      "text/plain": [
       "HBox(children=(HTML(value=''), FloatProgress(value=0.0, max=10000.0), HTML(value='')))"
      ]
     },
     "metadata": {},
     "output_type": "display_data"
    },
    {
     "name": "stdout",
     "output_type": "stream",
     "text": [
      "\n"
     ]
    },
    {
     "data": {
      "application/vnd.jupyter.widget-view+json": {
       "model_id": "7e2433286ef34f618969ac248b7cdbf3",
       "version_major": 2,
       "version_minor": 0
      },
      "text/plain": [
       "HBox(children=(HTML(value=''), FloatProgress(value=0.0, max=10000.0), HTML(value='')))"
      ]
     },
     "metadata": {},
     "output_type": "display_data"
    },
    {
     "name": "stdout",
     "output_type": "stream",
     "text": [
      "\n",
      "Optimization restart 1/1, f = -68.70463980172102\n",
      "Optimization restart 1/1, f = -68.70463980255572\n"
     ]
    },
    {
     "data": {
      "application/vnd.jupyter.widget-view+json": {
       "model_id": "1bd9547eb56749a9a6d74a8bf2ee225b",
       "version_major": 2,
       "version_minor": 0
      },
      "text/plain": [
       "HBox(children=(HTML(value=''), FloatProgress(value=0.0, max=10000.0), HTML(value='')))"
      ]
     },
     "metadata": {},
     "output_type": "display_data"
    },
    {
     "name": "stdout",
     "output_type": "stream",
     "text": [
      "\n",
      "Optimization restart 1/1, f = -70.17498239125806\n"
     ]
    },
    {
     "data": {
      "application/vnd.jupyter.widget-view+json": {
       "model_id": "5ee5d3d679c0456b934ee26b59cc0664",
       "version_major": 2,
       "version_minor": 0
      },
      "text/plain": [
       "HBox(children=(HTML(value=''), FloatProgress(value=0.0, max=10000.0), HTML(value='')))"
      ]
     },
     "metadata": {},
     "output_type": "display_data"
    },
    {
     "name": "stdout",
     "output_type": "stream",
     "text": [
      "\n",
      "Optimization restart 1/1, f = -71.53112312822904\n"
     ]
    },
    {
     "data": {
      "application/vnd.jupyter.widget-view+json": {
       "model_id": "7fabf7a3c23b41a98405b3cce0b87a22",
       "version_major": 2,
       "version_minor": 0
      },
      "text/plain": [
       "HBox(children=(HTML(value=''), FloatProgress(value=0.0, max=10000.0), HTML(value='')))"
      ]
     },
     "metadata": {},
     "output_type": "display_data"
    },
    {
     "name": "stdout",
     "output_type": "stream",
     "text": [
      "\n",
      "Optimization restart 1/1, f = -73.21584905342903\n"
     ]
    },
    {
     "data": {
      "application/vnd.jupyter.widget-view+json": {
       "model_id": "7d3866b1a34b4dc4913ebce898cf8138",
       "version_major": 2,
       "version_minor": 0
      },
      "text/plain": [
       "HBox(children=(HTML(value=''), FloatProgress(value=0.0, max=10000.0), HTML(value='')))"
      ]
     },
     "metadata": {},
     "output_type": "display_data"
    },
    {
     "name": "stdout",
     "output_type": "stream",
     "text": [
      "\n",
      "Optimization restart 1/1, f = -75.06226607008392\n"
     ]
    },
    {
     "data": {
      "application/vnd.jupyter.widget-view+json": {
       "model_id": "f1034eeb63a84958bd46b768e4f86c84",
       "version_major": 2,
       "version_minor": 0
      },
      "text/plain": [
       "HBox(children=(HTML(value=''), FloatProgress(value=0.0, max=10000.0), HTML(value='')))"
      ]
     },
     "metadata": {},
     "output_type": "display_data"
    },
    {
     "name": "stdout",
     "output_type": "stream",
     "text": [
      "\n",
      "Optimization restart 1/1, f = -76.49697562186648\n",
      "main_effects:  {'alpha_inf_profile': array([0.39169236]), 'beta_inf_profile': array([0.11884133]), 'alpha_day_noticed': array([0.30219282]), 'beta_day_noticed': array([0.11891395]), 'latent_period': array([0.31407313])}\n",
      "secondary_effects {'alpha_inf_profile+ \\nbeta_inf_profile': array([-0.11939338]), 'alpha_inf_profile+ \\nalpha_day_noticed': array([0.09205895]), 'alpha_inf_profile+ \\nbeta_day_noticed': array([-0.11882818]), 'alpha_inf_profile+ \\nlatent_period': array([-0.10239405]), 'beta_inf_profile+ \\nalpha_day_noticed': array([-0.11875021]), 'beta_inf_profile+ \\nbeta_day_noticed': array([-0.11891134]), 'beta_inf_profile+ \\nlatent_period': array([-0.11895621]), 'alpha_day_noticed+ \\nbeta_day_noticed': array([-0.1190188]), 'alpha_day_noticed+ \\nlatent_period': array([-0.07546547]), 'beta_day_noticed+ \\nlatent_period': array([-0.1188918])}\n",
      "total_effects:  {'alpha_inf_profile': array([0.43150463]), 'beta_inf_profile': array([-0.26405963]), 'alpha_day_noticed': array([0.18491299]), 'beta_day_noticed': array([-0.26419073]), 'latent_period': array([0.10594111])}\n"
     ]
    },
    {
     "data": {
      "image/png": "[encoded data removed]",
      "text/plain": [
       "<Figure size 720x432 with 1 Axes>"
      ]
     },
     "metadata": {
      "needs_background": "light"
     },
     "output_type": "display_data"
    },
    {
     "data": {
      "image/png": "[encoded data removed]",
      "text/plain": [
       "<Figure size 720x432 with 1 Axes>"
      ]
     },
     "metadata": {
      "needs_background": "light"
     },
     "output_type": "display_data"
    }
   ],
   "source": [
    "\n",
    "\n",
    "\n",
    "\n",
    "\"\"\"\n",
    "Runs TTI simulator as many times as the different input initialisations.\n",
    "The main reason we need this is to put in to EmuKit for the Experimental\n",
    "Design Loop.\n",
    "\n",
    "Args:\n",
    "    pol_configs (list): Inputs are [app_cov, compliance]\n",
    "\n",
    "Returns:\n",
    "    effective_rs (np.expand_dims(np.array(to_return), 1)): For every simulation run, return\n",
    "    the effective r, as was plotted form Bryn and Andrei previously.\n",
    "\n",
    "\"\"\"\n",
    "#simulate_contacts = EmpiricalContactsSimulator(over18, under18, rng)\n",
    "\n",
    "\n",
    "def run_tti_sim(pol_configs):\n",
    "    to_return=[]\n",
    "    for vals in pol_configs:      \n",
    "        case_config = update_case_config([vals[0],vals[1]], [vals[2], vals[3]])\n",
    "        policy_config = update_policy_config(vals[4])\n",
    "        factor_config = utils.get_sub_dictionary(policy_config, config.DELVE_CASE_FACTOR_KEYS)\n",
    "        strategy_config = utils.get_sub_dictionary(policy_config, config.DELVE_STRATEGY_FACTOR_KEYS)\n",
    "        tti_model = TTIFlowModel(rng, **strategy_config)\n",
    "        n_cases = 10000\n",
    "        outputs = list()\n",
    "        temp =[]\n",
    "        for _ in trange(n_cases):\n",
    "            case = simulate_case(rng, **case_config)\n",
    "            case_factors = CaseFactors.simulate_from(rng, case, **factor_config)\n",
    "            contacts = simulate_contacts(case, **contacts_config)\n",
    "            res = tti_model(case, contacts, case_factors)\n",
    "            outputs.append(res)\n",
    "            if res[\"Effective R\"] >= 0:\n",
    "                temp.append(res[\"Effective R\"]) # Get effective R. Only non-nan vals are kept\n",
    "        to_return.append(np.mean(temp))\n",
    "    return np.expand_dims(np.array(to_return), 1)\n",
    "\n",
    "\n",
    "\n",
    "def run_sensitivity(strigency, initial_samples, bo_samples, mc_samples, col):\n",
    "\n",
    "    variable_domain = [1,5] \n",
    "    variable_domain2 = [1,5] \n",
    "    latent_domain = [1,10] \n",
    "\n",
    "    initial_samples = 50 # number of random runs to perform before starting experimental design \n",
    "    space = ParameterSpace([ContinuousParameter('alpha_inf_profile', *variable_domain),\n",
    "                            ContinuousParameter('beta_inf_profile', *variable_domain),\n",
    "                            ContinuousParameter('alpha_day_noticed', *variable_domain2),\n",
    "                            ContinuousParameter('beta_day_noticed', *variable_domain2),\n",
    "                            ContinuousParameter('latent_period', *latent_domain)]) # init param space for experimental design\n",
    "    design = RandomDesign(space)\n",
    "    x = design.get_samples(initial_samples) # get 5 random combinations of initialisations\n",
    "\n",
    "    print(x)\n",
    "    y = run_tti_sim(x) # obtain corresponding effective_rs\n",
    "\n",
    "    # Fitting emulator to data, x: (app_cov, compliance), y: effective_r\n",
    "    Num_of_param = 5\n",
    "    kern_eq = GPy.kern.RBF(input_dim=Num_of_param, ARD = True)\n",
    "    kern_bias = GPy.kern.Bias(input_dim=Num_of_param)\n",
    "    kern = kern_eq + kern_bias\n",
    "    model_gpy = GPRegression(x,y, kern)\n",
    "    model_gpy.kern.variance = 1**2\n",
    "    model_gpy.likelihood.variance.fix(1e-5)\n",
    "    model_emukit = GPyModelWrapper(model_gpy) \n",
    "    model_emukit.optimize() # optimise (max log-lik)\n",
    "\n",
    "    # Initialise experimental design loop. Using integrated variance as acquisition\n",
    "    # to \"query\" the input space aiming to reduce uncertainty over the func we're approx. i.e. effective_r\n",
    "    # Initialise experimental design loop. Using integrated variance as acquisition\n",
    "    # to \"query\" the input space aiming to reduce uncertainty over the func we're approx. i.e. effective_r\n",
    "    num_of_loops = 5\n",
    "    integrated_variance = IntegratedVarianceReduction(space=space, model=model_emukit)\n",
    "    ed = ExperimentalDesignLoop(space=space, model=model_emukit, acquisition = integrated_variance)\n",
    "    ed.run_loop(run_tti_sim, num_of_loops)\n",
    "    \n",
    "    \n",
    "\n",
    "    # Plot Main Effects\n",
    "    num_mc = mc_samples\n",
    "    senstivity = MonteCarloSecondOrderSensitivity(model = model_emukit, input_domain = space)\n",
    "    main_effects_gp, secondary_effects_gp, total_effects_gp, p = senstivity.compute_effects(num_monte_carlo_points = num_mc)\n",
    "    print(\"main_effects: \", main_effects_gp)\n",
    "    print(\"secondary_effects\", secondary_effects_gp)\n",
    "    print(\"total_effects: \", total_effects_gp)\n",
    "    \n",
    "    fig, ax = plt.subplots(figsize=plot.big_wide_figsize)\n",
    "    main_effects_gp_plot = {ivar: main_effects_gp[ivar][0] for ivar in main_effects_gp}\n",
    "    d = {\"gp\":main_effects_gp_plot}\n",
    "    pd.DataFrame(d).plot(kind='bar', ax=ax, color=col,legend=False, alpha=0.65)\n",
    "    plt.ylabel('% of explained output variance')\n",
    "    out_name = \"main-effects-c-v-c-{}.pdf\".format(strigency)\n",
    "    \n",
    "    \n",
    "\n",
    "\n",
    "\n",
    "    mlai.write_figure(filename=out_name, directory='./uq')\n",
    "\n",
    "    # Plot Total Effects\n",
    "    fig, ax = plt.subplots(figsize=plot.big_wide_figsize)\n",
    "    total_effects_gp_plot = {ivar: total_effects_gp[ivar][0] for ivar in total_effects_gp}\n",
    "    d = {\"go\": total_effects_gp_plot}\n",
    "    pd.DataFrame(d).plot(kind='bar', ax=ax, legend=False, color=col, alpha=0.65)\n",
    "    ax.set_ylabel('% of explained output variance')\n",
    "    out_name = \"total-effects-c-v-c-{}.pdf\".format(strigency)\n",
    "    mlai.write_figure(filename=out_name)\n",
    "\n",
    "#     app_cov_eval = np.linspace(0.05, 1, 100)\n",
    "#     app_com_eval = np.linspace(0.05, 1, 100)\n",
    "#     points=[]\n",
    "#     for i in app_cov_eval:\n",
    "#         for j in app_com_eval:\n",
    "#             points.append([i, j])\n",
    "#     points = np.asarray(points)\n",
    "\n",
    "#     X = points[:,0].reshape((100,100))\n",
    "#     Y = points[:,1].reshape((100,100))\n",
    "#     Z, _ = model_gpy.predict(points)\n",
    "#     Z = Z.reshape((100,100))\n",
    "\n",
    "#     print(X.shape)\n",
    "#     print(Y.shape)\n",
    "#     # print(Z[Z<1])\n",
    "\n",
    "\n",
    "#     fig = plt.figure()\n",
    "#     ax = fig.add_subplot(projection='3d')\n",
    "#     ax.plot_surface(X, Y, Z, alpha=0.7, color='red')\n",
    "#     # ax.scatter(x[:,0], x[:,1], y, color='red', alpha=0.99)\n",
    "#     ax.set_xlabel('App Uptake')\n",
    "#     ax.set_ylabel('Compliance')\n",
    "#     ax.set_zlabel('Effective R')\n",
    "#     out_name = \"func-plot-{}.pdf\".format(strigency)\n",
    "\n",
    "#     plt.savefig(out_name, format='pdf', bbox_inches='tight')\n",
    "\n",
    "\n",
    "s_levels=['S1_test_based_TTI_test_contacts','S2_test_based_TTI_test_contacts','S3_test_based_TTI_test_contacts','S4_test_based_TTI_test_contacts','S5_test_based_TTI_test_contacts',]\n",
    "\n",
    "over18 = load_csv(os.path.join(path_to_bbc_data, \"contact_distributions_o18.csv\"))\n",
    "under18 = load_csv(os.path.join(path_to_bbc_data, \"contact_distributions_u18.csv\"))\n",
    "simulate_contacts = EmpiricalContactsSimulator(over18, under18, rng)\n",
    "cidx=0\n",
    "cols = ['red', 'tomato', 'orange', 'deepskyblue', 'green']\n",
    "# for strigency in s_levels:\n",
    "case_config = config.get_case_config(\"delve\")\n",
    "contacts_config = config.get_contacts_config(\"delve\")\n",
    "policy_config = config.get_strategy_configs(\"delve\", s_levels[4])[s_levels[4]]\n",
    "factor_config = utils.get_sub_dictionary(policy_config, config.DELVE_CASE_FACTOR_KEYS)\n",
    "strategy_config = utils.get_sub_dictionary(policy_config, config.DELVE_STRATEGY_FACTOR_KEYS)\n",
    "rng = np.random.RandomState(42)\n",
    "\n",
    "tti_model = TTIFlowModel(rng, **strategy_config)\n",
    "\n",
    "run_sensitivity(s_levels[4], 50, 50, 10000, cols[cidx])\n",
    "cidx+=1"
   ]
  },
  {
   "cell_type": "code",
   "execution_count": null,
   "metadata": {},
   "outputs": [],
   "source": []
  },
  {
   "cell_type": "code",
   "execution_count": null,
   "metadata": {},
   "outputs": [],
   "source": []
  }
 ],
 "metadata": {
  "kernelspec": {
   "display_name": "Python 3",
   "language": "python",
   "name": "python3"
  },
  "language_info": {
   "codemirror_mode": {
    "name": "ipython",
    "version": 3
   },
   "file_extension": ".py",
   "mimetype": "text/x-python",
   "name": "python",
   "nbconvert_exporter": "python",
   "pygments_lexer": "ipython3",
   "version": "3.6.12"
  }
 },
 "nbformat": 4,
 "nbformat_minor": 4
}
