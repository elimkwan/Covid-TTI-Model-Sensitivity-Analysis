{
 "cells": [
  {
   "cell_type": "markdown",
   "metadata": {
    "colab_type": "text",
    "id": "view-in-github"
   },
   "source": [
    "<a href=\"https://colab.research.google.com/github/rs-delve/tti-explorer/blob/master/notebooks/tti-experiment.ipynb\" target=\"_parent\"><img src=\"https://colab.research.google.com/assets/colab-badge.svg\" alt=\"Open In Colab\"/></a>"
   ]
  },
  {
   "cell_type": "markdown",
   "metadata": {
    "colab_type": "text",
    "id": "lkWq4rfC-iJY"
   },
   "source": [
    "# TTI Explorer\n",
    "\n",
    "#### `tti_explorer` is a library for simulating infection spread. This library is built to explore the impact of various test-trace-isolate strategies and social distancing measures on the spread of COVID-19 in the UK. \n",
    "\n",
    "This notebook is an introduction to the functionality offered by `tti-explorer`. "
   ]
  },
  {
   "cell_type": "code",
   "execution_count": 1,
   "metadata": {
    "colab": {
     "base_uri": "https://localhost:8080/",
     "height": 177
    },
    "colab_type": "code",
    "id": "Gueu2F7t-iJa",
    "outputId": "6faf04fc-3145-4e19-945e-873d2564070d",
    "pycharm": {
     "is_executing": true
    }
   },
   "outputs": [
    {
     "name": "stdout",
     "output_type": "stream",
     "text": [
      "Cloning into 'tti-explorer'...\n",
      "remote: Enumerating objects: 554, done.\u001b[K\n",
      "remote: Counting objects: 100% (554/554), done.\u001b[K\n",
      "remote: Compressing objects: 100% (261/261), done.\u001b[K\n",
      "remote: Total 2667 (delta 396), reused 405 (delta 277), pack-reused 2113\u001b[K\n",
      "Receiving objects: 100% (2667/2667), 31.55 MiB | 3.72 MiB/s, done.\n",
      "Resolving deltas: 100% (1909/1909), done.\n",
      "/Users/milliemcquillin/Desktop/MPhil/ML & PW/project/tti-le48/tti-explorer-with-changes/notebooks/tti-explorer\n",
      "Note: you may need to restart the kernel to use updated packages.\n"
     ]
    }
   ],
   "source": [
    "!git clone https://github.com/rs-delve/tti-explorer.git\n",
    "%cd tti-explorer\n",
    "%pip install -q ."
   ]
  },
  {
   "cell_type": "code",
   "execution_count": 2,
   "metadata": {
    "colab": {},
    "colab_type": "code",
    "id": "NpdHVFb8-iJg",
    "pycharm": {
     "is_executing": true
    }
   },
   "outputs": [],
   "source": [
    "import os\n",
    "\n",
    "import numpy as np\n",
    "import pandas as pd\n",
    "from tqdm.notebook import trange\n",
    "\n",
    "from tti_explorer import config, utils\n",
    "from tti_explorer.case import simulate_case, CaseFactors\n",
    "from tti_explorer.contacts import EmpiricalContactsSimulator\n",
    "from tti_explorer.strategies import TTIFlowModel, RETURN_KEYS"
   ]
  },
  {
   "cell_type": "code",
   "execution_count": 3,
   "metadata": {
    "colab": {},
    "colab_type": "code",
    "id": "Urj9DevH-iJm"
   },
   "outputs": [],
   "source": [
    "def print_doc(func):\n",
    "    print(func.__doc__)"
   ]
  },
  {
   "cell_type": "markdown",
   "metadata": {
    "colab_type": "text",
    "id": "4HvkUNme-iJs"
   },
   "source": [
    "Before we do anything, let's make a random state"
   ]
  },
  {
   "cell_type": "code",
   "execution_count": 4,
   "metadata": {
    "colab": {},
    "colab_type": "code",
    "id": "mXAzaO71-iJt"
   },
   "outputs": [],
   "source": [
    "rng = np.random.RandomState(0)"
   ]
  },
  {
   "cell_type": "markdown",
   "metadata": {
    "colab_type": "text",
    "id": "YP7_GmZa-iJz"
   },
   "source": [
    "We will first do a short tour of the functionality, then show how this is put together to generate simulation results."
   ]
  },
  {
   "cell_type": "markdown",
   "metadata": {
    "colab_type": "text",
    "id": "0aI9KvRh-iJ1"
   },
   "source": [
    "## Generate a case"
   ]
  },
  {
   "cell_type": "markdown",
   "metadata": {
    "colab_type": "text",
    "id": "Bkawbjo0-iJ3"
   },
   "source": [
    "The function we use for this is `simulate_case` in `case.py`"
   ]
  },
  {
   "cell_type": "code",
   "execution_count": 5,
   "metadata": {
    "colab": {
     "base_uri": "https://localhost:8080/",
     "height": 284
    },
    "colab_type": "code",
    "id": "X7XX2SSC-iJ4",
    "outputId": "38eebb74-da43-4717-e204-fcc81e1b10f9"
   },
   "outputs": [
    {
     "name": "stdout",
     "output_type": "stream",
     "text": [
      "simulate_case\n",
      "\n",
      "    Args:\n",
      "        rng (np.random.RandomState): random number generator.\n",
      "        p_under18 (float): Probability of case being under 18\n",
      "        infection_proportions (dict): Probs of being symp covid neg, symp covid pos, asymp covid pos\n",
      "                                      The only required key is 'dist', which contains list of the named probs, in that order.\n",
      "        p_day_noticed_symptoms (np.array[float]): Distribution of day on which case notices\n",
      "            their symptoms. (In our model this is same as reporting symptoms.)\n",
      "            Conditional on being symptomatic.\n",
      "        inf_profile (list[float]): Distribution of initial exposure of positive secondary cases\n",
      "            relative to start of primary case's infectious period.\n",
      "\n",
      "    Returns (Case): case with attributes populated.\n",
      "    \n"
     ]
    }
   ],
   "source": [
    "print_doc(simulate_case)"
   ]
  },
  {
   "cell_type": "markdown",
   "metadata": {
    "colab_type": "text",
    "id": "x1f4-ukS-iJ-"
   },
   "source": [
    "We store our config values in `config.py`. You can retrieve them as follows"
   ]
  },
  {
   "cell_type": "code",
   "execution_count": 6,
   "metadata": {
    "colab": {
     "base_uri": "https://localhost:8080/",
     "height": 35
    },
    "colab_type": "code",
    "id": "xy1a6n-L-iJ_",
    "outputId": "20e10421-c1e4-42eb-968b-b63d41dafb0f"
   },
   "outputs": [
    {
     "data": {
      "text/plain": [
       "dict_keys(['p_under18', 'infection_proportions', 'p_day_noticed_symptoms', 'inf_profile'])"
      ]
     },
     "execution_count": 6,
     "metadata": {},
     "output_type": "execute_result"
    }
   ],
   "source": [
    "case_config = config.get_case_config(\"delve\")\n",
    "case_config.keys()"
   ]
  },
  {
   "cell_type": "markdown",
   "metadata": {
    "colab_type": "text",
    "id": "7QuUONtl-iKG"
   },
   "source": [
    "We use these parameters to simulate a case"
   ]
  },
  {
   "cell_type": "code",
   "execution_count": 7,
   "metadata": {
    "colab": {
     "base_uri": "https://localhost:8080/",
     "height": 35
    },
    "colab_type": "code",
    "id": "aeaWtT37-iKI",
    "outputId": "6a4f5db0-81a0-4724-8efc-de8542d69a56"
   },
   "outputs": [
    {
     "name": "stdout",
     "output_type": "stream",
     "text": [
      "Case(under18:bool, covid:bool, symptomatic:bool, day_noticed_symptoms:int, inf_profile:list)\n"
     ]
    }
   ],
   "source": [
    "primary_case = simulate_case(rng, **case_config)\n",
    "print_doc(primary_case)"
   ]
  },
  {
   "cell_type": "markdown",
   "metadata": {
    "colab_type": "text",
    "id": "2Lswz_d3-iKN"
   },
   "source": [
    "Returned is a `case.Case` with stochastically generated attributes."
   ]
  },
  {
   "cell_type": "markdown",
   "metadata": {
    "colab_type": "text",
    "id": "tjhfcTc_-iKO"
   },
   "source": [
    "### Deeper: Case attributes"
   ]
  },
  {
   "cell_type": "markdown",
   "metadata": {
    "colab_type": "text",
    "id": "STVrvMy4-iKP"
   },
   "source": [
    "Let's go through the simulated attributes of a `case.Case`. The attributes `.under18`, `.covid` and `.symptomatic` are `bool` types indicating whether the generated `case.Case` is under 18, COVID positive and symptomatic respectively. All possible values of these attributes are possible apart from the combination `.covid = False` and `.symptomatic = False` (a configuration irrelevant for the purpose of simulating infection spread). The primary case we just simulated has the following attributes:"
   ]
  },
  {
   "cell_type": "code",
   "execution_count": 8,
   "metadata": {
    "colab": {
     "base_uri": "https://localhost:8080/"
    },
    "colab_type": "code",
    "id": "EjMXN3P8-iKQ",
    "outputId": "bb7d7403-c5fa-4e86-bef8-42ba2489c16e"
   },
   "outputs": [
    {
     "name": "stdout",
     "output_type": "stream",
     "text": [
      "Under 18: False.\n",
      "COVID positive: False.\n",
      "Symptomatic: True.\n"
     ]
    }
   ],
   "source": [
    "print(f'Under 18: {primary_case.under18}.')\n",
    "print(f'COVID positive: {primary_case.covid}.')\n",
    "print(f'Symptomatic: {primary_case.symptomatic}.')"
   ]
  },
  {
   "cell_type": "markdown",
   "metadata": {
    "colab_type": "text",
    "id": "k-6UaDLH-iKW"
   },
   "source": [
    "Each `case.Case` also has an attribute `.day_noticed_symptoms` of type `int`, indicating the number of days from start of infectiousness until the `case.Case` noticed the symptoms. If a `case.Case` is asymptomatic, the attribute `.day_noticed_symptoms` is set to `-1`."
   ]
  },
  {
   "cell_type": "code",
   "execution_count": 9,
   "metadata": {
    "colab": {
     "base_uri": "https://localhost:8080/"
    },
    "colab_type": "code",
    "id": "8H0yDHsY-iKX",
    "outputId": "8cb10ae4-68b5-4a90-fdca-93713e0e1d7d"
   },
   "outputs": [
    {
     "name": "stdout",
     "output_type": "stream",
     "text": [
      "primary_case noticed symptoms 3 days after start of infectiousness.\n"
     ]
    }
   ],
   "source": [
    "print(f'primary_case noticed symptoms {primary_case.day_noticed_symptoms} days after start of infectiousness.')"
   ]
  },
  {
   "cell_type": "markdown",
   "metadata": {
    "colab_type": "text",
    "id": "9ftPrOg2-iKc"
   },
   "source": [
    "Finally, the attribute `.inf_profile` is a `list` describing the relative infectiousness of the case for each day of the infectious period. If `.covid = False` for a `case.Case`, this is `0` throughout."
   ]
  },
  {
   "cell_type": "code",
   "execution_count": 10,
   "metadata": {
    "colab": {
     "base_uri": "https://localhost:8080/"
    },
    "colab_type": "code",
    "id": "OFGmsTnf-iKe",
    "outputId": "baed651d-2a4f-44f7-9a28-d5e54bca72d1"
   },
   "outputs": [
    {
     "name": "stdout",
     "output_type": "stream",
     "text": [
      "inf_profile is: [0. 0. 0. 0. 0. 0. 0. 0. 0. 0.]\n"
     ]
    }
   ],
   "source": [
    "print(f'inf_profile is: {primary_case.inf_profile}')"
   ]
  },
  {
   "cell_type": "markdown",
   "metadata": {
    "colab_type": "text",
    "id": "ARM69hup-iKi"
   },
   "source": [
    "As mentioned above, the configuration for simulating these attributes are stored in `config.py`. This includes the distributions used for sampling attributes. For instance, the attribute `.under18` is sampled from a Bernoulli distribution with probability `0.21`: "
   ]
  },
  {
   "cell_type": "code",
   "execution_count": 11,
   "metadata": {
    "colab": {
     "base_uri": "https://localhost:8080/"
    },
    "colab_type": "code",
    "id": "x7IvyV4Q-iKj",
    "outputId": "f99fd864-ee98-4b2a-9e19-ed13d8eaaa75"
   },
   "outputs": [
    {
     "name": "stdout",
     "output_type": "stream",
     "text": [
      "Probability of case being under 18: 0.21\n"
     ]
    }
   ],
   "source": [
    "print(f'Probability of case being under 18: {case_config[\"p_under18\"]}')"
   ]
  },
  {
   "cell_type": "markdown",
   "metadata": {
    "colab_type": "text",
    "id": "QD5teyxW-iKq"
   },
   "source": [
    "As another example, if `case.Case` is symptomatic, the attribute `.days_noticed_symptoms` is sampled from a categorical distribution over the set {0, 1, ..., 9} (since we model an infection period of ten days in this configuration) with probabilities:"
   ]
  },
  {
   "cell_type": "code",
   "execution_count": 12,
   "metadata": {
    "colab": {
     "base_uri": "https://localhost:8080/"
    },
    "colab_type": "code",
    "id": "g4AqYRFn-iKq",
    "outputId": "03c07411-001e-49b3-c6b5-7216d34991f8"
   },
   "outputs": [
    {
     "name": "stdout",
     "output_type": "stream",
     "text": [
      "Probability distribution of .day_noticed_symptoms: [0, 0.25, 0.25, 0.2, 0.1, 0.05, 0.05, 0.05, 0.05, 0.0]\n"
     ]
    }
   ],
   "source": [
    "print(f'Probability distribution of .day_noticed_symptoms: {case_config[\"p_day_noticed_symptoms\"]}')"
   ]
  },
  {
   "cell_type": "markdown",
   "metadata": {
    "colab_type": "text",
    "id": "mi5sZLb1-iKu"
   },
   "source": [
    "## Generate contacts\n",
    "Social contacts are represented by `Contacts` and defined in `contacts.py`.\n",
    "\n",
    "To simulate social contacts, we use the BBC Pandemic Dataset. This is stratified as over/under 18 to give different patterns of social contact depending on the age of the case. "
   ]
  },
  {
   "cell_type": "code",
   "execution_count": 13,
   "metadata": {
    "colab": {},
    "colab_type": "code",
    "id": "EwLuHzoR-iKv"
   },
   "outputs": [],
   "source": [
    "def load_csv(pth):\n",
    "    return np.loadtxt(pth, dtype=int, skiprows=1, delimiter=\",\")"
   ]
  },
  {
   "cell_type": "code",
   "execution_count": 14,
   "metadata": {
    "colab": {},
    "colab_type": "code",
    "id": "fk-L4-p4-iKz"
   },
   "outputs": [],
   "source": [
    "path_to_bbc_data = os.path.join(\"data\", \"bbc-pandemic\")\n",
    "\n",
    "over18 = load_csv(os.path.join(path_to_bbc_data, \"contact_distributions_o18.csv\"))\n",
    "under18 = load_csv(os.path.join(path_to_bbc_data, \"contact_distributions_u18.csv\"))"
   ]
  },
  {
   "cell_type": "markdown",
   "metadata": {
    "colab_type": "text",
    "id": "dpd3dKr2-iK3"
   },
   "source": [
    "Now that we have the data loaded, we use `EmpiricalContactsSimulator` to sample these tables for contacts of the primary case, then simulate their infection under a no measures scenario (i.e. no government intervention)"
   ]
  },
  {
   "cell_type": "code",
   "execution_count": 15,
   "metadata": {
    "colab": {
     "base_uri": "https://localhost:8080/",
     "height": 212
    },
    "colab_type": "code",
    "id": "8hnlv_FQ-iK3",
    "outputId": "bcd3d268-b85d-4bc3-e754-bb109739132c"
   },
   "outputs": [
    {
     "name": "stdout",
     "output_type": "stream",
     "text": [
      "Simulate social contact using the BBC Pandemic dataset\n",
      "\n",
      "            Each row in input arrays consists of three numbers,\n",
      "            represeting number of contacts at: home, work, other\n",
      "\n",
      "        Args:\n",
      "            over18 (np.array[int], Nx3): Contact data for over 18s.\n",
      "            under18 (np.array[int], Nx3): Contact data for under 18s.\n",
      "            rng (np.random.RandomState): Random state.\n",
      "\n",
      "        \n"
     ]
    }
   ],
   "source": [
    "print_doc(EmpiricalContactsSimulator.__init__)"
   ]
  },
  {
   "cell_type": "code",
   "execution_count": 16,
   "metadata": {
    "colab": {},
    "colab_type": "code",
    "id": "zulga5xM-iK9"
   },
   "outputs": [],
   "source": [
    "simulate_contacts = EmpiricalContactsSimulator(over18, under18, rng)"
   ]
  },
  {
   "cell_type": "markdown",
   "metadata": {
    "colab_type": "text",
    "id": "EV3l7FDD-iLB"
   },
   "source": [
    "We can now use the callable `simulate_contacts` to simulate social contacts of the primary case"
   ]
  },
  {
   "cell_type": "code",
   "execution_count": 17,
   "metadata": {
    "colab": {
     "base_uri": "https://localhost:8080/",
     "height": 408
    },
    "colab_type": "code",
    "id": "lOKgPWvj-iLC",
    "outputId": "dbeafdf4-7f49-4a83-dfdb-be75036e63f8"
   },
   "outputs": [
    {
     "name": "stdout",
     "output_type": "stream",
     "text": [
      "Generate a social contact for the given case.\n",
      "\n",
      "        A row from the table corresponding to the age of the `case` is sampled\n",
      "        uniformly at random. A contact is generated with daily contacts as\n",
      "        given by that row. These contacts are infected at random with attack rates\n",
      "        given by the SARs and whether or not the `case` is symptomatic. If the\n",
      "        `case` is COVID negative, then no contacts are infected.\n",
      "\n",
      "        Args:\n",
      "            case (Case): Primary case.\n",
      "            home_sar (float): Secondary attack rate for household contacts.\n",
      "                              (Marginal probability of infection over the whole simulation)\n",
      "            work_sar (float): Secondary attack rate for contacts in the work category.\n",
      "            other_sar (float): Secondary attack rate for contacts in the other category.\n",
      "            asymp_factor (float): Factor by which to multiply the probabilty of secondary\n",
      "                                  infection if `case` is asymptomatic COVID positive.\n",
      "            period (int): Duration of the simulation (days).\n",
      "\n",
      "        Returns:\n",
      "            contacts (Contacts): Simulated social contacts and resulting infections\n",
      "            for primary case `case`.\n",
      "        \n"
     ]
    }
   ],
   "source": [
    "print_doc(simulate_contacts.__call__)"
   ]
  },
  {
   "cell_type": "markdown",
   "metadata": {
    "colab_type": "text",
    "id": "26bB_DIF-iLH"
   },
   "source": [
    "To do this we need some more parameters, which we also load from `config.py`. The user can, of course, specify this themselves if they would like."
   ]
  },
  {
   "cell_type": "code",
   "execution_count": 18,
   "metadata": {
    "colab": {},
    "colab_type": "code",
    "id": "QT_eFKGF-iLH"
   },
   "outputs": [],
   "source": [
    "contacts_config = config.get_contacts_config(\"delve\")"
   ]
  },
  {
   "cell_type": "code",
   "execution_count": 19,
   "metadata": {
    "colab": {
     "base_uri": "https://localhost:8080/",
     "height": 35
    },
    "colab_type": "code",
    "id": "HO99mVqb-iLL",
    "outputId": "b2cfc8f7-78fa-412e-c2c2-720fdf5eec8c"
   },
   "outputs": [
    {
     "data": {
      "text/plain": [
       "dict_keys(['home_sar', 'work_sar', 'other_sar', 'period', 'asymp_factor'])"
      ]
     },
     "execution_count": 19,
     "metadata": {},
     "output_type": "execute_result"
    }
   ],
   "source": [
    "contacts_config.keys()"
   ]
  },
  {
   "cell_type": "markdown",
   "metadata": {
    "colab_type": "text",
    "id": "3uJr5S9E-iLP"
   },
   "source": [
    "We now do the same as we did with when simulating a primary case."
   ]
  },
  {
   "cell_type": "code",
   "execution_count": 20,
   "metadata": {
    "colab": {
     "base_uri": "https://localhost:8080/",
     "height": 35
    },
    "colab_type": "code",
    "id": "r6JjQgeH-iLP",
    "outputId": "982ae3be-8c4a-43cf-bf20-f85a8111df79"
   },
   "outputs": [
    {
     "name": "stdout",
     "output_type": "stream",
     "text": [
      "Contacts(n_daily:dict, home:<built-in function array>, work:<built-in function array>, other:<built-in function array>)\n"
     ]
    }
   ],
   "source": [
    "social_contacts = simulate_contacts(primary_case, **contacts_config)\n",
    "print_doc(social_contacts)"
   ]
  },
  {
   "cell_type": "markdown",
   "metadata": {
    "colab_type": "text",
    "id": "qYxZdoRe-iLT"
   },
   "source": [
    "### Deeper: Contacts attributes"
   ]
  },
  {
   "cell_type": "markdown",
   "metadata": {
    "colab_type": "text",
    "id": "sNcVv69A-iLU"
   },
   "source": [
    "Let's examine the attributes of `social_contacts`, which is an instance of `contacts.Contacts`. Note that `social_contacts` is simulated above by calling `simulate_contacts` which takes `primary_case` as in argument, so contact generation of course depends on the case simulated first. "
   ]
  },
  {
   "cell_type": "markdown",
   "metadata": {
    "colab_type": "text",
    "id": "ZLByc1_w-iLU"
   },
   "source": [
    "The first attribute to note is `.n_daily`, which is a `dict` containing the average number of daily contacts (split into three categories) of the case. This is simulated by sampling one row of the tables `over18` or `under18` depending on the value of `primary_case.under18`. In the case of `primary_case`, we can look at `social_contacts.n_daily`:"
   ]
  },
  {
   "cell_type": "code",
   "execution_count": 21,
   "metadata": {
    "colab": {
     "base_uri": "https://localhost:8080/"
    },
    "colab_type": "code",
    "id": "KqQWkYwk-iLV",
    "outputId": "cd1e9fa7-9654-49e4-826f-c4c28b915056"
   },
   "outputs": [
    {
     "name": "stdout",
     "output_type": "stream",
     "text": [
      "Average number of daily contacts for primary_case:\n",
      "Home: 7\n",
      "Work: 3\n",
      "Other: 4\n"
     ]
    }
   ],
   "source": [
    "print(f'Average number of daily contacts for primary_case:')\n",
    "print(f'Home: {social_contacts.n_daily[\"home\"]}')\n",
    "print(f'Work: {social_contacts.n_daily[\"work\"]}')\n",
    "print(f'Other: {social_contacts.n_daily[\"other\"]}')"
   ]
  },
  {
   "cell_type": "markdown",
   "metadata": {
    "colab_type": "text",
    "id": "ehBEkqcK-iLb"
   },
   "source": [
    "The three remaining attributes `.home`, `.work` and `.other` are arrays containing information about each contact made by the case, with one row per contact. More specifically, for each contact, the row contains the first day (always measured relative to the start of infectiousness) of encounter between the case and contact and, if transmission occurred, then the day of transmission. "
   ]
  },
  {
   "cell_type": "markdown",
   "metadata": {
    "colab_type": "text",
    "id": "It9Yy7e0-iLc"
   },
   "source": [
    "Also, recall that home contacts are assumed to repeat every day of the infectious period, whereas work/other contacts are new for each day. This means the lengths of the arrays `.work` and `.other` are `10 * .n_daily['work']` and `10 * .n_daily['other']` respectively (recalling the infection period is assumed to last ten days, a parameter set in `contacts_config['period']`). Whereas, the length of the `.home` array is just `.n_daily['home']`."
   ]
  },
  {
   "cell_type": "code",
   "execution_count": 22,
   "metadata": {
    "colab": {
     "base_uri": "https://localhost:8080/"
    },
    "colab_type": "code",
    "id": "mohBnur_-iLc",
    "outputId": "423a85a4-a308-4e9f-8d80-9871037c36fc"
   },
   "outputs": [
    {
     "name": "stdout",
     "output_type": "stream",
     "text": [
      "Lengths of .home, .work and .other attributes:\n",
      "Home: 7\n",
      "Work: 30\n",
      "Other: 40\n"
     ]
    }
   ],
   "source": [
    "print(f'Lengths of .home, .work and .other attributes:')\n",
    "print(f'Home: {len(social_contacts.home)}')\n",
    "print(f'Work: {len(social_contacts.work)}')\n",
    "print(f'Other: {len(social_contacts.other)}')"
   ]
  },
  {
   "cell_type": "markdown",
   "metadata": {
    "colab_type": "text",
    "id": "auRvAcwg-iLg"
   },
   "source": [
    "Digging further into the array, each row contains two integers. The first integer indicates the day of transmission, which is set to `-1` if no transmission occurred. The second integer contains the day of first encounter. So for instance, looking at one of the home contacts, we see transmission didn't occur and the day of first encounter is `0`, i.e. the first day of the infection period:"
   ]
  },
  {
   "cell_type": "code",
   "execution_count": 23,
   "metadata": {
    "colab": {
     "base_uri": "https://localhost:8080/"
    },
    "colab_type": "code",
    "id": "D4_ERBTw-iLg",
    "outputId": "dcd2e91b-5086-4a66-ebe7-99ff1c530948"
   },
   "outputs": [
    {
     "name": "stdout",
     "output_type": "stream",
     "text": [
      "[-1  0]\n"
     ]
    }
   ],
   "source": [
    "print(social_contacts.home[0])"
   ]
  },
  {
   "cell_type": "markdown",
   "metadata": {
    "colab_type": "text",
    "id": "zZ8X6g8z-iLj"
   },
   "source": [
    "Looking at the first six work contacts, we see none of them were infected either. This is consistent with the fact that `primary_case.covid = False` so no transmission can occur in this case."
   ]
  },
  {
   "cell_type": "code",
   "execution_count": 24,
   "metadata": {
    "colab": {
     "base_uri": "https://localhost:8080/"
    },
    "colab_type": "code",
    "id": "WZwDiYrB-iLk",
    "outputId": "e62edde6-7c89-466b-9015-b866b0277d3e"
   },
   "outputs": [
    {
     "name": "stdout",
     "output_type": "stream",
     "text": [
      "[[-1  0]\n",
      " [-1  0]\n",
      " [-1  0]\n",
      " [-1  1]\n",
      " [-1  1]\n",
      " [-1  1]]\n"
     ]
    }
   ],
   "source": [
    "print(social_contacts.work[:6])"
   ]
  },
  {
   "cell_type": "markdown",
   "metadata": {
    "colab_type": "text",
    "id": "vSEUV9D9-iLn"
   },
   "source": [
    "In simulations where `case.Case` is COVID positive, each contact may get infected and the probability of getting infected depends on parameters such as the secondary attack rates (SARs), all of which are set in `contacts_config`. For details on the precise simulation procedure used to generate `contacts.Contacts`, see either Appendix A of the report or the `__call__` method of `EmpiricalContactsSimulator`."
   ]
  },
  {
   "cell_type": "markdown",
   "metadata": {
    "colab_type": "text",
    "id": "7CmXXoii-iLo"
   },
   "source": [
    "## TTI Strategies"
   ]
  },
  {
   "cell_type": "markdown",
   "metadata": {
    "colab_type": "text",
    "id": "ponSUAl6-iLo"
   },
   "source": [
    "All of the information about the primary case's infection and how they infect their social contacts (under no government intervention) is now contained in `primary_case` and `social_contacts`.\n",
    "\n",
    "Now we run a simulation, which works as follows. We start by generating a large number of cases, each with associated contacts. Given a particular strategy (e.g. test-based TTI with NPI of stringency level S3), each case is passed through the strategy, which computes various metrics for the case. For example, it computes the number of secondary cases due to primary case (reproduction number) and the number of tests required. We then collect the results for each case and average them, returning the final evaluation of the strategy."
   ]
  },
  {
   "cell_type": "markdown",
   "metadata": {
    "colab_type": "text",
    "id": "BHB568_y-iLp"
   },
   "source": [
    "## Running a Simulation"
   ]
  },
  {
   "cell_type": "code",
   "execution_count": 29,
   "metadata": {
    "colab": {},
    "colab_type": "code",
    "id": "Ql0yp7H4-iLq"
   },
   "outputs": [],
   "source": [
    "from tti_explorer.strategies import TTIFlowModel\n",
    "\n",
    "import urllib.request\n",
    "import numpy as np\n",
    "import matplotlib.pyplot as plt\n",
    "\n",
    "from matplotlib import colors as mcolors\n",
    "from matplotlib import cm\n",
    "import numpy as np\n",
    "import GPy\n",
    "from emukit.core import ContinuousParameter, ParameterSpace\n",
    "from emukit.sensitivity.monte_carlo import ModelFreeMonteCarloSensitivity\n",
    "from emukit.core.initial_designs import RandomDesign\n",
    "from GPy.models import GPRegression\n",
    "from emukit.model_wrappers import GPyModelWrapper\n",
    "from emukit.sensitivity.monte_carlo import MonteCarloSensitivity\n",
    "from emukit.experimental_design.acquisitions import IntegratedVarianceReduction, ModelVariance\n",
    "from emukit.experimental_design.experimental_design_loop import ExperimentalDesignLoop\n",
    "import matplotlib.pyplot as plt\n",
    "import sys; sys.path.insert(0, '..')\n",
    "import teaching_plots as plot\n",
    "import mlai\n",
    "import pandas as pd"
   ]
  },
  {
   "cell_type": "markdown",
   "metadata": {
    "colab_type": "text",
    "id": "t8xUXOXV-iLt"
   },
   "source": [
    "We will analyse the `S3_test_based_TTI` strategy from our report. For clarity, we will show the whole process."
   ]
  },
  {
   "cell_type": "markdown",
   "metadata": {
    "colab_type": "text",
    "id": "CPvGkTFW-iLu"
   },
   "source": [
    "First get the configurations:"
   ]
  },
  {
   "cell_type": "code",
   "execution_count": 46,
   "metadata": {
    "colab": {},
    "colab_type": "code",
    "id": "dz1zBETF-iLu"
   },
   "outputs": [
    {
     "name": "stdout",
     "output_type": "stream",
     "text": [
      "{'p_under18': 0.21, 'infection_proportions': {'dist': [0.8333333333333334, 0.1, 0.06666666666666667], 'nppl': 120}, 'p_day_noticed_symptoms': [0, 0.25, 0.25, 0.2, 0.1, 0.05, 0.05, 0.05, 0.05, 0.0], 'inf_profile': [0.046966101377360424, 0.15602255610429985, 0.19829974712514023, 0.18356485224565827, 0.14541407040442172, 0.10500447388376151, 0.07130993362939089, 0.04635772205156416, 0.029167894888682697, 0.017892648289720214]}\n",
      "------------------------------------------------\n",
      "{'home_sar': 0.3, 'work_sar': 0.045, 'other_sar': 0.045, 'period': 10, 'asymp_factor': 0.5}\n",
      "------------------------------------------------\n",
      "{'isolate_individual_on_symptoms': True, 'isolate_individual_on_positive': True, 'isolate_household_on_symptoms': True, 'isolate_household_on_positive': True, 'isolate_contacts_on_symptoms': False, 'isolate_contacts_on_positive': True, 'test_contacts_on_positive': False, 'do_symptom_testing': True, 'do_manual_tracing': True, 'do_app_tracing': True, 'fractional_infections': True, 'testing_delay': 2, 'app_trace_delay': 0, 'manual_trace_delay': 1, 'manual_home_trace_prob': 1.0, 'manual_work_trace_prob': 1.0, 'manual_othr_trace_prob': 1.0, 'met_before_w': 0.79, 'met_before_s': 0.9, 'met_before_o': 0.9, 'max_contacts': 10, 'quarantine_length': 14, 'latent_period': 3, 'app_cov': 0.35, 'compliance': 0.8, 'go_to_school_prob': 0.5, 'wfh_prob': 0.45}\n",
      "------------------------------------------------\n"
     ]
    }
   ],
   "source": [
    "name = 'S3_test_based_TTI'\n",
    "\n",
    "case_config = config.get_case_config(\"delve\")\n",
    "contacts_config = config.get_contacts_config(\"delve\")\n",
    "policy_config = config.get_strategy_configs(\"delve\", name)[name]\n",
    "\n",
    "print(case_config)\n",
    "print('------------------------------------------------')\n",
    "print(contacts_config)\n",
    "print('------------------------------------------------')\n",
    "print(policy_config)\n",
    "print('------------------------------------------------')"
   ]
  },
  {
   "cell_type": "code",
   "execution_count": 48,
   "metadata": {},
   "outputs": [],
   "source": [
    "def update_policy_config(app_uptake, pol_compl):\n",
    "    policy_config['app_cov'] = app_uptake\n",
    "    policy_config['compliance'] = pol_compl\n",
    "    return policy_config\n",
    "\n",
    "policy_config = update_policy_config(0.5, 0.05)"
   ]
  },
  {
   "cell_type": "code",
   "execution_count": 49,
   "metadata": {},
   "outputs": [
    {
     "name": "stdout",
     "output_type": "stream",
     "text": [
      "------------------------------------------------\n",
      "{'app_cov': 0.5, 'compliance': 0.05, 'go_to_school_prob': 0.5, 'wfh_prob': 0.45}\n",
      "------------------------------------------------\n",
      "{'isolate_individual_on_symptoms': True, 'isolate_individual_on_positive': True, 'isolate_household_on_symptoms': True, 'isolate_household_on_positive': True, 'isolate_contacts_on_symptoms': False, 'isolate_contacts_on_positive': True, 'test_contacts_on_positive': False, 'do_symptom_testing': True, 'do_manual_tracing': True, 'do_app_tracing': True, 'fractional_infections': True, 'testing_delay': 2, 'app_trace_delay': 0, 'manual_trace_delay': 1, 'manual_home_trace_prob': 1.0, 'manual_work_trace_prob': 1.0, 'manual_othr_trace_prob': 1.0, 'met_before_w': 0.79, 'met_before_s': 0.9, 'met_before_o': 0.9, 'max_contacts': 10, 'quarantine_length': 14, 'latent_period': 3, 'app_cov': 0.5, 'compliance': 0.05}\n",
      "------------------------------------------------\n"
     ]
    }
   ],
   "source": [
    "# Separating this because it is built from the ammended policy_config\n",
    "\n",
    "factor_config = utils.get_sub_dictionary(policy_config, config.DELVE_CASE_FACTOR_KEYS)\n",
    "strategy_config = utils.get_sub_dictionary(policy_config, config.DELVE_STRATEGY_FACTOR_KEYS)\n",
    "\n",
    "print('------------------------------------------------')\n",
    "print(factor_config)\n",
    "print('------------------------------------------------')\n",
    "print(strategy_config)\n",
    "print('------------------------------------------------')"
   ]
  },
  {
   "cell_type": "markdown",
   "metadata": {
    "colab_type": "text",
    "id": "le8N86QT-iLx"
   },
   "source": [
    "Set a random state:"
   ]
  },
  {
   "cell_type": "code",
   "execution_count": 33,
   "metadata": {
    "colab": {},
    "colab_type": "code",
    "id": "f9LUG5IH-iLy"
   },
   "outputs": [],
   "source": [
    "rng = np.random.RandomState(42)"
   ]
  },
  {
   "cell_type": "markdown",
   "metadata": {
    "colab_type": "text",
    "id": "fOxJ84t3-iL1"
   },
   "source": [
    "Make contact simulator:"
   ]
  },
  {
   "cell_type": "code",
   "execution_count": 34,
   "metadata": {
    "colab": {},
    "colab_type": "code",
    "id": "cr92iit4-iL2"
   },
   "outputs": [],
   "source": [
    "simulate_contacts = EmpiricalContactsSimulator(over18, under18, rng)"
   ]
  },
  {
   "cell_type": "markdown",
   "metadata": {
    "colab_type": "text",
    "id": "HAgmj657-iL6"
   },
   "source": [
    "Make the TTI Model:"
   ]
  },
  {
   "cell_type": "code",
   "execution_count": 35,
   "metadata": {
    "colab": {},
    "colab_type": "code",
    "id": "NjH7Ih7x-iL7"
   },
   "outputs": [],
   "source": [
    "tti_model = TTIFlowModel(rng, **strategy_config)"
   ]
  },
  {
   "cell_type": "markdown",
   "metadata": {
    "colab_type": "text",
    "id": "7IFGP5K6-iL-"
   },
   "source": [
    "Generate cases, contacts and run simulation:"
   ]
  },
  {
   "cell_type": "code",
   "execution_count": 36,
   "metadata": {
    "colab": {
     "base_uri": "https://localhost:8080/",
     "height": 67,
     "referenced_widgets": [
      "6d622bc0a8f64f0d87aa499c94664085",
      "8105c4eb956744b0b5e1b9ac5207f9d5",
      "01c6627a03e747b7a0bcedc0e31e94c2",
      "29401bc5d41a48bdae60957b7f3126e8",
      "d683e78b8341498cb158a434cbf70c12",
      "27ae62f93b924c9f90cf1023ec62e147",
      "026757afe50d4f14a7ba0beaf180574e",
      "44207771133e47f3a8fb7eaca6c5c1fc"
     ]
    },
    "colab_type": "code",
    "id": "tc-ESZQH-iL-",
    "outputId": "31f940ae-12a4-470b-e0f8-bb4c243fe040"
   },
   "outputs": [],
   "source": [
    "# init_vals = [[0.2, 0.3],[0.4, 0.3],[0.7, 0.7],[0.4, 0.45],[0.6, 0.1]]\n",
    "# init_x = []\n",
    "# for vals in init_vals:\n",
    "\n",
    "#     policy_config = update_policy_config(vals[0], vals[1])\n",
    "#     factor_config = utils.get_sub_dictionary(policy_config, config.DELVE_CASE_FACTOR_KEYS)\n",
    "#     strategy_config = utils.get_sub_dictionary(policy_config, config.DELVE_STRATEGY_FACTOR_KEYS)\n",
    "#     rng = np.random.RandomState(42)\n",
    "#     simulate_contacts = EmpiricalContactsSimulator(over18, under18, rng)\n",
    "#     tti_model = TTIFlowModel(rng, **strategy_config)\n",
    "#     n_cases = 10000\n",
    "#     outputs = list()\n",
    "#     temp =[]\n",
    "#     for _ in trange(n_cases):\n",
    "#         case = simulate_case(rng, **case_config)\n",
    "#         case_factors = CaseFactors.simulate_from(rng, case, **factor_config)\n",
    "#         contacts = simulate_contacts(case, **contacts_config)\n",
    "#         res = tti_model(case, contacts, case_factors)\n",
    "#         outputs.append(res)\n",
    "#         if res[\"Effective R\"] >= 0:\n",
    "#             temp.append(res[\"Effective R\"]) # Get effective R. Only non-nan vals are kept\n",
    "#     init_x.append(np.mean(temp))\n",
    "#     to_show = [\n",
    "#         RETURN_KEYS.base_r,\n",
    "#         RETURN_KEYS.reduced_r,\n",
    "#         RETURN_KEYS.man_trace,\n",
    "#         RETURN_KEYS.app_trace,\n",
    "#         RETURN_KEYS.tests\n",
    "#     ]\n",
    "\n",
    "\n"
   ]
  },
  {
   "cell_type": "markdown",
   "metadata": {
    "colab_type": "text",
    "id": "hDnsbKVl-iMC"
   },
   "source": [
    "Collate and average results across the cases simulated:"
   ]
  },
  {
   "cell_type": "code",
   "execution_count": 37,
   "metadata": {
    "colab": {
     "base_uri": "https://localhost:8080/",
     "height": 194
    },
    "colab_type": "code",
    "id": "pd4-EaB3-iMD",
    "outputId": "1fcee086-9efe-4eb4-877a-b32e415c233a"
   },
   "outputs": [
    {
     "ename": "NameError",
     "evalue": "name 'outputs' is not defined",
     "output_type": "error",
     "traceback": [
      "\u001b[0;31m---------------------------------------------------------------------------\u001b[0m",
      "\u001b[0;31mNameError\u001b[0m                                 Traceback (most recent call last)",
      "\u001b[0;32m<ipython-input-37-def89ed4ed2f>\u001b[0m in \u001b[0;36m<module>\u001b[0;34m\u001b[0m\n\u001b[1;32m     13\u001b[0m \u001b[0;34m\u001b[0m\u001b[0m\n\u001b[1;32m     14\u001b[0m results = pd.DataFrame(\n\u001b[0;32m---> 15\u001b[0;31m     \u001b[0moutputs\u001b[0m\u001b[0;34m\u001b[0m\u001b[0;34m\u001b[0m\u001b[0m\n\u001b[0m\u001b[1;32m     16\u001b[0m \u001b[0;34m)\u001b[0m\u001b[0;34m.\u001b[0m\u001b[0mmean\u001b[0m\u001b[0;34m(\u001b[0m\u001b[0;34m\u001b[0m\u001b[0;34m\u001b[0m\u001b[0m\n\u001b[1;32m     17\u001b[0m     \u001b[0;36m0\u001b[0m\u001b[0;34m\u001b[0m\u001b[0;34m\u001b[0m\u001b[0m\n",
      "\u001b[0;31mNameError\u001b[0m: name 'outputs' is not defined"
     ]
    }
   ],
   "source": [
    "# This cell is mosltly just formatting results...\n",
    "to_show = [\n",
    "    RETURN_KEYS.base_r,\n",
    "    RETURN_KEYS.reduced_r,\n",
    "    RETURN_KEYS.man_trace,\n",
    "    RETURN_KEYS.app_trace,\n",
    "    RETURN_KEYS.tests\n",
    "]\n",
    "\n",
    "# scale factor to turn simulation numbers into UK population numbers\n",
    "nppl = case_config['infection_proportions']['nppl']\n",
    "scales = [1, 1, nppl, nppl, nppl]\n",
    "\n",
    "results = pd.DataFrame(\n",
    "    outputs\n",
    ").mean(\n",
    "    0\n",
    ").loc[\n",
    "    to_show\n",
    "].mul(\n",
    "    scales\n",
    ").to_frame(\n",
    "    name=f\"Simulation results: {name.replace('_', ' ')}\"\n",
    ").rename(\n",
    "    index=lambda x: x + \" (k per day)\" if x.startswith(\"#\") else x\n",
    ")\n",
    "\n",
    "results.round(1)"
   ]
  },
  {
   "cell_type": "code",
   "execution_count": 38,
   "metadata": {},
   "outputs": [],
   "source": [
    "\"\"\"\n",
    "Runs TTI simulator as many times as the different input initialisations.\n",
    "The main reason we need this is to put in to EmuKit for the Experimental\n",
    "Design Loop.\n",
    "\n",
    "Args:\n",
    "    pol_configs (list): Inputs are [app_cov, compliance]\n",
    "\n",
    "Returns:\n",
    "    effective_rs (np.expand_dims(np.array(to_return), 1)): For every simulation run, return\n",
    "    the effective r, as was plotted form Bryn and Andrei previously.\n",
    "\n",
    "\"\"\"\n",
    "\n",
    "def run_tti_sim(pol_configs):\n",
    "    to_return=[]\n",
    "    for vals in pol_configs:\n",
    "        policy_config = update_policy_config(vals[0], vals[1])\n",
    "        factor_config = utils.get_sub_dictionary(policy_config, config.DELVE_CASE_FACTOR_KEYS)\n",
    "        strategy_config = utils.get_sub_dictionary(policy_config, config.DELVE_STRATEGY_FACTOR_KEYS)\n",
    "        rng = np.random.RandomState(42)\n",
    "        simulate_contacts = EmpiricalContactsSimulator(over18, under18, rng)\n",
    "        tti_model = TTIFlowModel(rng, **strategy_config)\n",
    "        n_cases = 10000\n",
    "        outputs = list()\n",
    "        temp =[]\n",
    "        for _ in trange(n_cases):\n",
    "            case = simulate_case(rng, **case_config)\n",
    "            case_factors = CaseFactors.simulate_from(rng, case, **factor_config)\n",
    "            contacts = simulate_contacts(case, **contacts_config)\n",
    "            res = tti_model(case, contacts, case_factors)\n",
    "            outputs.append(res)\n",
    "            if res[\"Effective R\"] >= 0:\n",
    "                temp.append(res[\"Effective R\"]) # Get effective R. Only non-nan vals are kept\n",
    "        to_return.append(np.mean(temp))\n",
    "    return np.expand_dims(np.array(to_return), 1)\n",
    "\n",
    "\n"
   ]
  },
  {
   "cell_type": "code",
   "execution_count": 39,
   "metadata": {},
   "outputs": [
    {
     "data": {
      "application/vnd.jupyter.widget-view+json": {
       "model_id": "7e3d21a112c24d51bca4e199a1eb9398",
       "version_major": 2,
       "version_minor": 0
      },
      "text/plain": [
       "HBox(children=(HTML(value=''), FloatProgress(value=0.0, max=10000.0), HTML(value='')))"
      ]
     },
     "metadata": {},
     "output_type": "display_data"
    },
    {
     "name": "stdout",
     "output_type": "stream",
     "text": [
      "\n"
     ]
    },
    {
     "data": {
      "application/vnd.jupyter.widget-view+json": {
       "model_id": "08f9de01848346c09f05cf6a5e6e6051",
       "version_major": 2,
       "version_minor": 0
      },
      "text/plain": [
       "HBox(children=(HTML(value=''), FloatProgress(value=0.0, max=10000.0), HTML(value='')))"
      ]
     },
     "metadata": {},
     "output_type": "display_data"
    },
    {
     "name": "stdout",
     "output_type": "stream",
     "text": [
      "\n"
     ]
    },
    {
     "data": {
      "application/vnd.jupyter.widget-view+json": {
       "model_id": "923ceade67d14eab8a7e20ef1db8121c",
       "version_major": 2,
       "version_minor": 0
      },
      "text/plain": [
       "HBox(children=(HTML(value=''), FloatProgress(value=0.0, max=10000.0), HTML(value='')))"
      ]
     },
     "metadata": {},
     "output_type": "display_data"
    },
    {
     "name": "stdout",
     "output_type": "stream",
     "text": [
      "\n"
     ]
    },
    {
     "data": {
      "application/vnd.jupyter.widget-view+json": {
       "model_id": "cd261f4b18ab49f4aa0c466deda31027",
       "version_major": 2,
       "version_minor": 0
      },
      "text/plain": [
       "HBox(children=(HTML(value=''), FloatProgress(value=0.0, max=10000.0), HTML(value='')))"
      ]
     },
     "metadata": {},
     "output_type": "display_data"
    },
    {
     "name": "stdout",
     "output_type": "stream",
     "text": [
      "\n"
     ]
    },
    {
     "data": {
      "application/vnd.jupyter.widget-view+json": {
       "model_id": "0af66c2afd37480e80db39c0c9c05594",
       "version_major": 2,
       "version_minor": 0
      },
      "text/plain": [
       "HBox(children=(HTML(value=''), FloatProgress(value=0.0, max=10000.0), HTML(value='')))"
      ]
     },
     "metadata": {},
     "output_type": "display_data"
    },
    {
     "name": "stdout",
     "output_type": "stream",
     "text": [
      "\n"
     ]
    }
   ],
   "source": [
    "variable_domain = [0.05,1] # Set variables range. Since we are dealing with percentages (app_cov, compliance)\n",
    "# [0.05, 1] should do.\n",
    "initial_samples = 5 # number of random runs to perform before starting experimental design \n",
    "space = ParameterSpace(\n",
    "          [ContinuousParameter('app_cov', *variable_domain), \n",
    "           ContinuousParameter('compliance', *variable_domain)]) # init param space for experimental design\n",
    "design = RandomDesign(space)\n",
    "x = design.get_samples(initial_samples) # get 5 random combinations of initialisations\n",
    "y = run_tti_sim(x) # obtain corresponding effective_rs"
   ]
  },
  {
   "cell_type": "code",
   "execution_count": 40,
   "metadata": {},
   "outputs": [
    {
     "name": "stdout",
     "output_type": "stream",
     "text": [
      "Optimization restart 1/1, f = -2.173589890602443\n"
     ]
    },
    {
     "data": {
      "text/html": [
       "<style type=\"text/css\">\n",
       ".pd{\n",
       "    font-family: \"Courier New\", Courier, monospace !important;\n",
       "    width: 100%;\n",
       "    padding: 3px;\n",
       "}\n",
       "</style>\n",
       "\n",
       "<p class=pd>\n",
       "<b>Model</b>: GP regression<br>\n",
       "<b>Objective</b>: -2.173589890602443<br>\n",
       "<b>Number of Parameters</b>: 5<br>\n",
       "<b>Number of Optimization Parameters</b>: 4<br>\n",
       "<b>Updates</b>: True<br>\n",
       "</p>\n",
       "<style type=\"text/css\">\n",
       ".tg  {font-family:\"Courier New\", Courier, monospace !important;padding:2px 3px;word-break:normal;border-collapse:collapse;border-spacing:0;border-color:#DCDCDC;margin:0px auto;width:100%;}\n",
       ".tg td{font-family:\"Courier New\", Courier, monospace !important;font-weight:bold;color:#444;background-color:#F7FDFA;border-style:solid;border-width:1px;overflow:hidden;word-break:normal;border-color:#DCDCDC;}\n",
       ".tg th{font-family:\"Courier New\", Courier, monospace !important;font-weight:normal;color:#fff;background-color:#26ADE4;border-style:solid;border-width:1px;overflow:hidden;word-break:normal;border-color:#DCDCDC;}\n",
       ".tg .tg-left{font-family:\"Courier New\", Courier, monospace !important;font-weight:normal;text-align:left;}\n",
       ".tg .tg-center{font-family:\"Courier New\", Courier, monospace !important;font-weight:normal;text-align:center;}\n",
       ".tg .tg-right{font-family:\"Courier New\", Courier, monospace !important;font-weight:normal;text-align:right;}\n",
       "</style>\n",
       "<table class=\"tg\"><tr><th><b>  GP_regression.         </b></th><th><b>            value</b></th><th><b>constraints</b></th><th><b>priors</b></th></tr>\n",
       "<tr><td class=tg-left>  sum.rbf.variance       </td><td class=tg-right>8.075814053069132</td><td class=tg-center>    +ve    </td><td class=tg-center>      </td></tr>\n",
       "<tr><td class=tg-left>  sum.rbf.lengthscale    </td><td class=tg-right>             (2,)</td><td class=tg-center>    +ve    </td><td class=tg-center>      </td></tr>\n",
       "<tr><td class=tg-left>  sum.bias.variance      </td><td class=tg-right>2.537622514595376</td><td class=tg-center>    +ve    </td><td class=tg-center>      </td></tr>\n",
       "<tr><td class=tg-left>  Gaussian_noise.variance</td><td class=tg-right>            1e-05</td><td class=tg-center> +ve fixed </td><td class=tg-center>      </td></tr>\n",
       "</table>"
      ],
      "text/plain": [
       "<GPy.models.gp_regression.GPRegression at 0x7f8db2672588>"
      ]
     },
     "metadata": {},
     "output_type": "display_data"
    }
   ],
   "source": [
    "# Fitting emulator to data, x: (app_cov, compliance), y: effective_r\n",
    "kern_eq = GPy.kern.RBF(input_dim=2, ARD = True)\n",
    "kern_bias = GPy.kern.Bias(input_dim=2)\n",
    "kern = kern_eq + kern_bias\n",
    "model_gpy = GPRegression(x,y, kern)\n",
    "model_gpy.kern.variance = 1**2\n",
    "model_gpy.likelihood.variance.fix(1e-5)\n",
    "model_emukit = GPyModelWrapper(model_gpy) \n",
    "model_emukit.optimize() # optimise (max log-lik)\n",
    "display(model_gpy)\n",
    "\n"
   ]
  },
  {
   "cell_type": "code",
   "execution_count": 41,
   "metadata": {},
   "outputs": [
    {
     "name": "stdout",
     "output_type": "stream",
     "text": [
      "Optimization restart 1/1, f = -2.173589890602443\n"
     ]
    },
    {
     "data": {
      "application/vnd.jupyter.widget-view+json": {
       "model_id": "ebc32b8075e4452f891dbf2200d1e570",
       "version_major": 2,
       "version_minor": 0
      },
      "text/plain": [
       "HBox(children=(HTML(value=''), FloatProgress(value=0.0, max=10000.0), HTML(value='')))"
      ]
     },
     "metadata": {},
     "output_type": "display_data"
    },
    {
     "name": "stdout",
     "output_type": "stream",
     "text": [
      "\n",
      "Optimization restart 1/1, f = -3.8814645525032443\n"
     ]
    },
    {
     "data": {
      "application/vnd.jupyter.widget-view+json": {
       "model_id": "4d9de1d9614244b394510878382abdae",
       "version_major": 2,
       "version_minor": 0
      },
      "text/plain": [
       "HBox(children=(HTML(value=''), FloatProgress(value=0.0, max=10000.0), HTML(value='')))"
      ]
     },
     "metadata": {},
     "output_type": "display_data"
    },
    {
     "name": "stdout",
     "output_type": "stream",
     "text": [
      "\n",
      "Optimization restart 1/1, f = -6.473976943066747\n"
     ]
    }
   ],
   "source": [
    "# Initialise experimental design loop. Using integrated variance as acquisition\n",
    "# to \"query\" the input space aiming to reduce uncertainty over the func we're approx. i.e. effective_r\n",
    "num_of_loops = 10\n",
    "integrated_variance = IntegratedVarianceReduction(space=space, model=model_emukit)\n",
    "ed = ExperimentalDesignLoop(space=space, model=model_emukit, acquisition = integrated_variance)\n",
    "ed.run_loop(run_tti_sim, 2)"
   ]
  },
  {
   "cell_type": "code",
   "execution_count": 42,
   "metadata": {},
   "outputs": [
    {
     "name": "stdout",
     "output_type": "stream",
     "text": [
      "main_effects:  {'app_cov': array([-0.00365172]), 'compliance': array([0.99229499])}\n",
      "total_effects:  {'app_cov': array([0.01494018]), 'compliance': array([1.0139104])}\n"
     ]
    },
    {
     "name": "stderr",
     "output_type": "stream",
     "text": [
      " ../mlai.py:15: MatplotlibDeprecationWarning:savefig() got unexpected keyword argument \"directory\" which is no longer supported as of 3.3 and will become an error two minor releases later\n"
     ]
    },
    {
     "data": {
      "image/png": "[encoded data removed]",
      "text/plain": [
       "<Figure size 720x432 with 1 Axes>"
      ]
     },
     "metadata": {
      "needs_background": "light"
     },
     "output_type": "display_data"
    }
   ],
   "source": [
    "# Plot Main Effects\n",
    "\n",
    "num_mc = 10000\n",
    "senstivity = MonteCarloSensitivity(model = model_emukit, input_domain = space)\n",
    "main_effects_gp, total_effects_gp, _ = senstivity.compute_effects(num_monte_carlo_points = num_mc)\n",
    "print(\"main_effects: \", main_effects_gp)\n",
    "print(\"total_effects: \", total_effects_gp)\n",
    "\n",
    "\n",
    "fig, ax = plt.subplots(figsize=plot.big_wide_figsize)\n",
    "main_effects_gp_plot = {ivar: main_effects_gp[ivar][0] for ivar in main_effects_gp}\n",
    "\n",
    "d = {'GP Monte Carlo':main_effects_gp_plot}\n",
    "\n",
    "pd.DataFrame(d).plot(kind='bar', ax=ax)\n",
    "plt.ylabel('% of explained output variance')\n",
    "\n",
    "mlai.write_figure(filename='first-order-sobol-indices-gp-catapult.svg', directory='./uq')"
   ]
  },
  {
   "cell_type": "code",
   "execution_count": 43,
   "metadata": {},
   "outputs": [
    {
     "data": {
      "image/png": "[encoded data removed]",
      "text/plain": [
       "<Figure size 720x432 with 1 Axes>"
      ]
     },
     "metadata": {
      "needs_background": "light"
     },
     "output_type": "display_data"
    }
   ],
   "source": [
    "# Plot Total Effects\n",
    "\n",
    "fig, ax = plt.subplots(figsize=plot.big_wide_figsize)\n",
    "\n",
    "total_effects_gp_plot = {ivar: total_effects_gp[ivar][0] for ivar in total_effects_gp}\n",
    "\n",
    "d = {'GP Monte Carlo':total_effects_gp_plot}\n",
    "\n",
    "pd.DataFrame(d).plot(kind='bar', ax=ax)\n",
    "ax.set_ylabel('% of explained output variance')\n",
    "\n",
    "mlai.write_figure(filename='total-effects-sobol-indices-gp-catapult.svg', directory='./uq')"
   ]
  },
  {
   "cell_type": "code",
   "execution_count": 44,
   "metadata": {},
   "outputs": [
    {
     "name": "stdout",
     "output_type": "stream",
     "text": [
      "(100, 100)\n",
      "(100, 100)\n",
      "(100, 100)\n"
     ]
    },
    {
     "data": {
      "image/png": "[encoded data removed]",
      "text/plain": [
       "<Figure size 432x288 with 1 Axes>"
      ]
     },
     "metadata": {
      "needs_background": "light"
     },
     "output_type": "display_data"
    }
   ],
   "source": [
    "app_cov_eval = np.linspace(0.05, 1, 100)\n",
    "app_com_eval = np.linspace(0.05, 1, 100)\n",
    "points=[]\n",
    "for i in app_cov_eval:\n",
    "    for j in app_com_eval:\n",
    "        points.append([i, j])\n",
    "points = np.asarray(points)\n",
    "\n",
    "X = points[:,0].reshape((100,100))\n",
    "Y = points[:,1].reshape((100,100))\n",
    "Z, _ = model_gpy.predict(points)\n",
    "Z = Z.reshape((100,100))\n",
    "\n",
    "print(X.shape)\n",
    "print(Y.shape)\n",
    "print(Z.shape)\n",
    "\n",
    "\n",
    "fig = plt.figure()\n",
    "ax = fig.add_subplot(projection='3d')\n",
    "ax.plot_surface(X, Y, Z, alpha=0.7)\n",
    "# ax.scatter(x[:,0], x[:,1], y, color='red', alpha=0.99)\n",
    "ax.set_xlabel('x0')\n",
    "ax.set_ylabel('x1')\n",
    "plt.show()"
   ]
  },
  {
   "cell_type": "code",
   "execution_count": null,
   "metadata": {},
   "outputs": [],
   "source": []
  },
  {
   "cell_type": "code",
   "execution_count": null,
   "metadata": {},
   "outputs": [],
   "source": []
  },
  {
   "cell_type": "code",
   "execution_count": null,
   "metadata": {},
   "outputs": [],
   "source": []
  }
 ],
 "metadata": {
  "colab": {
   "include_colab_link": true,
   "name": "tti-experiment.ipynb",
   "provenance": []
  },
  "kernelspec": {
   "display_name": "Python 3",
   "language": "python",
   "name": "python3"
  },
  "language_info": {
   "codemirror_mode": {
    "name": "ipython",
    "version": 3
   },
   "file_extension": ".py",
   "mimetype": "text/x-python",
   "name": "python",
   "nbconvert_exporter": "python",
   "pygments_lexer": "ipython3",
   "version": "3.6.12"
  },
  "widgets": {
   "application/vnd.jupyter.widget-state+json": {
    "01c6627a03e747b7a0bcedc0e31e94c2": {
     "model_module": "@jupyter-widgets/controls",
     "model_name": "FloatProgressModel",
     "state": {
      "_dom_classes": [],
      "_model_module": "@jupyter-widgets/controls",
      "_model_module_version": "1.5.0",
      "_model_name": "FloatProgressModel",
      "_view_count": null,
      "_view_module": "@jupyter-widgets/controls",
      "_view_module_version": "1.5.0",
      "_view_name": "ProgressView",
      "bar_style": "success",
      "description": "100%",
      "description_tooltip": null,
      "layout": "IPY_MODEL_27ae62f93b924c9f90cf1023ec62e147",
      "max": 10000,
      "min": 0,
      "orientation": "horizontal",
      "style": "IPY_MODEL_d683e78b8341498cb158a434cbf70c12",
      "value": 10000
     }
    },
    "026757afe50d4f14a7ba0beaf180574e": {
     "model_module": "@jupyter-widgets/controls",
     "model_name": "DescriptionStyleModel",
     "state": {
      "_model_module": "@jupyter-widgets/controls",
      "_model_module_version": "1.5.0",
      "_model_name": "DescriptionStyleModel",
      "_view_count": null,
      "_view_module": "@jupyter-widgets/base",
      "_view_module_version": "1.2.0",
      "_view_name": "StyleView",
      "description_width": ""
     }
    },
    "27ae62f93b924c9f90cf1023ec62e147": {
     "model_module": "@jupyter-widgets/base",
     "model_name": "LayoutModel",
     "state": {
      "_model_module": "@jupyter-widgets/base",
      "_model_module_version": "1.2.0",
      "_model_name": "LayoutModel",
      "_view_count": null,
      "_view_module": "@jupyter-widgets/base",
      "_view_module_version": "1.2.0",
      "_view_name": "LayoutView",
      "align_content": null,
      "align_items": null,
      "align_self": null,
      "border": null,
      "bottom": null,
      "display": null,
      "flex": null,
      "flex_flow": null,
      "grid_area": null,
      "grid_auto_columns": null,
      "grid_auto_flow": null,
      "grid_auto_rows": null,
      "grid_column": null,
      "grid_gap": null,
      "grid_row": null,
      "grid_template_areas": null,
      "grid_template_columns": null,
      "grid_template_rows": null,
      "height": null,
      "justify_content": null,
      "justify_items": null,
      "left": null,
      "margin": null,
      "max_height": null,
      "max_width": null,
      "min_height": null,
      "min_width": null,
      "object_fit": null,
      "object_position": null,
      "order": null,
      "overflow": null,
      "overflow_x": null,
      "overflow_y": null,
      "padding": null,
      "right": null,
      "top": null,
      "visibility": null,
      "width": null
     }
    },
    "29401bc5d41a48bdae60957b7f3126e8": {
     "model_module": "@jupyter-widgets/controls",
     "model_name": "HTMLModel",
     "state": {
      "_dom_classes": [],
      "_model_module": "@jupyter-widgets/controls",
      "_model_module_version": "1.5.0",
      "_model_name": "HTMLModel",
      "_view_count": null,
      "_view_module": "@jupyter-widgets/controls",
      "_view_module_version": "1.5.0",
      "_view_name": "HTMLView",
      "description": "",
      "description_tooltip": null,
      "layout": "IPY_MODEL_44207771133e47f3a8fb7eaca6c5c1fc",
      "placeholder": "​",
      "style": "IPY_MODEL_026757afe50d4f14a7ba0beaf180574e",
      "value": " 10000/10000 [00:05&lt;00:00, 1685.76it/s]"
     }
    },
    "44207771133e47f3a8fb7eaca6c5c1fc": {
     "model_module": "@jupyter-widgets/base",
     "model_name": "LayoutModel",
     "state": {
      "_model_module": "@jupyter-widgets/base",
      "_model_module_version": "1.2.0",
      "_model_name": "LayoutModel",
      "_view_count": null,
      "_view_module": "@jupyter-widgets/base",
      "_view_module_version": "1.2.0",
      "_view_name": "LayoutView",
      "align_content": null,
      "align_items": null,
      "align_self": null,
      "border": null,
      "bottom": null,
      "display": null,
      "flex": null,
      "flex_flow": null,
      "grid_area": null,
      "grid_auto_columns": null,
      "grid_auto_flow": null,
      "grid_auto_rows": null,
      "grid_column": null,
      "grid_gap": null,
      "grid_row": null,
      "grid_template_areas": null,
      "grid_template_columns": null,
      "grid_template_rows": null,
      "height": null,
      "justify_content": null,
      "justify_items": null,
      "left": null,
      "margin": null,
      "max_height": null,
      "max_width": null,
      "min_height": null,
      "min_width": null,
      "object_fit": null,
      "object_position": null,
      "order": null,
      "overflow": null,
      "overflow_x": null,
      "overflow_y": null,
      "padding": null,
      "right": null,
      "top": null,
      "visibility": null,
      "width": null
     }
    },
    "6d622bc0a8f64f0d87aa499c94664085": {
     "model_module": "@jupyter-widgets/controls",
     "model_name": "HBoxModel",
     "state": {
      "_dom_classes": [],
      "_model_module": "@jupyter-widgets/controls",
      "_model_module_version": "1.5.0",
      "_model_name": "HBoxModel",
      "_view_count": null,
      "_view_module": "@jupyter-widgets/controls",
      "_view_module_version": "1.5.0",
      "_view_name": "HBoxView",
      "box_style": "",
      "children": [
       "IPY_MODEL_01c6627a03e747b7a0bcedc0e31e94c2",
       "IPY_MODEL_29401bc5d41a48bdae60957b7f3126e8"
      ],
      "layout": "IPY_MODEL_8105c4eb956744b0b5e1b9ac5207f9d5"
     }
    },
    "8105c4eb956744b0b5e1b9ac5207f9d5": {
     "model_module": "@jupyter-widgets/base",
     "model_name": "LayoutModel",
     "state": {
      "_model_module": "@jupyter-widgets/base",
      "_model_module_version": "1.2.0",
      "_model_name": "LayoutModel",
      "_view_count": null,
      "_view_module": "@jupyter-widgets/base",
      "_view_module_version": "1.2.0",
      "_view_name": "LayoutView",
      "align_content": null,
      "align_items": null,
      "align_self": null,
      "border": null,
      "bottom": null,
      "display": null,
      "flex": null,
      "flex_flow": null,
      "grid_area": null,
      "grid_auto_columns": null,
      "grid_auto_flow": null,
      "grid_auto_rows": null,
      "grid_column": null,
      "grid_gap": null,
      "grid_row": null,
      "grid_template_areas": null,
      "grid_template_columns": null,
      "grid_template_rows": null,
      "height": null,
      "justify_content": null,
      "justify_items": null,
      "left": null,
      "margin": null,
      "max_height": null,
      "max_width": null,
      "min_height": null,
      "min_width": null,
      "object_fit": null,
      "object_position": null,
      "order": null,
      "overflow": null,
      "overflow_x": null,
      "overflow_y": null,
      "padding": null,
      "right": null,
      "top": null,
      "visibility": null,
      "width": null
     }
    },
    "d683e78b8341498cb158a434cbf70c12": {
     "model_module": "@jupyter-widgets/controls",
     "model_name": "ProgressStyleModel",
     "state": {
      "_model_module": "@jupyter-widgets/controls",
      "_model_module_version": "1.5.0",
      "_model_name": "ProgressStyleModel",
      "_view_count": null,
      "_view_module": "@jupyter-widgets/base",
      "_view_module_version": "1.2.0",
      "_view_name": "StyleView",
      "bar_color": null,
      "description_width": "initial"
     }
    }
   }
  }
 },
 "nbformat": 4,
 "nbformat_minor": 1
}
