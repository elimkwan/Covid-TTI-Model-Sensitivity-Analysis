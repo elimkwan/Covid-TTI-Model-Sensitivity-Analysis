{
 "cells": [
  {
   "cell_type": "markdown",
   "metadata": {
    "colab_type": "text",
    "id": "view-in-github"
   },
   "source": [
    "<a href=\"https://colab.research.google.com/github/rs-delve/tti-explorer/blob/master/notebooks/tti-experiment.ipynb\" target=\"_parent\"><img src=\"https://colab.research.google.com/assets/colab-badge.svg\" alt=\"Open In Colab\"/></a>"
   ]
  },
  {
   "cell_type": "markdown",
   "metadata": {
    "colab_type": "text",
    "id": "7CmXXoii-iLo"
   },
   "source": [
    "## TTI Strategies"
   ]
  },
  {
   "cell_type": "markdown",
   "metadata": {
    "colab_type": "text",
    "id": "ponSUAl6-iLo"
   },
   "source": [
    "#### Experiment Parameters:\n",
    "- Parameters to be tested: Latent Period (1-14), Asymptomatic Rate\n",
    "- Random Seed = 42\n",
    "- Run tti stimulator = 50 times\n",
    "- experiment design loop (if using) = 5 times"
   ]
  },
  {
   "cell_type": "markdown",
   "metadata": {
    "colab_type": "text",
    "id": "BHB568_y-iLp"
   },
   "source": [
    "## Running a Simulation"
   ]
  },
  {
   "cell_type": "code",
   "execution_count": 1,
   "metadata": {},
   "outputs": [],
   "source": [
    "from emukit_new.core import DiscreteParameter, ContinuousParameter, ParameterSpace\n",
    "from emukit_new.core.initial_designs import RandomDesign\n",
    "from emukit_new.model_wrappers import GPyModelWrapper\n",
    "from emukit_new.experimental_design.acquisitions import IntegratedVarianceReduction, ModelVariance\n",
    "from emukit_new.experimental_design.experimental_design_loop import ExperimentalDesignLoop\n",
    "from emukit_new.sensitivity.monte_carlo import ModelFreeMonteCarloSensitivity\n",
    "from emukit_new.sensitivity.monte_carlo import MonteCarloSensitivity\n",
    "from emukit_new.sensitivity.monte_carlo import MonteCarloSecondOrderSensitivity"
   ]
  },
  {
   "cell_type": "code",
   "execution_count": 2,
   "metadata": {
    "colab": {},
    "colab_type": "code",
    "id": "Ql0yp7H4-iLq"
   },
   "outputs": [],
   "source": [
    "# !git clone https://github.com/rs-delve/tti-explorer.git\n",
    "# %cd tti-explorer\n",
    "# %pip install -q .\n",
    "import os\n",
    "import numpy as np\n",
    "import pandas as pd\n",
    "from tqdm.notebook import trange\n",
    "\n",
    "from tti_explorer import config, utils\n",
    "from tti_explorer.case import simulate_case, CaseFactors\n",
    "from tti_explorer.contacts import EmpiricalContactsSimulator\n",
    "from tti_explorer.strategies import TTIFlowModel, RETURN_KEYS\n",
    "\n",
    "# %pip install pyDOE\n",
    "# %pip install emukit\n",
    "# %pip install gpy\n",
    "import urllib.request\n",
    "import numpy as np\n",
    "import matplotlib.pyplot as plt\n",
    "\n",
    "urllib.request.urlretrieve('https://raw.githubusercontent.com/lawrennd/talks/gh-pages/teaching_plots.py','teaching_plots.py')\n",
    "urllib.request.urlretrieve('https://raw.githubusercontent.com/lawrennd/talks/gh-pages/mlai.py','mlai.py')\n",
    "urllib.request.urlretrieve('https://raw.githubusercontent.com/lawrennd/talks/gh-pages/gp_tutorial.py','gp_tutorial.py')\n",
    "\n",
    "from matplotlib import colors as mcolors\n",
    "from matplotlib import cm\n",
    "import numpy as np\n",
    "import GPy\n",
    "from GPy.models import GPRegression\n",
    "import matplotlib.pyplot as plt\n",
    "import teaching_plots as plot\n",
    "import mlai\n",
    "import pandas as pd"
   ]
  },
  {
   "cell_type": "markdown",
   "metadata": {
    "colab_type": "text",
    "id": "t8xUXOXV-iLt"
   },
   "source": [
    "We will analyse the `S3_test_based_TTI` strategy from our report. For clarity, we will show the whole process."
   ]
  },
  {
   "cell_type": "code",
   "execution_count": 3,
   "metadata": {},
   "outputs": [],
   "source": [
    "def load_csv(pth):\n",
    "    return np.loadtxt(pth, dtype=int, skiprows=1, delimiter=\",\")\n",
    "\n",
    "path_to_bbc_data = os.path.join(\"../../data\", \"bbc-pandemic\")\n",
    "over18 = load_csv(os.path.join(path_to_bbc_data, \"contact_distributions_o18.csv\"))\n",
    "under18 = load_csv(os.path.join(path_to_bbc_data, \"contact_distributions_u18.csv\"))"
   ]
  },
  {
   "cell_type": "markdown",
   "metadata": {
    "colab_type": "text",
    "id": "CPvGkTFW-iLu"
   },
   "source": [
    "First get the configurations:"
   ]
  },
  {
   "cell_type": "code",
   "execution_count": 4,
   "metadata": {
    "colab": {},
    "colab_type": "code",
    "id": "dz1zBETF-iLu",
    "scrolled": true
   },
   "outputs": [],
   "source": [
    "name = 'S3_test_based_TTI'\n",
    "\n",
    "case_config = config.get_case_config(\"delve\")\n",
    "contacts_config = config.get_contacts_config(\"delve\")\n",
    "policy_config = config.get_strategy_configs(\"delve\", name)[name]"
   ]
  },
  {
   "cell_type": "code",
   "execution_count": 5,
   "metadata": {},
   "outputs": [],
   "source": [
    "factor_config = utils.get_sub_dictionary(policy_config, config.DELVE_CASE_FACTOR_KEYS)\n",
    "strategy_config = utils.get_sub_dictionary(policy_config, config.DELVE_STRATEGY_FACTOR_KEYS)"
   ]
  },
  {
   "cell_type": "markdown",
   "metadata": {
    "colab_type": "text",
    "id": "le8N86QT-iLx"
   },
   "source": [
    "Set a random state:"
   ]
  },
  {
   "cell_type": "code",
   "execution_count": 8,
   "metadata": {
    "colab": {},
    "colab_type": "code",
    "id": "f9LUG5IH-iLy"
   },
   "outputs": [],
   "source": [
    "rng = np.random.RandomState(42)"
   ]
  },
  {
   "cell_type": "markdown",
   "metadata": {
    "colab_type": "text",
    "id": "fOxJ84t3-iL1"
   },
   "source": [
    "Make contact simulator:"
   ]
  },
  {
   "cell_type": "code",
   "execution_count": 9,
   "metadata": {
    "colab": {},
    "colab_type": "code",
    "id": "cr92iit4-iL2"
   },
   "outputs": [],
   "source": [
    "simulate_contacts = EmpiricalContactsSimulator(over18, under18, rng)"
   ]
  },
  {
   "cell_type": "markdown",
   "metadata": {
    "colab_type": "text",
    "id": "HAgmj657-iL6"
   },
   "source": [
    "Make the TTI Model:"
   ]
  },
  {
   "cell_type": "code",
   "execution_count": 10,
   "metadata": {
    "colab": {},
    "colab_type": "code",
    "id": "NjH7Ih7x-iL7",
    "scrolled": true
   },
   "outputs": [],
   "source": [
    "tti_model = TTIFlowModel(rng, **strategy_config)"
   ]
  },
  {
   "cell_type": "markdown",
   "metadata": {},
   "source": [
    "Define functions that update desired configs"
   ]
  },
  {
   "cell_type": "code",
   "execution_count": 15,
   "metadata": {},
   "outputs": [],
   "source": [
    "from scipy.stats import gamma\n",
    "\n",
    "def he_infection_profile(period, gamma_params):\n",
    "    inf_days = np.arange(period)\n",
    "    mass = gamma.cdf(inf_days + 1, **gamma_params) - gamma.cdf(inf_days, **gamma_params)\n",
    "    return mass / np.sum(mass)\n",
    "\n",
    "#must call update_contacts_config after update_case_config\n",
    "def update_case_config(asymptomatic_delve):\n",
    "    prop_covid_symptomatic_delve = round(1-asymptomatic_delve,2)\n",
    "    case_config['infection_proportions']={\n",
    "        \"dist\": [\n",
    "            100 / 120,\n",
    "            prop_covid_symptomatic_delve * 20 / 120,\n",
    "            (1 - prop_covid_symptomatic_delve) * 20 / 120,\n",
    "        ],\n",
    "        \"nppl\": 120,\n",
    "    }\n",
    "    contacts_config['asymp_factor'] = round(asymptomatic_delve,2)\n",
    "    config.PROP_COVID_SYMPTOMATIC = 1-asymptomatic_delve\n",
    "    return case_config\n",
    "\n",
    "def update_policy_config(quarantine):\n",
    "    policy_config['latent_period'] = int(round(quarantine))\n",
    "    return policy_config\n",
    "\n",
    "def update_contacts_config(work_sar):\n",
    "    contacts_config['work_sar'] = work_sar\n",
    "    return contacts_config"
   ]
  },
  {
   "cell_type": "markdown",
   "metadata": {
    "colab_type": "text",
    "id": "7IFGP5K6-iL-"
   },
   "source": [
    "Generate cases, contacts and run simulation:"
   ]
  },
  {
   "cell_type": "code",
   "execution_count": 16,
   "metadata": {},
   "outputs": [],
   "source": [
    "\"\"\"\n",
    "Runs TTI simulator as many times as the different input initialisations.\n",
    "The main reason we need this is to put in to EmuKit for the Experimental\n",
    "Design Loop.\n",
    "\n",
    "Args:\n",
    "    configs (list): Inputs are [app_cov, compliance]\n",
    "\n",
    "Returns:\n",
    "    effective_rs (np.expand_dims(np.array(to_return), 1)): For every simulation run, return\n",
    "    the effective r, as was plotted form Bryn and Andrei previously.\n",
    "\n",
    "\"\"\"\n",
    "rng = np.random.RandomState(42)\n",
    "simulate_contacts = EmpiricalContactsSimulator(over18, under18, rng)\n",
    "\n",
    "def run_tti_sim(configs):\n",
    "    to_return=[]\n",
    "    for vals in configs:\n",
    "        policy_config = update_policy_config(vals[0])\n",
    "        case_config = update_case_config(vals[1])\n",
    "        contacts_config = update_contacts_config(vals[2])\n",
    "        tti_model = TTIFlowModel(rng, **strategy_config)\n",
    "        n_cases = 10000\n",
    "        outputs = list()\n",
    "        temp =[]\n",
    "        for _ in trange(n_cases):\n",
    "            case = simulate_case(rng, **case_config)\n",
    "            case_factors = CaseFactors.simulate_from(rng, case, **factor_config)\n",
    "            contacts = simulate_contacts(case, **contacts_config)\n",
    "            res = tti_model(case, contacts, case_factors)\n",
    "            outputs.append(res)\n",
    "            if res[\"Effective R\"] >= 0:\n",
    "                temp.append(res[\"Effective R\"]) # Get effective R. Only non-nan vals are kept\n",
    "        to_return.append(np.mean(temp))\n",
    "    return np.expand_dims(np.array(to_return), 1)"
   ]
  },
  {
   "cell_type": "code",
   "execution_count": 17,
   "metadata": {
    "scrolled": true
   },
   "outputs": [
    {
     "data": {
      "application/vnd.jupyter.widget-view+json": {
       "model_id": "ba09f5a71d4c43a7a18cc6b574e6777c",
       "version_major": 2,
       "version_minor": 0
      },
      "text/plain": [
       "HBox(children=(HTML(value=''), FloatProgress(value=0.0, max=10000.0), HTML(value='')))"
      ]
     },
     "metadata": {},
     "output_type": "display_data"
    },
    {
     "name": "stdout",
     "output_type": "stream",
     "text": [
      "\n"
     ]
    },
    {
     "data": {
      "application/vnd.jupyter.widget-view+json": {
       "model_id": "3e5461b03f0a400d96e4202dcd182416",
       "version_major": 2,
       "version_minor": 0
      },
      "text/plain": [
       "HBox(children=(HTML(value=''), FloatProgress(value=0.0, max=10000.0), HTML(value='')))"
      ]
     },
     "metadata": {},
     "output_type": "display_data"
    },
    {
     "name": "stdout",
     "output_type": "stream",
     "text": [
      "\n"
     ]
    },
    {
     "data": {
      "application/vnd.jupyter.widget-view+json": {
       "model_id": "d9b3441d6f184beea506637be9013d76",
       "version_major": 2,
       "version_minor": 0
      },
      "text/plain": [
       "HBox(children=(HTML(value=''), FloatProgress(value=0.0, max=10000.0), HTML(value='')))"
      ]
     },
     "metadata": {},
     "output_type": "display_data"
    },
    {
     "name": "stdout",
     "output_type": "stream",
     "text": [
      "\n"
     ]
    },
    {
     "data": {
      "application/vnd.jupyter.widget-view+json": {
       "model_id": "25ec57618149419dabc85f27b635a955",
       "version_major": 2,
       "version_minor": 0
      },
      "text/plain": [
       "HBox(children=(HTML(value=''), FloatProgress(value=0.0, max=10000.0), HTML(value='')))"
      ]
     },
     "metadata": {},
     "output_type": "display_data"
    },
    {
     "name": "stdout",
     "output_type": "stream",
     "text": [
      "\n"
     ]
    },
    {
     "data": {
      "application/vnd.jupyter.widget-view+json": {
       "model_id": "fa7c0aada93f4e719b170ca1c193ff5c",
       "version_major": 2,
       "version_minor": 0
      },
      "text/plain": [
       "HBox(children=(HTML(value=''), FloatProgress(value=0.0, max=10000.0), HTML(value='')))"
      ]
     },
     "metadata": {},
     "output_type": "display_data"
    },
    {
     "name": "stdout",
     "output_type": "stream",
     "text": [
      "\n"
     ]
    },
    {
     "data": {
      "application/vnd.jupyter.widget-view+json": {
       "model_id": "714c0bfd040244ecb257096b8201f4fc",
       "version_major": 2,
       "version_minor": 0
      },
      "text/plain": [
       "HBox(children=(HTML(value=''), FloatProgress(value=0.0, max=10000.0), HTML(value='')))"
      ]
     },
     "metadata": {},
     "output_type": "display_data"
    },
    {
     "name": "stdout",
     "output_type": "stream",
     "text": [
      "\n"
     ]
    },
    {
     "data": {
      "application/vnd.jupyter.widget-view+json": {
       "model_id": "7da474e24fd441cf93624ff293274d6b",
       "version_major": 2,
       "version_minor": 0
      },
      "text/plain": [
       "HBox(children=(HTML(value=''), FloatProgress(value=0.0, max=10000.0), HTML(value='')))"
      ]
     },
     "metadata": {},
     "output_type": "display_data"
    },
    {
     "name": "stdout",
     "output_type": "stream",
     "text": [
      "\n"
     ]
    },
    {
     "data": {
      "application/vnd.jupyter.widget-view+json": {
       "model_id": "8c78f76996b041d6908ddca1e9f3be4b",
       "version_major": 2,
       "version_minor": 0
      },
      "text/plain": [
       "HBox(children=(HTML(value=''), FloatProgress(value=0.0, max=10000.0), HTML(value='')))"
      ]
     },
     "metadata": {},
     "output_type": "display_data"
    },
    {
     "name": "stdout",
     "output_type": "stream",
     "text": [
      "\n"
     ]
    },
    {
     "data": {
      "application/vnd.jupyter.widget-view+json": {
       "model_id": "ce9b25083c524a65b3260caa9bdd69a9",
       "version_major": 2,
       "version_minor": 0
      },
      "text/plain": [
       "HBox(children=(HTML(value=''), FloatProgress(value=0.0, max=10000.0), HTML(value='')))"
      ]
     },
     "metadata": {},
     "output_type": "display_data"
    },
    {
     "name": "stdout",
     "output_type": "stream",
     "text": [
      "\n"
     ]
    },
    {
     "data": {
      "application/vnd.jupyter.widget-view+json": {
       "model_id": "0ad84696de5148369b65a907a2a88f31",
       "version_major": 2,
       "version_minor": 0
      },
      "text/plain": [
       "HBox(children=(HTML(value=''), FloatProgress(value=0.0, max=10000.0), HTML(value='')))"
      ]
     },
     "metadata": {},
     "output_type": "display_data"
    },
    {
     "name": "stdout",
     "output_type": "stream",
     "text": [
      "\n"
     ]
    },
    {
     "data": {
      "application/vnd.jupyter.widget-view+json": {
       "model_id": "191da072d7e14c9fad72d1fc14b03eaa",
       "version_major": 2,
       "version_minor": 0
      },
      "text/plain": [
       "HBox(children=(HTML(value=''), FloatProgress(value=0.0, max=10000.0), HTML(value='')))"
      ]
     },
     "metadata": {},
     "output_type": "display_data"
    },
    {
     "name": "stdout",
     "output_type": "stream",
     "text": [
      "\n"
     ]
    },
    {
     "data": {
      "application/vnd.jupyter.widget-view+json": {
       "model_id": "e2e8052954f6460d979490413d8f7bd5",
       "version_major": 2,
       "version_minor": 0
      },
      "text/plain": [
       "HBox(children=(HTML(value=''), FloatProgress(value=0.0, max=10000.0), HTML(value='')))"
      ]
     },
     "metadata": {},
     "output_type": "display_data"
    },
    {
     "name": "stdout",
     "output_type": "stream",
     "text": [
      "\n"
     ]
    },
    {
     "data": {
      "application/vnd.jupyter.widget-view+json": {
       "model_id": "e8dd28b1a1b64002a4446afa65e7ba6f",
       "version_major": 2,
       "version_minor": 0
      },
      "text/plain": [
       "HBox(children=(HTML(value=''), FloatProgress(value=0.0, max=10000.0), HTML(value='')))"
      ]
     },
     "metadata": {},
     "output_type": "display_data"
    },
    {
     "name": "stdout",
     "output_type": "stream",
     "text": [
      "\n"
     ]
    },
    {
     "data": {
      "application/vnd.jupyter.widget-view+json": {
       "model_id": "a5e34b9203a5443c901d440ab45afac2",
       "version_major": 2,
       "version_minor": 0
      },
      "text/plain": [
       "HBox(children=(HTML(value=''), FloatProgress(value=0.0, max=10000.0), HTML(value='')))"
      ]
     },
     "metadata": {},
     "output_type": "display_data"
    },
    {
     "name": "stdout",
     "output_type": "stream",
     "text": [
      "\n"
     ]
    },
    {
     "data": {
      "application/vnd.jupyter.widget-view+json": {
       "model_id": "abc3d7dee17c4cf28c5317dd401e7533",
       "version_major": 2,
       "version_minor": 0
      },
      "text/plain": [
       "HBox(children=(HTML(value=''), FloatProgress(value=0.0, max=10000.0), HTML(value='')))"
      ]
     },
     "metadata": {},
     "output_type": "display_data"
    },
    {
     "name": "stdout",
     "output_type": "stream",
     "text": [
      "\n"
     ]
    },
    {
     "data": {
      "application/vnd.jupyter.widget-view+json": {
       "model_id": "9c5729c8c12248f59526df3134c4a702",
       "version_major": 2,
       "version_minor": 0
      },
      "text/plain": [
       "HBox(children=(HTML(value=''), FloatProgress(value=0.0, max=10000.0), HTML(value='')))"
      ]
     },
     "metadata": {},
     "output_type": "display_data"
    },
    {
     "name": "stdout",
     "output_type": "stream",
     "text": [
      "\n"
     ]
    },
    {
     "data": {
      "application/vnd.jupyter.widget-view+json": {
       "model_id": "6bbfbf0a7fcf462ba871658e5356c41a",
       "version_major": 2,
       "version_minor": 0
      },
      "text/plain": [
       "HBox(children=(HTML(value=''), FloatProgress(value=0.0, max=10000.0), HTML(value='')))"
      ]
     },
     "metadata": {},
     "output_type": "display_data"
    },
    {
     "name": "stdout",
     "output_type": "stream",
     "text": [
      "\n"
     ]
    },
    {
     "data": {
      "application/vnd.jupyter.widget-view+json": {
       "model_id": "b795fd980e9a4f35b2feb8faee6642e3",
       "version_major": 2,
       "version_minor": 0
      },
      "text/plain": [
       "HBox(children=(HTML(value=''), FloatProgress(value=0.0, max=10000.0), HTML(value='')))"
      ]
     },
     "metadata": {},
     "output_type": "display_data"
    },
    {
     "name": "stdout",
     "output_type": "stream",
     "text": [
      "\n"
     ]
    },
    {
     "data": {
      "application/vnd.jupyter.widget-view+json": {
       "model_id": "da950f8d3e3b4e2b99fc4b4f78d838ff",
       "version_major": 2,
       "version_minor": 0
      },
      "text/plain": [
       "HBox(children=(HTML(value=''), FloatProgress(value=0.0, max=10000.0), HTML(value='')))"
      ]
     },
     "metadata": {},
     "output_type": "display_data"
    },
    {
     "name": "stdout",
     "output_type": "stream",
     "text": [
      "\n"
     ]
    },
    {
     "data": {
      "application/vnd.jupyter.widget-view+json": {
       "model_id": "89f018743404474e8ee248a111770ac3",
       "version_major": 2,
       "version_minor": 0
      },
      "text/plain": [
       "HBox(children=(HTML(value=''), FloatProgress(value=0.0, max=10000.0), HTML(value='')))"
      ]
     },
     "metadata": {},
     "output_type": "display_data"
    },
    {
     "name": "stdout",
     "output_type": "stream",
     "text": [
      "\n"
     ]
    },
    {
     "data": {
      "application/vnd.jupyter.widget-view+json": {
       "model_id": "d72efa54df95417ab4d7860111a5e38f",
       "version_major": 2,
       "version_minor": 0
      },
      "text/plain": [
       "HBox(children=(HTML(value=''), FloatProgress(value=0.0, max=10000.0), HTML(value='')))"
      ]
     },
     "metadata": {},
     "output_type": "display_data"
    },
    {
     "name": "stdout",
     "output_type": "stream",
     "text": [
      "\n"
     ]
    },
    {
     "data": {
      "application/vnd.jupyter.widget-view+json": {
       "model_id": "8b5dd1f02ca141fa831866e487bd6c9d",
       "version_major": 2,
       "version_minor": 0
      },
      "text/plain": [
       "HBox(children=(HTML(value=''), FloatProgress(value=0.0, max=10000.0), HTML(value='')))"
      ]
     },
     "metadata": {},
     "output_type": "display_data"
    },
    {
     "name": "stdout",
     "output_type": "stream",
     "text": [
      "\n"
     ]
    },
    {
     "data": {
      "application/vnd.jupyter.widget-view+json": {
       "model_id": "dc63772c6f1e4408b3e7bd3437f0a7e5",
       "version_major": 2,
       "version_minor": 0
      },
      "text/plain": [
       "HBox(children=(HTML(value=''), FloatProgress(value=0.0, max=10000.0), HTML(value='')))"
      ]
     },
     "metadata": {},
     "output_type": "display_data"
    },
    {
     "name": "stdout",
     "output_type": "stream",
     "text": [
      "\n"
     ]
    },
    {
     "data": {
      "application/vnd.jupyter.widget-view+json": {
       "model_id": "b3ee4051d8734ad18c3705d0c4edbc9b",
       "version_major": 2,
       "version_minor": 0
      },
      "text/plain": [
       "HBox(children=(HTML(value=''), FloatProgress(value=0.0, max=10000.0), HTML(value='')))"
      ]
     },
     "metadata": {},
     "output_type": "display_data"
    },
    {
     "name": "stdout",
     "output_type": "stream",
     "text": [
      "\n"
     ]
    },
    {
     "data": {
      "application/vnd.jupyter.widget-view+json": {
       "model_id": "0e57cf14211d425dac4992ac8e6542bc",
       "version_major": 2,
       "version_minor": 0
      },
      "text/plain": [
       "HBox(children=(HTML(value=''), FloatProgress(value=0.0, max=10000.0), HTML(value='')))"
      ]
     },
     "metadata": {},
     "output_type": "display_data"
    },
    {
     "name": "stdout",
     "output_type": "stream",
     "text": [
      "\n"
     ]
    },
    {
     "data": {
      "application/vnd.jupyter.widget-view+json": {
       "model_id": "04e78701769641019de7a032c516a1fd",
       "version_major": 2,
       "version_minor": 0
      },
      "text/plain": [
       "HBox(children=(HTML(value=''), FloatProgress(value=0.0, max=10000.0), HTML(value='')))"
      ]
     },
     "metadata": {},
     "output_type": "display_data"
    },
    {
     "name": "stdout",
     "output_type": "stream",
     "text": [
      "\n"
     ]
    },
    {
     "data": {
      "application/vnd.jupyter.widget-view+json": {
       "model_id": "ff3169b0d6b949038e953b0b10fd0ae3",
       "version_major": 2,
       "version_minor": 0
      },
      "text/plain": [
       "HBox(children=(HTML(value=''), FloatProgress(value=0.0, max=10000.0), HTML(value='')))"
      ]
     },
     "metadata": {},
     "output_type": "display_data"
    },
    {
     "name": "stdout",
     "output_type": "stream",
     "text": [
      "\n"
     ]
    },
    {
     "data": {
      "application/vnd.jupyter.widget-view+json": {
       "model_id": "a4543d1100794fad8aa3b9d94bcec1fa",
       "version_major": 2,
       "version_minor": 0
      },
      "text/plain": [
       "HBox(children=(HTML(value=''), FloatProgress(value=0.0, max=10000.0), HTML(value='')))"
      ]
     },
     "metadata": {},
     "output_type": "display_data"
    },
    {
     "name": "stdout",
     "output_type": "stream",
     "text": [
      "\n"
     ]
    },
    {
     "data": {
      "application/vnd.jupyter.widget-view+json": {
       "model_id": "7f2409ec99ff417d87f4243105885da3",
       "version_major": 2,
       "version_minor": 0
      },
      "text/plain": [
       "HBox(children=(HTML(value=''), FloatProgress(value=0.0, max=10000.0), HTML(value='')))"
      ]
     },
     "metadata": {},
     "output_type": "display_data"
    },
    {
     "name": "stdout",
     "output_type": "stream",
     "text": [
      "\n"
     ]
    },
    {
     "data": {
      "application/vnd.jupyter.widget-view+json": {
       "model_id": "159ad4d7a88b4fbe8c5961350f5f27cd",
       "version_major": 2,
       "version_minor": 0
      },
      "text/plain": [
       "HBox(children=(HTML(value=''), FloatProgress(value=0.0, max=10000.0), HTML(value='')))"
      ]
     },
     "metadata": {},
     "output_type": "display_data"
    },
    {
     "name": "stdout",
     "output_type": "stream",
     "text": [
      "\n"
     ]
    },
    {
     "data": {
      "application/vnd.jupyter.widget-view+json": {
       "model_id": "c558942ea521442582e266cb779efee2",
       "version_major": 2,
       "version_minor": 0
      },
      "text/plain": [
       "HBox(children=(HTML(value=''), FloatProgress(value=0.0, max=10000.0), HTML(value='')))"
      ]
     },
     "metadata": {},
     "output_type": "display_data"
    },
    {
     "name": "stdout",
     "output_type": "stream",
     "text": [
      "\n"
     ]
    },
    {
     "data": {
      "application/vnd.jupyter.widget-view+json": {
       "model_id": "23e76b58a0c849a5b1916906db500edc",
       "version_major": 2,
       "version_minor": 0
      },
      "text/plain": [
       "HBox(children=(HTML(value=''), FloatProgress(value=0.0, max=10000.0), HTML(value='')))"
      ]
     },
     "metadata": {},
     "output_type": "display_data"
    },
    {
     "name": "stdout",
     "output_type": "stream",
     "text": [
      "\n"
     ]
    },
    {
     "data": {
      "application/vnd.jupyter.widget-view+json": {
       "model_id": "c94e9f4b4c40444cbcabf20710c4f196",
       "version_major": 2,
       "version_minor": 0
      },
      "text/plain": [
       "HBox(children=(HTML(value=''), FloatProgress(value=0.0, max=10000.0), HTML(value='')))"
      ]
     },
     "metadata": {},
     "output_type": "display_data"
    },
    {
     "name": "stdout",
     "output_type": "stream",
     "text": [
      "\n"
     ]
    },
    {
     "data": {
      "application/vnd.jupyter.widget-view+json": {
       "model_id": "0110ef555a4446ea9ce5f4870b8157bb",
       "version_major": 2,
       "version_minor": 0
      },
      "text/plain": [
       "HBox(children=(HTML(value=''), FloatProgress(value=0.0, max=10000.0), HTML(value='')))"
      ]
     },
     "metadata": {},
     "output_type": "display_data"
    },
    {
     "name": "stdout",
     "output_type": "stream",
     "text": [
      "\n"
     ]
    },
    {
     "data": {
      "application/vnd.jupyter.widget-view+json": {
       "model_id": "e8b11c9725b3414586eaee801d25480d",
       "version_major": 2,
       "version_minor": 0
      },
      "text/plain": [
       "HBox(children=(HTML(value=''), FloatProgress(value=0.0, max=10000.0), HTML(value='')))"
      ]
     },
     "metadata": {},
     "output_type": "display_data"
    },
    {
     "name": "stdout",
     "output_type": "stream",
     "text": [
      "\n"
     ]
    },
    {
     "data": {
      "application/vnd.jupyter.widget-view+json": {
       "model_id": "0d3a062bcf45412da1c47aebab52a280",
       "version_major": 2,
       "version_minor": 0
      },
      "text/plain": [
       "HBox(children=(HTML(value=''), FloatProgress(value=0.0, max=10000.0), HTML(value='')))"
      ]
     },
     "metadata": {},
     "output_type": "display_data"
    },
    {
     "name": "stdout",
     "output_type": "stream",
     "text": [
      "\n"
     ]
    },
    {
     "data": {
      "application/vnd.jupyter.widget-view+json": {
       "model_id": "5b24d7c256e64437aef203959af22c2f",
       "version_major": 2,
       "version_minor": 0
      },
      "text/plain": [
       "HBox(children=(HTML(value=''), FloatProgress(value=0.0, max=10000.0), HTML(value='')))"
      ]
     },
     "metadata": {},
     "output_type": "display_data"
    },
    {
     "name": "stdout",
     "output_type": "stream",
     "text": [
      "\n"
     ]
    },
    {
     "data": {
      "application/vnd.jupyter.widget-view+json": {
       "model_id": "85fdc938ef3d4f729ba8b44bc0451229",
       "version_major": 2,
       "version_minor": 0
      },
      "text/plain": [
       "HBox(children=(HTML(value=''), FloatProgress(value=0.0, max=10000.0), HTML(value='')))"
      ]
     },
     "metadata": {},
     "output_type": "display_data"
    },
    {
     "name": "stdout",
     "output_type": "stream",
     "text": [
      "\n"
     ]
    },
    {
     "data": {
      "application/vnd.jupyter.widget-view+json": {
       "model_id": "6563b1d3b7c24857a9ae725539537e26",
       "version_major": 2,
       "version_minor": 0
      },
      "text/plain": [
       "HBox(children=(HTML(value=''), FloatProgress(value=0.0, max=10000.0), HTML(value='')))"
      ]
     },
     "metadata": {},
     "output_type": "display_data"
    },
    {
     "name": "stdout",
     "output_type": "stream",
     "text": [
      "\n"
     ]
    },
    {
     "data": {
      "application/vnd.jupyter.widget-view+json": {
       "model_id": "dd5c722bb490484388bddc6faa69a950",
       "version_major": 2,
       "version_minor": 0
      },
      "text/plain": [
       "HBox(children=(HTML(value=''), FloatProgress(value=0.0, max=10000.0), HTML(value='')))"
      ]
     },
     "metadata": {},
     "output_type": "display_data"
    },
    {
     "name": "stdout",
     "output_type": "stream",
     "text": [
      "\n"
     ]
    },
    {
     "data": {
      "application/vnd.jupyter.widget-view+json": {
       "model_id": "1dc2cc3b3d414b1f94d11af2e68616fe",
       "version_major": 2,
       "version_minor": 0
      },
      "text/plain": [
       "HBox(children=(HTML(value=''), FloatProgress(value=0.0, max=10000.0), HTML(value='')))"
      ]
     },
     "metadata": {},
     "output_type": "display_data"
    },
    {
     "name": "stdout",
     "output_type": "stream",
     "text": [
      "\n"
     ]
    },
    {
     "data": {
      "application/vnd.jupyter.widget-view+json": {
       "model_id": "90afa5ae3c754e8084dae558e101c1fc",
       "version_major": 2,
       "version_minor": 0
      },
      "text/plain": [
       "HBox(children=(HTML(value=''), FloatProgress(value=0.0, max=10000.0), HTML(value='')))"
      ]
     },
     "metadata": {},
     "output_type": "display_data"
    },
    {
     "name": "stdout",
     "output_type": "stream",
     "text": [
      "\n"
     ]
    },
    {
     "data": {
      "application/vnd.jupyter.widget-view+json": {
       "model_id": "37c1a4c277d34ab1a450225833a11b33",
       "version_major": 2,
       "version_minor": 0
      },
      "text/plain": [
       "HBox(children=(HTML(value=''), FloatProgress(value=0.0, max=10000.0), HTML(value='')))"
      ]
     },
     "metadata": {},
     "output_type": "display_data"
    },
    {
     "name": "stdout",
     "output_type": "stream",
     "text": [
      "\n"
     ]
    },
    {
     "data": {
      "application/vnd.jupyter.widget-view+json": {
       "model_id": "7c8d60fb9afc4d439436aa1f9724c8e2",
       "version_major": 2,
       "version_minor": 0
      },
      "text/plain": [
       "HBox(children=(HTML(value=''), FloatProgress(value=0.0, max=10000.0), HTML(value='')))"
      ]
     },
     "metadata": {},
     "output_type": "display_data"
    },
    {
     "name": "stdout",
     "output_type": "stream",
     "text": [
      "\n"
     ]
    },
    {
     "data": {
      "application/vnd.jupyter.widget-view+json": {
       "model_id": "855af849bc7f4066900abb4e35c26617",
       "version_major": 2,
       "version_minor": 0
      },
      "text/plain": [
       "HBox(children=(HTML(value=''), FloatProgress(value=0.0, max=10000.0), HTML(value='')))"
      ]
     },
     "metadata": {},
     "output_type": "display_data"
    },
    {
     "name": "stdout",
     "output_type": "stream",
     "text": [
      "\n"
     ]
    },
    {
     "data": {
      "application/vnd.jupyter.widget-view+json": {
       "model_id": "18a430e0dc5743fdaf7a2629e7857569",
       "version_major": 2,
       "version_minor": 0
      },
      "text/plain": [
       "HBox(children=(HTML(value=''), FloatProgress(value=0.0, max=10000.0), HTML(value='')))"
      ]
     },
     "metadata": {},
     "output_type": "display_data"
    },
    {
     "name": "stdout",
     "output_type": "stream",
     "text": [
      "\n"
     ]
    },
    {
     "data": {
      "application/vnd.jupyter.widget-view+json": {
       "model_id": "ec288be4e8db4e7a815fc811f8bb8484",
       "version_major": 2,
       "version_minor": 0
      },
      "text/plain": [
       "HBox(children=(HTML(value=''), FloatProgress(value=0.0, max=10000.0), HTML(value='')))"
      ]
     },
     "metadata": {},
     "output_type": "display_data"
    },
    {
     "name": "stdout",
     "output_type": "stream",
     "text": [
      "\n"
     ]
    },
    {
     "data": {
      "application/vnd.jupyter.widget-view+json": {
       "model_id": "04b89f0c33854c91b56de18f71b1862c",
       "version_major": 2,
       "version_minor": 0
      },
      "text/plain": [
       "HBox(children=(HTML(value=''), FloatProgress(value=0.0, max=10000.0), HTML(value='')))"
      ]
     },
     "metadata": {},
     "output_type": "display_data"
    },
    {
     "name": "stdout",
     "output_type": "stream",
     "text": [
      "\n"
     ]
    },
    {
     "data": {
      "application/vnd.jupyter.widget-view+json": {
       "model_id": "ea999aeadff6476da06e73ff2047b481",
       "version_major": 2,
       "version_minor": 0
      },
      "text/plain": [
       "HBox(children=(HTML(value=''), FloatProgress(value=0.0, max=10000.0), HTML(value='')))"
      ]
     },
     "metadata": {},
     "output_type": "display_data"
    },
    {
     "name": "stdout",
     "output_type": "stream",
     "text": [
      "\n"
     ]
    },
    {
     "data": {
      "application/vnd.jupyter.widget-view+json": {
       "model_id": "4e6eb768015c4abfafc4a083ab8cca13",
       "version_major": 2,
       "version_minor": 0
      },
      "text/plain": [
       "HBox(children=(HTML(value=''), FloatProgress(value=0.0, max=10000.0), HTML(value='')))"
      ]
     },
     "metadata": {},
     "output_type": "display_data"
    },
    {
     "name": "stdout",
     "output_type": "stream",
     "text": [
      "\n"
     ]
    }
   ],
   "source": [
    "max_home_infectivity = 0.6\n",
    "variable_domain1 = [10,11,12,13,14] \n",
    "variable_domain2 = [0.1, 0.9]\n",
    "variable_domain3 = [0.01, (1-max_home_infectivity)/2]\n",
    "\n",
    "\n",
    "initial_samples = 50 # number of random runs to perform before starting experimental design \n",
    "space = ParameterSpace([DiscreteParameter('latent_period', variable_domain1),\n",
    "                        ContinuousParameter('asymptomatic', *variable_domain2),\n",
    "                        ContinuousParameter('work_sar', *variable_domain3)]) # init param space for experimental design\n",
    "design = RandomDesign(space)\n",
    "x = design.get_samples(initial_samples) # get n random combinations of initialisations\n",
    "y = run_tti_sim(x) # obtain corresponding effective_rs"
   ]
  },
  {
   "cell_type": "code",
   "execution_count": 18,
   "metadata": {},
   "outputs": [
    {
     "name": "stdout",
     "output_type": "stream",
     "text": [
      "Optimization restart 1/1, f = -4.3306961378864415\n"
     ]
    },
    {
     "data": {
      "text/html": [
       "<style type=\"text/css\">\n",
       ".pd{\n",
       "    font-family: \"Courier New\", Courier, monospace !important;\n",
       "    width: 100%;\n",
       "    padding: 3px;\n",
       "}\n",
       "</style>\n",
       "\n",
       "<p class=pd>\n",
       "<b>Model</b>: GP regression<br>\n",
       "<b>Objective</b>: -4.3306961378864415<br>\n",
       "<b>Number of Parameters</b>: 7<br>\n",
       "<b>Number of Optimization Parameters</b>: 7<br>\n",
       "<b>Updates</b>: True<br>\n",
       "</p>\n",
       "<style type=\"text/css\">\n",
       ".tg  {font-family:\"Courier New\", Courier, monospace !important;padding:2px 3px;word-break:normal;border-collapse:collapse;border-spacing:0;border-color:#DCDCDC;margin:0px auto;width:100%;}\n",
       ".tg td{font-family:\"Courier New\", Courier, monospace !important;font-weight:bold;color:#444;background-color:#F7FDFA;border-style:solid;border-width:1px;overflow:hidden;word-break:normal;border-color:#DCDCDC;}\n",
       ".tg th{font-family:\"Courier New\", Courier, monospace !important;font-weight:normal;color:#fff;background-color:#26ADE4;border-style:solid;border-width:1px;overflow:hidden;word-break:normal;border-color:#DCDCDC;}\n",
       ".tg .tg-left{font-family:\"Courier New\", Courier, monospace !important;font-weight:normal;text-align:left;}\n",
       ".tg .tg-center{font-family:\"Courier New\", Courier, monospace !important;font-weight:normal;text-align:center;}\n",
       ".tg .tg-right{font-family:\"Courier New\", Courier, monospace !important;font-weight:normal;text-align:right;}\n",
       "</style>\n",
       "<table class=\"tg\"><tr><th><b>  GP_regression.         </b></th><th><b>                  value</b></th><th><b>constraints</b></th><th><b>priors</b></th></tr>\n",
       "<tr><td class=tg-left>  sum.rbf.variance       </td><td class=tg-right>      37.50456964928724</td><td class=tg-center>    +ve    </td><td class=tg-center>      </td></tr>\n",
       "<tr><td class=tg-left>  sum.rbf.lengthscale    </td><td class=tg-right>                   (3,)</td><td class=tg-center>    +ve    </td><td class=tg-center>      </td></tr>\n",
       "<tr><td class=tg-left>  sum.white.variance     </td><td class=tg-right>   0.009841047660797044</td><td class=tg-center>    +ve    </td><td class=tg-center>      </td></tr>\n",
       "<tr><td class=tg-left>  sum.bias.variance      </td><td class=tg-right>1.9699895272342198e-180</td><td class=tg-center>    +ve    </td><td class=tg-center>      </td></tr>\n",
       "<tr><td class=tg-left>  Gaussian_noise.variance</td><td class=tg-right>   0.009841047660797044</td><td class=tg-center>    +ve    </td><td class=tg-center>      </td></tr>\n",
       "</table>"
      ],
      "text/plain": [
       "<GPy.models.gp_regression.GPRegression at 0x7fbf7a3bf9e8>"
      ]
     },
     "metadata": {},
     "output_type": "display_data"
    }
   ],
   "source": [
    "# Fitting emulator to data, x: (param to be tested), y: effective_r\n",
    "Num_of_param = 3\n",
    "kern_eq = GPy.kern.RBF(input_dim=Num_of_param, ARD = True) +  GPy.kern.White(input_dim=Num_of_param, variance=1)\n",
    "kern_bias = GPy.kern.Bias(input_dim=Num_of_param)\n",
    "kern = kern_eq + kern_bias\n",
    "model_gpy = GPRegression(x,y, kern)\n",
    "model_gpy.kern.variance = 1**2\n",
    "# model_gpy.likelihood.variance.fix(1e-5)\n",
    "model_emukit = GPyModelWrapper(model_gpy) \n",
    "model_emukit.optimize() # optimise (max log-lik)\n",
    "display(model_gpy)"
   ]
  },
  {
   "cell_type": "markdown",
   "metadata": {},
   "source": [
    "----\n",
    "## SA without Experiment Design Loop\n",
    "- SA Lib -> Sobol Monte Carlo (100000 times)\n",
    "- Emukit -> Sobol Monte Carlo (100000 times)\n",
    "- SA Lib -> Fast (100000 times)"
   ]
  },
  {
   "cell_type": "code",
   "execution_count": 20,
   "metadata": {},
   "outputs": [],
   "source": [
    "#SALib Sobol\n",
    "from SALib.sample import saltelli\n",
    "from SALib.analyze import sobol\n",
    "\n",
    "lp_bound = [10,14] \n",
    "\n",
    "param = ['LP','A','W']\n",
    "no_of_samples = 100000\n",
    "problem = {\n",
    "'num_vars': 3,\n",
    "'names': param,\n",
    "'bounds': [\n",
    "            lp_bound, \n",
    "            variable_domain2,\n",
    "            variable_domain3]\n",
    "}\n",
    "\n",
    "xt = saltelli.sample(problem, no_of_samples)\n",
    "Y,_= model_gpy.predict(xt)\n",
    "Y = np.squeeze(Y)\n",
    "Si = sobol.analyze(problem, Y)\n",
    "\n",
    "#Emukit Sobol\n",
    "senstivity = MonteCarloSecondOrderSensitivity(model = model_emukit, input_domain = space)\n",
    "main_effects_gp, secondary_effects_gp, total_effects_gp, _ = senstivity.compute_effects(num_monte_carlo_points = no_of_samples)\n",
    "\n",
    "\n",
    "#SALib Fast\n",
    "from SALib.analyze import fast\n",
    "from SALib.sample import fast_sampler\n",
    "\n",
    "xt = fast_sampler.sample(problem, no_of_samples)\n",
    "Y,_= model_gpy.predict(xt)\n",
    "Y = np.squeeze(Y)\n",
    "Si_fast = fast.analyze(problem, Y, print_to_console=False)"
   ]
  },
  {
   "cell_type": "code",
   "execution_count": 41,
   "metadata": {},
   "outputs": [
    {
     "data": {
      "image/png": "[encoded data removed]",
      "text/plain": [
       "<Figure size 720x432 with 9 Axes>"
      ]
     },
     "metadata": {
      "needs_background": "light"
     },
     "output_type": "display_data"
    }
   ],
   "source": [
    "param = ['LP','A','W']\n",
    "param2 = []\n",
    "\n",
    "first_lim = [-0.01, 0.60]\n",
    "second_lim = [-0.01, 0.05]\n",
    "total_lim = [-0.05, 0.60]\n",
    "\n",
    "fig, ax = plt.subplots(3, 3, figsize=plot.big_wide_figsize)\n",
    "\n",
    "\n",
    "ax[0][0].set_title(\"1st Order Sobol (SALab)\")\n",
    "for index,val in enumerate(Si['S1']):\n",
    "    ax[0][0].bar(param[index],val, color = 'grey')\n",
    "ax[0][0].set_ylim(first_lim)\n",
    "\n",
    "ax[1][0].set_title(\"2nd Order Sobol (SALab)\")\n",
    "for i in range(len(param)):\n",
    "    for j in range(len(param)):\n",
    "        val =  Si['S2'][i][j]\n",
    "        if val > -0.5:\n",
    "            name = param[i] + '+'+ param[j]\n",
    "            ax[1][0].bar(name, Si['S2'][i][j], color = 'grey')\n",
    "            param2.append(name)\n",
    "ax[1][0].set_ylim(second_lim)\n",
    "\n",
    "ax[2][0].set_title(\"Total Effect Sobol (SALab)\")\n",
    "for index,val in enumerate(Si['ST']):\n",
    "    ax[2][0].bar(param[index],val, color = 'grey')\n",
    "ax[2][0].set_ylim(total_lim)\n",
    "    \n",
    "ax[0][1].set_title(\"1st Order Sobol (Emukit)\")\n",
    "for index, ivar in enumerate(main_effects_gp):\n",
    "    ax[0][1].bar(param[index], main_effects_gp[ivar][0], color = 'grey')\n",
    "ax[0][1].set_ylim(first_lim)\n",
    "\n",
    "\n",
    "ax[1][1].set_title(\"2nd Order Sobol (Emukit)\")\n",
    "for index, ivar in enumerate(secondary_effects_gp):\n",
    "    ax[1][1].bar(param2[index], secondary_effects_gp[ivar][0], color = 'grey')\n",
    "ax[1][1].set_ylim(second_lim)\n",
    "\n",
    " \n",
    "ax[2][1].set_title(\"Total Effect Sobol (Emukit)\")\n",
    "for index, ivar in enumerate(total_effects_gp):\n",
    "    ax[2][1].bar(param[index], total_effects_gp[ivar][0], color = 'grey')\n",
    "ax[2][1].set_ylim(total_lim)\n",
    "    \n",
    "ax[0][2].set_title(\"1st Order FAST (SALab)\")\n",
    "for index,val in enumerate(Si_fast['S1']):\n",
    "    ax[0][2].bar(param[index],val, color = 'grey')\n",
    "ax[0][2].set_ylim(first_lim)\n",
    "\n",
    "ax[1][2].set_title(\"2nd Order FAST - NA\")\n",
    "ax[1][2].set_ylim(second_lim)\n",
    "\n",
    "ax[2][2].set_title(\"Total Effect FAST (SALab)\")\n",
    "for index,val in enumerate(Si_fast['ST']):\n",
    "    ax[2][2].bar(param[index],val, color = 'grey')\n",
    "ax[2][2].set_ylim(total_lim)\n",
    "    \n",
    "# ax[0][1].set_title('Sensitivity Analysis on Policy Configurations Without Experimental Design Loop')\n",
    "ax[1][0].set_ylabel('Percentage of explained output variance')\n",
    "ax[2][1].set_xlabel('LP = Latent Period; A = Asymptomatic Rate; W = Work SAR')\n",
    "\n",
    "plt.tight_layout()\n",
    "# plt.show()\n",
    "plt.savefig('./plots/SA-Combined-NoExp.jpg')"
   ]
  },
  {
   "cell_type": "markdown",
   "metadata": {},
   "source": [
    "### SA with Experiment Design Loop"
   ]
  },
  {
   "cell_type": "code",
   "execution_count": 30,
   "metadata": {},
   "outputs": [
    {
     "name": "stderr",
     "output_type": "stream",
     "text": [
      " /home/elim/anaconda3/envs/ML-PhyWorld/lib/python3.6/site-packages/paramz/transformations.py:111: RuntimeWarning:overflow encountered in expm1\n"
     ]
    },
    {
     "name": "stdout",
     "output_type": "stream",
     "text": [
      "Optimization restart 1/1, f = -4.330696137926456\n"
     ]
    },
    {
     "data": {
      "application/vnd.jupyter.widget-view+json": {
       "model_id": "8058945ac42b41a48cb6496285377468",
       "version_major": 2,
       "version_minor": 0
      },
      "text/plain": [
       "HBox(children=(HTML(value=''), FloatProgress(value=0.0, max=10000.0), HTML(value='')))"
      ]
     },
     "metadata": {},
     "output_type": "display_data"
    },
    {
     "name": "stdout",
     "output_type": "stream",
     "text": [
      "\n",
      "Optimization restart 1/1, f = -4.82725772047737\n"
     ]
    },
    {
     "data": {
      "application/vnd.jupyter.widget-view+json": {
       "model_id": "58fa9bf313e74ac0bf6697d591a0146e",
       "version_major": 2,
       "version_minor": 0
      },
      "text/plain": [
       "HBox(children=(HTML(value=''), FloatProgress(value=0.0, max=10000.0), HTML(value='')))"
      ]
     },
     "metadata": {},
     "output_type": "display_data"
    },
    {
     "name": "stdout",
     "output_type": "stream",
     "text": [
      "\n",
      "Optimization restart 1/1, f = -5.380468772136112\n"
     ]
    },
    {
     "data": {
      "application/vnd.jupyter.widget-view+json": {
       "model_id": "cbb1295f0e24452f9bb4d14484b92e88",
       "version_major": 2,
       "version_minor": 0
      },
      "text/plain": [
       "HBox(children=(HTML(value=''), FloatProgress(value=0.0, max=10000.0), HTML(value='')))"
      ]
     },
     "metadata": {},
     "output_type": "display_data"
    },
    {
     "name": "stdout",
     "output_type": "stream",
     "text": [
      "\n",
      "Optimization restart 1/1, f = -5.670911917469329\n"
     ]
    },
    {
     "data": {
      "application/vnd.jupyter.widget-view+json": {
       "model_id": "f928f535083c443ba050c2cd7a9e2b02",
       "version_major": 2,
       "version_minor": 0
      },
      "text/plain": [
       "HBox(children=(HTML(value=''), FloatProgress(value=0.0, max=10000.0), HTML(value='')))"
      ]
     },
     "metadata": {},
     "output_type": "display_data"
    },
    {
     "name": "stdout",
     "output_type": "stream",
     "text": [
      "\n",
      "Optimization restart 1/1, f = -6.361532006408112\n"
     ]
    },
    {
     "data": {
      "application/vnd.jupyter.widget-view+json": {
       "model_id": "06c8d2004c1943489e86547956f37141",
       "version_major": 2,
       "version_minor": 0
      },
      "text/plain": [
       "HBox(children=(HTML(value=''), FloatProgress(value=0.0, max=10000.0), HTML(value='')))"
      ]
     },
     "metadata": {},
     "output_type": "display_data"
    },
    {
     "name": "stdout",
     "output_type": "stream",
     "text": [
      "\n",
      "Optimization restart 1/1, f = -7.096797787356522\n"
     ]
    }
   ],
   "source": [
    "# Initialise experimental design loop. Using integrated variance as acquisition\n",
    "# to \"query\" the input space aiming to reduce uncertainty over the func we're approx. i.e. effective_r\n",
    "num_of_loops = 5\n",
    "integrated_variance = IntegratedVarianceReduction(space=space, model=model_emukit)\n",
    "ed = ExperimentalDesignLoop(space=space, model=model_emukit, acquisition = integrated_variance)\n",
    "ed.run_loop(run_tti_sim, num_of_loops)"
   ]
  },
  {
   "cell_type": "code",
   "execution_count": 31,
   "metadata": {},
   "outputs": [
    {
     "data": {
      "text/html": [
       "<style type=\"text/css\">\n",
       ".pd{\n",
       "    font-family: \"Courier New\", Courier, monospace !important;\n",
       "    width: 100%;\n",
       "    padding: 3px;\n",
       "}\n",
       "</style>\n",
       "\n",
       "<p class=pd>\n",
       "<b>Model</b>: GP regression<br>\n",
       "<b>Objective</b>: -7.096797787356522<br>\n",
       "<b>Number of Parameters</b>: 7<br>\n",
       "<b>Number of Optimization Parameters</b>: 7<br>\n",
       "<b>Updates</b>: True<br>\n",
       "</p>\n",
       "<style type=\"text/css\">\n",
       ".tg  {font-family:\"Courier New\", Courier, monospace !important;padding:2px 3px;word-break:normal;border-collapse:collapse;border-spacing:0;border-color:#DCDCDC;margin:0px auto;width:100%;}\n",
       ".tg td{font-family:\"Courier New\", Courier, monospace !important;font-weight:bold;color:#444;background-color:#F7FDFA;border-style:solid;border-width:1px;overflow:hidden;word-break:normal;border-color:#DCDCDC;}\n",
       ".tg th{font-family:\"Courier New\", Courier, monospace !important;font-weight:normal;color:#fff;background-color:#26ADE4;border-style:solid;border-width:1px;overflow:hidden;word-break:normal;border-color:#DCDCDC;}\n",
       ".tg .tg-left{font-family:\"Courier New\", Courier, monospace !important;font-weight:normal;text-align:left;}\n",
       ".tg .tg-center{font-family:\"Courier New\", Courier, monospace !important;font-weight:normal;text-align:center;}\n",
       ".tg .tg-right{font-family:\"Courier New\", Courier, monospace !important;font-weight:normal;text-align:right;}\n",
       "</style>\n",
       "<table class=\"tg\"><tr><th><b>  GP_regression.         </b></th><th><b>                  value</b></th><th><b>constraints</b></th><th><b>priors</b></th></tr>\n",
       "<tr><td class=tg-left>  sum.rbf.variance       </td><td class=tg-right>      37.29103065622089</td><td class=tg-center>    +ve    </td><td class=tg-center>      </td></tr>\n",
       "<tr><td class=tg-left>  sum.rbf.lengthscale    </td><td class=tg-right>                   (3,)</td><td class=tg-center>    +ve    </td><td class=tg-center>      </td></tr>\n",
       "<tr><td class=tg-left>  sum.white.variance     </td><td class=tg-right>   0.009275158458680812</td><td class=tg-center>    +ve    </td><td class=tg-center>      </td></tr>\n",
       "<tr><td class=tg-left>  sum.bias.variance      </td><td class=tg-right>1.9699895272342198e-180</td><td class=tg-center>    +ve    </td><td class=tg-center>      </td></tr>\n",
       "<tr><td class=tg-left>  Gaussian_noise.variance</td><td class=tg-right>   0.009275158458680812</td><td class=tg-center>    +ve    </td><td class=tg-center>      </td></tr>\n",
       "</table>"
      ],
      "text/plain": [
       "<GPy.models.gp_regression.GPRegression at 0x7fbf7a3bf9e8>"
      ]
     },
     "metadata": {},
     "output_type": "display_data"
    }
   ],
   "source": [
    "display(model_gpy)"
   ]
  },
  {
   "cell_type": "code",
   "execution_count": 42,
   "metadata": {},
   "outputs": [
    {
     "name": "stdout",
     "output_type": "stream",
     "text": [
      "SA Lib Sobol 7.850593090057373\n",
      "Emukit Sobol 2.4172170162200928\n",
      "SA Lib FAST 0.8458578586578369\n"
     ]
    }
   ],
   "source": [
    "#SALib Sobol\n",
    "from SALib.sample import saltelli\n",
    "from SALib.analyze import sobol\n",
    "import time \n",
    "\n",
    "lp_bound = [10,14] \n",
    "no_of_samples = 100000\n",
    "t1 = time.time()\n",
    "problem = {\n",
    "'num_vars': 3,\n",
    "'names': param,\n",
    "'bounds': [\n",
    "            lp_bound, \n",
    "            variable_domain2,\n",
    "            variable_domain3]\n",
    "}\n",
    "\n",
    "\n",
    "xt = saltelli.sample(problem, no_of_samples)\n",
    "Y,_= model_gpy.predict(xt)\n",
    "Y = np.squeeze(Y)\n",
    "Si_e = sobol.analyze(problem, Y)\n",
    "t2 = time.time()\n",
    "print('SA Lib Sobol', t2 - t1)\n",
    "\n",
    "#Emukit Sobol\n",
    "t3 = time.time()\n",
    "senstivity = MonteCarloSecondOrderSensitivity(model = model_emukit, input_domain = space)\n",
    "main_effects_gp_e, secondary_effects_gp_e, total_effects_gp_e, _e = senstivity.compute_effects(num_monte_carlo_points = no_of_samples)\n",
    "t4 = time.time()\n",
    "print('Emukit Sobol', t4 - t3)\n",
    "\n",
    "#SALib Fast\n",
    "t5 = time.time()\n",
    "from SALib.analyze import fast\n",
    "from SALib.sample import fast_sampler\n",
    "\n",
    "xt = fast_sampler.sample(problem, no_of_samples)\n",
    "Y,_= model_gpy.predict(xt)\n",
    "Y = np.squeeze(Y)\n",
    "Si_fast_e = fast.analyze(problem, Y, print_to_console=False)\n",
    "t6 = time.time()\n",
    "print('SA Lib FAST', t6 - t5)"
   ]
  },
  {
   "cell_type": "code",
   "execution_count": 40,
   "metadata": {},
   "outputs": [
    {
     "data": {
      "image/png": "[encoded data removed]",
      "text/plain": [
       "<Figure size 720x432 with 9 Axes>"
      ]
     },
     "metadata": {
      "needs_background": "light"
     },
     "output_type": "display_data"
    }
   ],
   "source": [
    "param = ['LP','A','W']\n",
    "param2 = []\n",
    "\n",
    "first_lim = [-0.01, 0.60]\n",
    "second_lim = [-0.01, 0.05]\n",
    "total_lim = [-0.05, 0.60]\n",
    "\n",
    "fig, ax = plt.subplots(3, 3, figsize=plot.big_wide_figsize)\n",
    "\n",
    "\n",
    "ax[0][0].set_title(\"1st Order Sobol (SALab)\")\n",
    "for index,val in enumerate(Si_e['S1']):\n",
    "    ax[0][0].bar(param[index],val, color = 'grey')\n",
    "ax[0][0].set_ylim(first_lim)\n",
    "\n",
    "ax[1][0].set_title(\"2nd Order Sobol (SALab)\")\n",
    "for i in range(len(param)):\n",
    "    for j in range(len(param)):\n",
    "        val =  Si_e['S2'][i][j]\n",
    "        if val > -0.5:\n",
    "            name = param[i] + '+'+ param[j]\n",
    "            ax[1][0].bar(name, Si_e['S2'][i][j], color = 'grey')\n",
    "            param2.append(name)\n",
    "ax[1][0].set_ylim(second_lim)\n",
    "\n",
    "ax[2][0].set_title(\"Total Effect Sobol (SALab)\")\n",
    "for index,val in enumerate(Si_e['ST']):\n",
    "    ax[2][0].bar(param[index],val, color = 'grey')\n",
    "ax[2][0].set_ylim(total_lim)\n",
    "    \n",
    "ax[0][1].set_title(\"1st Order Sobol (Emukit)\")\n",
    "for index, ivar in enumerate(main_effects_gp_e):\n",
    "    ax[0][1].bar(param[index], main_effects_gp_e[ivar][0], color = 'grey')\n",
    "ax[0][1].set_ylim(first_lim)\n",
    "\n",
    "\n",
    "ax[1][1].set_title(\"2nd Order Sobol (Emukit)\")\n",
    "for index, ivar in enumerate(secondary_effects_gp_e):\n",
    "    ax[1][1].bar(param2[index], secondary_effects_gp_e[ivar][0], color = 'grey')\n",
    "ax[1][1].set_ylim(second_lim)\n",
    "\n",
    " \n",
    "ax[2][1].set_title(\"Total Effect Sobol (Emukit)\")\n",
    "for index, ivar in enumerate(total_effects_gp_e):\n",
    "    ax[2][1].bar(param[index], total_effects_gp_e[ivar][0], color = 'grey')\n",
    "ax[2][1].set_ylim(total_lim)\n",
    "    \n",
    "ax[0][2].set_title(\"1st Order FAST (SALab)\")\n",
    "for index,val in enumerate(Si_fast_e['S1']):\n",
    "    ax[0][2].bar(param[index],val, color = 'grey')\n",
    "ax[0][2].set_ylim(first_lim)\n",
    "\n",
    "ax[1][2].set_title(\"2nd Order FAST - NA\")\n",
    "ax[1][2].set_ylim(second_lim)\n",
    "\n",
    "ax[2][2].set_title(\"Total Effect FAST (SALab)\")\n",
    "for index,val in enumerate(Si_fast_e['ST']):\n",
    "    ax[2][2].bar(param[index],val, color = 'grey')\n",
    "ax[2][2].set_ylim(total_lim)\n",
    "    \n",
    "ax[1][0].set_ylabel('Percentage of explained output variance')\n",
    "ax[2][1].set_xlabel('LP = Latent Period; A = Asymptomatic Rate; W = Work SAR')\n",
    "\n",
    "plt.tight_layout()\n",
    "# plt.show()\n",
    "plt.savefig('./plots/SA-Combined-Exp.jpg')"
   ]
  },
  {
   "cell_type": "code",
   "execution_count": null,
   "metadata": {},
   "outputs": [],
   "source": []
  }
 ],
 "metadata": {
  "colab": {
   "include_colab_link": true,
   "name": "tti-experiment.ipynb",
   "provenance": []
  },
  "kernelspec": {
   "display_name": "Python 3",
   "language": "python",
   "name": "python3"
  },
  "language_info": {
   "codemirror_mode": {
    "name": "ipython",
    "version": 3
   },
   "file_extension": ".py",
   "mimetype": "text/x-python",
   "name": "python",
   "nbconvert_exporter": "python",
   "pygments_lexer": "ipython3",
   "version": "3.6.12"
  },
  "widgets": {
   "application/vnd.jupyter.widget-state+json": {
    "01c6627a03e747b7a0bcedc0e31e94c2": {
     "model_module": "@jupyter-widgets/controls",
     "model_name": "FloatProgressModel",
     "state": {
      "_dom_classes": [],
      "_model_module": "@jupyter-widgets/controls",
      "_model_module_version": "1.5.0",
      "_model_name": "FloatProgressModel",
      "_view_count": null,
      "_view_module": "@jupyter-widgets/controls",
      "_view_module_version": "1.5.0",
      "_view_name": "ProgressView",
      "bar_style": "success",
      "description": "100%",
      "description_tooltip": null,
      "layout": "IPY_MODEL_27ae62f93b924c9f90cf1023ec62e147",
      "max": 10000,
      "min": 0,
      "orientation": "horizontal",
      "style": "IPY_MODEL_d683e78b8341498cb158a434cbf70c12",
      "value": 10000
     }
    },
    "026757afe50d4f14a7ba0beaf180574e": {
     "model_module": "@jupyter-widgets/controls",
     "model_name": "DescriptionStyleModel",
     "state": {
      "_model_module": "@jupyter-widgets/controls",
      "_model_module_version": "1.5.0",
      "_model_name": "DescriptionStyleModel",
      "_view_count": null,
      "_view_module": "@jupyter-widgets/base",
      "_view_module_version": "1.2.0",
      "_view_name": "StyleView",
      "description_width": ""
     }
    },
    "27ae62f93b924c9f90cf1023ec62e147": {
     "model_module": "@jupyter-widgets/base",
     "model_name": "LayoutModel",
     "state": {
      "_model_module": "@jupyter-widgets/base",
      "_model_module_version": "1.2.0",
      "_model_name": "LayoutModel",
      "_view_count": null,
      "_view_module": "@jupyter-widgets/base",
      "_view_module_version": "1.2.0",
      "_view_name": "LayoutView",
      "align_content": null,
      "align_items": null,
      "align_self": null,
      "border": null,
      "bottom": null,
      "display": null,
      "flex": null,
      "flex_flow": null,
      "grid_area": null,
      "grid_auto_columns": null,
      "grid_auto_flow": null,
      "grid_auto_rows": null,
      "grid_column": null,
      "grid_gap": null,
      "grid_row": null,
      "grid_template_areas": null,
      "grid_template_columns": null,
      "grid_template_rows": null,
      "height": null,
      "justify_content": null,
      "justify_items": null,
      "left": null,
      "margin": null,
      "max_height": null,
      "max_width": null,
      "min_height": null,
      "min_width": null,
      "object_fit": null,
      "object_position": null,
      "order": null,
      "overflow": null,
      "overflow_x": null,
      "overflow_y": null,
      "padding": null,
      "right": null,
      "top": null,
      "visibility": null,
      "width": null
     }
    },
    "29401bc5d41a48bdae60957b7f3126e8": {
     "model_module": "@jupyter-widgets/controls",
     "model_name": "HTMLModel",
     "state": {
      "_dom_classes": [],
      "_model_module": "@jupyter-widgets/controls",
      "_model_module_version": "1.5.0",
      "_model_name": "HTMLModel",
      "_view_count": null,
      "_view_module": "@jupyter-widgets/controls",
      "_view_module_version": "1.5.0",
      "_view_name": "HTMLView",
      "description": "",
      "description_tooltip": null,
      "layout": "IPY_MODEL_44207771133e47f3a8fb7eaca6c5c1fc",
      "placeholder": "​",
      "style": "IPY_MODEL_026757afe50d4f14a7ba0beaf180574e",
      "value": " 10000/10000 [00:05&lt;00:00, 1685.76it/s]"
     }
    },
    "44207771133e47f3a8fb7eaca6c5c1fc": {
     "model_module": "@jupyter-widgets/base",
     "model_name": "LayoutModel",
     "state": {
      "_model_module": "@jupyter-widgets/base",
      "_model_module_version": "1.2.0",
      "_model_name": "LayoutModel",
      "_view_count": null,
      "_view_module": "@jupyter-widgets/base",
      "_view_module_version": "1.2.0",
      "_view_name": "LayoutView",
      "align_content": null,
      "align_items": null,
      "align_self": null,
      "border": null,
      "bottom": null,
      "display": null,
      "flex": null,
      "flex_flow": null,
      "grid_area": null,
      "grid_auto_columns": null,
      "grid_auto_flow": null,
      "grid_auto_rows": null,
      "grid_column": null,
      "grid_gap": null,
      "grid_row": null,
      "grid_template_areas": null,
      "grid_template_columns": null,
      "grid_template_rows": null,
      "height": null,
      "justify_content": null,
      "justify_items": null,
      "left": null,
      "margin": null,
      "max_height": null,
      "max_width": null,
      "min_height": null,
      "min_width": null,
      "object_fit": null,
      "object_position": null,
      "order": null,
      "overflow": null,
      "overflow_x": null,
      "overflow_y": null,
      "padding": null,
      "right": null,
      "top": null,
      "visibility": null,
      "width": null
     }
    },
    "6d622bc0a8f64f0d87aa499c94664085": {
     "model_module": "@jupyter-widgets/controls",
     "model_name": "HBoxModel",
     "state": {
      "_dom_classes": [],
      "_model_module": "@jupyter-widgets/controls",
      "_model_module_version": "1.5.0",
      "_model_name": "HBoxModel",
      "_view_count": null,
      "_view_module": "@jupyter-widgets/controls",
      "_view_module_version": "1.5.0",
      "_view_name": "HBoxView",
      "box_style": "",
      "children": [
       "IPY_MODEL_01c6627a03e747b7a0bcedc0e31e94c2",
       "IPY_MODEL_29401bc5d41a48bdae60957b7f3126e8"
      ],
      "layout": "IPY_MODEL_8105c4eb956744b0b5e1b9ac5207f9d5"
     }
    },
    "8105c4eb956744b0b5e1b9ac5207f9d5": {
     "model_module": "@jupyter-widgets/base",
     "model_name": "LayoutModel",
     "state": {
      "_model_module": "@jupyter-widgets/base",
      "_model_module_version": "1.2.0",
      "_model_name": "LayoutModel",
      "_view_count": null,
      "_view_module": "@jupyter-widgets/base",
      "_view_module_version": "1.2.0",
      "_view_name": "LayoutView",
      "align_content": null,
      "align_items": null,
      "align_self": null,
      "border": null,
      "bottom": null,
      "display": null,
      "flex": null,
      "flex_flow": null,
      "grid_area": null,
      "grid_auto_columns": null,
      "grid_auto_flow": null,
      "grid_auto_rows": null,
      "grid_column": null,
      "grid_gap": null,
      "grid_row": null,
      "grid_template_areas": null,
      "grid_template_columns": null,
      "grid_template_rows": null,
      "height": null,
      "justify_content": null,
      "justify_items": null,
      "left": null,
      "margin": null,
      "max_height": null,
      "max_width": null,
      "min_height": null,
      "min_width": null,
      "object_fit": null,
      "object_position": null,
      "order": null,
      "overflow": null,
      "overflow_x": null,
      "overflow_y": null,
      "padding": null,
      "right": null,
      "top": null,
      "visibility": null,
      "width": null
     }
    },
    "d683e78b8341498cb158a434cbf70c12": {
     "model_module": "@jupyter-widgets/controls",
     "model_name": "ProgressStyleModel",
     "state": {
      "_model_module": "@jupyter-widgets/controls",
      "_model_module_version": "1.5.0",
      "_model_name": "ProgressStyleModel",
      "_view_count": null,
      "_view_module": "@jupyter-widgets/base",
      "_view_module_version": "1.2.0",
      "_view_name": "StyleView",
      "bar_color": null,
      "description_width": "initial"
     }
    }
   }
  }
 },
 "nbformat": 4,
 "nbformat_minor": 1
}
