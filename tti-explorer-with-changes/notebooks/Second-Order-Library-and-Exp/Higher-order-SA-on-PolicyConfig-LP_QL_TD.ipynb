{
 "cells": [
  {
   "cell_type": "markdown",
   "metadata": {
    "colab_type": "text",
    "id": "view-in-github"
   },
   "source": [
    "<a href=\"https://colab.research.google.com/github/rs-delve/tti-explorer/blob/master/notebooks/tti-experiment.ipynb\" target=\"_parent\"><img src=\"https://colab.research.google.com/assets/colab-badge.svg\" alt=\"Open In Colab\"/></a>"
   ]
  },
  {
   "cell_type": "markdown",
   "metadata": {
    "colab_type": "text",
    "id": "7CmXXoii-iLo"
   },
   "source": [
    "## SA on Policy Configs"
   ]
  },
  {
   "cell_type": "markdown",
   "metadata": {},
   "source": [
    "#### Experiment Parameters:\n",
    "- Parameters to be tested: Latent period (1-14), Quarantine Length (10-14), Testing Delays(1-10)\n",
    "- Random Seed = 42\n",
    "- Run tti stimulator = 50 times\n",
    "- experiment design loop (if using) = 5 times"
   ]
  },
  {
   "cell_type": "markdown",
   "metadata": {
    "colab_type": "text",
    "id": "BHB568_y-iLp"
   },
   "source": [
    "## Running a Simulation"
   ]
  },
  {
   "cell_type": "code",
   "execution_count": 1,
   "metadata": {},
   "outputs": [],
   "source": [
    "from emukit_new.core import DiscreteParameter, ContinuousParameter, ParameterSpace\n",
    "from emukit_new.core.initial_designs import RandomDesign\n",
    "from emukit_new.model_wrappers import GPyModelWrapper\n",
    "from emukit_new.experimental_design.acquisitions import IntegratedVarianceReduction, ModelVariance\n",
    "from emukit_new.experimental_design.experimental_design_loop import ExperimentalDesignLoop\n",
    "from emukit_new.sensitivity.monte_carlo import ModelFreeMonteCarloSensitivity\n",
    "from emukit_new.sensitivity.monte_carlo import MonteCarloSensitivity\n",
    "from emukit_new.sensitivity.monte_carlo import MonteCarloSecondOrderSensitivity"
   ]
  },
  {
   "cell_type": "code",
   "execution_count": 2,
   "metadata": {
    "colab": {},
    "colab_type": "code",
    "id": "Ql0yp7H4-iLq"
   },
   "outputs": [],
   "source": [
    "# !git clone https://github.com/rs-delve/tti-explorer.git\n",
    "# %cd tti-explorer\n",
    "# %pip install -q .\n",
    "import os\n",
    "import numpy as np\n",
    "import pandas as pd\n",
    "from tqdm.notebook import trange\n",
    "\n",
    "from tti_explorer import config, utils\n",
    "from tti_explorer.case import simulate_case, CaseFactors\n",
    "from tti_explorer.contacts import EmpiricalContactsSimulator\n",
    "from tti_explorer.strategies import TTIFlowModel, RETURN_KEYS\n",
    "\n",
    "# %pip install pyDOE\n",
    "# %pip install emukit\n",
    "# %pip install gpy\n",
    "import urllib.request\n",
    "import numpy as np\n",
    "import matplotlib.pyplot as plt\n",
    "\n",
    "urllib.request.urlretrieve('https://raw.githubusercontent.com/lawrennd/talks/gh-pages/teaching_plots.py','teaching_plots.py')\n",
    "urllib.request.urlretrieve('https://raw.githubusercontent.com/lawrennd/talks/gh-pages/mlai.py','mlai.py')\n",
    "urllib.request.urlretrieve('https://raw.githubusercontent.com/lawrennd/talks/gh-pages/gp_tutorial.py','gp_tutorial.py')\n",
    "\n",
    "from matplotlib import colors as mcolors\n",
    "from matplotlib import cm\n",
    "import numpy as np\n",
    "import GPy\n",
    "from GPy.models import GPRegression\n",
    "import matplotlib.pyplot as plt\n",
    "import teaching_plots as plot\n",
    "import mlai\n",
    "import pandas as pd"
   ]
  },
  {
   "cell_type": "markdown",
   "metadata": {
    "colab_type": "text",
    "id": "t8xUXOXV-iLt"
   },
   "source": [
    "We will analyse the `S3_test_based_TTI` strategy from our report. For clarity, we will show the whole process."
   ]
  },
  {
   "cell_type": "code",
   "execution_count": 4,
   "metadata": {},
   "outputs": [],
   "source": [
    "def load_csv(pth):\n",
    "    return np.loadtxt(pth, dtype=int, skiprows=1, delimiter=\",\")\n",
    "\n",
    "path_to_bbc_data = os.path.join(\"../../data\", \"bbc-pandemic\")\n",
    "over18 = load_csv(os.path.join(path_to_bbc_data, \"contact_distributions_o18.csv\"))\n",
    "under18 = load_csv(os.path.join(path_to_bbc_data, \"contact_distributions_u18.csv\"))"
   ]
  },
  {
   "cell_type": "markdown",
   "metadata": {
    "colab_type": "text",
    "id": "CPvGkTFW-iLu"
   },
   "source": [
    "First get the configurations:"
   ]
  },
  {
   "cell_type": "code",
   "execution_count": 5,
   "metadata": {
    "colab": {},
    "colab_type": "code",
    "id": "dz1zBETF-iLu"
   },
   "outputs": [],
   "source": [
    "name = 'S3_test_based_TTI'\n",
    "\n",
    "case_config = config.get_case_config(\"delve\")\n",
    "contacts_config = config.get_contacts_config(\"delve\")\n",
    "policy_config = config.get_strategy_configs(\"delve\", name)[name]"
   ]
  },
  {
   "cell_type": "code",
   "execution_count": 6,
   "metadata": {},
   "outputs": [],
   "source": [
    "# Separating this because it is built from the ammended policy_config\n",
    "factor_config = utils.get_sub_dictionary(policy_config, config.DELVE_CASE_FACTOR_KEYS)\n",
    "strategy_config = utils.get_sub_dictionary(policy_config, config.DELVE_STRATEGY_FACTOR_KEYS)"
   ]
  },
  {
   "cell_type": "markdown",
   "metadata": {
    "colab_type": "text",
    "id": "le8N86QT-iLx"
   },
   "source": [
    "Set a random state:"
   ]
  },
  {
   "cell_type": "code",
   "execution_count": 7,
   "metadata": {
    "colab": {},
    "colab_type": "code",
    "id": "f9LUG5IH-iLy"
   },
   "outputs": [],
   "source": [
    "rng = np.random.RandomState(42)"
   ]
  },
  {
   "cell_type": "markdown",
   "metadata": {
    "colab_type": "text",
    "id": "fOxJ84t3-iL1"
   },
   "source": [
    "Make contact simulator:"
   ]
  },
  {
   "cell_type": "code",
   "execution_count": 8,
   "metadata": {
    "colab": {},
    "colab_type": "code",
    "id": "cr92iit4-iL2"
   },
   "outputs": [],
   "source": [
    "simulate_contacts = EmpiricalContactsSimulator(over18, under18, rng)"
   ]
  },
  {
   "cell_type": "markdown",
   "metadata": {
    "colab_type": "text",
    "id": "HAgmj657-iL6"
   },
   "source": [
    "Make the TTI Model:"
   ]
  },
  {
   "cell_type": "code",
   "execution_count": 9,
   "metadata": {
    "colab": {},
    "colab_type": "code",
    "id": "NjH7Ih7x-iL7"
   },
   "outputs": [],
   "source": [
    "tti_model = TTIFlowModel(rng, **strategy_config)"
   ]
  },
  {
   "cell_type": "markdown",
   "metadata": {},
   "source": [
    "Define function that update desired policy configs"
   ]
  },
  {
   "cell_type": "code",
   "execution_count": 10,
   "metadata": {
    "scrolled": true
   },
   "outputs": [],
   "source": [
    "def update_policy_config(quarantine, latent, testing):\n",
    "    policy_config['quarantine_length'] = int(round(quarantine))\n",
    "    policy_config['latent_period'] = int(round(latent))\n",
    "    policy_config['testing_delay'] = int(round(testing))\n",
    "    return policy_config"
   ]
  },
  {
   "cell_type": "markdown",
   "metadata": {
    "colab_type": "text",
    "id": "7IFGP5K6-iL-"
   },
   "source": [
    "Generate cases, contacts and run simulation:"
   ]
  },
  {
   "cell_type": "code",
   "execution_count": 11,
   "metadata": {},
   "outputs": [],
   "source": [
    "\"\"\"\n",
    "Runs TTI simulator as many times as the different input initialisations.\n",
    "The main reason we need this is to put in to EmuKit for the Experimental\n",
    "Design Loop.\n",
    "\n",
    "Args:\n",
    "    configs (list): Inputs are [app_cov, compliance]\n",
    "\n",
    "Returns:\n",
    "    effective_rs (np.expand_dims(np.array(to_return), 1)): For every simulation run, return\n",
    "    the effective r, as was plotted form Bryn and Andrei previously.\n",
    "\n",
    "\"\"\"\n",
    "rng = np.random.RandomState(42)\n",
    "simulate_contacts = EmpiricalContactsSimulator(over18, under18, rng)\n",
    "\n",
    "def run_tti_sim(configs):\n",
    "    to_return=[]\n",
    "    for vals in configs:\n",
    "        policy_config = update_policy_config(vals[0],vals[1], vals[2])\n",
    "        factor_config = utils.get_sub_dictionary(policy_config, config.DELVE_CASE_FACTOR_KEYS)\n",
    "        strategy_config = utils.get_sub_dictionary(policy_config, config.DELVE_STRATEGY_FACTOR_KEYS)\n",
    "        tti_model = TTIFlowModel(rng, **strategy_config)\n",
    "        n_cases = 10000\n",
    "        outputs = list()\n",
    "        temp =[]\n",
    "        for _ in trange(n_cases):\n",
    "            case = simulate_case(rng, **case_config)\n",
    "            case_factors = CaseFactors.simulate_from(rng, case, **factor_config)\n",
    "            contacts = simulate_contacts(case, **contacts_config)\n",
    "            res = tti_model(case, contacts, case_factors)\n",
    "            outputs.append(res)\n",
    "            if res[\"Effective R\"] >= 0:\n",
    "                temp.append(res[\"Effective R\"]) # Get effective R. Only non-nan vals are kept\n",
    "        to_return.append(np.mean(temp))\n",
    "    return np.expand_dims(np.array(to_return), 1)\n"
   ]
  },
  {
   "cell_type": "code",
   "execution_count": 12,
   "metadata": {},
   "outputs": [
    {
     "data": {
      "application/vnd.jupyter.widget-view+json": {
       "model_id": "6745bd441fa241088bd31432a432db2b",
       "version_major": 2,
       "version_minor": 0
      },
      "text/plain": [
       "HBox(children=(HTML(value=''), FloatProgress(value=0.0, max=10000.0), HTML(value='')))"
      ]
     },
     "metadata": {},
     "output_type": "display_data"
    },
    {
     "name": "stdout",
     "output_type": "stream",
     "text": [
      "\n"
     ]
    },
    {
     "data": {
      "application/vnd.jupyter.widget-view+json": {
       "model_id": "9229db86bf6d46f98efb7f9772a6676b",
       "version_major": 2,
       "version_minor": 0
      },
      "text/plain": [
       "HBox(children=(HTML(value=''), FloatProgress(value=0.0, max=10000.0), HTML(value='')))"
      ]
     },
     "metadata": {},
     "output_type": "display_data"
    },
    {
     "name": "stdout",
     "output_type": "stream",
     "text": [
      "\n"
     ]
    },
    {
     "data": {
      "application/vnd.jupyter.widget-view+json": {
       "model_id": "b77735a9286f4d55bc554713ce6f6749",
       "version_major": 2,
       "version_minor": 0
      },
      "text/plain": [
       "HBox(children=(HTML(value=''), FloatProgress(value=0.0, max=10000.0), HTML(value='')))"
      ]
     },
     "metadata": {},
     "output_type": "display_data"
    },
    {
     "name": "stdout",
     "output_type": "stream",
     "text": [
      "\n"
     ]
    },
    {
     "data": {
      "application/vnd.jupyter.widget-view+json": {
       "model_id": "c8bd1828ca4f4e0eb31b69a6abb53714",
       "version_major": 2,
       "version_minor": 0
      },
      "text/plain": [
       "HBox(children=(HTML(value=''), FloatProgress(value=0.0, max=10000.0), HTML(value='')))"
      ]
     },
     "metadata": {},
     "output_type": "display_data"
    },
    {
     "name": "stdout",
     "output_type": "stream",
     "text": [
      "\n"
     ]
    },
    {
     "data": {
      "application/vnd.jupyter.widget-view+json": {
       "model_id": "e535903f011f4deaa38c48bb05e48220",
       "version_major": 2,
       "version_minor": 0
      },
      "text/plain": [
       "HBox(children=(HTML(value=''), FloatProgress(value=0.0, max=10000.0), HTML(value='')))"
      ]
     },
     "metadata": {},
     "output_type": "display_data"
    },
    {
     "name": "stdout",
     "output_type": "stream",
     "text": [
      "\n"
     ]
    },
    {
     "data": {
      "application/vnd.jupyter.widget-view+json": {
       "model_id": "c509dfa703b743b3a2f97cd2fccf62cb",
       "version_major": 2,
       "version_minor": 0
      },
      "text/plain": [
       "HBox(children=(HTML(value=''), FloatProgress(value=0.0, max=10000.0), HTML(value='')))"
      ]
     },
     "metadata": {},
     "output_type": "display_data"
    },
    {
     "name": "stdout",
     "output_type": "stream",
     "text": [
      "\n"
     ]
    },
    {
     "data": {
      "application/vnd.jupyter.widget-view+json": {
       "model_id": "d683fb7a672f41369f6e77f09e103048",
       "version_major": 2,
       "version_minor": 0
      },
      "text/plain": [
       "HBox(children=(HTML(value=''), FloatProgress(value=0.0, max=10000.0), HTML(value='')))"
      ]
     },
     "metadata": {},
     "output_type": "display_data"
    },
    {
     "name": "stdout",
     "output_type": "stream",
     "text": [
      "\n"
     ]
    },
    {
     "data": {
      "application/vnd.jupyter.widget-view+json": {
       "model_id": "255c4dc9cb78409aa9471f4a832cbcce",
       "version_major": 2,
       "version_minor": 0
      },
      "text/plain": [
       "HBox(children=(HTML(value=''), FloatProgress(value=0.0, max=10000.0), HTML(value='')))"
      ]
     },
     "metadata": {},
     "output_type": "display_data"
    },
    {
     "name": "stdout",
     "output_type": "stream",
     "text": [
      "\n"
     ]
    },
    {
     "data": {
      "application/vnd.jupyter.widget-view+json": {
       "model_id": "653e74d3441e4179bde45eb7143468f8",
       "version_major": 2,
       "version_minor": 0
      },
      "text/plain": [
       "HBox(children=(HTML(value=''), FloatProgress(value=0.0, max=10000.0), HTML(value='')))"
      ]
     },
     "metadata": {},
     "output_type": "display_data"
    },
    {
     "name": "stdout",
     "output_type": "stream",
     "text": [
      "\n"
     ]
    },
    {
     "data": {
      "application/vnd.jupyter.widget-view+json": {
       "model_id": "668448e47aa046b4b3617cfbe27aa458",
       "version_major": 2,
       "version_minor": 0
      },
      "text/plain": [
       "HBox(children=(HTML(value=''), FloatProgress(value=0.0, max=10000.0), HTML(value='')))"
      ]
     },
     "metadata": {},
     "output_type": "display_data"
    },
    {
     "name": "stdout",
     "output_type": "stream",
     "text": [
      "\n"
     ]
    },
    {
     "data": {
      "application/vnd.jupyter.widget-view+json": {
       "model_id": "237d95c7d4b24c40a599494dbc71f65d",
       "version_major": 2,
       "version_minor": 0
      },
      "text/plain": [
       "HBox(children=(HTML(value=''), FloatProgress(value=0.0, max=10000.0), HTML(value='')))"
      ]
     },
     "metadata": {},
     "output_type": "display_data"
    },
    {
     "name": "stdout",
     "output_type": "stream",
     "text": [
      "\n"
     ]
    },
    {
     "data": {
      "application/vnd.jupyter.widget-view+json": {
       "model_id": "dbb2c2b7147f452caf032e0316534e1b",
       "version_major": 2,
       "version_minor": 0
      },
      "text/plain": [
       "HBox(children=(HTML(value=''), FloatProgress(value=0.0, max=10000.0), HTML(value='')))"
      ]
     },
     "metadata": {},
     "output_type": "display_data"
    },
    {
     "name": "stdout",
     "output_type": "stream",
     "text": [
      "\n"
     ]
    },
    {
     "data": {
      "application/vnd.jupyter.widget-view+json": {
       "model_id": "2d6781d9812a4e8584311f4d9cddf1a1",
       "version_major": 2,
       "version_minor": 0
      },
      "text/plain": [
       "HBox(children=(HTML(value=''), FloatProgress(value=0.0, max=10000.0), HTML(value='')))"
      ]
     },
     "metadata": {},
     "output_type": "display_data"
    },
    {
     "name": "stdout",
     "output_type": "stream",
     "text": [
      "\n"
     ]
    },
    {
     "data": {
      "application/vnd.jupyter.widget-view+json": {
       "model_id": "93c4bf7b03c64a0aa1a3fe452d892277",
       "version_major": 2,
       "version_minor": 0
      },
      "text/plain": [
       "HBox(children=(HTML(value=''), FloatProgress(value=0.0, max=10000.0), HTML(value='')))"
      ]
     },
     "metadata": {},
     "output_type": "display_data"
    },
    {
     "name": "stdout",
     "output_type": "stream",
     "text": [
      "\n"
     ]
    },
    {
     "data": {
      "application/vnd.jupyter.widget-view+json": {
       "model_id": "a151d652ef61427fbcc010639ed1be56",
       "version_major": 2,
       "version_minor": 0
      },
      "text/plain": [
       "HBox(children=(HTML(value=''), FloatProgress(value=0.0, max=10000.0), HTML(value='')))"
      ]
     },
     "metadata": {},
     "output_type": "display_data"
    },
    {
     "name": "stdout",
     "output_type": "stream",
     "text": [
      "\n"
     ]
    },
    {
     "data": {
      "application/vnd.jupyter.widget-view+json": {
       "model_id": "f6968f9f069c4fefb29fb63a2638243b",
       "version_major": 2,
       "version_minor": 0
      },
      "text/plain": [
       "HBox(children=(HTML(value=''), FloatProgress(value=0.0, max=10000.0), HTML(value='')))"
      ]
     },
     "metadata": {},
     "output_type": "display_data"
    },
    {
     "name": "stdout",
     "output_type": "stream",
     "text": [
      "\n"
     ]
    },
    {
     "data": {
      "application/vnd.jupyter.widget-view+json": {
       "model_id": "f6fd5131882c40309f8e68ed7d271324",
       "version_major": 2,
       "version_minor": 0
      },
      "text/plain": [
       "HBox(children=(HTML(value=''), FloatProgress(value=0.0, max=10000.0), HTML(value='')))"
      ]
     },
     "metadata": {},
     "output_type": "display_data"
    },
    {
     "name": "stdout",
     "output_type": "stream",
     "text": [
      "\n"
     ]
    },
    {
     "data": {
      "application/vnd.jupyter.widget-view+json": {
       "model_id": "20c3721f9ac64cd38f2ce17dc81e3183",
       "version_major": 2,
       "version_minor": 0
      },
      "text/plain": [
       "HBox(children=(HTML(value=''), FloatProgress(value=0.0, max=10000.0), HTML(value='')))"
      ]
     },
     "metadata": {},
     "output_type": "display_data"
    },
    {
     "name": "stdout",
     "output_type": "stream",
     "text": [
      "\n"
     ]
    },
    {
     "data": {
      "application/vnd.jupyter.widget-view+json": {
       "model_id": "e60da933e40a459591c96887703998d7",
       "version_major": 2,
       "version_minor": 0
      },
      "text/plain": [
       "HBox(children=(HTML(value=''), FloatProgress(value=0.0, max=10000.0), HTML(value='')))"
      ]
     },
     "metadata": {},
     "output_type": "display_data"
    },
    {
     "name": "stdout",
     "output_type": "stream",
     "text": [
      "\n"
     ]
    },
    {
     "data": {
      "application/vnd.jupyter.widget-view+json": {
       "model_id": "94f4120cf4a94f75bc76c27c880ca4a2",
       "version_major": 2,
       "version_minor": 0
      },
      "text/plain": [
       "HBox(children=(HTML(value=''), FloatProgress(value=0.0, max=10000.0), HTML(value='')))"
      ]
     },
     "metadata": {},
     "output_type": "display_data"
    },
    {
     "name": "stdout",
     "output_type": "stream",
     "text": [
      "\n"
     ]
    },
    {
     "data": {
      "application/vnd.jupyter.widget-view+json": {
       "model_id": "af638a03ab824cce8b94e3b7479ef87d",
       "version_major": 2,
       "version_minor": 0
      },
      "text/plain": [
       "HBox(children=(HTML(value=''), FloatProgress(value=0.0, max=10000.0), HTML(value='')))"
      ]
     },
     "metadata": {},
     "output_type": "display_data"
    },
    {
     "name": "stdout",
     "output_type": "stream",
     "text": [
      "\n"
     ]
    },
    {
     "data": {
      "application/vnd.jupyter.widget-view+json": {
       "model_id": "1ed2b41e990047f29f7ece4a608e9004",
       "version_major": 2,
       "version_minor": 0
      },
      "text/plain": [
       "HBox(children=(HTML(value=''), FloatProgress(value=0.0, max=10000.0), HTML(value='')))"
      ]
     },
     "metadata": {},
     "output_type": "display_data"
    },
    {
     "name": "stdout",
     "output_type": "stream",
     "text": [
      "\n"
     ]
    },
    {
     "data": {
      "application/vnd.jupyter.widget-view+json": {
       "model_id": "6e283ee186f645bb8dec372e0834e068",
       "version_major": 2,
       "version_minor": 0
      },
      "text/plain": [
       "HBox(children=(HTML(value=''), FloatProgress(value=0.0, max=10000.0), HTML(value='')))"
      ]
     },
     "metadata": {},
     "output_type": "display_data"
    },
    {
     "name": "stdout",
     "output_type": "stream",
     "text": [
      "\n"
     ]
    },
    {
     "data": {
      "application/vnd.jupyter.widget-view+json": {
       "model_id": "89ca5f4fd68643589d5ef2080e189a76",
       "version_major": 2,
       "version_minor": 0
      },
      "text/plain": [
       "HBox(children=(HTML(value=''), FloatProgress(value=0.0, max=10000.0), HTML(value='')))"
      ]
     },
     "metadata": {},
     "output_type": "display_data"
    },
    {
     "name": "stdout",
     "output_type": "stream",
     "text": [
      "\n"
     ]
    },
    {
     "data": {
      "application/vnd.jupyter.widget-view+json": {
       "model_id": "1257b33daee14e16a5e321e2d5bffc51",
       "version_major": 2,
       "version_minor": 0
      },
      "text/plain": [
       "HBox(children=(HTML(value=''), FloatProgress(value=0.0, max=10000.0), HTML(value='')))"
      ]
     },
     "metadata": {},
     "output_type": "display_data"
    },
    {
     "name": "stdout",
     "output_type": "stream",
     "text": [
      "\n"
     ]
    },
    {
     "data": {
      "application/vnd.jupyter.widget-view+json": {
       "model_id": "324fd7e1946f4c9c897ffe65e99da9a0",
       "version_major": 2,
       "version_minor": 0
      },
      "text/plain": [
       "HBox(children=(HTML(value=''), FloatProgress(value=0.0, max=10000.0), HTML(value='')))"
      ]
     },
     "metadata": {},
     "output_type": "display_data"
    },
    {
     "name": "stdout",
     "output_type": "stream",
     "text": [
      "\n"
     ]
    },
    {
     "data": {
      "application/vnd.jupyter.widget-view+json": {
       "model_id": "f5b0383cc76541ecb6eb591f1bbf3339",
       "version_major": 2,
       "version_minor": 0
      },
      "text/plain": [
       "HBox(children=(HTML(value=''), FloatProgress(value=0.0, max=10000.0), HTML(value='')))"
      ]
     },
     "metadata": {},
     "output_type": "display_data"
    },
    {
     "name": "stdout",
     "output_type": "stream",
     "text": [
      "\n"
     ]
    },
    {
     "data": {
      "application/vnd.jupyter.widget-view+json": {
       "model_id": "c6bd30f7b6ba4298b1d0271746688ec1",
       "version_major": 2,
       "version_minor": 0
      },
      "text/plain": [
       "HBox(children=(HTML(value=''), FloatProgress(value=0.0, max=10000.0), HTML(value='')))"
      ]
     },
     "metadata": {},
     "output_type": "display_data"
    },
    {
     "name": "stdout",
     "output_type": "stream",
     "text": [
      "\n"
     ]
    },
    {
     "data": {
      "application/vnd.jupyter.widget-view+json": {
       "model_id": "4829317f5e07451a92741d21385b36be",
       "version_major": 2,
       "version_minor": 0
      },
      "text/plain": [
       "HBox(children=(HTML(value=''), FloatProgress(value=0.0, max=10000.0), HTML(value='')))"
      ]
     },
     "metadata": {},
     "output_type": "display_data"
    },
    {
     "name": "stdout",
     "output_type": "stream",
     "text": [
      "\n"
     ]
    },
    {
     "data": {
      "application/vnd.jupyter.widget-view+json": {
       "model_id": "5ee9348739b346bcb7c1b8319d5876a5",
       "version_major": 2,
       "version_minor": 0
      },
      "text/plain": [
       "HBox(children=(HTML(value=''), FloatProgress(value=0.0, max=10000.0), HTML(value='')))"
      ]
     },
     "metadata": {},
     "output_type": "display_data"
    },
    {
     "name": "stdout",
     "output_type": "stream",
     "text": [
      "\n"
     ]
    },
    {
     "data": {
      "application/vnd.jupyter.widget-view+json": {
       "model_id": "c885bf588cba463bb0cf145bb5309a11",
       "version_major": 2,
       "version_minor": 0
      },
      "text/plain": [
       "HBox(children=(HTML(value=''), FloatProgress(value=0.0, max=10000.0), HTML(value='')))"
      ]
     },
     "metadata": {},
     "output_type": "display_data"
    },
    {
     "name": "stdout",
     "output_type": "stream",
     "text": [
      "\n"
     ]
    },
    {
     "data": {
      "application/vnd.jupyter.widget-view+json": {
       "model_id": "dbd75c0d72a64f27a689b54596fb2c58",
       "version_major": 2,
       "version_minor": 0
      },
      "text/plain": [
       "HBox(children=(HTML(value=''), FloatProgress(value=0.0, max=10000.0), HTML(value='')))"
      ]
     },
     "metadata": {},
     "output_type": "display_data"
    },
    {
     "name": "stdout",
     "output_type": "stream",
     "text": [
      "\n"
     ]
    },
    {
     "data": {
      "application/vnd.jupyter.widget-view+json": {
       "model_id": "dafe8b2077a54fb988c2f0cfdd02c337",
       "version_major": 2,
       "version_minor": 0
      },
      "text/plain": [
       "HBox(children=(HTML(value=''), FloatProgress(value=0.0, max=10000.0), HTML(value='')))"
      ]
     },
     "metadata": {},
     "output_type": "display_data"
    },
    {
     "name": "stdout",
     "output_type": "stream",
     "text": [
      "\n"
     ]
    },
    {
     "data": {
      "application/vnd.jupyter.widget-view+json": {
       "model_id": "d92f14c994cb4c4c859eb2f5797338e9",
       "version_major": 2,
       "version_minor": 0
      },
      "text/plain": [
       "HBox(children=(HTML(value=''), FloatProgress(value=0.0, max=10000.0), HTML(value='')))"
      ]
     },
     "metadata": {},
     "output_type": "display_data"
    },
    {
     "name": "stdout",
     "output_type": "stream",
     "text": [
      "\n"
     ]
    },
    {
     "data": {
      "application/vnd.jupyter.widget-view+json": {
       "model_id": "f3ce0a41a7854e1baf6c01c0b5359048",
       "version_major": 2,
       "version_minor": 0
      },
      "text/plain": [
       "HBox(children=(HTML(value=''), FloatProgress(value=0.0, max=10000.0), HTML(value='')))"
      ]
     },
     "metadata": {},
     "output_type": "display_data"
    },
    {
     "name": "stdout",
     "output_type": "stream",
     "text": [
      "\n"
     ]
    },
    {
     "data": {
      "application/vnd.jupyter.widget-view+json": {
       "model_id": "038cd4f012354d82a214342e0ffe288c",
       "version_major": 2,
       "version_minor": 0
      },
      "text/plain": [
       "HBox(children=(HTML(value=''), FloatProgress(value=0.0, max=10000.0), HTML(value='')))"
      ]
     },
     "metadata": {},
     "output_type": "display_data"
    },
    {
     "name": "stdout",
     "output_type": "stream",
     "text": [
      "\n"
     ]
    },
    {
     "data": {
      "application/vnd.jupyter.widget-view+json": {
       "model_id": "708cd88c2f5041d896834081162680a3",
       "version_major": 2,
       "version_minor": 0
      },
      "text/plain": [
       "HBox(children=(HTML(value=''), FloatProgress(value=0.0, max=10000.0), HTML(value='')))"
      ]
     },
     "metadata": {},
     "output_type": "display_data"
    },
    {
     "name": "stdout",
     "output_type": "stream",
     "text": [
      "\n"
     ]
    },
    {
     "data": {
      "application/vnd.jupyter.widget-view+json": {
       "model_id": "7153644f3ec645d88589978fdf6f8dff",
       "version_major": 2,
       "version_minor": 0
      },
      "text/plain": [
       "HBox(children=(HTML(value=''), FloatProgress(value=0.0, max=10000.0), HTML(value='')))"
      ]
     },
     "metadata": {},
     "output_type": "display_data"
    },
    {
     "name": "stdout",
     "output_type": "stream",
     "text": [
      "\n"
     ]
    },
    {
     "data": {
      "application/vnd.jupyter.widget-view+json": {
       "model_id": "c02e3266a18f411eacf5b49950016ca4",
       "version_major": 2,
       "version_minor": 0
      },
      "text/plain": [
       "HBox(children=(HTML(value=''), FloatProgress(value=0.0, max=10000.0), HTML(value='')))"
      ]
     },
     "metadata": {},
     "output_type": "display_data"
    },
    {
     "name": "stdout",
     "output_type": "stream",
     "text": [
      "\n"
     ]
    },
    {
     "data": {
      "application/vnd.jupyter.widget-view+json": {
       "model_id": "0e356d0e6b26453e9508ab64fb9a9d77",
       "version_major": 2,
       "version_minor": 0
      },
      "text/plain": [
       "HBox(children=(HTML(value=''), FloatProgress(value=0.0, max=10000.0), HTML(value='')))"
      ]
     },
     "metadata": {},
     "output_type": "display_data"
    },
    {
     "name": "stdout",
     "output_type": "stream",
     "text": [
      "\n"
     ]
    },
    {
     "data": {
      "application/vnd.jupyter.widget-view+json": {
       "model_id": "57a7dea82da74bf6a73f98c397b8090c",
       "version_major": 2,
       "version_minor": 0
      },
      "text/plain": [
       "HBox(children=(HTML(value=''), FloatProgress(value=0.0, max=10000.0), HTML(value='')))"
      ]
     },
     "metadata": {},
     "output_type": "display_data"
    },
    {
     "name": "stdout",
     "output_type": "stream",
     "text": [
      "\n"
     ]
    },
    {
     "data": {
      "application/vnd.jupyter.widget-view+json": {
       "model_id": "93dad402f70d4758ad7d83a461f261d8",
       "version_major": 2,
       "version_minor": 0
      },
      "text/plain": [
       "HBox(children=(HTML(value=''), FloatProgress(value=0.0, max=10000.0), HTML(value='')))"
      ]
     },
     "metadata": {},
     "output_type": "display_data"
    },
    {
     "name": "stdout",
     "output_type": "stream",
     "text": [
      "\n"
     ]
    },
    {
     "data": {
      "application/vnd.jupyter.widget-view+json": {
       "model_id": "4bef3b915754419587270f040a7a7ee0",
       "version_major": 2,
       "version_minor": 0
      },
      "text/plain": [
       "HBox(children=(HTML(value=''), FloatProgress(value=0.0, max=10000.0), HTML(value='')))"
      ]
     },
     "metadata": {},
     "output_type": "display_data"
    },
    {
     "name": "stdout",
     "output_type": "stream",
     "text": [
      "\n"
     ]
    },
    {
     "data": {
      "application/vnd.jupyter.widget-view+json": {
       "model_id": "5778b7f417234144a866e8470099365b",
       "version_major": 2,
       "version_minor": 0
      },
      "text/plain": [
       "HBox(children=(HTML(value=''), FloatProgress(value=0.0, max=10000.0), HTML(value='')))"
      ]
     },
     "metadata": {},
     "output_type": "display_data"
    },
    {
     "name": "stdout",
     "output_type": "stream",
     "text": [
      "\n"
     ]
    },
    {
     "data": {
      "application/vnd.jupyter.widget-view+json": {
       "model_id": "e4b8f955d32b4e8b8b23ac7d4d4cbb94",
       "version_major": 2,
       "version_minor": 0
      },
      "text/plain": [
       "HBox(children=(HTML(value=''), FloatProgress(value=0.0, max=10000.0), HTML(value='')))"
      ]
     },
     "metadata": {},
     "output_type": "display_data"
    },
    {
     "name": "stdout",
     "output_type": "stream",
     "text": [
      "\n"
     ]
    },
    {
     "data": {
      "application/vnd.jupyter.widget-view+json": {
       "model_id": "3012579fc61e4582a47d77a7a96bd4b0",
       "version_major": 2,
       "version_minor": 0
      },
      "text/plain": [
       "HBox(children=(HTML(value=''), FloatProgress(value=0.0, max=10000.0), HTML(value='')))"
      ]
     },
     "metadata": {},
     "output_type": "display_data"
    },
    {
     "name": "stdout",
     "output_type": "stream",
     "text": [
      "\n"
     ]
    },
    {
     "data": {
      "application/vnd.jupyter.widget-view+json": {
       "model_id": "474b78b2c91e450abce6e718a7d88599",
       "version_major": 2,
       "version_minor": 0
      },
      "text/plain": [
       "HBox(children=(HTML(value=''), FloatProgress(value=0.0, max=10000.0), HTML(value='')))"
      ]
     },
     "metadata": {},
     "output_type": "display_data"
    },
    {
     "name": "stdout",
     "output_type": "stream",
     "text": [
      "\n"
     ]
    },
    {
     "data": {
      "application/vnd.jupyter.widget-view+json": {
       "model_id": "c5fa0698c1d3454e9548f52a29e2702b",
       "version_major": 2,
       "version_minor": 0
      },
      "text/plain": [
       "HBox(children=(HTML(value=''), FloatProgress(value=0.0, max=10000.0), HTML(value='')))"
      ]
     },
     "metadata": {},
     "output_type": "display_data"
    },
    {
     "name": "stdout",
     "output_type": "stream",
     "text": [
      "\n"
     ]
    },
    {
     "data": {
      "application/vnd.jupyter.widget-view+json": {
       "model_id": "182699f8b29d4b6795bcc5636b0df5c9",
       "version_major": 2,
       "version_minor": 0
      },
      "text/plain": [
       "HBox(children=(HTML(value=''), FloatProgress(value=0.0, max=10000.0), HTML(value='')))"
      ]
     },
     "metadata": {},
     "output_type": "display_data"
    },
    {
     "name": "stdout",
     "output_type": "stream",
     "text": [
      "\n"
     ]
    },
    {
     "data": {
      "application/vnd.jupyter.widget-view+json": {
       "model_id": "b21aae7f0d6f46e2835efee9aa35acb4",
       "version_major": 2,
       "version_minor": 0
      },
      "text/plain": [
       "HBox(children=(HTML(value=''), FloatProgress(value=0.0, max=10000.0), HTML(value='')))"
      ]
     },
     "metadata": {},
     "output_type": "display_data"
    },
    {
     "name": "stdout",
     "output_type": "stream",
     "text": [
      "\n"
     ]
    }
   ],
   "source": [
    "variable_domain1 = [10,11,12,13,14] \n",
    "variable_domain2 = [1,2,3,4,5,6,7,8,9,10,11,12,13,14] \n",
    "variable_domain3 = [1,2,3,4,5,6,7,8,9,10] \n",
    "\n",
    "initial_samples = 50 # number of random runs to perform before starting experimental design \n",
    "space = ParameterSpace([DiscreteParameter('quarantine_length', variable_domain1),\n",
    "                        DiscreteParameter('latent_period', variable_domain2),\n",
    "                        DiscreteParameter('testing_delay', variable_domain3)]) # init param space for experimental design\n",
    "design = RandomDesign(space)\n",
    "x = design.get_samples(initial_samples) # get 5 random combinations of initialisations\n",
    "y = run_tti_sim(x) # obtain corresponding effective_rs"
   ]
  },
  {
   "cell_type": "code",
   "execution_count": 13,
   "metadata": {
    "scrolled": false
   },
   "outputs": [
    {
     "name": "stdout",
     "output_type": "stream",
     "text": [
      "Optimization restart 1/1, f = -49.424544920794375\n"
     ]
    },
    {
     "data": {
      "text/html": [
       "<style type=\"text/css\">\n",
       ".pd{\n",
       "    font-family: \"Courier New\", Courier, monospace !important;\n",
       "    width: 100%;\n",
       "    padding: 3px;\n",
       "}\n",
       "</style>\n",
       "\n",
       "<p class=pd>\n",
       "<b>Model</b>: GP regression<br>\n",
       "<b>Objective</b>: -49.424544920794375<br>\n",
       "<b>Number of Parameters</b>: 7<br>\n",
       "<b>Number of Optimization Parameters</b>: 7<br>\n",
       "<b>Updates</b>: True<br>\n",
       "</p>\n",
       "<style type=\"text/css\">\n",
       ".tg  {font-family:\"Courier New\", Courier, monospace !important;padding:2px 3px;word-break:normal;border-collapse:collapse;border-spacing:0;border-color:#DCDCDC;margin:0px auto;width:100%;}\n",
       ".tg td{font-family:\"Courier New\", Courier, monospace !important;font-weight:bold;color:#444;background-color:#F7FDFA;border-style:solid;border-width:1px;overflow:hidden;word-break:normal;border-color:#DCDCDC;}\n",
       ".tg th{font-family:\"Courier New\", Courier, monospace !important;font-weight:normal;color:#fff;background-color:#26ADE4;border-style:solid;border-width:1px;overflow:hidden;word-break:normal;border-color:#DCDCDC;}\n",
       ".tg .tg-left{font-family:\"Courier New\", Courier, monospace !important;font-weight:normal;text-align:left;}\n",
       ".tg .tg-center{font-family:\"Courier New\", Courier, monospace !important;font-weight:normal;text-align:center;}\n",
       ".tg .tg-right{font-family:\"Courier New\", Courier, monospace !important;font-weight:normal;text-align:right;}\n",
       "</style>\n",
       "<table class=\"tg\"><tr><th><b>  GP_regression.         </b></th><th><b>               value</b></th><th><b>constraints</b></th><th><b>priors</b></th></tr>\n",
       "<tr><td class=tg-left>  sum.rbf.variance       </td><td class=tg-right> 0.03979687941904134</td><td class=tg-center>    +ve    </td><td class=tg-center>      </td></tr>\n",
       "<tr><td class=tg-left>  sum.rbf.lengthscale    </td><td class=tg-right>                (3,)</td><td class=tg-center>    +ve    </td><td class=tg-center>      </td></tr>\n",
       "<tr><td class=tg-left>  sum.white.variance     </td><td class=tg-right>0.002609608651478321</td><td class=tg-center>    +ve    </td><td class=tg-center>      </td></tr>\n",
       "<tr><td class=tg-left>  sum.bias.variance      </td><td class=tg-right>  2.0513662475681813</td><td class=tg-center>    +ve    </td><td class=tg-center>      </td></tr>\n",
       "<tr><td class=tg-left>  Gaussian_noise.variance</td><td class=tg-right>0.002609608651478321</td><td class=tg-center>    +ve    </td><td class=tg-center>      </td></tr>\n",
       "</table>"
      ],
      "text/plain": [
       "<GPy.models.gp_regression.GPRegression at 0x7faff02949e8>"
      ]
     },
     "metadata": {},
     "output_type": "display_data"
    }
   ],
   "source": [
    "# Fitting emulator to data, x: (parameters to be tested), y: effective_r\n",
    "Num_of_param = 3\n",
    "kern_eq = GPy.kern.RBF(input_dim=Num_of_param, ARD = True) +  GPy.kern.White(input_dim=Num_of_param, variance=1)\n",
    "kern_bias = GPy.kern.Bias(input_dim=Num_of_param)\n",
    "kern = kern_eq + kern_bias\n",
    "model_gpy = GPRegression(x,y, kern)\n",
    "model_gpy.kern.variance = 1**2\n",
    "# model_gpy.likelihood.variance.fix(1e-5)\n",
    "model_emukit = GPyModelWrapper(model_gpy) \n",
    "model_emukit.optimize() # optimise (max log-lik)\n",
    "display(model_gpy)"
   ]
  },
  {
   "cell_type": "markdown",
   "metadata": {},
   "source": [
    "----\n",
    "## SA without Experiment Design Loop\n",
    "- SA Lib -> Sobol Monte Carlo (100000 times)\n",
    "- Emukit -> Sobol Monte Carlo (100000 times)\n",
    "- SA Lib -> Fast (100000 times)"
   ]
  },
  {
   "cell_type": "markdown",
   "metadata": {},
   "source": [
    "### Calculate Sobol indices with SALib\n",
    "Discretizing the input factor should not affect the Sobol and FAST methods.\n",
    "https://waterprogramming.wordpress.com/2014/02/11/extensions-of-salib-for-more-complex-sensitivity-analyses/"
   ]
  },
  {
   "cell_type": "code",
   "execution_count": 14,
   "metadata": {},
   "outputs": [],
   "source": [
    "from SALib.sample import saltelli\n",
    "from SALib.analyze import sobol\n",
    "\n",
    "no_of_samples = 100000\n",
    "problem = {\n",
    "'num_vars': 3,\n",
    "'names': ['quarantine_length','latent_period','testing_delay'],\n",
    "'bounds': [\n",
    "            [10,14], \n",
    "            [1,14],\n",
    "            [1,10]]\n",
    "}\n",
    "\n",
    "\n",
    "xt = saltelli.sample(problem, no_of_samples)\n",
    "Y,_= model_gpy.predict(xt)\n",
    "Y = np.squeeze(Y)\n",
    "\n",
    "Si = sobol.analyze(problem, Y)"
   ]
  },
  {
   "cell_type": "markdown",
   "metadata": {},
   "source": [
    "### Calculate Sobol indices with Emukit"
   ]
  },
  {
   "cell_type": "code",
   "execution_count": 38,
   "metadata": {},
   "outputs": [],
   "source": [
    "senstivity = MonteCarloSecondOrderSensitivity(model = model_emukit, input_domain = space)\n",
    "main_effects_gp, secondary_effects_gp, total_effects_gp, _ = senstivity.compute_effects(num_monte_carlo_points = no_of_samples)"
   ]
  },
  {
   "cell_type": "markdown",
   "metadata": {},
   "source": [
    "### Calculate sensitivity with SALib FAST methods\n"
   ]
  },
  {
   "cell_type": "code",
   "execution_count": 111,
   "metadata": {},
   "outputs": [],
   "source": [
    "from SALib.analyze import fast\n",
    "from SALib.sample import fast_sampler\n",
    "\n",
    "xt = fast_sampler.sample(problem, no_of_samples)\n",
    "Y,_= model_gpy.predict(xt)\n",
    "Y = np.squeeze(Y)\n",
    "Si_fast = fast.analyze(problem, Y, print_to_console=False)"
   ]
  },
  {
   "cell_type": "code",
   "execution_count": 122,
   "metadata": {
    "scrolled": true
   },
   "outputs": [
    {
     "data": {
      "image/png": "[encoded data removed]",
      "text/plain": [
       "<Figure size 720x432 with 9 Axes>"
      ]
     },
     "metadata": {
      "needs_background": "light"
     },
     "output_type": "display_data"
    }
   ],
   "source": [
    "param = ['QL','LP','TD']\n",
    "param2 = []\n",
    "\n",
    "first_lim = [-0.05, 1]\n",
    "second_lim = [-0.025, 0.2]\n",
    "total_lim = [-0.05, 1]\n",
    "\n",
    "fig, ax = plt.subplots(3, 3, figsize=plot.big_wide_figsize)\n",
    "\n",
    "\n",
    "ax[0][0].set_title(\"1st Order Sobol (SALab)\")\n",
    "for index,val in enumerate(Si['S1']):\n",
    "    ax[0][0].bar(param[index],val, color = 'grey')\n",
    "ax[0][0].set_ylim(first_lim)\n",
    "\n",
    "ax[1][0].set_title(\"2nd Order Sobol (SALab)\")\n",
    "for i in range(len(param)):\n",
    "    for j in range(len(param)):\n",
    "        val =  Si['S2'][i][j]\n",
    "        if val > -0.5:\n",
    "            name = param[i] + '+'+ param[j]\n",
    "            ax[1][0].bar(name, Si['S2'][i][j], color = 'grey')\n",
    "            param2.append(name)\n",
    "ax[1][0].set_ylim(second_lim)\n",
    "\n",
    "ax[2][0].set_title(\"Total Effect Sobol (SALab)\")\n",
    "for index,val in enumerate(Si['ST']):\n",
    "    ax[2][0].bar(param[index],val, color = 'grey')\n",
    "ax[2][0].set_ylim(total_lim)\n",
    "    \n",
    "ax[0][1].set_title(\"1st Order Sobol (Emukit)\")\n",
    "for index, ivar in enumerate(main_effects_gp):\n",
    "    ax[0][1].bar(param[index], main_effects_gp[ivar][0], color = 'grey')\n",
    "ax[0][1].set_ylim(first_lim)\n",
    "\n",
    "\n",
    "ax[1][1].set_title(\"2nd Order Sobol (Emukit)\")\n",
    "for index, ivar in enumerate(secondary_effects_gp):\n",
    "    ax[1][1].bar(param2[index], secondary_effects_gp[ivar][0], color = 'grey')\n",
    "ax[1][1].set_ylim(second_lim)\n",
    "\n",
    " \n",
    "ax[2][1].set_title(\"Total Effect Sobol (Emukit)\")\n",
    "for index, ivar in enumerate(total_effects_gp):\n",
    "    ax[2][1].bar(param[index], total_effects_gp[ivar][0], color = 'grey')\n",
    "ax[2][1].set_ylim(total_lim)\n",
    "    \n",
    "ax[0][2].set_title(\"1st Order FAST (SALab)\")\n",
    "for index,val in enumerate(Si_fast['S1']):\n",
    "    ax[0][2].bar(param[index],val, color = 'grey')\n",
    "ax[0][2].set_ylim(first_lim)\n",
    "\n",
    "ax[1][2].set_title(\"2nd Order FAST - NA\")\n",
    "ax[1][2].set_ylim(second_lim)\n",
    "\n",
    "ax[2][2].set_title(\"Total Effect FAST (SALab)\")\n",
    "for index,val in enumerate(Si_fast['ST']):\n",
    "    ax[2][2].bar(param[index],val, color = 'grey')\n",
    "ax[2][2].set_ylim(total_lim)\n",
    "    \n",
    "# ax[0][1].set_title('Sensitivity Analysis on Policy Configurations Without Experimental Design Loop')\n",
    "ax[1][0].set_ylabel('Percentage of explained output variance')\n",
    "ax[2][1].set_xlabel('QL = Quarantine Length; LP = Latent Period; TD = Testing Delay')\n",
    "\n",
    "plt.tight_layout()\n",
    "# plt.show()\n",
    "plt.savefig('./plots/SA-Policy-NoExp.jpg')"
   ]
  },
  {
   "cell_type": "markdown",
   "metadata": {},
   "source": [
    "## SA with Experiment Design Loop"
   ]
  },
  {
   "cell_type": "code",
   "execution_count": 112,
   "metadata": {
    "scrolled": true
   },
   "outputs": [
    {
     "name": "stderr",
     "output_type": "stream",
     "text": [
      " /home/elim/anaconda3/envs/ML-PhyWorld/lib/python3.6/site-packages/paramz/transformations.py:111: RuntimeWarning:overflow encountered in expm1\n"
     ]
    },
    {
     "name": "stdout",
     "output_type": "stream",
     "text": [
      "Optimization restart 1/1, f = -49.424544960604365\n"
     ]
    },
    {
     "data": {
      "application/vnd.jupyter.widget-view+json": {
       "model_id": "bb2af84531d346cd90264859977e289a",
       "version_major": 2,
       "version_minor": 0
      },
      "text/plain": [
       "HBox(children=(HTML(value=''), FloatProgress(value=0.0, max=10000.0), HTML(value='')))"
      ]
     },
     "metadata": {},
     "output_type": "display_data"
    },
    {
     "name": "stdout",
     "output_type": "stream",
     "text": [
      "\n",
      "Optimization restart 1/1, f = -50.43796693112617\n"
     ]
    },
    {
     "data": {
      "application/vnd.jupyter.widget-view+json": {
       "model_id": "108fd095cc084f598a9837e26b936891",
       "version_major": 2,
       "version_minor": 0
      },
      "text/plain": [
       "HBox(children=(HTML(value=''), FloatProgress(value=0.0, max=10000.0), HTML(value='')))"
      ]
     },
     "metadata": {},
     "output_type": "display_data"
    },
    {
     "name": "stdout",
     "output_type": "stream",
     "text": [
      "\n",
      "Optimization restart 1/1, f = -51.74770807180068\n"
     ]
    },
    {
     "data": {
      "application/vnd.jupyter.widget-view+json": {
       "model_id": "0210db84930845a5b0d53cc6f3476fb9",
       "version_major": 2,
       "version_minor": 0
      },
      "text/plain": [
       "HBox(children=(HTML(value=''), FloatProgress(value=0.0, max=10000.0), HTML(value='')))"
      ]
     },
     "metadata": {},
     "output_type": "display_data"
    },
    {
     "name": "stdout",
     "output_type": "stream",
     "text": [
      "\n",
      "Optimization restart 1/1, f = -53.31957810687791\n"
     ]
    },
    {
     "data": {
      "application/vnd.jupyter.widget-view+json": {
       "model_id": "40129bb898e24b218f97b29f79c35754",
       "version_major": 2,
       "version_minor": 0
      },
      "text/plain": [
       "HBox(children=(HTML(value=''), FloatProgress(value=0.0, max=10000.0), HTML(value='')))"
      ]
     },
     "metadata": {},
     "output_type": "display_data"
    },
    {
     "name": "stdout",
     "output_type": "stream",
     "text": [
      "\n",
      "Optimization restart 1/1, f = -54.269711903877706\n"
     ]
    },
    {
     "data": {
      "application/vnd.jupyter.widget-view+json": {
       "model_id": "e1f94911ad944c20aa53520a7f117c0f",
       "version_major": 2,
       "version_minor": 0
      },
      "text/plain": [
       "HBox(children=(HTML(value=''), FloatProgress(value=0.0, max=10000.0), HTML(value='')))"
      ]
     },
     "metadata": {},
     "output_type": "display_data"
    },
    {
     "name": "stdout",
     "output_type": "stream",
     "text": [
      "\n",
      "Optimization restart 1/1, f = -55.86729199065861\n"
     ]
    }
   ],
   "source": [
    "# Initialise experimental design loop. Using integrated variance as acquisition\n",
    "# to \"query\" the input space aiming to reduce uncertainty over the func we're approx. i.e. effective_r\n",
    "num_of_loops = 5\n",
    "integrated_variance = IntegratedVarianceReduction(space=space, model=model_emukit)\n",
    "ed = ExperimentalDesignLoop(space=space, model=model_emukit, acquisition = integrated_variance)\n",
    "ed.run_loop(run_tti_sim, num_of_loops)"
   ]
  },
  {
   "cell_type": "code",
   "execution_count": 118,
   "metadata": {
    "scrolled": true
   },
   "outputs": [
    {
     "data": {
      "text/html": [
       "<style type=\"text/css\">\n",
       ".pd{\n",
       "    font-family: \"Courier New\", Courier, monospace !important;\n",
       "    width: 100%;\n",
       "    padding: 3px;\n",
       "}\n",
       "</style>\n",
       "\n",
       "<p class=pd>\n",
       "<b>Model</b>: GP regression<br>\n",
       "<b>Objective</b>: -55.86729199065861<br>\n",
       "<b>Number of Parameters</b>: 7<br>\n",
       "<b>Number of Optimization Parameters</b>: 7<br>\n",
       "<b>Updates</b>: True<br>\n",
       "</p>\n",
       "<style type=\"text/css\">\n",
       ".tg  {font-family:\"Courier New\", Courier, monospace !important;padding:2px 3px;word-break:normal;border-collapse:collapse;border-spacing:0;border-color:#DCDCDC;margin:0px auto;width:100%;}\n",
       ".tg td{font-family:\"Courier New\", Courier, monospace !important;font-weight:bold;color:#444;background-color:#F7FDFA;border-style:solid;border-width:1px;overflow:hidden;word-break:normal;border-color:#DCDCDC;}\n",
       ".tg th{font-family:\"Courier New\", Courier, monospace !important;font-weight:normal;color:#fff;background-color:#26ADE4;border-style:solid;border-width:1px;overflow:hidden;word-break:normal;border-color:#DCDCDC;}\n",
       ".tg .tg-left{font-family:\"Courier New\", Courier, monospace !important;font-weight:normal;text-align:left;}\n",
       ".tg .tg-center{font-family:\"Courier New\", Courier, monospace !important;font-weight:normal;text-align:center;}\n",
       ".tg .tg-right{font-family:\"Courier New\", Courier, monospace !important;font-weight:normal;text-align:right;}\n",
       "</style>\n",
       "<table class=\"tg\"><tr><th><b>  GP_regression.         </b></th><th><b>                value</b></th><th><b>constraints</b></th><th><b>priors</b></th></tr>\n",
       "<tr><td class=tg-left>  sum.rbf.variance       </td><td class=tg-right>   0.0515901276506786</td><td class=tg-center>    +ve    </td><td class=tg-center>      </td></tr>\n",
       "<tr><td class=tg-left>  sum.rbf.lengthscale    </td><td class=tg-right>                 (3,)</td><td class=tg-center>    +ve    </td><td class=tg-center>      </td></tr>\n",
       "<tr><td class=tg-left>  sum.white.variance     </td><td class=tg-right>0.0025525070356681506</td><td class=tg-center>    +ve    </td><td class=tg-center>      </td></tr>\n",
       "<tr><td class=tg-left>  sum.bias.variance      </td><td class=tg-right>   2.1171593509678006</td><td class=tg-center>    +ve    </td><td class=tg-center>      </td></tr>\n",
       "<tr><td class=tg-left>  Gaussian_noise.variance</td><td class=tg-right>0.0025525070356681506</td><td class=tg-center>    +ve    </td><td class=tg-center>      </td></tr>\n",
       "</table>"
      ],
      "text/plain": [
       "<GPy.models.gp_regression.GPRegression at 0x7faff02949e8>"
      ]
     },
     "metadata": {},
     "output_type": "display_data"
    }
   ],
   "source": [
    "display(model_gpy)"
   ]
  },
  {
   "cell_type": "code",
   "execution_count": 130,
   "metadata": {},
   "outputs": [
    {
     "name": "stdout",
     "output_type": "stream",
     "text": [
      "SA Lib Sobol 8.163879632949829\n",
      "Emukit Sobol 2.5168964862823486\n",
      "SA Lib FAST 0.7657630443572998\n"
     ]
    }
   ],
   "source": [
    "#SALib Sobol\n",
    "from SALib.sample import saltelli\n",
    "from SALib.analyze import sobol\n",
    "import time \n",
    "\n",
    "no_of_samples = 100000\n",
    "t1 = time.time()\n",
    "problem = {\n",
    "'num_vars': 3,\n",
    "'names': ['quarantine_length','latent_period','testing_delay'],\n",
    "'bounds': [\n",
    "            [10,14], \n",
    "            [1,14],\n",
    "            [1,10]]\n",
    "}\n",
    "xt = saltelli.sample(problem, no_of_samples)\n",
    "Y,_= model_gpy.predict(xt)\n",
    "Y = np.squeeze(Y)\n",
    "Si_e = sobol.analyze(problem, Y)\n",
    "t2 = time.time()\n",
    "print('SA Lib Sobol', t2 - t1)\n",
    "\n",
    "#Emukit Sobol\n",
    "t3 = time.time()\n",
    "senstivity = MonteCarloSecondOrderSensitivity(model = model_emukit, input_domain = space)\n",
    "main_effects_gp_e, secondary_effects_gp_e, total_effects_gp_e, _e = senstivity.compute_effects(num_monte_carlo_points = no_of_samples)\n",
    "t4 = time.time()\n",
    "print('Emukit Sobol', t4 - t3)\n",
    "\n",
    "#SALib Fast\n",
    "t5 = time.time()\n",
    "from SALib.analyze import fast\n",
    "from SALib.sample import fast_sampler\n",
    "\n",
    "xt = fast_sampler.sample(problem, no_of_samples)\n",
    "Y,_= model_gpy.predict(xt)\n",
    "Y = np.squeeze(Y)\n",
    "Si_fast_e = fast.analyze(problem, Y, print_to_console=False)\n",
    "t6 = time.time()\n",
    "print('SA Lib FAST', t6 - t5)"
   ]
  },
  {
   "cell_type": "markdown",
   "metadata": {},
   "source": [
    "Plot the graph again"
   ]
  },
  {
   "cell_type": "code",
   "execution_count": 121,
   "metadata": {},
   "outputs": [
    {
     "data": {
      "image/png": "[encoded data removed]",
      "text/plain": [
       "<Figure size 720x432 with 9 Axes>"
      ]
     },
     "metadata": {
      "needs_background": "light"
     },
     "output_type": "display_data"
    }
   ],
   "source": [
    "param = ['QL','LP','TD']\n",
    "param2 = []\n",
    "\n",
    "first_lim = [-0.05, 1]\n",
    "second_lim = [-0.025, 0.2]\n",
    "total_lim = [-0.05, 1]\n",
    "\n",
    "fig, ax = plt.subplots(3, 3, figsize=plot.big_wide_figsize)\n",
    "\n",
    "\n",
    "ax[0][0].set_title(\"1st Order Sobol (SALab)\")\n",
    "for index,val in enumerate(Si_e['S1']):\n",
    "    ax[0][0].bar(param[index],val, color = 'grey')\n",
    "ax[0][0].set_ylim(first_lim)\n",
    "\n",
    "ax[1][0].set_title(\"2nd Order Sobol (SALab)\")\n",
    "for i in range(len(param)):\n",
    "    for j in range(len(param)):\n",
    "        val =  Si_e['S2'][i][j]\n",
    "        if val > -0.5:\n",
    "            name = param[i] + '+'+ param[j]\n",
    "            ax[1][0].bar(name, Si_e['S2'][i][j], color = 'grey')\n",
    "            param2.append(name)\n",
    "ax[1][0].set_ylim(second_lim)\n",
    "\n",
    "ax[2][0].set_title(\"Total Effect Sobol (SALab)\")\n",
    "for index,val in enumerate(Si_e['ST']):\n",
    "    ax[2][0].bar(param[index],val, color = 'grey')\n",
    "ax[2][0].set_ylim(total_lim)\n",
    "    \n",
    "ax[0][1].set_title(\"1st Order Sobol (Emukit)\")\n",
    "for index, ivar in enumerate(main_effects_gp_e):\n",
    "    ax[0][1].bar(param[index], main_effects_gp_e[ivar][0], color = 'grey')\n",
    "ax[0][1].set_ylim(first_lim)\n",
    "\n",
    "\n",
    "ax[1][1].set_title(\"2nd Order Sobol (Emukit)\")\n",
    "for index, ivar in enumerate(secondary_effects_gp_e):\n",
    "    ax[1][1].bar(param2[index], secondary_effects_gp_e[ivar][0], color = 'grey')\n",
    "ax[1][1].set_ylim(second_lim)\n",
    "\n",
    " \n",
    "ax[2][1].set_title(\"Total Effect Sobol (Emukit)\")\n",
    "for index, ivar in enumerate(total_effects_gp_e):\n",
    "    ax[2][1].bar(param[index], total_effects_gp_e[ivar][0], color = 'grey')\n",
    "ax[2][1].set_ylim(total_lim)\n",
    "    \n",
    "ax[0][2].set_title(\"1st Order FAST (SALab)\")\n",
    "for index,val in enumerate(Si_fast_e['S1']):\n",
    "    ax[0][2].bar(param[index],val, color = 'grey')\n",
    "ax[0][2].set_ylim(first_lim)\n",
    "\n",
    "ax[1][2].set_title(\"2nd Order FAST - NA\")\n",
    "ax[1][2].set_ylim(second_lim)\n",
    "\n",
    "ax[2][2].set_title(\"Total Effect FAST (SALab)\")\n",
    "for index,val in enumerate(Si_fast_e['ST']):\n",
    "    ax[2][2].bar(param[index],val, color = 'grey')\n",
    "ax[2][2].set_ylim(total_lim)\n",
    "    \n",
    "# ax[0][1].set_title('Sensitivity Analysis on Policy Configurations Without Experimental Design Loop')\n",
    "ax[1][0].set_ylabel('Percentage of explained output variance')\n",
    "ax[2][1].set_xlabel('QL = Quarantine Length; LP = Latent Period; TD = Testing Delay')\n",
    "\n",
    "plt.tight_layout()\n",
    "# plt.show()\n",
    "plt.savefig('./plots/SA-Policy-Exp.jpg')"
   ]
  },
  {
   "cell_type": "code",
   "execution_count": 222,
   "metadata": {
    "scrolled": false
   },
   "outputs": [],
   "source": [
    "raw_data_path = './plots/raw_data/Policy_noExp/'\n",
    "df = pd.DataFrame([Si])\n",
    "df.to_csv(raw_data_path + 'Si.csv', index=False)\n",
    "df = pd.DataFrame([Si_fast])\n",
    "df.to_csv(raw_data_path + 'Si_fast.csv', index=False)\n",
    "df = pd.DataFrame([main_effects_gp])\n",
    "df.to_csv(raw_data_path + 'main_effects_gp.csv', index=False)\n",
    "df = pd.DataFrame([secondary_effects_gp])\n",
    "df.to_csv(raw_data_path + 'secondary_effects_gp.csv', index=False)\n",
    "df = pd.DataFrame([total_effects_gp])\n",
    "df.to_csv(raw_data_path + 'total_effects_gp.csv', index=False)\n",
    "np.savetxt(raw_data_path + 'S2.csv', Si['S2'], delimiter=',')\n",
    "\n",
    "raw_data_path = './plots/raw_data/Policy_withExp/'\n",
    "df = pd.DataFrame([Si_e])\n",
    "df.to_csv(raw_data_path + 'Si.csv', index=False)\n",
    "df = pd.DataFrame([Si_fast_e])\n",
    "df.to_csv(raw_data_path + 'Si_fast.csv', index=False)\n",
    "df = pd.DataFrame([main_effects_gp_e])\n",
    "df.to_csv(raw_data_path + 'main_effects_gp.csv', index=False)\n",
    "df = pd.DataFrame([secondary_effects_gp_e])\n",
    "df.to_csv(raw_data_path + 'secondary_effects_gp.csv', index=False)\n",
    "df = pd.DataFrame([total_effects_gp_e])\n",
    "df.to_csv(raw_data_path + 'total_effects_gp.csv', index=False)\n",
    "np.savetxt(raw_data_path + 'S2.csv', Si_e['S2'], delimiter=',')"
   ]
  }
 ],
 "metadata": {
  "colab": {
   "include_colab_link": true,
   "name": "tti-experiment.ipynb",
   "provenance": []
  },
  "kernelspec": {
   "display_name": "Python 3",
   "language": "python",
   "name": "python3"
  },
  "language_info": {
   "codemirror_mode": {
    "name": "ipython",
    "version": 3
   },
   "file_extension": ".py",
   "mimetype": "text/x-python",
   "name": "python",
   "nbconvert_exporter": "python",
   "pygments_lexer": "ipython3",
   "version": "3.6.12"
  },
  "widgets": {
   "application/vnd.jupyter.widget-state+json": {
    "01c6627a03e747b7a0bcedc0e31e94c2": {
     "model_module": "@jupyter-widgets/controls",
     "model_name": "FloatProgressModel",
     "state": {
      "_dom_classes": [],
      "_model_module": "@jupyter-widgets/controls",
      "_model_module_version": "1.5.0",
      "_model_name": "FloatProgressModel",
      "_view_count": null,
      "_view_module": "@jupyter-widgets/controls",
      "_view_module_version": "1.5.0",
      "_view_name": "ProgressView",
      "bar_style": "success",
      "description": "100%",
      "description_tooltip": null,
      "layout": "IPY_MODEL_27ae62f93b924c9f90cf1023ec62e147",
      "max": 10000,
      "min": 0,
      "orientation": "horizontal",
      "style": "IPY_MODEL_d683e78b8341498cb158a434cbf70c12",
      "value": 10000
     }
    },
    "026757afe50d4f14a7ba0beaf180574e": {
     "model_module": "@jupyter-widgets/controls",
     "model_name": "DescriptionStyleModel",
     "state": {
      "_model_module": "@jupyter-widgets/controls",
      "_model_module_version": "1.5.0",
      "_model_name": "DescriptionStyleModel",
      "_view_count": null,
      "_view_module": "@jupyter-widgets/base",
      "_view_module_version": "1.2.0",
      "_view_name": "StyleView",
      "description_width": ""
     }
    },
    "27ae62f93b924c9f90cf1023ec62e147": {
     "model_module": "@jupyter-widgets/base",
     "model_name": "LayoutModel",
     "state": {
      "_model_module": "@jupyter-widgets/base",
      "_model_module_version": "1.2.0",
      "_model_name": "LayoutModel",
      "_view_count": null,
      "_view_module": "@jupyter-widgets/base",
      "_view_module_version": "1.2.0",
      "_view_name": "LayoutView",
      "align_content": null,
      "align_items": null,
      "align_self": null,
      "border": null,
      "bottom": null,
      "display": null,
      "flex": null,
      "flex_flow": null,
      "grid_area": null,
      "grid_auto_columns": null,
      "grid_auto_flow": null,
      "grid_auto_rows": null,
      "grid_column": null,
      "grid_gap": null,
      "grid_row": null,
      "grid_template_areas": null,
      "grid_template_columns": null,
      "grid_template_rows": null,
      "height": null,
      "justify_content": null,
      "justify_items": null,
      "left": null,
      "margin": null,
      "max_height": null,
      "max_width": null,
      "min_height": null,
      "min_width": null,
      "object_fit": null,
      "object_position": null,
      "order": null,
      "overflow": null,
      "overflow_x": null,
      "overflow_y": null,
      "padding": null,
      "right": null,
      "top": null,
      "visibility": null,
      "width": null
     }
    },
    "29401bc5d41a48bdae60957b7f3126e8": {
     "model_module": "@jupyter-widgets/controls",
     "model_name": "HTMLModel",
     "state": {
      "_dom_classes": [],
      "_model_module": "@jupyter-widgets/controls",
      "_model_module_version": "1.5.0",
      "_model_name": "HTMLModel",
      "_view_count": null,
      "_view_module": "@jupyter-widgets/controls",
      "_view_module_version": "1.5.0",
      "_view_name": "HTMLView",
      "description": "",
      "description_tooltip": null,
      "layout": "IPY_MODEL_44207771133e47f3a8fb7eaca6c5c1fc",
      "placeholder": "​",
      "style": "IPY_MODEL_026757afe50d4f14a7ba0beaf180574e",
      "value": " 10000/10000 [00:05&lt;00:00, 1685.76it/s]"
     }
    },
    "44207771133e47f3a8fb7eaca6c5c1fc": {
     "model_module": "@jupyter-widgets/base",
     "model_name": "LayoutModel",
     "state": {
      "_model_module": "@jupyter-widgets/base",
      "_model_module_version": "1.2.0",
      "_model_name": "LayoutModel",
      "_view_count": null,
      "_view_module": "@jupyter-widgets/base",
      "_view_module_version": "1.2.0",
      "_view_name": "LayoutView",
      "align_content": null,
      "align_items": null,
      "align_self": null,
      "border": null,
      "bottom": null,
      "display": null,
      "flex": null,
      "flex_flow": null,
      "grid_area": null,
      "grid_auto_columns": null,
      "grid_auto_flow": null,
      "grid_auto_rows": null,
      "grid_column": null,
      "grid_gap": null,
      "grid_row": null,
      "grid_template_areas": null,
      "grid_template_columns": null,
      "grid_template_rows": null,
      "height": null,
      "justify_content": null,
      "justify_items": null,
      "left": null,
      "margin": null,
      "max_height": null,
      "max_width": null,
      "min_height": null,
      "min_width": null,
      "object_fit": null,
      "object_position": null,
      "order": null,
      "overflow": null,
      "overflow_x": null,
      "overflow_y": null,
      "padding": null,
      "right": null,
      "top": null,
      "visibility": null,
      "width": null
     }
    },
    "6d622bc0a8f64f0d87aa499c94664085": {
     "model_module": "@jupyter-widgets/controls",
     "model_name": "HBoxModel",
     "state": {
      "_dom_classes": [],
      "_model_module": "@jupyter-widgets/controls",
      "_model_module_version": "1.5.0",
      "_model_name": "HBoxModel",
      "_view_count": null,
      "_view_module": "@jupyter-widgets/controls",
      "_view_module_version": "1.5.0",
      "_view_name": "HBoxView",
      "box_style": "",
      "children": [
       "IPY_MODEL_01c6627a03e747b7a0bcedc0e31e94c2",
       "IPY_MODEL_29401bc5d41a48bdae60957b7f3126e8"
      ],
      "layout": "IPY_MODEL_8105c4eb956744b0b5e1b9ac5207f9d5"
     }
    },
    "8105c4eb956744b0b5e1b9ac5207f9d5": {
     "model_module": "@jupyter-widgets/base",
     "model_name": "LayoutModel",
     "state": {
      "_model_module": "@jupyter-widgets/base",
      "_model_module_version": "1.2.0",
      "_model_name": "LayoutModel",
      "_view_count": null,
      "_view_module": "@jupyter-widgets/base",
      "_view_module_version": "1.2.0",
      "_view_name": "LayoutView",
      "align_content": null,
      "align_items": null,
      "align_self": null,
      "border": null,
      "bottom": null,
      "display": null,
      "flex": null,
      "flex_flow": null,
      "grid_area": null,
      "grid_auto_columns": null,
      "grid_auto_flow": null,
      "grid_auto_rows": null,
      "grid_column": null,
      "grid_gap": null,
      "grid_row": null,
      "grid_template_areas": null,
      "grid_template_columns": null,
      "grid_template_rows": null,
      "height": null,
      "justify_content": null,
      "justify_items": null,
      "left": null,
      "margin": null,
      "max_height": null,
      "max_width": null,
      "min_height": null,
      "min_width": null,
      "object_fit": null,
      "object_position": null,
      "order": null,
      "overflow": null,
      "overflow_x": null,
      "overflow_y": null,
      "padding": null,
      "right": null,
      "top": null,
      "visibility": null,
      "width": null
     }
    },
    "d683e78b8341498cb158a434cbf70c12": {
     "model_module": "@jupyter-widgets/controls",
     "model_name": "ProgressStyleModel",
     "state": {
      "_model_module": "@jupyter-widgets/controls",
      "_model_module_version": "1.5.0",
      "_model_name": "ProgressStyleModel",
      "_view_count": null,
      "_view_module": "@jupyter-widgets/base",
      "_view_module_version": "1.2.0",
      "_view_name": "StyleView",
      "bar_color": null,
      "description_width": "initial"
     }
    }
   }
  }
 },
 "nbformat": 4,
 "nbformat_minor": 1
}
