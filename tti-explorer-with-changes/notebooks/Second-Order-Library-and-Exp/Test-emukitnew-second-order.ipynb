{
 "cells": [
  {
   "cell_type": "markdown",
   "metadata": {
    "colab_type": "text",
    "id": "view-in-github"
   },
   "source": [
    "<a href=\"https://colab.research.google.com/github/rs-delve/tti-explorer/blob/master/notebooks/tti-experiment.ipynb\" target=\"_parent\"><img src=\"https://colab.research.google.com/assets/colab-badge.svg\" alt=\"Open In Colab\"/></a>"
   ]
  },
  {
   "cell_type": "markdown",
   "metadata": {
    "colab_type": "text",
    "id": "7CmXXoii-iLo"
   },
   "source": [
    "## TTI Strategies"
   ]
  },
  {
   "cell_type": "markdown",
   "metadata": {
    "colab_type": "text",
    "id": "ponSUAl6-iLo"
   },
   "source": [
    "All of the information about the primary case's infection and how they infect their social contacts (under no government intervention) is now contained in `primary_case` and `social_contacts`.\n",
    "\n",
    "Now we run a simulation, which works as follows. We start by generating a large number of cases, each with associated contacts. Given a particular strategy (e.g. test-based TTI with NPI of stringency level S3), each case is passed through the strategy, which computes various metrics for the case. For example, it computes the number of secondary cases due to primary case (reproduction number) and the number of tests required. We then collect the results for each case and average them, returning the final evaluation of the strategy."
   ]
  },
  {
   "cell_type": "markdown",
   "metadata": {
    "colab_type": "text",
    "id": "BHB568_y-iLp"
   },
   "source": [
    "## Running a Simulation"
   ]
  },
  {
   "cell_type": "code",
   "execution_count": 1,
   "metadata": {},
   "outputs": [],
   "source": [
    "from emukit_new.core import ContinuousParameter, ParameterSpace\n",
    "# from emukit_new.sensitivity.monte_carlo import ModelFreeMonteCarloSensitivity\n",
    "from emukit_new.core.initial_designs import RandomDesign\n",
    "from emukit_new.model_wrappers import GPyModelWrapper\n",
    "# from emukit_new.sensitivity.monte_carlo import MonteCarloSensitivity\n",
    "from emukit_new.experimental_design.acquisitions import IntegratedVarianceReduction, ModelVariance\n",
    "from emukit_new.experimental_design.experimental_design_loop import ExperimentalDesignLoop"
   ]
  },
  {
   "cell_type": "code",
   "execution_count": 2,
   "metadata": {
    "colab": {},
    "colab_type": "code",
    "id": "Ql0yp7H4-iLq",
    "scrolled": false
   },
   "outputs": [
    {
     "name": "stdout",
     "output_type": "stream",
     "text": [
      "fatal: destination path 'tti-explorer' already exists and is not an empty directory.\n",
      "/home/elim/Documents/Cambridge-Master/ML-PhyWorld/tti-le48/tti-explorer-with-changes/notebooks/tti-explorer\n",
      "Note: you may need to restart the kernel to use updated packages.\n",
      "Requirement already satisfied: pyDOE in /home/elim/anaconda3/envs/ML-PhyWorld/lib/python3.6/site-packages (0.3.8)\n",
      "Requirement already satisfied: numpy in /home/elim/anaconda3/envs/ML-PhyWorld/lib/python3.6/site-packages (from pyDOE) (1.19.2)\n",
      "Requirement already satisfied: scipy in /home/elim/anaconda3/envs/ML-PhyWorld/lib/python3.6/site-packages (from pyDOE) (1.1.0)\n",
      "Requirement already satisfied: numpy in /home/elim/anaconda3/envs/ML-PhyWorld/lib/python3.6/site-packages (from pyDOE) (1.19.2)\n",
      "Note: you may need to restart the kernel to use updated packages.\n",
      "Requirement already satisfied: emukit in /home/elim/anaconda3/envs/ML-PhyWorld/lib/python3.6/site-packages (0.4.7)\n",
      "Requirement already satisfied: setuptools>=40.8.0 in /home/elim/anaconda3/envs/ML-PhyWorld/lib/python3.6/site-packages (from emukit) (50.3.2.post20201201)\n",
      "Requirement already satisfied: emcee==2.2.1 in /home/elim/anaconda3/envs/ML-PhyWorld/lib/python3.6/site-packages (from emukit) (2.2.1)\n",
      "Requirement already satisfied: GPy[plotting]>=1.9.9 in /home/elim/anaconda3/envs/ML-PhyWorld/lib/python3.6/site-packages (from emukit) (1.9.9)\n",
      "Requirement already satisfied: numpy>=1.14.5 in /home/elim/anaconda3/envs/ML-PhyWorld/lib/python3.6/site-packages (from emukit) (1.19.2)\n",
      "Requirement already satisfied: scipy==1.1.0 in /home/elim/anaconda3/envs/ML-PhyWorld/lib/python3.6/site-packages (from emukit) (1.1.0)\n",
      "Requirement already satisfied: numpy>=1.14.5 in /home/elim/anaconda3/envs/ML-PhyWorld/lib/python3.6/site-packages (from emukit) (1.19.2)\n",
      "Requirement already satisfied: scipy==1.1.0 in /home/elim/anaconda3/envs/ML-PhyWorld/lib/python3.6/site-packages (from emukit) (1.1.0)\n",
      "Requirement already satisfied: six in /home/elim/anaconda3/envs/ML-PhyWorld/lib/python3.6/site-packages (from GPy[plotting]>=1.9.9->emukit) (1.15.0)\n",
      "Requirement already satisfied: paramz>=0.9.0 in /home/elim/anaconda3/envs/ML-PhyWorld/lib/python3.6/site-packages (from GPy[plotting]>=1.9.9->emukit) (0.9.5)\n",
      "Requirement already satisfied: numpy>=1.14.5 in /home/elim/anaconda3/envs/ML-PhyWorld/lib/python3.6/site-packages (from emukit) (1.19.2)\n",
      "Requirement already satisfied: matplotlib>=3.0 in /home/elim/anaconda3/envs/ML-PhyWorld/lib/python3.6/site-packages (from GPy[plotting]>=1.9.9->emukit) (3.3.2)\n",
      "Requirement already satisfied: plotly>=1.8.6 in /home/elim/anaconda3/envs/ML-PhyWorld/lib/python3.6/site-packages (from GPy[plotting]>=1.9.9->emukit) (4.14.0)\n",
      "Requirement already satisfied: scipy==1.1.0 in /home/elim/anaconda3/envs/ML-PhyWorld/lib/python3.6/site-packages (from emukit) (1.1.0)\n",
      "Requirement already satisfied: six in /home/elim/anaconda3/envs/ML-PhyWorld/lib/python3.6/site-packages (from GPy[plotting]>=1.9.9->emukit) (1.15.0)\n",
      "Requirement already satisfied: paramz>=0.9.0 in /home/elim/anaconda3/envs/ML-PhyWorld/lib/python3.6/site-packages (from GPy[plotting]>=1.9.9->emukit) (0.9.5)\n",
      "Requirement already satisfied: numpy>=1.14.5 in /home/elim/anaconda3/envs/ML-PhyWorld/lib/python3.6/site-packages (from emukit) (1.19.2)\n",
      "Requirement already satisfied: pillow>=6.2.0 in /home/elim/anaconda3/envs/ML-PhyWorld/lib/python3.6/site-packages (from matplotlib>=3.0->GPy[plotting]>=1.9.9->emukit) (8.0.1)\n",
      "Requirement already satisfied: numpy>=1.14.5 in /home/elim/anaconda3/envs/ML-PhyWorld/lib/python3.6/site-packages (from emukit) (1.19.2)\n",
      "Requirement already satisfied: kiwisolver>=1.0.1 in /home/elim/anaconda3/envs/ML-PhyWorld/lib/python3.6/site-packages (from matplotlib>=3.0->GPy[plotting]>=1.9.9->emukit) (1.3.0)\n",
      "Requirement already satisfied: pyparsing!=2.0.4,!=2.1.2,!=2.1.6,>=2.0.3 in /home/elim/anaconda3/envs/ML-PhyWorld/lib/python3.6/site-packages (from matplotlib>=3.0->GPy[plotting]>=1.9.9->emukit) (2.4.7)\n",
      "Requirement already satisfied: cycler>=0.10 in /home/elim/anaconda3/envs/ML-PhyWorld/lib/python3.6/site-packages (from matplotlib>=3.0->GPy[plotting]>=1.9.9->emukit) (0.10.0)\n",
      "Requirement already satisfied: python-dateutil>=2.1 in /home/elim/anaconda3/envs/ML-PhyWorld/lib/python3.6/site-packages (from matplotlib>=3.0->GPy[plotting]>=1.9.9->emukit) (2.8.1)\n",
      "Requirement already satisfied: certifi>=2020.06.20 in /home/elim/anaconda3/envs/ML-PhyWorld/lib/python3.6/site-packages (from matplotlib>=3.0->GPy[plotting]>=1.9.9->emukit) (2020.6.20)\n",
      "Requirement already satisfied: six in /home/elim/anaconda3/envs/ML-PhyWorld/lib/python3.6/site-packages (from GPy[plotting]>=1.9.9->emukit) (1.15.0)\n",
      "Requirement already satisfied: decorator>=4.0.10 in /home/elim/anaconda3/envs/ML-PhyWorld/lib/python3.6/site-packages (from paramz>=0.9.0->GPy[plotting]>=1.9.9->emukit) (4.4.2)\n",
      "Requirement already satisfied: six in /home/elim/anaconda3/envs/ML-PhyWorld/lib/python3.6/site-packages (from GPy[plotting]>=1.9.9->emukit) (1.15.0)\n",
      "Requirement already satisfied: scipy==1.1.0 in /home/elim/anaconda3/envs/ML-PhyWorld/lib/python3.6/site-packages (from emukit) (1.1.0)\n",
      "Requirement already satisfied: numpy>=1.14.5 in /home/elim/anaconda3/envs/ML-PhyWorld/lib/python3.6/site-packages (from emukit) (1.19.2)\n",
      "Requirement already satisfied: retrying>=1.3.3 in /home/elim/anaconda3/envs/ML-PhyWorld/lib/python3.6/site-packages (from plotly>=1.8.6->GPy[plotting]>=1.9.9->emukit) (1.3.3)\n",
      "Requirement already satisfied: six in /home/elim/anaconda3/envs/ML-PhyWorld/lib/python3.6/site-packages (from GPy[plotting]>=1.9.9->emukit) (1.15.0)\n",
      "Requirement already satisfied: six in /home/elim/anaconda3/envs/ML-PhyWorld/lib/python3.6/site-packages (from GPy[plotting]>=1.9.9->emukit) (1.15.0)\n",
      "Requirement already satisfied: six in /home/elim/anaconda3/envs/ML-PhyWorld/lib/python3.6/site-packages (from GPy[plotting]>=1.9.9->emukit) (1.15.0)\n",
      "Requirement already satisfied: numpy>=1.14.5 in /home/elim/anaconda3/envs/ML-PhyWorld/lib/python3.6/site-packages (from emukit) (1.19.2)\n",
      "Note: you may need to restart the kernel to use updated packages.\n",
      "Requirement already satisfied: gpy in /home/elim/anaconda3/envs/ML-PhyWorld/lib/python3.6/site-packages (1.9.9)\n",
      "Requirement already satisfied: paramz>=0.9.0 in /home/elim/anaconda3/envs/ML-PhyWorld/lib/python3.6/site-packages (from gpy) (0.9.5)\n",
      "Requirement already satisfied: scipy>=0.16 in /home/elim/anaconda3/envs/ML-PhyWorld/lib/python3.6/site-packages (from gpy) (1.1.0)\n",
      "Requirement already satisfied: six in /home/elim/anaconda3/envs/ML-PhyWorld/lib/python3.6/site-packages (from gpy) (1.15.0)\n",
      "Requirement already satisfied: numpy>=1.7 in /home/elim/anaconda3/envs/ML-PhyWorld/lib/python3.6/site-packages (from gpy) (1.19.2)\n",
      "Requirement already satisfied: scipy>=0.16 in /home/elim/anaconda3/envs/ML-PhyWorld/lib/python3.6/site-packages (from gpy) (1.1.0)\n",
      "Requirement already satisfied: decorator>=4.0.10 in /home/elim/anaconda3/envs/ML-PhyWorld/lib/python3.6/site-packages (from paramz>=0.9.0->gpy) (4.4.2)\n",
      "Requirement already satisfied: six in /home/elim/anaconda3/envs/ML-PhyWorld/lib/python3.6/site-packages (from gpy) (1.15.0)\n",
      "Requirement already satisfied: numpy>=1.7 in /home/elim/anaconda3/envs/ML-PhyWorld/lib/python3.6/site-packages (from gpy) (1.19.2)\n",
      "Requirement already satisfied: numpy>=1.7 in /home/elim/anaconda3/envs/ML-PhyWorld/lib/python3.6/site-packages (from gpy) (1.19.2)\n",
      "Note: you may need to restart the kernel to use updated packages.\n"
     ]
    }
   ],
   "source": [
    "!git clone https://github.com/rs-delve/tti-explorer.git\n",
    "%cd tti-explorer\n",
    "%pip install -q .\n",
    "\n",
    "import os\n",
    "\n",
    "import numpy as np\n",
    "import pandas as pd\n",
    "from tqdm.notebook import trange\n",
    "\n",
    "from tti_explorer import config, utils\n",
    "from tti_explorer.case import simulate_case, CaseFactors\n",
    "from tti_explorer.contacts import EmpiricalContactsSimulator\n",
    "from tti_explorer.strategies import TTIFlowModel, RETURN_KEYS\n",
    "\n",
    "%pip install pyDOE\n",
    "%pip install emukit\n",
    "%pip install gpy\n",
    "import urllib.request\n",
    "import numpy as np\n",
    "import matplotlib.pyplot as plt\n",
    "\n",
    "urllib.request.urlretrieve('https://raw.githubusercontent.com/lawrennd/talks/gh-pages/teaching_plots.py','teaching_plots.py')\n",
    "urllib.request.urlretrieve('https://raw.githubusercontent.com/lawrennd/talks/gh-pages/mlai.py','mlai.py')\n",
    "urllib.request.urlretrieve('https://raw.githubusercontent.com/lawrennd/talks/gh-pages/gp_tutorial.py','gp_tutorial.py')\n",
    "\n",
    "\n",
    "from matplotlib import colors as mcolors\n",
    "from matplotlib import cm\n",
    "import numpy as np\n",
    "import GPy\n",
    "from GPy.models import GPRegression\n",
    "import matplotlib.pyplot as pltb\n",
    "import teaching_plots as plot\n",
    "import mlai\n",
    "import pandas as pd"
   ]
  },
  {
   "cell_type": "markdown",
   "metadata": {
    "colab_type": "text",
    "id": "t8xUXOXV-iLt"
   },
   "source": [
    "We will analyse the `S3_test_based_TTI` strategy from our report. For clarity, we will show the whole process."
   ]
  },
  {
   "cell_type": "code",
   "execution_count": 3,
   "metadata": {},
   "outputs": [],
   "source": [
    "def load_csv(pth):\n",
    "    return np.loadtxt(pth, dtype=int, skiprows=1, delimiter=\",\")\n",
    "\n",
    "path_to_bbc_data = os.path.join(\"data\", \"bbc-pandemic\")\n",
    "\n",
    "over18 = load_csv(os.path.join(path_to_bbc_data, \"contact_distributions_o18.csv\"))\n",
    "under18 = load_csv(os.path.join(path_to_bbc_data, \"contact_distributions_u18.csv\"))"
   ]
  },
  {
   "cell_type": "markdown",
   "metadata": {
    "colab_type": "text",
    "id": "CPvGkTFW-iLu"
   },
   "source": [
    "First get the configurations:"
   ]
  },
  {
   "cell_type": "code",
   "execution_count": 4,
   "metadata": {
    "colab": {},
    "colab_type": "code",
    "id": "dz1zBETF-iLu"
   },
   "outputs": [],
   "source": [
    "name = 'S3_test_based_TTI'\n",
    "\n",
    "case_config = config.get_case_config(\"delve\")\n",
    "contacts_config = config.get_contacts_config(\"delve\")\n",
    "policy_config = config.get_strategy_configs(\"delve\", name)[name]"
   ]
  },
  {
   "cell_type": "code",
   "execution_count": 5,
   "metadata": {},
   "outputs": [
    {
     "data": {
      "text/plain": [
       "{'isolate_individual_on_symptoms': True,\n",
       " 'isolate_individual_on_positive': True,\n",
       " 'isolate_household_on_symptoms': True,\n",
       " 'isolate_household_on_positive': True,\n",
       " 'isolate_contacts_on_symptoms': False,\n",
       " 'isolate_contacts_on_positive': True,\n",
       " 'test_contacts_on_positive': False,\n",
       " 'do_symptom_testing': True,\n",
       " 'do_manual_tracing': True,\n",
       " 'do_app_tracing': True,\n",
       " 'fractional_infections': True,\n",
       " 'testing_delay': 2,\n",
       " 'app_trace_delay': 0,\n",
       " 'manual_trace_delay': 1,\n",
       " 'manual_home_trace_prob': 1.0,\n",
       " 'manual_work_trace_prob': 1.0,\n",
       " 'manual_othr_trace_prob': 1.0,\n",
       " 'met_before_w': 0.79,\n",
       " 'met_before_s': 0.9,\n",
       " 'met_before_o': 0.9,\n",
       " 'max_contacts': 10,\n",
       " 'quarantine_length': 14,\n",
       " 'latent_period': 3,\n",
       " 'app_cov': 0.35,\n",
       " 'compliance': 0.8,\n",
       " 'go_to_school_prob': 0.5,\n",
       " 'wfh_prob': 0.45}"
      ]
     },
     "execution_count": 5,
     "metadata": {},
     "output_type": "execute_result"
    }
   ],
   "source": [
    "policy_config"
   ]
  },
  {
   "cell_type": "code",
   "execution_count": 6,
   "metadata": {
    "scrolled": false
   },
   "outputs": [],
   "source": [
    "from scipy.stats import gamma\n",
    "\n",
    "def update_case_config(p_day_noticed_symptoms_ab):\n",
    "    alpha = p_day_noticed_symptoms_ab[0]\n",
    "    beta = p_day_noticed_symptoms_ab[1]\n",
    "\n",
    "    x = np.linspace(gamma.pdf(0.01, a=alpha, scale=1/beta),\n",
    "                    gamma.pdf(0.99, a=alpha, scale=1/beta), 10)\n",
    "    \n",
    "    #apply softmax\n",
    "    norm = np.exp(x)\n",
    "    s = sum(norm)\n",
    "    norm = np.round(norm/s, decimals=2)\n",
    "    norm[-1] = 1- sum(norm[:-1])\n",
    "    \n",
    "    case_config['p_day_noticed_symptoms'] = norm\n",
    "    \n",
    "    return case_config"
   ]
  },
  {
   "cell_type": "code",
   "execution_count": 7,
   "metadata": {},
   "outputs": [],
   "source": [
    "def update_policy_config(app_uptake, pol_compl, wfh_prob):\n",
    "    policy_config['app_cov'] = app_uptake\n",
    "    policy_config['compliance'] = pol_compl\n",
    "    policy_config['wfh_prob'] = wfh_prob\n",
    "    return policy_config"
   ]
  },
  {
   "cell_type": "code",
   "execution_count": 8,
   "metadata": {},
   "outputs": [],
   "source": [
    "# Separating this because it is built from the ammended policy_config\n",
    "\n",
    "factor_config = utils.get_sub_dictionary(policy_config, config.DELVE_CASE_FACTOR_KEYS)\n",
    "strategy_config = utils.get_sub_dictionary(policy_config, config.DELVE_STRATEGY_FACTOR_KEYS)"
   ]
  },
  {
   "cell_type": "markdown",
   "metadata": {
    "colab_type": "text",
    "id": "le8N86QT-iLx"
   },
   "source": [
    "Set a random state:"
   ]
  },
  {
   "cell_type": "code",
   "execution_count": 9,
   "metadata": {
    "colab": {},
    "colab_type": "code",
    "id": "f9LUG5IH-iLy"
   },
   "outputs": [],
   "source": [
    "rng = np.random.RandomState(42)"
   ]
  },
  {
   "cell_type": "markdown",
   "metadata": {
    "colab_type": "text",
    "id": "fOxJ84t3-iL1"
   },
   "source": [
    "Make contact simulator:"
   ]
  },
  {
   "cell_type": "code",
   "execution_count": 10,
   "metadata": {
    "colab": {},
    "colab_type": "code",
    "id": "cr92iit4-iL2"
   },
   "outputs": [],
   "source": [
    "simulate_contacts = EmpiricalContactsSimulator(over18, under18, rng)"
   ]
  },
  {
   "cell_type": "markdown",
   "metadata": {
    "colab_type": "text",
    "id": "HAgmj657-iL6"
   },
   "source": [
    "Make the TTI Model:"
   ]
  },
  {
   "cell_type": "code",
   "execution_count": 11,
   "metadata": {
    "colab": {},
    "colab_type": "code",
    "id": "NjH7Ih7x-iL7"
   },
   "outputs": [],
   "source": [
    "tti_model = TTIFlowModel(rng, **strategy_config)"
   ]
  },
  {
   "cell_type": "markdown",
   "metadata": {
    "colab_type": "text",
    "id": "7IFGP5K6-iL-"
   },
   "source": [
    "Generate cases, contacts and run simulation:"
   ]
  },
  {
   "cell_type": "code",
   "execution_count": 12,
   "metadata": {},
   "outputs": [],
   "source": [
    "\"\"\"\n",
    "Runs TTI simulator as many times as the different input initialisations.\n",
    "The main reason we need this is to put in to EmuKit for the Experimental\n",
    "Design Loop.\n",
    "\n",
    "Args:\n",
    "    pol_configs (list): Inputs are [app_cov, compliance]\n",
    "\n",
    "Returns:\n",
    "    effective_rs (np.expand_dims(np.array(to_return), 1)): For every simulation run, return\n",
    "    the effective r, as was plotted form Bryn and Andrei previously.\n",
    "\n",
    "\"\"\"\n",
    "rng = np.random.RandomState(42)\n",
    "simulate_contacts = EmpiricalContactsSimulator(over18, under18, rng)\n",
    "\n",
    "def run_tti_sim(pol_configs):\n",
    "    to_return=[]\n",
    "    for vals in pol_configs:\n",
    "#         case_config = update_case_config([vals[0],vals[1]])\n",
    "        policy_config = update_policy_config(vals[0],vals[1],vals[2])\n",
    "        factor_config = utils.get_sub_dictionary(policy_config, config.DELVE_CASE_FACTOR_KEYS)\n",
    "        strategy_config = utils.get_sub_dictionary(policy_config, config.DELVE_STRATEGY_FACTOR_KEYS)\n",
    "        tti_model = TTIFlowModel(rng, **strategy_config)\n",
    "        n_cases = 10000\n",
    "        outputs = list()\n",
    "        temp =[]\n",
    "        for _ in trange(n_cases):\n",
    "            case = simulate_case(rng, **case_config)\n",
    "            case_factors = CaseFactors.simulate_from(rng, case, **factor_config)\n",
    "            contacts = simulate_contacts(case, **contacts_config)\n",
    "            res = tti_model(case, contacts, case_factors)\n",
    "            outputs.append(res)\n",
    "            if res[\"Effective R\"] >= 0:\n",
    "                temp.append(res[\"Effective R\"]) # Get effective R. Only non-nan vals are kept\n",
    "        to_return.append(np.mean(temp))\n",
    "    return np.expand_dims(np.array(to_return), 1)\n"
   ]
  },
  {
   "cell_type": "code",
   "execution_count": 13,
   "metadata": {},
   "outputs": [
    {
     "data": {
      "application/vnd.jupyter.widget-view+json": {
       "model_id": "5d9f5e2329b34b4f9d0f9ed97f878469",
       "version_major": 2,
       "version_minor": 0
      },
      "text/plain": [
       "HBox(children=(HTML(value=''), FloatProgress(value=0.0, max=10000.0), HTML(value='')))"
      ]
     },
     "metadata": {},
     "output_type": "display_data"
    },
    {
     "name": "stdout",
     "output_type": "stream",
     "text": [
      "\n"
     ]
    },
    {
     "data": {
      "application/vnd.jupyter.widget-view+json": {
       "model_id": "0babb78dca4645be9144aa55a0b42550",
       "version_major": 2,
       "version_minor": 0
      },
      "text/plain": [
       "HBox(children=(HTML(value=''), FloatProgress(value=0.0, max=10000.0), HTML(value='')))"
      ]
     },
     "metadata": {},
     "output_type": "display_data"
    },
    {
     "name": "stdout",
     "output_type": "stream",
     "text": [
      "\n"
     ]
    },
    {
     "data": {
      "application/vnd.jupyter.widget-view+json": {
       "model_id": "f1ba331e2a7149d68b2ed1af3facec2e",
       "version_major": 2,
       "version_minor": 0
      },
      "text/plain": [
       "HBox(children=(HTML(value=''), FloatProgress(value=0.0, max=10000.0), HTML(value='')))"
      ]
     },
     "metadata": {},
     "output_type": "display_data"
    },
    {
     "name": "stdout",
     "output_type": "stream",
     "text": [
      "\n"
     ]
    },
    {
     "data": {
      "application/vnd.jupyter.widget-view+json": {
       "model_id": "9b8cf95c6149423fbfcefd4a488be6c0",
       "version_major": 2,
       "version_minor": 0
      },
      "text/plain": [
       "HBox(children=(HTML(value=''), FloatProgress(value=0.0, max=10000.0), HTML(value='')))"
      ]
     },
     "metadata": {},
     "output_type": "display_data"
    },
    {
     "name": "stdout",
     "output_type": "stream",
     "text": [
      "\n"
     ]
    },
    {
     "data": {
      "application/vnd.jupyter.widget-view+json": {
       "model_id": "6f45c984e5a34132992d18b8a5eb8348",
       "version_major": 2,
       "version_minor": 0
      },
      "text/plain": [
       "HBox(children=(HTML(value=''), FloatProgress(value=0.0, max=10000.0), HTML(value='')))"
      ]
     },
     "metadata": {},
     "output_type": "display_data"
    },
    {
     "name": "stdout",
     "output_type": "stream",
     "text": [
      "\n"
     ]
    }
   ],
   "source": [
    "variable_domain = [0.05, 1] \n",
    "variable_domain2 = [1,5] \n",
    "# Set variables range. Since we are dealing with percentages (app_cov, compliance)\n",
    "# [0.05, 1] should do.\n",
    "initial_samples = 5 # number of random runs to perform before starting experimental design \n",
    "space = ParameterSpace([ContinuousParameter('app_cov', *variable_domain),\n",
    "                        ContinuousParameter('compliance', *variable_domain),\n",
    "                        ContinuousParameter('wfh_prob', *variable_domain)]) # init param space for experimental design\n",
    "design = RandomDesign(space)\n",
    "x = design.get_samples(initial_samples) # get 5 random combinations of initialisations\n",
    "y = run_tti_sim(x) # obtain corresponding effective_rs"
   ]
  },
  {
   "cell_type": "code",
   "execution_count": 14,
   "metadata": {},
   "outputs": [
    {
     "name": "stdout",
     "output_type": "stream",
     "text": [
      "Optimization restart 1/1, f = 3.5544683676078885\n"
     ]
    },
    {
     "data": {
      "text/html": [
       "<style type=\"text/css\">\n",
       ".pd{\n",
       "    font-family: \"Courier New\", Courier, monospace !important;\n",
       "    width: 100%;\n",
       "    padding: 3px;\n",
       "}\n",
       "</style>\n",
       "\n",
       "<p class=pd>\n",
       "<b>Model</b>: GP regression<br>\n",
       "<b>Objective</b>: 3.5544683676078885<br>\n",
       "<b>Number of Parameters</b>: 6<br>\n",
       "<b>Number of Optimization Parameters</b>: 5<br>\n",
       "<b>Updates</b>: True<br>\n",
       "</p>\n",
       "<style type=\"text/css\">\n",
       ".tg  {font-family:\"Courier New\", Courier, monospace !important;padding:2px 3px;word-break:normal;border-collapse:collapse;border-spacing:0;border-color:#DCDCDC;margin:0px auto;width:100%;}\n",
       ".tg td{font-family:\"Courier New\", Courier, monospace !important;font-weight:bold;color:#444;background-color:#F7FDFA;border-style:solid;border-width:1px;overflow:hidden;word-break:normal;border-color:#DCDCDC;}\n",
       ".tg th{font-family:\"Courier New\", Courier, monospace !important;font-weight:normal;color:#fff;background-color:#26ADE4;border-style:solid;border-width:1px;overflow:hidden;word-break:normal;border-color:#DCDCDC;}\n",
       ".tg .tg-left{font-family:\"Courier New\", Courier, monospace !important;font-weight:normal;text-align:left;}\n",
       ".tg .tg-center{font-family:\"Courier New\", Courier, monospace !important;font-weight:normal;text-align:center;}\n",
       ".tg .tg-right{font-family:\"Courier New\", Courier, monospace !important;font-weight:normal;text-align:right;}\n",
       "</style>\n",
       "<table class=\"tg\"><tr><th><b>  GP_regression.         </b></th><th><b>                 value</b></th><th><b>constraints</b></th><th><b>priors</b></th></tr>\n",
       "<tr><td class=tg-left>  sum.rbf.variance       </td><td class=tg-right>     2.966205625692424</td><td class=tg-center>    +ve    </td><td class=tg-center>      </td></tr>\n",
       "<tr><td class=tg-left>  sum.rbf.lengthscale    </td><td class=tg-right>                  (3,)</td><td class=tg-center>    +ve    </td><td class=tg-center>      </td></tr>\n",
       "<tr><td class=tg-left>  sum.bias.variance      </td><td class=tg-right>1.6347848878005773e-07</td><td class=tg-center>    +ve    </td><td class=tg-center>      </td></tr>\n",
       "<tr><td class=tg-left>  Gaussian_noise.variance</td><td class=tg-right>                 1e-05</td><td class=tg-center> +ve fixed </td><td class=tg-center>      </td></tr>\n",
       "</table>"
      ],
      "text/plain": [
       "<GPy.models.gp_regression.GPRegression at 0x7f7430bb8e10>"
      ]
     },
     "metadata": {},
     "output_type": "display_data"
    }
   ],
   "source": [
    "# Fitting emulator to data, x: (app_cov, compliance), y: effective_r\n",
    "Num_of_param = 3\n",
    "kern_eq = GPy.kern.RBF(input_dim=Num_of_param, ARD = True)\n",
    "kern_bias = GPy.kern.Bias(input_dim=Num_of_param)\n",
    "kern = kern_eq + kern_bias\n",
    "model_gpy = GPRegression(x,y, kern)\n",
    "model_gpy.kern.variance = 1**2\n",
    "model_gpy.likelihood.variance.fix(1e-5)\n",
    "model_emukit = GPyModelWrapper(model_gpy) \n",
    "model_emukit.optimize() # optimise (max log-lik)\n",
    "display(model_gpy)\n"
   ]
  },
  {
   "cell_type": "code",
   "execution_count": 15,
   "metadata": {
    "scrolled": true
   },
   "outputs": [
    {
     "name": "stdout",
     "output_type": "stream",
     "text": [
      "Optimization restart 1/1, f = 3.554468365863891\n"
     ]
    },
    {
     "data": {
      "application/vnd.jupyter.widget-view+json": {
       "model_id": "306dc13e1e64429c8c225762b8184471",
       "version_major": 2,
       "version_minor": 0
      },
      "text/plain": [
       "HBox(children=(HTML(value=''), FloatProgress(value=0.0, max=10000.0), HTML(value='')))"
      ]
     },
     "metadata": {},
     "output_type": "display_data"
    },
    {
     "name": "stdout",
     "output_type": "stream",
     "text": [
      "\n",
      "Optimization restart 1/1, f = 2.6536861953144983\n"
     ]
    },
    {
     "data": {
      "application/vnd.jupyter.widget-view+json": {
       "model_id": "94f51d19ea41453d8d72e34becdfb96b",
       "version_major": 2,
       "version_minor": 0
      },
      "text/plain": [
       "HBox(children=(HTML(value=''), FloatProgress(value=0.0, max=10000.0), HTML(value='')))"
      ]
     },
     "metadata": {},
     "output_type": "display_data"
    },
    {
     "name": "stdout",
     "output_type": "stream",
     "text": [
      "\n",
      "Optimization restart 1/1, f = 2.370052236971633\n"
     ]
    },
    {
     "name": "stderr",
     "output_type": "stream",
     "text": [
      " /home/elim/anaconda3/envs/ML-PhyWorld/lib/python3.6/site-packages/paramz/transformations.py:111: RuntimeWarning:overflow encountered in expm1\n"
     ]
    },
    {
     "data": {
      "application/vnd.jupyter.widget-view+json": {
       "model_id": "ee66099efc624e2f8f55c2c18bd2ecdf",
       "version_major": 2,
       "version_minor": 0
      },
      "text/plain": [
       "HBox(children=(HTML(value=''), FloatProgress(value=0.0, max=10000.0), HTML(value='')))"
      ]
     },
     "metadata": {},
     "output_type": "display_data"
    },
    {
     "name": "stdout",
     "output_type": "stream",
     "text": [
      "\n",
      "Optimization restart 1/1, f = 0.052446746315695236\n"
     ]
    }
   ],
   "source": [
    "# Initialise experimental design loop. Using integrated variance as acquisition\n",
    "# to \"query\" the input space aiming to reduce uncertainty over the func we're approx. i.e. effective_r\n",
    "num_of_loops = 1\n",
    "integrated_variance = IntegratedVarianceReduction(space=space, model=model_emukit)\n",
    "ed = ExperimentalDesignLoop(space=space, model=model_emukit, acquisition = integrated_variance)\n",
    "ed.run_loop(run_tti_sim, 3)"
   ]
  },
  {
   "cell_type": "code",
   "execution_count": 16,
   "metadata": {
    "scrolled": true
   },
   "outputs": [],
   "source": [
    "from emukit_new.sensitivity.monte_carlo import ModelFreeMonteCarloSensitivity\n",
    "from emukit_new.sensitivity.monte_carlo import MonteCarloSensitivity\n",
    "from emukit_new.sensitivity.monte_carlo import MonteCarloSecondOrderSensitivity\n",
    "\n",
    "senstivity = MonteCarloSecondOrderSensitivity(model = model_emukit, input_domain = space)\n",
    "\n",
    "main_effects_gp, secondary_effects_gp, total_effects_gp, _ = senstivity.compute_effects(num_monte_carlo_points = 1000)\n"
   ]
  },
  {
   "cell_type": "code",
   "execution_count": 25,
   "metadata": {},
   "outputs": [
    {
     "data": {
      "text/plain": [
       "Text(0.5, 1.0, 'First Order Sobol Indices')"
      ]
     },
     "execution_count": 25,
     "metadata": {},
     "output_type": "execute_result"
    },
    {
     "data": {
      "image/png": "[encoded data removed]",
      "text/plain": [
       "<Figure size 720x432 with 1 Axes>"
      ]
     },
     "metadata": {
      "needs_background": "light"
     },
     "output_type": "display_data"
    }
   ],
   "source": [
    "# Plot Main Effects\n",
    "fig, ax = plt.subplots(figsize=plot.big_wide_figsize)\n",
    "main_effects_gp_plot = {ivar: main_effects_gp[ivar][0] for ivar in main_effects_gp}\n",
    "\n",
    "d = {'GP Monte Carlo':main_effects_gp_plot}\n",
    "\n",
    "pd.DataFrame(d).plot(kind='bar', ax=ax)\n",
    "plt.ylabel('% of explained output variance')\n",
    "\n",
    "ax.set_title(\"First Order Sobol Indices\")"
   ]
  },
  {
   "cell_type": "code",
   "execution_count": 26,
   "metadata": {},
   "outputs": [
    {
     "data": {
      "text/plain": [
       "Text(0.5, 1.0, 'Second Order Sobol Indices')"
      ]
     },
     "execution_count": 26,
     "metadata": {},
     "output_type": "execute_result"
    },
    {
     "data": {
      "image/png": "[encoded data removed]",
      "text/plain": [
       "<Figure size 720x432 with 1 Axes>"
      ]
     },
     "metadata": {
      "needs_background": "light"
     },
     "output_type": "display_data"
    }
   ],
   "source": [
    "# Plot Second Order Effects\n",
    "fig, ax = plt.subplots(figsize=plot.big_wide_figsize)\n",
    "secondary_effects_gp_plot = {ivar: secondary_effects_gp[ivar] for ivar in secondary_effects_gp}\n",
    "\n",
    "for ivar in secondary_effects_gp:\n",
    "    ax.bar(ivar,secondary_effects_gp[ivar], color = 'grey')\n",
    "    \n",
    "plt.ylabel('% of explained output variance')   \n",
    "ax.set_title(\"Second Order Sobol Indices\")"
   ]
  },
  {
   "cell_type": "code",
   "execution_count": 27,
   "metadata": {
    "scrolled": true
   },
   "outputs": [
    {
     "data": {
      "text/plain": [
       "Text(0.5, 1.0, 'Total Effects')"
      ]
     },
     "execution_count": 27,
     "metadata": {},
     "output_type": "execute_result"
    },
    {
     "data": {
      "image/png": "[encoded data removed]",
      "text/plain": [
       "<Figure size 720x432 with 1 Axes>"
      ]
     },
     "metadata": {
      "needs_background": "light"
     },
     "output_type": "display_data"
    }
   ],
   "source": [
    "# Plot Total Effects\n",
    "fig, ax = plt.subplots(figsize=plot.big_wide_figsize)\n",
    "total_effects_gp_plot = {ivar: total_effects_gp[ivar][0] for ivar in main_effects_gp}\n",
    "\n",
    "d = {'GP Monte Carlo':total_effects_gp_plot}\n",
    "\n",
    "pd.DataFrame(d).plot(kind='bar', ax=ax)\n",
    "plt.ylabel('% of explained output variance')\n",
    "\n",
    "ax.set_title(\"Total Effects\")"
   ]
  },
  {
   "cell_type": "code",
   "execution_count": 21,
   "metadata": {},
   "outputs": [
    {
     "data": {
      "text/plain": [
       "{'app_cov': array([-0.21896446]),\n",
       " 'compliance': array([0.70953378]),\n",
       " 'wfh_prob': array([0.03751722])}"
      ]
     },
     "execution_count": 21,
     "metadata": {},
     "output_type": "execute_result"
    }
   ],
   "source": [
    "main_effects_gp"
   ]
  },
  {
   "cell_type": "code",
   "execution_count": 22,
   "metadata": {},
   "outputs": [
    {
     "data": {
      "text/plain": [
       "{'app_cov+compliance': array([0.21896384]),\n",
       " 'app_cov+wfh_prob': array([0.21896384]),\n",
       " 'compliance+wfh_prob': array([0.26372627])}"
      ]
     },
     "execution_count": 22,
     "metadata": {},
     "output_type": "execute_result"
    }
   ],
   "source": [
    "secondary_effects_gp"
   ]
  },
  {
   "cell_type": "code",
   "execution_count": 23,
   "metadata": {},
   "outputs": [
    {
     "data": {
      "text/plain": [
       "{'app_cov': array([0.40960736]),\n",
       " 'compliance': array([0.90606231]),\n",
       " 'wfh_prob': array([0.75569607])}"
      ]
     },
     "execution_count": 23,
     "metadata": {},
     "output_type": "execute_result"
    }
   ],
   "source": [
    "total_effects_gp"
   ]
  },
  {
   "cell_type": "code",
   "execution_count": 24,
   "metadata": {},
   "outputs": [
    {
     "data": {
      "text/plain": [
       "0.32754945116999273"
      ]
     },
     "execution_count": 24,
     "metadata": {},
     "output_type": "execute_result"
    }
   ],
   "source": [
    "_"
   ]
  },
  {
   "cell_type": "code",
   "execution_count": null,
   "metadata": {},
   "outputs": [],
   "source": []
  }
 ],
 "metadata": {
  "colab": {
   "include_colab_link": true,
   "name": "tti-experiment.ipynb",
   "provenance": []
  },
  "kernelspec": {
   "display_name": "Python 3",
   "language": "python",
   "name": "python3"
  },
  "language_info": {
   "codemirror_mode": {
    "name": "ipython",
    "version": 3
   },
   "file_extension": ".py",
   "mimetype": "text/x-python",
   "name": "python",
   "nbconvert_exporter": "python",
   "pygments_lexer": "ipython3",
   "version": "3.6.12"
  },
  "widgets": {
   "application/vnd.jupyter.widget-state+json": {
    "01c6627a03e747b7a0bcedc0e31e94c2": {
     "model_module": "@jupyter-widgets/controls",
     "model_name": "FloatProgressModel",
     "state": {
      "_dom_classes": [],
      "_model_module": "@jupyter-widgets/controls",
      "_model_module_version": "1.5.0",
      "_model_name": "FloatProgressModel",
      "_view_count": null,
      "_view_module": "@jupyter-widgets/controls",
      "_view_module_version": "1.5.0",
      "_view_name": "ProgressView",
      "bar_style": "success",
      "description": "100%",
      "description_tooltip": null,
      "layout": "IPY_MODEL_27ae62f93b924c9f90cf1023ec62e147",
      "max": 10000,
      "min": 0,
      "orientation": "horizontal",
      "style": "IPY_MODEL_d683e78b8341498cb158a434cbf70c12",
      "value": 10000
     }
    },
    "026757afe50d4f14a7ba0beaf180574e": {
     "model_module": "@jupyter-widgets/controls",
     "model_name": "DescriptionStyleModel",
     "state": {
      "_model_module": "@jupyter-widgets/controls",
      "_model_module_version": "1.5.0",
      "_model_name": "DescriptionStyleModel",
      "_view_count": null,
      "_view_module": "@jupyter-widgets/base",
      "_view_module_version": "1.2.0",
      "_view_name": "StyleView",
      "description_width": ""
     }
    },
    "27ae62f93b924c9f90cf1023ec62e147": {
     "model_module": "@jupyter-widgets/base",
     "model_name": "LayoutModel",
     "state": {
      "_model_module": "@jupyter-widgets/base",
      "_model_module_version": "1.2.0",
      "_model_name": "LayoutModel",
      "_view_count": null,
      "_view_module": "@jupyter-widgets/base",
      "_view_module_version": "1.2.0",
      "_view_name": "LayoutView",
      "align_content": null,
      "align_items": null,
      "align_self": null,
      "border": null,
      "bottom": null,
      "display": null,
      "flex": null,
      "flex_flow": null,
      "grid_area": null,
      "grid_auto_columns": null,
      "grid_auto_flow": null,
      "grid_auto_rows": null,
      "grid_column": null,
      "grid_gap": null,
      "grid_row": null,
      "grid_template_areas": null,
      "grid_template_columns": null,
      "grid_template_rows": null,
      "height": null,
      "justify_content": null,
      "justify_items": null,
      "left": null,
      "margin": null,
      "max_height": null,
      "max_width": null,
      "min_height": null,
      "min_width": null,
      "object_fit": null,
      "object_position": null,
      "order": null,
      "overflow": null,
      "overflow_x": null,
      "overflow_y": null,
      "padding": null,
      "right": null,
      "top": null,
      "visibility": null,
      "width": null
     }
    },
    "29401bc5d41a48bdae60957b7f3126e8": {
     "model_module": "@jupyter-widgets/controls",
     "model_name": "HTMLModel",
     "state": {
      "_dom_classes": [],
      "_model_module": "@jupyter-widgets/controls",
      "_model_module_version": "1.5.0",
      "_model_name": "HTMLModel",
      "_view_count": null,
      "_view_module": "@jupyter-widgets/controls",
      "_view_module_version": "1.5.0",
      "_view_name": "HTMLView",
      "description": "",
      "description_tooltip": null,
      "layout": "IPY_MODEL_44207771133e47f3a8fb7eaca6c5c1fc",
      "placeholder": "​",
      "style": "IPY_MODEL_026757afe50d4f14a7ba0beaf180574e",
      "value": " 10000/10000 [00:05&lt;00:00, 1685.76it/s]"
     }
    },
    "44207771133e47f3a8fb7eaca6c5c1fc": {
     "model_module": "@jupyter-widgets/base",
     "model_name": "LayoutModel",
     "state": {
      "_model_module": "@jupyter-widgets/base",
      "_model_module_version": "1.2.0",
      "_model_name": "LayoutModel",
      "_view_count": null,
      "_view_module": "@jupyter-widgets/base",
      "_view_module_version": "1.2.0",
      "_view_name": "LayoutView",
      "align_content": null,
      "align_items": null,
      "align_self": null,
      "border": null,
      "bottom": null,
      "display": null,
      "flex": null,
      "flex_flow": null,
      "grid_area": null,
      "grid_auto_columns": null,
      "grid_auto_flow": null,
      "grid_auto_rows": null,
      "grid_column": null,
      "grid_gap": null,
      "grid_row": null,
      "grid_template_areas": null,
      "grid_template_columns": null,
      "grid_template_rows": null,
      "height": null,
      "justify_content": null,
      "justify_items": null,
      "left": null,
      "margin": null,
      "max_height": null,
      "max_width": null,
      "min_height": null,
      "min_width": null,
      "object_fit": null,
      "object_position": null,
      "order": null,
      "overflow": null,
      "overflow_x": null,
      "overflow_y": null,
      "padding": null,
      "right": null,
      "top": null,
      "visibility": null,
      "width": null
     }
    },
    "6d622bc0a8f64f0d87aa499c94664085": {
     "model_module": "@jupyter-widgets/controls",
     "model_name": "HBoxModel",
     "state": {
      "_dom_classes": [],
      "_model_module": "@jupyter-widgets/controls",
      "_model_module_version": "1.5.0",
      "_model_name": "HBoxModel",
      "_view_count": null,
      "_view_module": "@jupyter-widgets/controls",
      "_view_module_version": "1.5.0",
      "_view_name": "HBoxView",
      "box_style": "",
      "children": [
       "IPY_MODEL_01c6627a03e747b7a0bcedc0e31e94c2",
       "IPY_MODEL_29401bc5d41a48bdae60957b7f3126e8"
      ],
      "layout": "IPY_MODEL_8105c4eb956744b0b5e1b9ac5207f9d5"
     }
    },
    "8105c4eb956744b0b5e1b9ac5207f9d5": {
     "model_module": "@jupyter-widgets/base",
     "model_name": "LayoutModel",
     "state": {
      "_model_module": "@jupyter-widgets/base",
      "_model_module_version": "1.2.0",
      "_model_name": "LayoutModel",
      "_view_count": null,
      "_view_module": "@jupyter-widgets/base",
      "_view_module_version": "1.2.0",
      "_view_name": "LayoutView",
      "align_content": null,
      "align_items": null,
      "align_self": null,
      "border": null,
      "bottom": null,
      "display": null,
      "flex": null,
      "flex_flow": null,
      "grid_area": null,
      "grid_auto_columns": null,
      "grid_auto_flow": null,
      "grid_auto_rows": null,
      "grid_column": null,
      "grid_gap": null,
      "grid_row": null,
      "grid_template_areas": null,
      "grid_template_columns": null,
      "grid_template_rows": null,
      "height": null,
      "justify_content": null,
      "justify_items": null,
      "left": null,
      "margin": null,
      "max_height": null,
      "max_width": null,
      "min_height": null,
      "min_width": null,
      "object_fit": null,
      "object_position": null,
      "order": null,
      "overflow": null,
      "overflow_x": null,
      "overflow_y": null,
      "padding": null,
      "right": null,
      "top": null,
      "visibility": null,
      "width": null
     }
    },
    "d683e78b8341498cb158a434cbf70c12": {
     "model_module": "@jupyter-widgets/controls",
     "model_name": "ProgressStyleModel",
     "state": {
      "_model_module": "@jupyter-widgets/controls",
      "_model_module_version": "1.5.0",
      "_model_name": "ProgressStyleModel",
      "_view_count": null,
      "_view_module": "@jupyter-widgets/base",
      "_view_module_version": "1.2.0",
      "_view_name": "StyleView",
      "bar_color": null,
      "description_width": "initial"
     }
    }
   }
  }
 },
 "nbformat": 4,
 "nbformat_minor": 1
}
