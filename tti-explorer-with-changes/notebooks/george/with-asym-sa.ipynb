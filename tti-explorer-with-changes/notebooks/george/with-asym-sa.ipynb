{
 "cells": [
  {
   "cell_type": "markdown",
   "metadata": {},
   "source": [
    "# Sensitivity Analysis over combination of Policy and COVID params\n",
    "### Description\n",
    "\n",
    "In this notebook we perform sensitivity analysis over some of the main variables affecting how covid is transmitted. We look at the probabilities of people complying with guidance and the probabilities of working or going to school, as well percentage of asymptomatics.\n",
    "\n",
    "### Motivation\n",
    "The central motivation for this experiment is to check whether there is any interaction between being asymptomatic, going to work/school and how that can affect R. Compliance and App usage are included as they are interesting variables to consider nonetheless without any neccessary expectation of higher order interaction between them.\n",
    "\n",
    "### Notes\n",
    "S3 is chosen simply because it is the mid-severtity set up of configurations on how to track and quarantine people. However,  strigency level really does not matter here, since we are varying WFH and go to school probabilities,  variables that basically control the Strigency levels themselves.\n",
    "\n",
    "\n",
    "\n"
   ]
  },
  {
   "cell_type": "code",
   "execution_count": 9,
   "metadata": {},
   "outputs": [],
   "source": [
    "import os\n",
    "import numpy as np\n",
    "import pandas as pd\n",
    "from   tqdm.notebook import trange\n",
    "from   tti_explorer import config, utils\n",
    "from   tti_explorer.case import simulate_case, CaseFactors\n",
    "from   tti_explorer.contacts import EmpiricalContactsSimulator\n",
    "from   tti_explorer.strategies import TTIFlowModel, RETURN_KEYS\n",
    "import urllib.request\n",
    "import numpy as np\n",
    "import matplotlib.pyplot as plt\n",
    "\n",
    "from   matplotlib import colors as mcolors\n",
    "from   matplotlib import cm\n",
    "import numpy as np\n",
    "import GPy\n",
    "from   emukit.core import ContinuousParameter, ParameterSpace\n",
    "\n",
    "from emukit_new.sensitivity.monte_carlo import ModelFreeMonteCarloSensitivity\n",
    "from emukit_new.sensitivity.monte_carlo import MonteCarloSensitivity\n",
    "from emukit_new.sensitivity.monte_carlo import MonteCarloSecondOrderSensitivity\n",
    "\n",
    "from   emukit.core.initial_designs import RandomDesign\n",
    "from   GPy.models import GPRegression\n",
    "from   emukit.model_wrappers import GPyModelWrapper\n",
    "\n",
    "from   emukit.experimental_design.acquisitions import IntegratedVarianceReduction, ModelVariance\n",
    "from   emukit.experimental_design.experimental_design_loop import ExperimentalDesignLoop\n",
    "import matplotlib.pyplot as plt\n",
    "import teaching_plots as plot\n",
    "import mlai\n",
    "import pandas as pd\n",
    "from   tti_explorer.strategies import TTIFlowModel\n",
    "\n",
    "#SALib Sobol\n",
    "from SALib.sample import saltelli\n",
    "from SALib.analyze import sobol\n",
    "import time \n",
    "\n",
    "\n",
    "def print_doc(func):\n",
    "    print(func.__doc__)\n",
    "rng = np.random.RandomState(0)\n",
    "\n",
    "def load_csv(pth):\n",
    "    return np.loadtxt(pth, dtype=int, skiprows=1, delimiter=\",\")\n",
    "path_to_bbc_data = os.path.join(\"../../data\", \"bbc-pandemic\")\n"
   ]
  },
  {
   "cell_type": "code",
   "execution_count": 10,
   "metadata": {},
   "outputs": [],
   "source": [
    "def update_policy_config(app_uptake, pol_compl, wfh, go_to_school_prob, asym_fac):\n",
    "    policy_config['app_cov'] = app_uptake\n",
    "    policy_config['compliance'] = pol_compl\n",
    "    policy_config['wfh_prob'] = wfh\n",
    "    policy_config['go_to_school_prob']  = go_to_school_prob\n",
    "    contacts_config['asymp_factor']=asym_fac\n",
    "    return policy_config, contacts_config\n",
    "\n",
    "\n",
    "    \n",
    "def update_policy_config_for_bo(go_to_school_prob, met_before_w, met_before_s, met_before_o, wfh_prob, app_cov):\n",
    "    policy_config['go_to_school_prob'] = go_to_school_prob\n",
    "    policy_config['met_before_w'] = met_before_w\n",
    "    policy_config['met_before_s'] = met_before_s\n",
    "    policy_config['met_before_o']  = met_before_o\n",
    "    policy_config['wfh_prob']=wfh_prob\n",
    "    policy_config['app_cov']=app_cov\n",
    "\n",
    "    policy_config['compliance']=0.5\n",
    "\n",
    "\n",
    "    return policy_config"
   ]
  },
  {
   "cell_type": "code",
   "execution_count": 11,
   "metadata": {},
   "outputs": [],
   "source": [
    "\"\"\"\n",
    "Runs TTI simulator as many times as the different input initialisations.\n",
    "The main reason we need this is to put in to EmuKit for the Experimental\n",
    "Design Loop.\n",
    "\n",
    "Args:\n",
    "    pol_configs (list): Inputs are [app_cov, compliance]\n",
    "\n",
    "Returns:\n",
    "    effective_rs (np.expand_dims(np.array(to_return), 1)): For every simulation run, return\n",
    "    the effective r, as was plotted form Bryn and Andrei previously.\n",
    "\n",
    "\"\"\"\n",
    "#simulate_contacts = EmpiricalContactsSimulator(over18, under18, rng)\n",
    "\n",
    "\n",
    "def run_tti_sim(pol_configs):\n",
    "    to_return=[]\n",
    "    for vals in pol_configs:\n",
    "        policy_config, contacts_config = update_policy_config(vals[0], vals[1],vals[2], vals[3], vals[4])\n",
    "        factor_config = utils.get_sub_dictionary(policy_config, config.DELVE_CASE_FACTOR_KEYS)\n",
    "        strategy_config = utils.get_sub_dictionary(policy_config, config.DELVE_STRATEGY_FACTOR_KEYS)\n",
    "        rng = np.random.RandomState(42)\n",
    "        tti_model = TTIFlowModel(rng, **strategy_config)\n",
    "        n_cases = 10000\n",
    "        outputs = list()\n",
    "        temp =[]\n",
    "        for _ in trange(n_cases):\n",
    "            case = simulate_case(rng, **case_config)\n",
    "            case_factors = CaseFactors.simulate_from(rng, case, **factor_config)\n",
    "            contacts = simulate_contacts(case, **contacts_config)\n",
    "            res = tti_model(case, contacts, case_factors)\n",
    "            outputs.append(res)\n",
    "            if res[\"Effective R\"] >= 0:\n",
    "                temp.append(res[\"Effective R\"]) # Get effective R. Only non-nan vals are kept\n",
    "        to_return.append(np.mean(temp))\n",
    "    return np.expand_dims(np.array(to_return), 1)\n"
   ]
  },
  {
   "cell_type": "code",
   "execution_count": 31,
   "metadata": {},
   "outputs": [],
   "source": [
    "v1 = [0.00, .99]\n",
    "v2 = [0.05,.99]\n",
    "v3 = [0.05, .99]\n",
    "v4 = [0.05, .99]\n",
    "v5 = [0.05, .75]\n",
    "v6 = [0.05, .7]\n",
    "\n",
    "\n",
    "def run_sensitivity(strigency, initial_samples, bo_samples, mc_samples, col):\n",
    "\n",
    "    space = ParameterSpace(\n",
    "          [ContinuousParameter('app_cov', *v1),\n",
    "           ContinuousParameter('compliance', *v2),\n",
    "           ContinuousParameter('wfh_prob', *v3),\n",
    "          ContinuousParameter('go_to_school_prob', *v4),\n",
    "          ContinuousParameter('asymp_factor', *v5)]) # init param space for experimental design\n",
    "    design = RandomDesign(space)\n",
    "    x = design.get_samples(initial_samples) # get 5 random combinations of initialisations\n",
    "    y = run_tti_sim(x) # obtain corresponding effective_rs\n",
    "\n",
    "    # Fitting emulator to data, x: (app_cov, compliance), y: effective_r\n",
    "    kern_eq = GPy.kern.RBF(input_dim=5, ARD = True) + GPy.kern.White(input_dim=5, variance=1)\n",
    "    kern_bias = GPy.kern.Bias(input_dim=5)\n",
    "    kern = kern_eq + kern_bias\n",
    "    model_gpy = GPRegression(x,y, kern)\n",
    "    model_gpy.kern.variance = 1**2\n",
    "    # model_gpy.likelihood.variance.fix(1e-5)\n",
    "    model_emukit = GPyModelWrapper(model_gpy)\n",
    "    model_emukit.optimize() # optimise (max log-lik)\n",
    "\n",
    "    # Initialise experimental design loop. Using integrated variance as acquisition\n",
    "    # to \"query\" the input space aiming to reduce uncertainty over the func we're approx. i.e. effective_r\n",
    "    num_of_loops = bo_samples\n",
    "    integrated_variance = IntegratedVarianceReduction(space=space, model=model_emukit)\n",
    "    ed = ExperimentalDesignLoop(space=space, model=model_emukit, acquisition = integrated_variance)\n",
    "    ed.run_loop(run_tti_sim, num_of_loops)\n",
    "    # Plot Main Effects\n",
    "    num_mc = mc_samples\n",
    "    senstivity = MonteCarloSecondOrderSensitivity(model = model_emukit, input_domain = space)\n",
    "    main_effects_gp, secondary_effects_gp, total_effects_gp, _ = senstivity.compute_effects(num_monte_carlo_points = mc_samples)\n",
    "    print(\"main_effects: \", main_effects_gp)\n",
    "    print(\"total_effects: \", total_effects_gp)\n",
    "    fig, ax = plt.subplots(figsize=plot.big_wide_figsize)\n",
    "    main_effects_gp_plot = {ivar: main_effects_gp[ivar][0] for ivar in main_effects_gp}\n",
    "\n",
    "    d = {'Sensitivity Analysis':main_effects_gp_plot}\n",
    "\n",
    "    pd.DataFrame(d).plot(kind='bar', ax=ax, color=col, alpha=0.65)\n",
    "    plt.ylabel('% of explained output variance')\n",
    "    out_name = \"main-effects-ap-co-wf-go-as-{}.pdf\".format(strigency)\n",
    "\n",
    "#     mlai.write_figure(filename=out_name, directory='./uq')\n",
    "\n",
    "    # Plot Total Effects\n",
    "    fig, ax = plt.subplots(figsize=plot.big_wide_figsize)\n",
    "    total_effects_gp_plot = {ivar: total_effects_gp[ivar][0] for ivar in total_effects_gp}\n",
    "    d = {'App Uptake - Compliance Sensitivity Analysis':total_effects_gp_plot}\n",
    "    pd.DataFrame(d).plot(kind='bar', ax=ax, color=col, alpha=0.65)\n",
    "    ax.set_ylabel('% of explained output variance')\n",
    "    out_name = \"total-effects-ap-co-wf-go-as-{}.pdf\".format(strigency)\n",
    "#     mlai.write_figure(filename=out_name, directory='./uq')\n",
    "        \n",
    "    \n",
    "    #SALib\n",
    "    variable_domain1 = [0.05, 0.99] \n",
    "    variable_domain2 = [0.2, 0.95]\n",
    "    param = [' AU ',' C ',  ' WFH ', ' GS ', ' AS ']\n",
    "\n",
    "    problem = {\n",
    "        'num_vars': 5,\n",
    "        'names': param,\n",
    "        'bounds': [v1,v2,v3,v4,v5 ]\n",
    "    }\n",
    "    \n",
    "    \n",
    "    xt = saltelli.sample(problem, mc_samples)\n",
    "    Y,_= model_gpy.predict(xt)\n",
    "    Y = np.squeeze(Y)\n",
    "    Si = sobol.analyze(problem, Y)\n",
    "    \n",
    "    \n",
    "    \n",
    "    first_lim  = [0, 0.95]\n",
    "    second_lim = [0, 0.95]\n",
    "    total_lim  = [0, 0.95]\n",
    "    param2 = []\n",
    "\n",
    "    fig, ax = plt.subplots(2, 3, figsize=[30, 7])\n",
    "\n",
    "\n",
    "    ax[0][0].set_title(\"1st Order Sobol (SALab)\")\n",
    "    for index,val in enumerate(Si['S1']):\n",
    "        ax[0][0].bar(param[index],val, color = col)\n",
    "    ax[0][0].set_ylim(first_lim)\n",
    "\n",
    "    ax[0][1].set_title(\"2nd Order Sobol (SALab)\")\n",
    "    for i in range(len(param)):\n",
    "        for j in range(len(param)):\n",
    "            val =  Si['S2'][i][j]\n",
    "            if val > -0.5:\n",
    "                name = param[i] + '+'+ param[j]\n",
    "                ax[0][1].bar(name, Si['S2'][i][j], color = col)\n",
    "                param2.append(name)\n",
    "    ax[0][1].set_ylim(first_lim)\n",
    "\n",
    "    ax[0][2].set_title(\"Total Effect Sobol (SALab)\")\n",
    "    for index,val in enumerate(Si['ST']):\n",
    "        ax[0][2].bar(param[index],val, color = col)\n",
    "    ax[0][2].set_ylim(total_lim)\n",
    "\n",
    "    ax[1][0].set_title(\"1st Order Sobol (Emukit)\")\n",
    "    for index, ivar in enumerate(main_effects_gp):\n",
    "        ax[1][0].bar(param[index], main_effects_gp[ivar][0], color = col)\n",
    "    ax[1][0].set_ylim(first_lim)\n",
    "\n",
    "\n",
    "    ax[1][1].set_title(\"2nd Order Sobol (Emukit)\")\n",
    "    for index, ivar in enumerate(secondary_effects_gp):\n",
    "        ax[1][1].bar(param2[index], secondary_effects_gp[ivar][0], color = col)\n",
    "    ax[1][1].set_ylim(first_lim)\n",
    "\n",
    "\n",
    "    ax[1][2].set_title(\"Total Effect Sobol (Emukit)\")\n",
    "    for index, ivar in enumerate(total_effects_gp):\n",
    "        ax[1][2].bar(param[index], total_effects_gp[ivar][0], color = col)\n",
    "    ax[1][2].set_ylim(total_lim)\n",
    "\n",
    "\n",
    "    # ax[0][1].set_title('Sensitivity Analysis on Policy Configurations Without Experimental Design Loop')\n",
    "    ax[0][0].set_ylabel('% of explained output variance')\n",
    "    ax[1][0].set_ylabel('% of explained output variance')\n",
    "    ax[1][1].set_xlabel('AU = App Usage; C = Compliance; WFH = Work from Home; GS=Go to School prob; AS = Asymptomatic prob')\n",
    "\n",
    "\n",
    "\n",
    "    plt.tight_layout()\n",
    "#     plt.show()\n",
    "    out_name = \"with-asym-sa/with-asym-{}.pdf\".format(strigency)\n",
    "\n",
    "    plt.savefig(out_name, format='pdf', bbox_inches='tight')\n",
    "\n",
    "\n",
    "\n"
   ]
  },
  {
   "cell_type": "code",
   "execution_count": 32,
   "metadata": {},
   "outputs": [],
   "source": [
    "def optimise_it(strig):\n",
    "    kern_eq = GPy.kern.RBF(input_dim=6, ARD = True)\n",
    "    kern_bias = GPy.kern.Bias(input_dim=6)\n",
    "    kern = kern_eq + kern_bias\n",
    "    domain = [\n",
    "    {'name': 'go_to_school_prob', 'type': 'continuous', 'domain': (0,1)},\n",
    "    {'name': 'met_before_w', 'type': 'continuous', 'domain': (0,.8)},\n",
    "    {'name': 'met_before_s', 'type': 'continuous', 'domain': (0,.8)},\n",
    "    {'name': 'met_before_o', 'type': 'continuous', 'domain': (0,.8)},\n",
    "    {'name': 'wfh_prob', 'type': 'continuous', 'domain': (0,.8)},\n",
    "    {'name': 'app_cov', 'type': 'continuous', 'domain': (0,1)}]\n",
    "    opt = BayesianOptimization(f=run_tti_sim, domain=domain,model_type='GP', initial_design_numdata = 20,\n",
    "    kernel=kern, acquisition_type='EI')\n",
    "    out_name=\"bo-with-app-cov-{}.txt\".format(strig)\n",
    "    opt.run_optimization(max_iter=20, report_file=out_name)\n"
   ]
  },
  {
   "cell_type": "code",
   "execution_count": 34,
   "metadata": {
    "scrolled": false
   },
   "outputs": [
    {
     "data": {
      "application/vnd.jupyter.widget-view+json": {
       "model_id": "a0370fa002f64cc3b99eb2670100103d",
       "version_major": 2,
       "version_minor": 0
      },
      "text/plain": [
       "HBox(children=(FloatProgress(value=0.0, max=10000.0), HTML(value='')))"
      ]
     },
     "metadata": {},
     "output_type": "display_data"
    },
    {
     "name": "stdout",
     "output_type": "stream",
     "text": [
      "\n"
     ]
    },
    {
     "data": {
      "application/vnd.jupyter.widget-view+json": {
       "model_id": "6b1f8578cfeb47ea83191eebfeb77be2",
       "version_major": 2,
       "version_minor": 0
      },
      "text/plain": [
       "HBox(children=(FloatProgress(value=0.0, max=10000.0), HTML(value='')))"
      ]
     },
     "metadata": {},
     "output_type": "display_data"
    },
    {
     "name": "stdout",
     "output_type": "stream",
     "text": [
      "\n"
     ]
    },
    {
     "data": {
      "application/vnd.jupyter.widget-view+json": {
       "model_id": "96bb26d75e254c378ec4152e517762e2",
       "version_major": 2,
       "version_minor": 0
      },
      "text/plain": [
       "HBox(children=(FloatProgress(value=0.0, max=10000.0), HTML(value='')))"
      ]
     },
     "metadata": {},
     "output_type": "display_data"
    },
    {
     "name": "stdout",
     "output_type": "stream",
     "text": [
      "\n"
     ]
    },
    {
     "data": {
      "application/vnd.jupyter.widget-view+json": {
       "model_id": "2cb89dbfc52c4644858e5f964bf54d8b",
       "version_major": 2,
       "version_minor": 0
      },
      "text/plain": [
       "HBox(children=(FloatProgress(value=0.0, max=10000.0), HTML(value='')))"
      ]
     },
     "metadata": {},
     "output_type": "display_data"
    },
    {
     "name": "stdout",
     "output_type": "stream",
     "text": [
      "\n"
     ]
    },
    {
     "data": {
      "application/vnd.jupyter.widget-view+json": {
       "model_id": "14bd19e49e814401875af7010bd2d33a",
       "version_major": 2,
       "version_minor": 0
      },
      "text/plain": [
       "HBox(children=(FloatProgress(value=0.0, max=10000.0), HTML(value='')))"
      ]
     },
     "metadata": {},
     "output_type": "display_data"
    },
    {
     "name": "stdout",
     "output_type": "stream",
     "text": [
      "\n"
     ]
    },
    {
     "data": {
      "application/vnd.jupyter.widget-view+json": {
       "model_id": "7dc0cc480b334e458f1c6a048f2416d5",
       "version_major": 2,
       "version_minor": 0
      },
      "text/plain": [
       "HBox(children=(FloatProgress(value=0.0, max=10000.0), HTML(value='')))"
      ]
     },
     "metadata": {},
     "output_type": "display_data"
    },
    {
     "name": "stdout",
     "output_type": "stream",
     "text": [
      "\n"
     ]
    },
    {
     "data": {
      "application/vnd.jupyter.widget-view+json": {
       "model_id": "aeefec312895451eb9ff417d089bf898",
       "version_major": 2,
       "version_minor": 0
      },
      "text/plain": [
       "HBox(children=(FloatProgress(value=0.0, max=10000.0), HTML(value='')))"
      ]
     },
     "metadata": {},
     "output_type": "display_data"
    },
    {
     "name": "stdout",
     "output_type": "stream",
     "text": [
      "\n"
     ]
    },
    {
     "data": {
      "application/vnd.jupyter.widget-view+json": {
       "model_id": "b85e6a2489bd4b799beb26022a681cc6",
       "version_major": 2,
       "version_minor": 0
      },
      "text/plain": [
       "HBox(children=(FloatProgress(value=0.0, max=10000.0), HTML(value='')))"
      ]
     },
     "metadata": {},
     "output_type": "display_data"
    },
    {
     "name": "stdout",
     "output_type": "stream",
     "text": [
      "\n"
     ]
    },
    {
     "data": {
      "application/vnd.jupyter.widget-view+json": {
       "model_id": "8a2ab90a7b6f4e3d8ed494dff08b1feb",
       "version_major": 2,
       "version_minor": 0
      },
      "text/plain": [
       "HBox(children=(FloatProgress(value=0.0, max=10000.0), HTML(value='')))"
      ]
     },
     "metadata": {},
     "output_type": "display_data"
    },
    {
     "name": "stdout",
     "output_type": "stream",
     "text": [
      "\n"
     ]
    },
    {
     "data": {
      "application/vnd.jupyter.widget-view+json": {
       "model_id": "4dddbc1bc3b5487a80180d876b13ad73",
       "version_major": 2,
       "version_minor": 0
      },
      "text/plain": [
       "HBox(children=(FloatProgress(value=0.0, max=10000.0), HTML(value='')))"
      ]
     },
     "metadata": {},
     "output_type": "display_data"
    },
    {
     "name": "stdout",
     "output_type": "stream",
     "text": [
      "\n"
     ]
    },
    {
     "data": {
      "application/vnd.jupyter.widget-view+json": {
       "model_id": "a8de2e1b199f42df8d1a13f2bf90083c",
       "version_major": 2,
       "version_minor": 0
      },
      "text/plain": [
       "HBox(children=(FloatProgress(value=0.0, max=10000.0), HTML(value='')))"
      ]
     },
     "metadata": {},
     "output_type": "display_data"
    },
    {
     "name": "stdout",
     "output_type": "stream",
     "text": [
      "\n"
     ]
    },
    {
     "data": {
      "application/vnd.jupyter.widget-view+json": {
       "model_id": "bcad6497b020437b9ddc2b17a2be13d1",
       "version_major": 2,
       "version_minor": 0
      },
      "text/plain": [
       "HBox(children=(FloatProgress(value=0.0, max=10000.0), HTML(value='')))"
      ]
     },
     "metadata": {},
     "output_type": "display_data"
    },
    {
     "name": "stdout",
     "output_type": "stream",
     "text": [
      "\n"
     ]
    },
    {
     "data": {
      "application/vnd.jupyter.widget-view+json": {
       "model_id": "d30eacf2c197462f97bdaf45e6184901",
       "version_major": 2,
       "version_minor": 0
      },
      "text/plain": [
       "HBox(children=(FloatProgress(value=0.0, max=10000.0), HTML(value='')))"
      ]
     },
     "metadata": {},
     "output_type": "display_data"
    },
    {
     "name": "stdout",
     "output_type": "stream",
     "text": [
      "\n"
     ]
    },
    {
     "data": {
      "application/vnd.jupyter.widget-view+json": {
       "model_id": "9707569e8f2146738bd8bcfb7a02970b",
       "version_major": 2,
       "version_minor": 0
      },
      "text/plain": [
       "HBox(children=(FloatProgress(value=0.0, max=10000.0), HTML(value='')))"
      ]
     },
     "metadata": {},
     "output_type": "display_data"
    },
    {
     "name": "stdout",
     "output_type": "stream",
     "text": [
      "\n"
     ]
    },
    {
     "data": {
      "application/vnd.jupyter.widget-view+json": {
       "model_id": "159fb0ba5c4a414191563d898420562d",
       "version_major": 2,
       "version_minor": 0
      },
      "text/plain": [
       "HBox(children=(FloatProgress(value=0.0, max=10000.0), HTML(value='')))"
      ]
     },
     "metadata": {},
     "output_type": "display_data"
    },
    {
     "name": "stdout",
     "output_type": "stream",
     "text": [
      "\n"
     ]
    },
    {
     "data": {
      "application/vnd.jupyter.widget-view+json": {
       "model_id": "eba2d4330ea44d368939433ec2b0e12b",
       "version_major": 2,
       "version_minor": 0
      },
      "text/plain": [
       "HBox(children=(FloatProgress(value=0.0, max=10000.0), HTML(value='')))"
      ]
     },
     "metadata": {},
     "output_type": "display_data"
    },
    {
     "name": "stdout",
     "output_type": "stream",
     "text": [
      "\n"
     ]
    },
    {
     "data": {
      "application/vnd.jupyter.widget-view+json": {
       "model_id": "4cc90f6f16774895b790f5f668d129cb",
       "version_major": 2,
       "version_minor": 0
      },
      "text/plain": [
       "HBox(children=(FloatProgress(value=0.0, max=10000.0), HTML(value='')))"
      ]
     },
     "metadata": {},
     "output_type": "display_data"
    },
    {
     "name": "stdout",
     "output_type": "stream",
     "text": [
      "\n"
     ]
    },
    {
     "data": {
      "application/vnd.jupyter.widget-view+json": {
       "model_id": "f5003c7701094876adb2ba27eabc6d9d",
       "version_major": 2,
       "version_minor": 0
      },
      "text/plain": [
       "HBox(children=(FloatProgress(value=0.0, max=10000.0), HTML(value='')))"
      ]
     },
     "metadata": {},
     "output_type": "display_data"
    },
    {
     "name": "stdout",
     "output_type": "stream",
     "text": [
      "\n"
     ]
    },
    {
     "data": {
      "application/vnd.jupyter.widget-view+json": {
       "model_id": "aab1336595f14519ac7c9f1629b1de91",
       "version_major": 2,
       "version_minor": 0
      },
      "text/plain": [
       "HBox(children=(FloatProgress(value=0.0, max=10000.0), HTML(value='')))"
      ]
     },
     "metadata": {},
     "output_type": "display_data"
    },
    {
     "name": "stdout",
     "output_type": "stream",
     "text": [
      "\n"
     ]
    },
    {
     "data": {
      "application/vnd.jupyter.widget-view+json": {
       "model_id": "96993c93d5bc43df9e836cbdec0e4a2a",
       "version_major": 2,
       "version_minor": 0
      },
      "text/plain": [
       "HBox(children=(FloatProgress(value=0.0, max=10000.0), HTML(value='')))"
      ]
     },
     "metadata": {},
     "output_type": "display_data"
    },
    {
     "name": "stdout",
     "output_type": "stream",
     "text": [
      "\n"
     ]
    },
    {
     "data": {
      "application/vnd.jupyter.widget-view+json": {
       "model_id": "e8eacb71a28c465a8784286b3b581a72",
       "version_major": 2,
       "version_minor": 0
      },
      "text/plain": [
       "HBox(children=(FloatProgress(value=0.0, max=10000.0), HTML(value='')))"
      ]
     },
     "metadata": {},
     "output_type": "display_data"
    },
    {
     "name": "stdout",
     "output_type": "stream",
     "text": [
      "\n"
     ]
    },
    {
     "data": {
      "application/vnd.jupyter.widget-view+json": {
       "model_id": "0c6b368294ee45e2b73c43647b8cc049",
       "version_major": 2,
       "version_minor": 0
      },
      "text/plain": [
       "HBox(children=(FloatProgress(value=0.0, max=10000.0), HTML(value='')))"
      ]
     },
     "metadata": {},
     "output_type": "display_data"
    },
    {
     "name": "stdout",
     "output_type": "stream",
     "text": [
      "\n"
     ]
    },
    {
     "data": {
      "application/vnd.jupyter.widget-view+json": {
       "model_id": "b2aad84c23c241519d51ad30e697b97d",
       "version_major": 2,
       "version_minor": 0
      },
      "text/plain": [
       "HBox(children=(FloatProgress(value=0.0, max=10000.0), HTML(value='')))"
      ]
     },
     "metadata": {},
     "output_type": "display_data"
    },
    {
     "name": "stdout",
     "output_type": "stream",
     "text": [
      "\n"
     ]
    },
    {
     "data": {
      "application/vnd.jupyter.widget-view+json": {
       "model_id": "531c1e11800a48278f87ba414ae98913",
       "version_major": 2,
       "version_minor": 0
      },
      "text/plain": [
       "HBox(children=(FloatProgress(value=0.0, max=10000.0), HTML(value='')))"
      ]
     },
     "metadata": {},
     "output_type": "display_data"
    },
    {
     "name": "stdout",
     "output_type": "stream",
     "text": [
      "\n"
     ]
    },
    {
     "data": {
      "application/vnd.jupyter.widget-view+json": {
       "model_id": "7d3da04e0a5f47c8929084911c86698a",
       "version_major": 2,
       "version_minor": 0
      },
      "text/plain": [
       "HBox(children=(FloatProgress(value=0.0, max=10000.0), HTML(value='')))"
      ]
     },
     "metadata": {},
     "output_type": "display_data"
    },
    {
     "name": "stdout",
     "output_type": "stream",
     "text": [
      "\n"
     ]
    },
    {
     "data": {
      "application/vnd.jupyter.widget-view+json": {
       "model_id": "a4bd821e20e2412cbad7568e86a5ae74",
       "version_major": 2,
       "version_minor": 0
      },
      "text/plain": [
       "HBox(children=(FloatProgress(value=0.0, max=10000.0), HTML(value='')))"
      ]
     },
     "metadata": {},
     "output_type": "display_data"
    },
    {
     "name": "stdout",
     "output_type": "stream",
     "text": [
      "\n"
     ]
    },
    {
     "data": {
      "application/vnd.jupyter.widget-view+json": {
       "model_id": "73a446006baa403eb3db38903cb4d38f",
       "version_major": 2,
       "version_minor": 0
      },
      "text/plain": [
       "HBox(children=(FloatProgress(value=0.0, max=10000.0), HTML(value='')))"
      ]
     },
     "metadata": {},
     "output_type": "display_data"
    },
    {
     "name": "stdout",
     "output_type": "stream",
     "text": [
      "\n"
     ]
    },
    {
     "data": {
      "application/vnd.jupyter.widget-view+json": {
       "model_id": "e93fb5566704435bafd09f63a0eb6e76",
       "version_major": 2,
       "version_minor": 0
      },
      "text/plain": [
       "HBox(children=(FloatProgress(value=0.0, max=10000.0), HTML(value='')))"
      ]
     },
     "metadata": {},
     "output_type": "display_data"
    },
    {
     "name": "stdout",
     "output_type": "stream",
     "text": [
      "\n"
     ]
    },
    {
     "data": {
      "application/vnd.jupyter.widget-view+json": {
       "model_id": "28c85c154ce54d6b9a854b1d39b85c49",
       "version_major": 2,
       "version_minor": 0
      },
      "text/plain": [
       "HBox(children=(FloatProgress(value=0.0, max=10000.0), HTML(value='')))"
      ]
     },
     "metadata": {},
     "output_type": "display_data"
    },
    {
     "name": "stdout",
     "output_type": "stream",
     "text": [
      "\n"
     ]
    },
    {
     "data": {
      "application/vnd.jupyter.widget-view+json": {
       "model_id": "2bfa1de4ca724d878957a6596849dea3",
       "version_major": 2,
       "version_minor": 0
      },
      "text/plain": [
       "HBox(children=(FloatProgress(value=0.0, max=10000.0), HTML(value='')))"
      ]
     },
     "metadata": {},
     "output_type": "display_data"
    },
    {
     "name": "stdout",
     "output_type": "stream",
     "text": [
      "\n"
     ]
    },
    {
     "data": {
      "application/vnd.jupyter.widget-view+json": {
       "model_id": "58bb31adc56a4057ae3fed53e97fbaeb",
       "version_major": 2,
       "version_minor": 0
      },
      "text/plain": [
       "HBox(children=(FloatProgress(value=0.0, max=10000.0), HTML(value='')))"
      ]
     },
     "metadata": {},
     "output_type": "display_data"
    },
    {
     "name": "stdout",
     "output_type": "stream",
     "text": [
      "\n"
     ]
    },
    {
     "data": {
      "application/vnd.jupyter.widget-view+json": {
       "model_id": "ccac5768bb614df6b3c3cb20b01bf491",
       "version_major": 2,
       "version_minor": 0
      },
      "text/plain": [
       "HBox(children=(FloatProgress(value=0.0, max=10000.0), HTML(value='')))"
      ]
     },
     "metadata": {},
     "output_type": "display_data"
    },
    {
     "name": "stdout",
     "output_type": "stream",
     "text": [
      "\n"
     ]
    },
    {
     "data": {
      "application/vnd.jupyter.widget-view+json": {
       "model_id": "37bf27571d1045eb96d107f4862b5fd1",
       "version_major": 2,
       "version_minor": 0
      },
      "text/plain": [
       "HBox(children=(FloatProgress(value=0.0, max=10000.0), HTML(value='')))"
      ]
     },
     "metadata": {},
     "output_type": "display_data"
    },
    {
     "name": "stdout",
     "output_type": "stream",
     "text": [
      "\n"
     ]
    },
    {
     "data": {
      "application/vnd.jupyter.widget-view+json": {
       "model_id": "979b9b9d5c4f40eaa3f947fff560c6e2",
       "version_major": 2,
       "version_minor": 0
      },
      "text/plain": [
       "HBox(children=(FloatProgress(value=0.0, max=10000.0), HTML(value='')))"
      ]
     },
     "metadata": {},
     "output_type": "display_data"
    },
    {
     "name": "stdout",
     "output_type": "stream",
     "text": [
      "\n"
     ]
    },
    {
     "data": {
      "application/vnd.jupyter.widget-view+json": {
       "model_id": "fb4bfb7767344b83a61c5163d655da74",
       "version_major": 2,
       "version_minor": 0
      },
      "text/plain": [
       "HBox(children=(FloatProgress(value=0.0, max=10000.0), HTML(value='')))"
      ]
     },
     "metadata": {},
     "output_type": "display_data"
    },
    {
     "name": "stdout",
     "output_type": "stream",
     "text": [
      "\n"
     ]
    },
    {
     "data": {
      "application/vnd.jupyter.widget-view+json": {
       "model_id": "39853d35049d474aa4bfa7c9565a18bd",
       "version_major": 2,
       "version_minor": 0
      },
      "text/plain": [
       "HBox(children=(FloatProgress(value=0.0, max=10000.0), HTML(value='')))"
      ]
     },
     "metadata": {},
     "output_type": "display_data"
    },
    {
     "name": "stdout",
     "output_type": "stream",
     "text": [
      "\n"
     ]
    },
    {
     "data": {
      "application/vnd.jupyter.widget-view+json": {
       "model_id": "dd06bb5a2ae9496f9f6385d2bee70daf",
       "version_major": 2,
       "version_minor": 0
      },
      "text/plain": [
       "HBox(children=(FloatProgress(value=0.0, max=10000.0), HTML(value='')))"
      ]
     },
     "metadata": {},
     "output_type": "display_data"
    },
    {
     "name": "stdout",
     "output_type": "stream",
     "text": [
      "\n"
     ]
    },
    {
     "data": {
      "application/vnd.jupyter.widget-view+json": {
       "model_id": "7b70947590aa4cc09aafd9b81854e430",
       "version_major": 2,
       "version_minor": 0
      },
      "text/plain": [
       "HBox(children=(FloatProgress(value=0.0, max=10000.0), HTML(value='')))"
      ]
     },
     "metadata": {},
     "output_type": "display_data"
    },
    {
     "name": "stdout",
     "output_type": "stream",
     "text": [
      "\n"
     ]
    },
    {
     "data": {
      "application/vnd.jupyter.widget-view+json": {
       "model_id": "eb378e5463fb47d8af585fdd027d0c3c",
       "version_major": 2,
       "version_minor": 0
      },
      "text/plain": [
       "HBox(children=(FloatProgress(value=0.0, max=10000.0), HTML(value='')))"
      ]
     },
     "metadata": {},
     "output_type": "display_data"
    },
    {
     "name": "stdout",
     "output_type": "stream",
     "text": [
      "\n"
     ]
    },
    {
     "data": {
      "application/vnd.jupyter.widget-view+json": {
       "model_id": "76c22b53eb654bf39ed99a404fa34a66",
       "version_major": 2,
       "version_minor": 0
      },
      "text/plain": [
       "HBox(children=(FloatProgress(value=0.0, max=10000.0), HTML(value='')))"
      ]
     },
     "metadata": {},
     "output_type": "display_data"
    },
    {
     "name": "stdout",
     "output_type": "stream",
     "text": [
      "\n"
     ]
    },
    {
     "data": {
      "application/vnd.jupyter.widget-view+json": {
       "model_id": "b25fa9bdbd8041869eedeb42e965b441",
       "version_major": 2,
       "version_minor": 0
      },
      "text/plain": [
       "HBox(children=(FloatProgress(value=0.0, max=10000.0), HTML(value='')))"
      ]
     },
     "metadata": {},
     "output_type": "display_data"
    },
    {
     "name": "stdout",
     "output_type": "stream",
     "text": [
      "\n"
     ]
    },
    {
     "data": {
      "application/vnd.jupyter.widget-view+json": {
       "model_id": "529c0cf40e014c48acf7aa6dcbf31b54",
       "version_major": 2,
       "version_minor": 0
      },
      "text/plain": [
       "HBox(children=(FloatProgress(value=0.0, max=10000.0), HTML(value='')))"
      ]
     },
     "metadata": {},
     "output_type": "display_data"
    },
    {
     "name": "stdout",
     "output_type": "stream",
     "text": [
      "\n"
     ]
    },
    {
     "data": {
      "application/vnd.jupyter.widget-view+json": {
       "model_id": "63fb0175484a4e5dae5b044896cd0879",
       "version_major": 2,
       "version_minor": 0
      },
      "text/plain": [
       "HBox(children=(FloatProgress(value=0.0, max=10000.0), HTML(value='')))"
      ]
     },
     "metadata": {},
     "output_type": "display_data"
    },
    {
     "name": "stdout",
     "output_type": "stream",
     "text": [
      "\n"
     ]
    },
    {
     "data": {
      "application/vnd.jupyter.widget-view+json": {
       "model_id": "45ee9855d5d149358c2eccf979848e9b",
       "version_major": 2,
       "version_minor": 0
      },
      "text/plain": [
       "HBox(children=(FloatProgress(value=0.0, max=10000.0), HTML(value='')))"
      ]
     },
     "metadata": {},
     "output_type": "display_data"
    },
    {
     "name": "stdout",
     "output_type": "stream",
     "text": [
      "\n"
     ]
    },
    {
     "data": {
      "application/vnd.jupyter.widget-view+json": {
       "model_id": "a8c649735b6b4d039e490af29f4267d3",
       "version_major": 2,
       "version_minor": 0
      },
      "text/plain": [
       "HBox(children=(FloatProgress(value=0.0, max=10000.0), HTML(value='')))"
      ]
     },
     "metadata": {},
     "output_type": "display_data"
    },
    {
     "name": "stdout",
     "output_type": "stream",
     "text": [
      "\n"
     ]
    },
    {
     "data": {
      "application/vnd.jupyter.widget-view+json": {
       "model_id": "bedd845d03ef4aa58966d9d9135946ba",
       "version_major": 2,
       "version_minor": 0
      },
      "text/plain": [
       "HBox(children=(FloatProgress(value=0.0, max=10000.0), HTML(value='')))"
      ]
     },
     "metadata": {},
     "output_type": "display_data"
    },
    {
     "name": "stdout",
     "output_type": "stream",
     "text": [
      "\n"
     ]
    },
    {
     "data": {
      "application/vnd.jupyter.widget-view+json": {
       "model_id": "dcc12c1c9a7f459382e1adae35de550b",
       "version_major": 2,
       "version_minor": 0
      },
      "text/plain": [
       "HBox(children=(FloatProgress(value=0.0, max=10000.0), HTML(value='')))"
      ]
     },
     "metadata": {},
     "output_type": "display_data"
    },
    {
     "name": "stdout",
     "output_type": "stream",
     "text": [
      "\n"
     ]
    },
    {
     "data": {
      "application/vnd.jupyter.widget-view+json": {
       "model_id": "30cd04ecbce646a19de986fa803aeed8",
       "version_major": 2,
       "version_minor": 0
      },
      "text/plain": [
       "HBox(children=(FloatProgress(value=0.0, max=10000.0), HTML(value='')))"
      ]
     },
     "metadata": {},
     "output_type": "display_data"
    },
    {
     "name": "stdout",
     "output_type": "stream",
     "text": [
      "\n"
     ]
    },
    {
     "data": {
      "application/vnd.jupyter.widget-view+json": {
       "model_id": "b85da3609c734b14ab597462f22d59dc",
       "version_major": 2,
       "version_minor": 0
      },
      "text/plain": [
       "HBox(children=(FloatProgress(value=0.0, max=10000.0), HTML(value='')))"
      ]
     },
     "metadata": {},
     "output_type": "display_data"
    },
    {
     "name": "stdout",
     "output_type": "stream",
     "text": [
      "\n"
     ]
    },
    {
     "data": {
      "application/vnd.jupyter.widget-view+json": {
       "model_id": "91de3422c9474f27bd9b725b7930e2d4",
       "version_major": 2,
       "version_minor": 0
      },
      "text/plain": [
       "HBox(children=(FloatProgress(value=0.0, max=10000.0), HTML(value='')))"
      ]
     },
     "metadata": {},
     "output_type": "display_data"
    },
    {
     "name": "stdout",
     "output_type": "stream",
     "text": [
      "\n",
      "Optimization restart 1/1, f = -35.50945594847722\n",
      "Optimization restart 1/1, f = -35.5094559491678\n"
     ]
    },
    {
     "data": {
      "application/vnd.jupyter.widget-view+json": {
       "model_id": "1456142745c5412e90482be89f39d14d",
       "version_major": 2,
       "version_minor": 0
      },
      "text/plain": [
       "HBox(children=(FloatProgress(value=0.0, max=10000.0), HTML(value='')))"
      ]
     },
     "metadata": {},
     "output_type": "display_data"
    },
    {
     "name": "stdout",
     "output_type": "stream",
     "text": [
      "\n",
      "Optimization restart 1/1, f = -36.28267414488175\n"
     ]
    },
    {
     "data": {
      "application/vnd.jupyter.widget-view+json": {
       "model_id": "4916d033208643bca19edec09106b907",
       "version_major": 2,
       "version_minor": 0
      },
      "text/plain": [
       "HBox(children=(FloatProgress(value=0.0, max=10000.0), HTML(value='')))"
      ]
     },
     "metadata": {},
     "output_type": "display_data"
    },
    {
     "name": "stdout",
     "output_type": "stream",
     "text": [
      "\n",
      "Optimization restart 1/1, f = -37.38084507053606\n"
     ]
    },
    {
     "data": {
      "application/vnd.jupyter.widget-view+json": {
       "model_id": "67ff358cd89144ed827e95c49bdfe4fb",
       "version_major": 2,
       "version_minor": 0
      },
      "text/plain": [
       "HBox(children=(FloatProgress(value=0.0, max=10000.0), HTML(value='')))"
      ]
     },
     "metadata": {},
     "output_type": "display_data"
    },
    {
     "name": "stdout",
     "output_type": "stream",
     "text": [
      "\n",
      "Optimization restart 1/1, f = -37.645472051211314\n"
     ]
    },
    {
     "data": {
      "application/vnd.jupyter.widget-view+json": {
       "model_id": "8d374531849348cdb471fb47a647d059",
       "version_major": 2,
       "version_minor": 0
      },
      "text/plain": [
       "HBox(children=(FloatProgress(value=0.0, max=10000.0), HTML(value='')))"
      ]
     },
     "metadata": {},
     "output_type": "display_data"
    },
    {
     "name": "stdout",
     "output_type": "stream",
     "text": [
      "\n",
      "Optimization restart 1/1, f = -38.24396878597138\n"
     ]
    },
    {
     "data": {
      "application/vnd.jupyter.widget-view+json": {
       "model_id": "161888418e53469aba58f6b5ff3a12cc",
       "version_major": 2,
       "version_minor": 0
      },
      "text/plain": [
       "HBox(children=(FloatProgress(value=0.0, max=10000.0), HTML(value='')))"
      ]
     },
     "metadata": {},
     "output_type": "display_data"
    },
    {
     "name": "stdout",
     "output_type": "stream",
     "text": [
      "\n",
      "Optimization restart 1/1, f = -39.05652516393729\n",
      "main_effects:  {'app_cov': array([-0.0042287]), 'compliance': array([0.59464547]), 'wfh_prob': array([0.20603543]), 'go_to_school_prob': array([0.00956266]), 'asymp_factor': array([0.14896389])}\n",
      "total_effects:  {'app_cov': array([0.00285043]), 'compliance': array([0.63058703]), 'wfh_prob': array([0.21392094]), 'go_to_school_prob': array([0.02871071]), 'asymp_factor': array([0.16376991])}\n"
     ]
    },
    {
     "data": {
      "image/png": "[encoded data removed]",
      "text/plain": [
       "<Figure size 720x432 with 1 Axes>"
      ]
     },
     "metadata": {
      "needs_background": "light"
     },
     "output_type": "display_data"
    },
    {
     "data": {
      "image/png": "[encoded data removed]",
      "text/plain": [
       "<Figure size 720x432 with 1 Axes>"
      ]
     },
     "metadata": {
      "needs_background": "light"
     },
     "output_type": "display_data"
    },
    {
     "data": {
      "image/png": "[encoded data removed]",
      "text/plain": [
       "<Figure size 2160x504 with 6 Axes>"
      ]
     },
     "metadata": {
      "needs_background": "light"
     },
     "output_type": "display_data"
    }
   ],
   "source": [
    "s_levels=['S1_symptom_based_TTI','S2_symptom_based_TTI','S3_symptom_based_TTI','S4_symptom_based_TTI','S5_symptom_based_TTI',]\n",
    "#s_levels=['S5_symptom_based_TTI',]\n",
    "\n",
    "over18 = load_csv(os.path.join(path_to_bbc_data, \"contact_distributions_o18.csv\"))\n",
    "under18 = load_csv(os.path.join(path_to_bbc_data, \"contact_distributions_u18.csv\"))\n",
    "simulate_contacts = EmpiricalContactsSimulator(over18, under18, rng)\n",
    "cidx=0\n",
    "cols = ['red', 'tomato', 'orange', 'deepskyblue', 'green']\n",
    "\n",
    "strigency = s_levels[2]\n",
    "case_config = config.get_case_config(\"delve\")\n",
    "contacts_config = config.get_contacts_config(\"delve\")\n",
    "policy_config = config.get_strategy_configs(\"delve\", strigency)[strigency]\n",
    "factor_config = utils.get_sub_dictionary(policy_config, config.DELVE_CASE_FACTOR_KEYS)\n",
    "strategy_config = utils.get_sub_dictionary(policy_config, config.DELVE_STRATEGY_FACTOR_KEYS)\n",
    "rng = np.random.RandomState(42)\n",
    "\n",
    "tti_model = TTIFlowModel(rng, **strategy_config)\n",
    "\n",
    "run_sensitivity(strigency, 50, 5, 100000, cols[cidx])\n",
    "# optimise_it(strigency)\n",
    "cidx+=1\n"
   ]
  },
  {
   "cell_type": "code",
   "execution_count": null,
   "metadata": {},
   "outputs": [],
   "source": []
  }
 ],
 "metadata": {
  "kernelspec": {
   "display_name": "Python 3",
   "language": "python",
   "name": "python3"
  },
  "language_info": {
   "codemirror_mode": {
    "name": "ipython",
    "version": 3
   },
   "file_extension": ".py",
   "mimetype": "text/x-python",
   "name": "python",
   "nbconvert_exporter": "python",
   "pygments_lexer": "ipython3",
   "version": "3.7.5"
  }
 },
 "nbformat": 4,
 "nbformat_minor": 4
}
