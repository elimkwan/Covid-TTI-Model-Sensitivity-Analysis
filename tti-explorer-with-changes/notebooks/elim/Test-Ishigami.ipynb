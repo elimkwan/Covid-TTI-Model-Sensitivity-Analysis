{
 "cells": [
  {
   "cell_type": "code",
   "execution_count": 1,
   "metadata": {},
   "outputs": [],
   "source": [
    "from emukit_new.test_functions.sensitivity import Ishigami\n",
    "import numpy as np\n",
    "from emukit_new.core import ContinuousParameter, ParameterSpace\n",
    "import matplotlib.pyplot as plt"
   ]
  },
  {
   "cell_type": "code",
   "execution_count": 13,
   "metadata": {},
   "outputs": [],
   "source": [
    "from emukit_new.test_functions.sensitivity import Ishigami ### change this one for the one in the library\n",
    "\n",
    "### --- Load the Ishigami function\n",
    "ishigami = Ishigami(a=5, b=0.1)\n",
    "target_simulator = ishigami.fidelity1\n",
    "\n",
    "### --- Define the input space in which the simulator is defined\n",
    "variable_domain = (-np.pi,np.pi)\n",
    "x_grid = np.linspace(*variable_domain,100)\n",
    "space = ParameterSpace(\n",
    "          [ContinuousParameter('x1', *variable_domain), \n",
    "           ContinuousParameter('x2', *variable_domain),\n",
    "           ContinuousParameter('x3', *variable_domain)])\n",
    "\n",
    "x_grid = np.linspace(*variable_domain,100)\n",
    "target_simulator = ishigami.fidelity1\n",
    "f1 = ishigami.f1(x_grid)\n",
    "f2 = ishigami.f2(x_grid)\n",
    "F13 = ishigami.f13(np.array([x_grid,x_grid]).T)[:,np.newaxis]\n"
   ]
  },
  {
   "cell_type": "code",
   "execution_count": 9,
   "metadata": {},
   "outputs": [],
   "source": [
    "from emukit_new.sensitivity.monte_carlo import MonteCarloSecondOrderSensitivity\n",
    "\n",
    "np.random.seed(10)  # for reproducibility\n",
    "\n",
    "num_monte_carlo_points = 10000  # Number of MC samples\n",
    "senstivity_ishigami = MonteCarloSecondOrderSensitivity(target_simulator, space)\n",
    "main_effects, second, total, _ = senstivity_ishigami.compute_effects(num_monte_carlo_points = num_monte_carlo_points)\n"
   ]
  },
  {
   "cell_type": "code",
   "execution_count": 10,
   "metadata": {},
   "outputs": [
    {
     "name": "stdout",
     "output_type": "stream",
     "text": [
      "{'x1': 0.4046972807643724, 'x2': 0.3009852695451654, 'x3': -0.0023884465643922046}\n"
     ]
    }
   ],
   "source": [
    "print(main_effects)"
   ]
  },
  {
   "cell_type": "code",
   "execution_count": 11,
   "metadata": {},
   "outputs": [
    {
     "name": "stdout",
     "output_type": "stream",
     "text": [
      "{'x1+x2': -0.019160590285980376, 'x1+x3': 0.31602235091452746, 'x2+x3': -0.01916059028598553}\n"
     ]
    }
   ],
   "source": [
    "print(second)"
   ]
  },
  {
   "cell_type": "code",
   "execution_count": 12,
   "metadata": {},
   "outputs": [
    {
     "name": "stdout",
     "output_type": "stream",
     "text": [
      "{'x1': 0.6627607631627292, 'x2': 0.24292643459640573, 'x3': 0.2524237461694622}\n"
     ]
    }
   ],
   "source": [
    "print(total)"
   ]
  },
  {
   "cell_type": "code",
   "execution_count": null,
   "metadata": {},
   "outputs": [],
   "source": []
  },
  {
   "cell_type": "code",
   "execution_count": 17,
   "metadata": {},
   "outputs": [
    {
     "name": "stdout",
     "output_type": "stream",
     "text": [
      "Collecting SALib\n",
      "  Downloading SALib-1.3.12.tar.gz (855 kB)\n",
      "\u001b[K     |████████████████████████████████| 855 kB 2.4 MB/s eta 0:00:01\n",
      "\u001b[?25hRequirement already satisfied: numpy in /home/elim/anaconda3/envs/ML-PhyWorld/lib/python3.6/site-packages (from SALib) (1.19.2)\n",
      "Requirement already satisfied: scipy in /home/elim/anaconda3/envs/ML-PhyWorld/lib/python3.6/site-packages (from SALib) (1.1.0)\n",
      "Requirement already satisfied: matplotlib in /home/elim/anaconda3/envs/ML-PhyWorld/lib/python3.6/site-packages (from SALib) (3.3.2)\n",
      "Requirement already satisfied: pandas in /home/elim/anaconda3/envs/ML-PhyWorld/lib/python3.6/site-packages (from SALib) (1.1.3)\n",
      "Requirement already satisfied: pyparsing!=2.0.4,!=2.1.2,!=2.1.6,>=2.0.3 in /home/elim/anaconda3/envs/ML-PhyWorld/lib/python3.6/site-packages (from matplotlib->SALib) (2.4.7)\n",
      "Requirement already satisfied: numpy in /home/elim/anaconda3/envs/ML-PhyWorld/lib/python3.6/site-packages (from SALib) (1.19.2)\n",
      "Requirement already satisfied: cycler>=0.10 in /home/elim/anaconda3/envs/ML-PhyWorld/lib/python3.6/site-packages (from matplotlib->SALib) (0.10.0)\n",
      "Requirement already satisfied: pillow>=6.2.0 in /home/elim/anaconda3/envs/ML-PhyWorld/lib/python3.6/site-packages (from matplotlib->SALib) (8.0.1)\n",
      "Requirement already satisfied: kiwisolver>=1.0.1 in /home/elim/anaconda3/envs/ML-PhyWorld/lib/python3.6/site-packages (from matplotlib->SALib) (1.3.0)\n",
      "Requirement already satisfied: python-dateutil>=2.1 in /home/elim/anaconda3/envs/ML-PhyWorld/lib/python3.6/site-packages (from matplotlib->SALib) (2.8.1)\n",
      "Requirement already satisfied: certifi>=2020.06.20 in /home/elim/anaconda3/envs/ML-PhyWorld/lib/python3.6/site-packages (from matplotlib->SALib) (2020.6.20)\n",
      "Requirement already satisfied: six in /home/elim/anaconda3/envs/ML-PhyWorld/lib/python3.6/site-packages (from cycler>=0.10->matplotlib->SALib) (1.15.0)\n",
      "Requirement already satisfied: python-dateutil>=2.1 in /home/elim/anaconda3/envs/ML-PhyWorld/lib/python3.6/site-packages (from matplotlib->SALib) (2.8.1)\n",
      "Requirement already satisfied: numpy in /home/elim/anaconda3/envs/ML-PhyWorld/lib/python3.6/site-packages (from SALib) (1.19.2)\n",
      "Requirement already satisfied: pytz>=2017.2 in /home/elim/anaconda3/envs/ML-PhyWorld/lib/python3.6/site-packages (from pandas->SALib) (2020.4)\n",
      "Requirement already satisfied: six in /home/elim/anaconda3/envs/ML-PhyWorld/lib/python3.6/site-packages (from cycler>=0.10->matplotlib->SALib) (1.15.0)\n",
      "Requirement already satisfied: numpy in /home/elim/anaconda3/envs/ML-PhyWorld/lib/python3.6/site-packages (from SALib) (1.19.2)\n",
      "Building wheels for collected packages: SALib\n",
      "  Building wheel for SALib (setup.py) ... \u001b[?25ldone\n",
      "\u001b[?25h  Created wheel for SALib: filename=SALib-1.3.12-py2.py3-none-any.whl size=729048 sha256=05466afb56dca465934f68d7c283f2f3d814b5c65984970d31eedeaca3600a43\n",
      "  Stored in directory: /home/elim/.cache/pip/wheels/31/2d/3c/08a27060501dcfae763a8e0492eb5a9e3c25c44681c273ddcd\n",
      "Successfully built SALib\n",
      "Installing collected packages: SALib\n",
      "Successfully installed SALib-1.3.12\n",
      "Note: you may need to restart the kernel to use updated packages.\n"
     ]
    },
    {
     "ename": "IndexError",
     "evalue": "index 2 is out of bounds for axis 1 with size 2",
     "output_type": "error",
     "traceback": [
      "\u001b[0;31m---------------------------------------------------------------------------\u001b[0m",
      "\u001b[0;31mIndexError\u001b[0m                                Traceback (most recent call last)",
      "\u001b[0;32m<ipython-input-17-a2f42b199d71>\u001b[0m in \u001b[0;36m<module>\u001b[0;34m\u001b[0m\n\u001b[1;32m     25\u001b[0m }\n\u001b[1;32m     26\u001b[0m \u001b[0;34m\u001b[0m\u001b[0m\n\u001b[0;32m---> 27\u001b[0;31m \u001b[0mx\u001b[0m \u001b[0;34m=\u001b[0m \u001b[0mishigami\u001b[0m\u001b[0;34m.\u001b[0m\u001b[0mfidelity1\u001b[0m\u001b[0;34m(\u001b[0m\u001b[0mnp\u001b[0m\u001b[0;34m.\u001b[0m\u001b[0marray\u001b[0m\u001b[0;34m(\u001b[0m\u001b[0;34m[\u001b[0m\u001b[0mv1\u001b[0m\u001b[0;34m,\u001b[0m\u001b[0mv2\u001b[0m\u001b[0;34m,\u001b[0m\u001b[0mv3\u001b[0m\u001b[0;34m]\u001b[0m\u001b[0;34m)\u001b[0m\u001b[0;34m)\u001b[0m\u001b[0;34m\u001b[0m\u001b[0;34m\u001b[0m\u001b[0m\n\u001b[0m\u001b[1;32m     28\u001b[0m \u001b[0mx\u001b[0m\u001b[0;34m\u001b[0m\u001b[0;34m\u001b[0m\u001b[0m\n\u001b[1;32m     29\u001b[0m \u001b[0;34m\u001b[0m\u001b[0m\n",
      "\u001b[0;32m~/Documents/Cambridge-Master/ML-PhyWorld/tti-le48/tti-explorer-with-changes/notebooks/emukit_new/test_functions/sensitivity/ishigami.py\u001b[0m in \u001b[0;36mfidelity1\u001b[0;34m(self, x)\u001b[0m\n\u001b[1;32m     55\u001b[0m         \u001b[0;34m:\u001b[0m\u001b[0mparam\u001b[0m \u001b[0mx\u001b[0m\u001b[0;34m:\u001b[0m \u001b[0;34m(\u001b[0m\u001b[0mn_points\u001b[0m \u001b[0mx\u001b[0m \u001b[0;36m3\u001b[0m\u001b[0;34m)\u001b[0m \u001b[0mnumpy\u001b[0m \u001b[0marray\u001b[0m \u001b[0mcontaining\u001b[0m \u001b[0minputs\u001b[0m \u001b[0mto\u001b[0m \u001b[0mfunction\u001b[0m\u001b[0;34m\u001b[0m\u001b[0;34m\u001b[0m\u001b[0m\n\u001b[1;32m     56\u001b[0m         \"\"\"\n\u001b[0;32m---> 57\u001b[0;31m         \u001b[0;32mreturn\u001b[0m \u001b[0mnp\u001b[0m\u001b[0;34m.\u001b[0m\u001b[0msin\u001b[0m\u001b[0;34m(\u001b[0m\u001b[0mx\u001b[0m\u001b[0;34m[\u001b[0m\u001b[0;34m:\u001b[0m\u001b[0;34m,\u001b[0m \u001b[0;36m0\u001b[0m\u001b[0;34m]\u001b[0m\u001b[0;34m)\u001b[0m \u001b[0;34m+\u001b[0m \u001b[0mself\u001b[0m\u001b[0;34m.\u001b[0m\u001b[0ma\u001b[0m \u001b[0;34m*\u001b[0m \u001b[0mnp\u001b[0m\u001b[0;34m.\u001b[0m\u001b[0msin\u001b[0m\u001b[0;34m(\u001b[0m\u001b[0mx\u001b[0m\u001b[0;34m[\u001b[0m\u001b[0;34m:\u001b[0m\u001b[0;34m,\u001b[0m \u001b[0;36m1\u001b[0m\u001b[0;34m]\u001b[0m\u001b[0;34m)\u001b[0m \u001b[0;34m**\u001b[0m \u001b[0;36m2\u001b[0m \u001b[0;34m+\u001b[0m \u001b[0mself\u001b[0m\u001b[0;34m.\u001b[0m\u001b[0mb\u001b[0m \u001b[0;34m*\u001b[0m \u001b[0mx\u001b[0m\u001b[0;34m[\u001b[0m\u001b[0;34m:\u001b[0m\u001b[0;34m,\u001b[0m \u001b[0;36m2\u001b[0m\u001b[0;34m]\u001b[0m \u001b[0;34m**\u001b[0m \u001b[0;36m4\u001b[0m \u001b[0;34m*\u001b[0m \u001b[0;34m(\u001b[0m\u001b[0mnp\u001b[0m\u001b[0;34m.\u001b[0m\u001b[0msin\u001b[0m\u001b[0;34m(\u001b[0m\u001b[0mx\u001b[0m\u001b[0;34m[\u001b[0m\u001b[0;34m:\u001b[0m\u001b[0;34m,\u001b[0m \u001b[0;36m0\u001b[0m\u001b[0;34m]\u001b[0m\u001b[0;34m)\u001b[0m\u001b[0;34m)\u001b[0m\u001b[0;34m\u001b[0m\u001b[0;34m\u001b[0m\u001b[0m\n\u001b[0m\u001b[1;32m     58\u001b[0m \u001b[0;34m\u001b[0m\u001b[0m\n\u001b[1;32m     59\u001b[0m     \u001b[0;32mdef\u001b[0m \u001b[0mfidelity2\u001b[0m\u001b[0;34m(\u001b[0m\u001b[0mself\u001b[0m\u001b[0;34m,\u001b[0m \u001b[0mx\u001b[0m\u001b[0;34m:\u001b[0m \u001b[0mnp\u001b[0m\u001b[0;34m.\u001b[0m\u001b[0mndarray\u001b[0m\u001b[0;34m)\u001b[0m \u001b[0;34m->\u001b[0m \u001b[0mnp\u001b[0m\u001b[0;34m.\u001b[0m\u001b[0mndarray\u001b[0m\u001b[0;34m:\u001b[0m\u001b[0;34m\u001b[0m\u001b[0;34m\u001b[0m\u001b[0m\n",
      "\u001b[0;31mIndexError\u001b[0m: index 2 is out of bounds for axis 1 with size 2"
     ]
    }
   ],
   "source": [
    "# %pip install SALib\n",
    "from SALib.sample import saltelli\n",
    "from SALib.analyze import sobol\n",
    "from SALib.test_functions import Ishigami\n",
    "import numpy as np\n",
    "v1 = [0.05, .99]\n",
    "v2 = [0.5,.95]\n",
    "v3 = [0.05, .99]\n",
    "v4 = [0.05, .99]\n",
    "v5 = [0.05, .4]\n",
    "v6 = [0.05, .4]\n",
    "\n",
    "\n",
    "# problem = {\n",
    "# 'num_vars': 6,\n",
    "# 'names': ['x1', 'x2', 'x3', 'x4', 'x5', 'x6'],\n",
    "# 'bounds': [[0.05, .99], [0.5,.95], [0.05, .99],[0.05, .99], [0.05, .4], [0.05, .4]]\n",
    "# }\n",
    "problem2 = {\n",
    "'num_vars': 3,\n",
    "'names': ['x1', 'x2', 'x3'],\n",
    "'bounds': [[-3.14159265359, 3.14159265359],\n",
    "[-3.14159265359, 3.14159265359],\n",
    "[-3.14159265359, 3.14159265359]]\n",
    "}\n",
    "\n",
    "# x = ishigami.fidelity1(np.array([v1,v2,v3]))\n",
    "# x\n",
    "\n",
    "xt = saltelli.sample(problem2, 10000)# get 5 random combinations of initialisations\n",
    "Y,_= model_gpy.predict()\n",
    "Y = np.squeeze(Y)\n",
    "# print(Y)\n",
    "Si = sobol.analyze(problem, Y)\n",
    "print(Si['S2'])"
   ]
  },
  {
   "cell_type": "code",
   "execution_count": null,
   "metadata": {},
   "outputs": [],
   "source": []
  }
 ],
 "metadata": {
  "kernelspec": {
   "display_name": "Python 3",
   "language": "python",
   "name": "python3"
  },
  "language_info": {
   "codemirror_mode": {
    "name": "ipython",
    "version": 3
   },
   "file_extension": ".py",
   "mimetype": "text/x-python",
   "name": "python",
   "nbconvert_exporter": "python",
   "pygments_lexer": "ipython3",
   "version": "3.6.12"
  }
 },
 "nbformat": 4,
 "nbformat_minor": 4
}
