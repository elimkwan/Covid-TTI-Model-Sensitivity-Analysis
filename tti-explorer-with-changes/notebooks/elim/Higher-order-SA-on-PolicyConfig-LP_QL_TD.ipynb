{
 "cells": [
  {
   "cell_type": "markdown",
   "metadata": {
    "colab_type": "text",
    "id": "view-in-github"
   },
   "source": [
    "<a href=\"https://colab.research.google.com/github/rs-delve/tti-explorer/blob/master/notebooks/tti-experiment.ipynb\" target=\"_parent\"><img src=\"https://colab.research.google.com/assets/colab-badge.svg\" alt=\"Open In Colab\"/></a>"
   ]
  },
  {
   "cell_type": "markdown",
   "metadata": {
    "colab_type": "text",
    "id": "7CmXXoii-iLo"
   },
   "source": [
    "## TTI Strategies"
   ]
  },
  {
   "cell_type": "markdown",
   "metadata": {
    "colab_type": "text",
    "id": "ponSUAl6-iLo"
   },
   "source": [
    "All of the information about the primary case's infection and how they infect their social contacts (under no government intervention) is now contained in `primary_case` and `social_contacts`.\n",
    "\n",
    "Now we run a simulation, which works as follows. We start by generating a large number of cases, each with associated contacts. Given a particular strategy (e.g. test-based TTI with NPI of stringency level S3), each case is passed through the strategy, which computes various metrics for the case. For example, it computes the number of secondary cases due to primary case (reproduction number) and the number of tests required. We then collect the results for each case and average them, returning the final evaluation of the strategy."
   ]
  },
  {
   "cell_type": "markdown",
   "metadata": {
    "colab_type": "text",
    "id": "BHB568_y-iLp"
   },
   "source": [
    "## Running a Simulation"
   ]
  },
  {
   "cell_type": "code",
   "execution_count": 1,
   "metadata": {},
   "outputs": [],
   "source": [
    "from emukit_new.core import DiscreteParameter, ContinuousParameter, ParameterSpace\n",
    "# from emukit_new.sensitivity.monte_carlo import ModelFreeMonteCarloSensitivity\n",
    "from emukit_new.core.initial_designs import RandomDesign\n",
    "from emukit_new.model_wrappers import GPyModelWrapper\n",
    "# from emukit_new.sensitivity.monte_carlo import MonteCarloSensitivity\n",
    "from emukit_new.experimental_design.acquisitions import IntegratedVarianceReduction, ModelVariance\n",
    "from emukit_new.experimental_design.experimental_design_loop import ExperimentalDesignLoop"
   ]
  },
  {
   "cell_type": "code",
   "execution_count": 2,
   "metadata": {
    "colab": {},
    "colab_type": "code",
    "id": "Ql0yp7H4-iLq"
   },
   "outputs": [],
   "source": [
    "# !git clone https://github.com/rs-delve/tti-explorer.git\n",
    "# %cd tti-explorer\n",
    "# %pip install -q .\n",
    "import os\n",
    "import numpy as np\n",
    "import pandas as pd\n",
    "from tqdm.notebook import trange\n",
    "\n",
    "from tti_explorer import config, utils\n",
    "from tti_explorer.case import simulate_case, CaseFactors\n",
    "from tti_explorer.contacts import EmpiricalContactsSimulator\n",
    "from tti_explorer.strategies import TTIFlowModel, RETURN_KEYS\n",
    "\n",
    "# %pip install pyDOE\n",
    "# %pip install emukit\n",
    "# %pip install gpy\n",
    "import urllib.request\n",
    "import numpy as np\n",
    "import matplotlib.pyplot as plt\n",
    "\n",
    "urllib.request.urlretrieve('https://raw.githubusercontent.com/lawrennd/talks/gh-pages/teaching_plots.py','teaching_plots.py')\n",
    "urllib.request.urlretrieve('https://raw.githubusercontent.com/lawrennd/talks/gh-pages/mlai.py','mlai.py')\n",
    "urllib.request.urlretrieve('https://raw.githubusercontent.com/lawrennd/talks/gh-pages/gp_tutorial.py','gp_tutorial.py')\n",
    "\n",
    "from matplotlib import colors as mcolors\n",
    "from matplotlib import cm\n",
    "import numpy as np\n",
    "import GPy\n",
    "# from emukit_new.core import DiscreteParameter, ContinuousParameter, ParameterSpace\n",
    "# from emukit_new.sensitivity.monte_carlo import ModelFreeMonteCarloSensitivity\n",
    "# from emukit_new.core.initial_designs import RandomDesign\n",
    "from GPy.models import GPRegression\n",
    "# from emukit_new.model_wrappers import GPyModelWrapper\n",
    "# from emukit_new.sensitivity.monte_carlo import MonteCarloSensitivity\n",
    "# from emukit_new.experimental_design.acquisitions import IntegratedVarianceReduction, ModelVariance\n",
    "# from emukit_new.experimental_design.experimental_design_loop import ExperimentalDesignLoop\n",
    "import matplotlib.pyplot as plt\n",
    "import teaching_plots as plot\n",
    "import mlai\n",
    "import pandas as pd"
   ]
  },
  {
   "cell_type": "markdown",
   "metadata": {
    "colab_type": "text",
    "id": "t8xUXOXV-iLt"
   },
   "source": [
    "We will analyse the `S3_test_based_TTI` strategy from our report. For clarity, we will show the whole process."
   ]
  },
  {
   "cell_type": "code",
   "execution_count": 3,
   "metadata": {},
   "outputs": [
    {
     "ename": "OSError",
     "evalue": "../../../data/bbc-pandemic/contact_distributions_o18.csv not found.",
     "output_type": "error",
     "traceback": [
      "\u001b[0;31m---------------------------------------------------------------------------\u001b[0m",
      "\u001b[0;31mOSError\u001b[0m                                   Traceback (most recent call last)",
      "\u001b[0;32m<ipython-input-3-cccccfcb3c2f>\u001b[0m in \u001b[0;36m<module>\u001b[0;34m\u001b[0m\n\u001b[1;32m      3\u001b[0m \u001b[0;34m\u001b[0m\u001b[0m\n\u001b[1;32m      4\u001b[0m \u001b[0mpath_to_bbc_data\u001b[0m \u001b[0;34m=\u001b[0m \u001b[0mos\u001b[0m\u001b[0;34m.\u001b[0m\u001b[0mpath\u001b[0m\u001b[0;34m.\u001b[0m\u001b[0mjoin\u001b[0m\u001b[0;34m(\u001b[0m\u001b[0;34m\"../../../data\"\u001b[0m\u001b[0;34m,\u001b[0m \u001b[0;34m\"bbc-pandemic\"\u001b[0m\u001b[0;34m)\u001b[0m\u001b[0;34m\u001b[0m\u001b[0;34m\u001b[0m\u001b[0m\n\u001b[0;32m----> 5\u001b[0;31m \u001b[0mover18\u001b[0m \u001b[0;34m=\u001b[0m \u001b[0mload_csv\u001b[0m\u001b[0;34m(\u001b[0m\u001b[0mos\u001b[0m\u001b[0;34m.\u001b[0m\u001b[0mpath\u001b[0m\u001b[0;34m.\u001b[0m\u001b[0mjoin\u001b[0m\u001b[0;34m(\u001b[0m\u001b[0mpath_to_bbc_data\u001b[0m\u001b[0;34m,\u001b[0m \u001b[0;34m\"contact_distributions_o18.csv\"\u001b[0m\u001b[0;34m)\u001b[0m\u001b[0;34m)\u001b[0m\u001b[0;34m\u001b[0m\u001b[0;34m\u001b[0m\u001b[0m\n\u001b[0m\u001b[1;32m      6\u001b[0m \u001b[0munder18\u001b[0m \u001b[0;34m=\u001b[0m \u001b[0mload_csv\u001b[0m\u001b[0;34m(\u001b[0m\u001b[0mos\u001b[0m\u001b[0;34m.\u001b[0m\u001b[0mpath\u001b[0m\u001b[0;34m.\u001b[0m\u001b[0mjoin\u001b[0m\u001b[0;34m(\u001b[0m\u001b[0mpath_to_bbc_data\u001b[0m\u001b[0;34m,\u001b[0m \u001b[0;34m\"contact_distributions_u18.csv\"\u001b[0m\u001b[0;34m)\u001b[0m\u001b[0;34m)\u001b[0m\u001b[0;34m\u001b[0m\u001b[0;34m\u001b[0m\u001b[0m\n",
      "\u001b[0;32m<ipython-input-3-cccccfcb3c2f>\u001b[0m in \u001b[0;36mload_csv\u001b[0;34m(pth)\u001b[0m\n\u001b[1;32m      1\u001b[0m \u001b[0;32mdef\u001b[0m \u001b[0mload_csv\u001b[0m\u001b[0;34m(\u001b[0m\u001b[0mpth\u001b[0m\u001b[0;34m)\u001b[0m\u001b[0;34m:\u001b[0m\u001b[0;34m\u001b[0m\u001b[0;34m\u001b[0m\u001b[0m\n\u001b[0;32m----> 2\u001b[0;31m     \u001b[0;32mreturn\u001b[0m \u001b[0mnp\u001b[0m\u001b[0;34m.\u001b[0m\u001b[0mloadtxt\u001b[0m\u001b[0;34m(\u001b[0m\u001b[0mpth\u001b[0m\u001b[0;34m,\u001b[0m \u001b[0mdtype\u001b[0m\u001b[0;34m=\u001b[0m\u001b[0mint\u001b[0m\u001b[0;34m,\u001b[0m \u001b[0mskiprows\u001b[0m\u001b[0;34m=\u001b[0m\u001b[0;36m1\u001b[0m\u001b[0;34m,\u001b[0m \u001b[0mdelimiter\u001b[0m\u001b[0;34m=\u001b[0m\u001b[0;34m\",\"\u001b[0m\u001b[0;34m)\u001b[0m\u001b[0;34m\u001b[0m\u001b[0;34m\u001b[0m\u001b[0m\n\u001b[0m\u001b[1;32m      3\u001b[0m \u001b[0;34m\u001b[0m\u001b[0m\n\u001b[1;32m      4\u001b[0m \u001b[0mpath_to_bbc_data\u001b[0m \u001b[0;34m=\u001b[0m \u001b[0mos\u001b[0m\u001b[0;34m.\u001b[0m\u001b[0mpath\u001b[0m\u001b[0;34m.\u001b[0m\u001b[0mjoin\u001b[0m\u001b[0;34m(\u001b[0m\u001b[0;34m\"../../../data\"\u001b[0m\u001b[0;34m,\u001b[0m \u001b[0;34m\"bbc-pandemic\"\u001b[0m\u001b[0;34m)\u001b[0m\u001b[0;34m\u001b[0m\u001b[0;34m\u001b[0m\u001b[0m\n\u001b[1;32m      5\u001b[0m \u001b[0mover18\u001b[0m \u001b[0;34m=\u001b[0m \u001b[0mload_csv\u001b[0m\u001b[0;34m(\u001b[0m\u001b[0mos\u001b[0m\u001b[0;34m.\u001b[0m\u001b[0mpath\u001b[0m\u001b[0;34m.\u001b[0m\u001b[0mjoin\u001b[0m\u001b[0;34m(\u001b[0m\u001b[0mpath_to_bbc_data\u001b[0m\u001b[0;34m,\u001b[0m \u001b[0;34m\"contact_distributions_o18.csv\"\u001b[0m\u001b[0;34m)\u001b[0m\u001b[0;34m)\u001b[0m\u001b[0;34m\u001b[0m\u001b[0;34m\u001b[0m\u001b[0m\n",
      "\u001b[0;32m~/anaconda3/envs/ML-PhyWorld/lib/python3.6/site-packages/numpy/lib/npyio.py\u001b[0m in \u001b[0;36mloadtxt\u001b[0;34m(fname, dtype, comments, delimiter, converters, skiprows, usecols, unpack, ndmin, encoding, max_rows)\u001b[0m\n\u001b[1;32m    959\u001b[0m             \u001b[0mfname\u001b[0m \u001b[0;34m=\u001b[0m \u001b[0mos_fspath\u001b[0m\u001b[0;34m(\u001b[0m\u001b[0mfname\u001b[0m\u001b[0;34m)\u001b[0m\u001b[0;34m\u001b[0m\u001b[0;34m\u001b[0m\u001b[0m\n\u001b[1;32m    960\u001b[0m         \u001b[0;32mif\u001b[0m \u001b[0m_is_string_like\u001b[0m\u001b[0;34m(\u001b[0m\u001b[0mfname\u001b[0m\u001b[0;34m)\u001b[0m\u001b[0;34m:\u001b[0m\u001b[0;34m\u001b[0m\u001b[0;34m\u001b[0m\u001b[0m\n\u001b[0;32m--> 961\u001b[0;31m             \u001b[0mfh\u001b[0m \u001b[0;34m=\u001b[0m \u001b[0mnp\u001b[0m\u001b[0;34m.\u001b[0m\u001b[0mlib\u001b[0m\u001b[0;34m.\u001b[0m\u001b[0m_datasource\u001b[0m\u001b[0;34m.\u001b[0m\u001b[0mopen\u001b[0m\u001b[0;34m(\u001b[0m\u001b[0mfname\u001b[0m\u001b[0;34m,\u001b[0m \u001b[0;34m'rt'\u001b[0m\u001b[0;34m,\u001b[0m \u001b[0mencoding\u001b[0m\u001b[0;34m=\u001b[0m\u001b[0mencoding\u001b[0m\u001b[0;34m)\u001b[0m\u001b[0;34m\u001b[0m\u001b[0;34m\u001b[0m\u001b[0m\n\u001b[0m\u001b[1;32m    962\u001b[0m             \u001b[0mfencoding\u001b[0m \u001b[0;34m=\u001b[0m \u001b[0mgetattr\u001b[0m\u001b[0;34m(\u001b[0m\u001b[0mfh\u001b[0m\u001b[0;34m,\u001b[0m \u001b[0;34m'encoding'\u001b[0m\u001b[0;34m,\u001b[0m \u001b[0;34m'latin1'\u001b[0m\u001b[0;34m)\u001b[0m\u001b[0;34m\u001b[0m\u001b[0;34m\u001b[0m\u001b[0m\n\u001b[1;32m    963\u001b[0m             \u001b[0mfh\u001b[0m \u001b[0;34m=\u001b[0m \u001b[0miter\u001b[0m\u001b[0;34m(\u001b[0m\u001b[0mfh\u001b[0m\u001b[0;34m)\u001b[0m\u001b[0;34m\u001b[0m\u001b[0;34m\u001b[0m\u001b[0m\n",
      "\u001b[0;32m~/anaconda3/envs/ML-PhyWorld/lib/python3.6/site-packages/numpy/lib/_datasource.py\u001b[0m in \u001b[0;36mopen\u001b[0;34m(path, mode, destpath, encoding, newline)\u001b[0m\n\u001b[1;32m    193\u001b[0m \u001b[0;34m\u001b[0m\u001b[0m\n\u001b[1;32m    194\u001b[0m     \u001b[0mds\u001b[0m \u001b[0;34m=\u001b[0m \u001b[0mDataSource\u001b[0m\u001b[0;34m(\u001b[0m\u001b[0mdestpath\u001b[0m\u001b[0;34m)\u001b[0m\u001b[0;34m\u001b[0m\u001b[0;34m\u001b[0m\u001b[0m\n\u001b[0;32m--> 195\u001b[0;31m     \u001b[0;32mreturn\u001b[0m \u001b[0mds\u001b[0m\u001b[0;34m.\u001b[0m\u001b[0mopen\u001b[0m\u001b[0;34m(\u001b[0m\u001b[0mpath\u001b[0m\u001b[0;34m,\u001b[0m \u001b[0mmode\u001b[0m\u001b[0;34m,\u001b[0m \u001b[0mencoding\u001b[0m\u001b[0;34m=\u001b[0m\u001b[0mencoding\u001b[0m\u001b[0;34m,\u001b[0m \u001b[0mnewline\u001b[0m\u001b[0;34m=\u001b[0m\u001b[0mnewline\u001b[0m\u001b[0;34m)\u001b[0m\u001b[0;34m\u001b[0m\u001b[0;34m\u001b[0m\u001b[0m\n\u001b[0m\u001b[1;32m    196\u001b[0m \u001b[0;34m\u001b[0m\u001b[0m\n\u001b[1;32m    197\u001b[0m \u001b[0;34m\u001b[0m\u001b[0m\n",
      "\u001b[0;32m~/anaconda3/envs/ML-PhyWorld/lib/python3.6/site-packages/numpy/lib/_datasource.py\u001b[0m in \u001b[0;36mopen\u001b[0;34m(self, path, mode, encoding, newline)\u001b[0m\n\u001b[1;32m    533\u001b[0m                                       encoding=encoding, newline=newline)\n\u001b[1;32m    534\u001b[0m         \u001b[0;32melse\u001b[0m\u001b[0;34m:\u001b[0m\u001b[0;34m\u001b[0m\u001b[0;34m\u001b[0m\u001b[0m\n\u001b[0;32m--> 535\u001b[0;31m             \u001b[0;32mraise\u001b[0m \u001b[0mIOError\u001b[0m\u001b[0;34m(\u001b[0m\u001b[0;34m\"%s not found.\"\u001b[0m \u001b[0;34m%\u001b[0m \u001b[0mpath\u001b[0m\u001b[0;34m)\u001b[0m\u001b[0;34m\u001b[0m\u001b[0;34m\u001b[0m\u001b[0m\n\u001b[0m\u001b[1;32m    536\u001b[0m \u001b[0;34m\u001b[0m\u001b[0m\n\u001b[1;32m    537\u001b[0m \u001b[0;34m\u001b[0m\u001b[0m\n",
      "\u001b[0;31mOSError\u001b[0m: ../../../data/bbc-pandemic/contact_distributions_o18.csv not found."
     ]
    }
   ],
   "source": [
    "def load_csv(pth):\n",
    "    return np.loadtxt(pth, dtype=int, skiprows=1, delimiter=\",\")\n",
    "\n",
    "path_to_bbc_data = os.path.join(\"../../../data\", \"bbc-pandemic\")\n",
    "over18 = load_csv(os.path.join(path_to_bbc_data, \"contact_distributions_o18.csv\"))\n",
    "under18 = load_csv(os.path.join(path_to_bbc_data, \"contact_distributions_u18.csv\"))"
   ]
  },
  {
   "cell_type": "markdown",
   "metadata": {
    "colab_type": "text",
    "id": "CPvGkTFW-iLu"
   },
   "source": [
    "First get the configurations:"
   ]
  },
  {
   "cell_type": "code",
   "execution_count": null,
   "metadata": {
    "colab": {},
    "colab_type": "code",
    "id": "dz1zBETF-iLu"
   },
   "outputs": [],
   "source": [
    "name = 'S3_test_based_TTI'\n",
    "\n",
    "case_config = config.get_case_config(\"delve\")\n",
    "contacts_config = config.get_contacts_config(\"delve\")\n",
    "policy_config = config.get_strategy_configs(\"delve\", name)[name]"
   ]
  },
  {
   "cell_type": "code",
   "execution_count": null,
   "metadata": {
    "scrolled": true
   },
   "outputs": [],
   "source": [
    "def update_policy_config(quarantine, latent, testing):\n",
    "    policy_config['quarantine_length'] = int(round(quarantine))\n",
    "    policy_config['latent_period'] = int(round(latent))\n",
    "    policy_config['testing_delay'] = int(round(testing))\n",
    "    return policy_config\n",
    "\n",
    "policy_config = update_policy_config(14, 3, 2)"
   ]
  },
  {
   "cell_type": "code",
   "execution_count": null,
   "metadata": {},
   "outputs": [],
   "source": [
    "# Separating this because it is built from the ammended policy_config\n",
    "factor_config = utils.get_sub_dictionary(policy_config, config.DELVE_CASE_FACTOR_KEYS)\n",
    "strategy_config = utils.get_sub_dictionary(policy_config, config.DELVE_STRATEGY_FACTOR_KEYS)"
   ]
  },
  {
   "cell_type": "markdown",
   "metadata": {
    "colab_type": "text",
    "id": "le8N86QT-iLx"
   },
   "source": [
    "Set a random state:"
   ]
  },
  {
   "cell_type": "code",
   "execution_count": null,
   "metadata": {
    "colab": {},
    "colab_type": "code",
    "id": "f9LUG5IH-iLy"
   },
   "outputs": [],
   "source": [
    "rng = np.random.RandomState(42)"
   ]
  },
  {
   "cell_type": "markdown",
   "metadata": {
    "colab_type": "text",
    "id": "fOxJ84t3-iL1"
   },
   "source": [
    "Make contact simulator:"
   ]
  },
  {
   "cell_type": "code",
   "execution_count": null,
   "metadata": {
    "colab": {},
    "colab_type": "code",
    "id": "cr92iit4-iL2"
   },
   "outputs": [],
   "source": [
    "simulate_contacts = EmpiricalContactsSimulator(over18, under18, rng)"
   ]
  },
  {
   "cell_type": "markdown",
   "metadata": {
    "colab_type": "text",
    "id": "HAgmj657-iL6"
   },
   "source": [
    "Make the TTI Model:"
   ]
  },
  {
   "cell_type": "code",
   "execution_count": null,
   "metadata": {
    "colab": {},
    "colab_type": "code",
    "id": "NjH7Ih7x-iL7"
   },
   "outputs": [],
   "source": [
    "tti_model = TTIFlowModel(rng, **strategy_config)"
   ]
  },
  {
   "cell_type": "markdown",
   "metadata": {
    "colab_type": "text",
    "id": "7IFGP5K6-iL-"
   },
   "source": [
    "Generate cases, contacts and run simulation:"
   ]
  },
  {
   "cell_type": "code",
   "execution_count": null,
   "metadata": {},
   "outputs": [],
   "source": [
    "\"\"\"\n",
    "Runs TTI simulator as many times as the different input initialisations.\n",
    "The main reason we need this is to put in to EmuKit for the Experimental\n",
    "Design Loop.\n",
    "\n",
    "Args:\n",
    "    configs (list): Inputs are [app_cov, compliance]\n",
    "\n",
    "Returns:\n",
    "    effective_rs (np.expand_dims(np.array(to_return), 1)): For every simulation run, return\n",
    "    the effective r, as was plotted form Bryn and Andrei previously.\n",
    "\n",
    "\"\"\"\n",
    "rng = np.random.RandomState(42)\n",
    "simulate_contacts = EmpiricalContactsSimulator(over18, under18, rng)\n",
    "\n",
    "def run_tti_sim(configs):\n",
    "    to_return=[]\n",
    "    for vals in configs:\n",
    "#         contact_config = update_case_config(vals[0])\n",
    "#         case_config = update_case_config(vals[1])\n",
    "        policy_config = update_policy_config(vals[0],vals[1], vals[2])\n",
    "        factor_config = utils.get_sub_dictionary(policy_config, config.DELVE_CASE_FACTOR_KEYS)\n",
    "        strategy_config = utils.get_sub_dictionary(policy_config, config.DELVE_STRATEGY_FACTOR_KEYS)\n",
    "        tti_model = TTIFlowModel(rng, **strategy_config)\n",
    "        n_cases = 10000\n",
    "        outputs = list()\n",
    "        temp =[]\n",
    "        for _ in trange(n_cases):\n",
    "            case = simulate_case(rng, **case_config)\n",
    "            case_factors = CaseFactors.simulate_from(rng, case, **factor_config)\n",
    "            contacts = simulate_contacts(case, **contacts_config)\n",
    "            res = tti_model(case, contacts, case_factors)\n",
    "            outputs.append(res)\n",
    "            if res[\"Effective R\"] >= 0:\n",
    "                temp.append(res[\"Effective R\"]) # Get effective R. Only non-nan vals are kept\n",
    "        to_return.append(np.mean(temp))\n",
    "    return np.expand_dims(np.array(to_return), 1)\n"
   ]
  },
  {
   "cell_type": "code",
   "execution_count": null,
   "metadata": {},
   "outputs": [],
   "source": [
    "variable_domain3 = [5,6,7,8,9,10,11,12,13,14] \n",
    "variable_domain4 = [3,4,5,6,7,8] \n",
    "variable_domain5 = [1,2,3,4,5] \n",
    "\n",
    "initial_samples = 50 # number of random runs to perform before starting experimental design \n",
    "space = ParameterSpace([\n",
    "#     ContinuousParameter('asymp_factor', *variable_domain1),\n",
    "#                         ContinuousParameter('p_day_noticed_symptoms', *variable_domain2),\n",
    "                        DiscreteParameter('quarantine_length', variable_domain3),\n",
    "                        DiscreteParameter('latent_period', variable_domain4),\n",
    "                        DiscreteParameter('testing_delay', variable_domain5)]) # init param space for experimental design\n",
    "design = RandomDesign(space)\n",
    "x = design.get_samples(initial_samples) # get 5 random combinations of initialisations\n",
    "y = run_tti_sim(x) # obtain corresponding effective_rs"
   ]
  },
  {
   "cell_type": "code",
   "execution_count": 88,
   "metadata": {},
   "outputs": [
    {
     "name": "stdout",
     "output_type": "stream",
     "text": [
      "Optimization restart 1/1, f = -53.47783169970779\n"
     ]
    },
    {
     "data": {
      "text/html": [
       "<style type=\"text/css\">\n",
       ".pd{\n",
       "    font-family: \"Courier New\", Courier, monospace !important;\n",
       "    width: 100%;\n",
       "    padding: 3px;\n",
       "}\n",
       "</style>\n",
       "\n",
       "<p class=pd>\n",
       "<b>Model</b>: GP regression<br>\n",
       "<b>Objective</b>: -53.47783169970779<br>\n",
       "<b>Number of Parameters</b>: 7<br>\n",
       "<b>Number of Optimization Parameters</b>: 7<br>\n",
       "<b>Updates</b>: True<br>\n",
       "</p>\n",
       "<style type=\"text/css\">\n",
       ".tg  {font-family:\"Courier New\", Courier, monospace !important;padding:2px 3px;word-break:normal;border-collapse:collapse;border-spacing:0;border-color:#DCDCDC;margin:0px auto;width:100%;}\n",
       ".tg td{font-family:\"Courier New\", Courier, monospace !important;font-weight:bold;color:#444;background-color:#F7FDFA;border-style:solid;border-width:1px;overflow:hidden;word-break:normal;border-color:#DCDCDC;}\n",
       ".tg th{font-family:\"Courier New\", Courier, monospace !important;font-weight:normal;color:#fff;background-color:#26ADE4;border-style:solid;border-width:1px;overflow:hidden;word-break:normal;border-color:#DCDCDC;}\n",
       ".tg .tg-left{font-family:\"Courier New\", Courier, monospace !important;font-weight:normal;text-align:left;}\n",
       ".tg .tg-center{font-family:\"Courier New\", Courier, monospace !important;font-weight:normal;text-align:center;}\n",
       ".tg .tg-right{font-family:\"Courier New\", Courier, monospace !important;font-weight:normal;text-align:right;}\n",
       "</style>\n",
       "<table class=\"tg\"><tr><th><b>  GP_regression.         </b></th><th><b>                value</b></th><th><b>constraints</b></th><th><b>priors</b></th></tr>\n",
       "<tr><td class=tg-left>  sum.rbf.variance       </td><td class=tg-right> 0.001232655307564637</td><td class=tg-center>    +ve    </td><td class=tg-center>      </td></tr>\n",
       "<tr><td class=tg-left>  sum.rbf.lengthscale    </td><td class=tg-right>                 (3,)</td><td class=tg-center>    +ve    </td><td class=tg-center>      </td></tr>\n",
       "<tr><td class=tg-left>  sum.white.variance     </td><td class=tg-right>0.0026009109741620996</td><td class=tg-center>    +ve    </td><td class=tg-center>      </td></tr>\n",
       "<tr><td class=tg-left>  sum.bias.variance      </td><td class=tg-right>    2.584088099569359</td><td class=tg-center>    +ve    </td><td class=tg-center>      </td></tr>\n",
       "<tr><td class=tg-left>  Gaussian_noise.variance</td><td class=tg-right>0.0026009109741620996</td><td class=tg-center>    +ve    </td><td class=tg-center>      </td></tr>\n",
       "</table>"
      ],
      "text/plain": [
       "<GPy.models.gp_regression.GPRegression at 0x7f5e0bfd9e10>"
      ]
     },
     "metadata": {},
     "output_type": "display_data"
    }
   ],
   "source": [
    "# Fitting emulator to data, x: (app_cov, compliance), y: effective_r\n",
    "Num_of_param = 3\n",
    "kern_eq = GPy.kern.RBF(input_dim=Num_of_param, ARD = True) +  GPy.kern.White(input_dim=Num_of_param, variance=1)\n",
    "kern_bias = GPy.kern.Bias(input_dim=Num_of_param)\n",
    "kern = kern_eq + kern_bias\n",
    "model_gpy = GPRegression(x,y, kern)\n",
    "model_gpy.kern.variance = 1**2\n",
    "# model_gpy.likelihood.variance.fix(1e-5)\n",
    "model_emukit = GPyModelWrapper(model_gpy) \n",
    "model_emukit.optimize() # optimise (max log-lik)\n",
    "display(model_gpy)"
   ]
  },
  {
   "cell_type": "code",
   "execution_count": 67,
   "metadata": {},
   "outputs": [
    {
     "name": "stdout",
     "output_type": "stream",
     "text": [
      "Optimization restart 1/1, f = 739.9273868298944\n"
     ]
    },
    {
     "data": {
      "application/vnd.jupyter.widget-view+json": {
       "model_id": "46491bcea1f8457c96eca3e69b5cee92",
       "version_major": 2,
       "version_minor": 0
      },
      "text/plain": [
       "HBox(children=(HTML(value=''), FloatProgress(value=0.0, max=10000.0), HTML(value='')))"
      ]
     },
     "metadata": {},
     "output_type": "display_data"
    },
    {
     "name": "stdout",
     "output_type": "stream",
     "text": [
      "\n",
      "Optimization restart 1/1, f = 738.3003016759731\n"
     ]
    },
    {
     "data": {
      "application/vnd.jupyter.widget-view+json": {
       "model_id": "ec1aeaf4700349ec85d43810e73a4f87",
       "version_major": 2,
       "version_minor": 0
      },
      "text/plain": [
       "HBox(children=(HTML(value=''), FloatProgress(value=0.0, max=10000.0), HTML(value='')))"
      ]
     },
     "metadata": {},
     "output_type": "display_data"
    },
    {
     "name": "stdout",
     "output_type": "stream",
     "text": [
      "\n",
      "Optimization restart 1/1, f = 738.2402618730983\n"
     ]
    },
    {
     "data": {
      "application/vnd.jupyter.widget-view+json": {
       "model_id": "6a8c21193f7c40298a790a21a7a3d242",
       "version_major": 2,
       "version_minor": 0
      },
      "text/plain": [
       "HBox(children=(HTML(value=''), FloatProgress(value=0.0, max=10000.0), HTML(value='')))"
      ]
     },
     "metadata": {},
     "output_type": "display_data"
    },
    {
     "name": "stdout",
     "output_type": "stream",
     "text": [
      "\n",
      "Optimization restart 1/1, f = 736.8867780123171\n"
     ]
    },
    {
     "data": {
      "application/vnd.jupyter.widget-view+json": {
       "model_id": "c0ba32cc256d4be4bec945e473bbf28d",
       "version_major": 2,
       "version_minor": 0
      },
      "text/plain": [
       "HBox(children=(HTML(value=''), FloatProgress(value=0.0, max=10000.0), HTML(value='')))"
      ]
     },
     "metadata": {},
     "output_type": "display_data"
    },
    {
     "name": "stdout",
     "output_type": "stream",
     "text": [
      "\n",
      "Optimization restart 1/1, f = 735.5880057618058\n"
     ]
    },
    {
     "data": {
      "application/vnd.jupyter.widget-view+json": {
       "model_id": "5244a2faf7184be382f0878bee2a3a0b",
       "version_major": 2,
       "version_minor": 0
      },
      "text/plain": [
       "HBox(children=(HTML(value=''), FloatProgress(value=0.0, max=10000.0), HTML(value='')))"
      ]
     },
     "metadata": {},
     "output_type": "display_data"
    },
    {
     "name": "stdout",
     "output_type": "stream",
     "text": [
      "\n",
      "Optimization restart 1/1, f = 733.983166315304\n"
     ]
    }
   ],
   "source": [
    "# Initialise experimental design loop. Using integrated variance as acquisition\n",
    "# to \"query\" the input space aiming to reduce uncertainty over the func we're approx. i.e. effective_r\n",
    "num_of_loops = 5\n",
    "integrated_variance = IntegratedVarianceReduction(space=space, model=model_emukit)\n",
    "ed = ExperimentalDesignLoop(space=space, model=model_emukit, acquisition = integrated_variance)\n",
    "ed.run_loop(run_tti_sim, num_of_loops)"
   ]
  },
  {
   "cell_type": "markdown",
   "metadata": {},
   "source": [
    "## Calculate Sobol indices with SALib\n",
    "Discretizing the input factor should not affect the Sobol and FAST methods.\n",
    "https://waterprogramming.wordpress.com/2014/02/11/extensions-of-salib-for-more-complex-sensitivity-analyses/"
   ]
  },
  {
   "cell_type": "code",
   "execution_count": 81,
   "metadata": {},
   "outputs": [
    {
     "name": "stdout",
     "output_type": "stream",
     "text": [
      "[[       nan 0.17111154 0.01750001]\n",
      " [       nan        nan 0.34629337]\n",
      " [       nan        nan        nan]]\n"
     ]
    }
   ],
   "source": [
    "from SALib.sample import saltelli\n",
    "from SALib.analyze import sobol\n",
    "\n",
    "# 'asymp_factor' (contacts_config) 0.5-0.9\n",
    "# 'p_day_noticed_symptoms' (case_config) 1-5\n",
    "# 'quarantine_length': 14, 10-14\n",
    "#  'latent_period': 3, 1-5\n",
    "# 'testing_delay': 2, 1-5\n",
    "\n",
    "# problem = {\n",
    "# 'num_vars': 5,\n",
    "# 'names': ['asymp_factor', 'p_day_noticed_symptoms', 'quarantine_length','latent_period','testing_delay'],\n",
    "# 'bounds': [[0.05, 2],\n",
    "#             [1, 5],\n",
    "#             [10,14], \n",
    "#             [3,8],\n",
    "#             [1,5]]\n",
    "# }\n",
    "problem = {\n",
    "'num_vars': 3,\n",
    "'names': ['quarantine_length','latent_period','testing_delay'],\n",
    "'bounds': [\n",
    "            [10,14], \n",
    "            [3,8],\n",
    "            [1,5]]\n",
    "}\n",
    "\n",
    "\n",
    "xt = saltelli.sample(problem, 1500000)\n",
    "Y,_= model_gpy.predict(xt)\n",
    "Y = np.squeeze(Y)\n",
    "\n",
    "Si = sobol.analyze(problem, Y)\n",
    "print(Si['S2'])"
   ]
  },
  {
   "cell_type": "code",
   "execution_count": 82,
   "metadata": {},
   "outputs": [
    {
     "name": "stdout",
     "output_type": "stream",
     "text": [
      "[0.00771768 0.27631641 0.01913473]\n"
     ]
    }
   ],
   "source": [
    "print(Si['S1'])"
   ]
  },
  {
   "cell_type": "code",
   "execution_count": 83,
   "metadata": {},
   "outputs": [
    {
     "data": {
      "text/plain": [
       "Text(0.5, 1.0, 'First Order Sobol Indices from SALab')"
      ]
     },
     "execution_count": 83,
     "metadata": {},
     "output_type": "execute_result"
    },
    {
     "data": {
      "image/png": "[encoded data removed]",
      "text/plain": [
       "<Figure size 720x432 with 1 Axes>"
      ]
     },
     "metadata": {
      "needs_background": "light"
     },
     "output_type": "display_data"
    }
   ],
   "source": [
    "# Plot First Order Effects\n",
    "param = ['latent_period','quarantine_length','testing_delay']\n",
    "fig, ax = plt.subplots(figsize=plot.big_wide_figsize)\n",
    "\n",
    "for index,val in enumerate(Si['S1']):\n",
    "    ax.bar(param[index],val, color = 'grey')\n",
    "\n",
    "plt.ylabel('% of explained output variance')   \n",
    "ax.set_title(\"First Order Sobol Indices from SALab\")"
   ]
  },
  {
   "cell_type": "code",
   "execution_count": 84,
   "metadata": {},
   "outputs": [
    {
     "data": {
      "text/plain": [
       "Text(0.5, 1.0, 'Second Order Sobol Indices from SALab')"
      ]
     },
     "execution_count": 84,
     "metadata": {},
     "output_type": "execute_result"
    },
    {
     "data": {
      "image/png": "[encoded data removed]",
      "text/plain": [
       "<Figure size 720x432 with 1 Axes>"
      ]
     },
     "metadata": {
      "needs_background": "light"
     },
     "output_type": "display_data"
    }
   ],
   "source": [
    "# Plot Second Order Effects\n",
    "param = ['latent_period','quarantine_length','testing_delay']\n",
    "fig, ax = plt.subplots(figsize=plot.big_wide_figsize)\n",
    "\n",
    "for i in range(len(param)):\n",
    "    for j in range(len(param)):\n",
    "        val =  Si['S2'][i][j]\n",
    "        if val > -0.5:\n",
    "            name = param[i] + '+'+ param[j]\n",
    "            ax.bar(name, Si['S2'][i][j], color = 'grey')b\n",
    "\n",
    "plt.ylabel('% of explained output variance')   \n",
    "ax.set_title(\"Second Order Sobol Indices from SALab\")"
   ]
  },
  {
   "cell_type": "code",
   "execution_count": 85,
   "metadata": {},
   "outputs": [
    {
     "name": "stdout",
     "output_type": "stream",
     "text": [
      "[0.35797172 0.95547017 0.54450503]\n"
     ]
    }
   ],
   "source": [
    "print (Si['ST'])"
   ]
  },
  {
   "cell_type": "code",
   "execution_count": 86,
   "metadata": {},
   "outputs": [
    {
     "data": {
      "text/plain": [
       "Text(0.5, 1.0, 'First Order Sobol Indices from SALab')"
      ]
     },
     "execution_count": 86,
     "metadata": {},
     "output_type": "execute_result"
    },
    {
     "data": {
      "image/png": "[encoded data removed]",
      "text/plain": [
       "<Figure size 720x432 with 1 Axes>"
      ]
     },
     "metadata": {
      "needs_background": "light"
     },
     "output_type": "display_data"
    }
   ],
   "source": [
    "# Plot Total Order Effects\n",
    "param = ['latent_period','quarantine_length','testing_delay']\n",
    "fig, ax = plt.subplots(figsize=plot.big_wide_figsize)\n",
    "\n",
    "for index,val in enumerate(Si['ST']):\n",
    "    ax.bar(param[index],val, color = 'grey')\n",
    "\n",
    "plt.ylabel('% of explained output variance')   \n",
    "ax.set_title(\"First Order Sobol Indices from SALab\")"
   ]
  },
  {
   "cell_type": "markdown",
   "metadata": {},
   "source": [
    "## Calculate Sobol indices with Emukit_new"
   ]
  },
  {
   "cell_type": "code",
   "execution_count": 77,
   "metadata": {},
   "outputs": [],
   "source": [
    "from emukit_new.sensitivity.monte_carlo import ModelFreeMonteCarloSensitivity\n",
    "from emukit_new.sensitivity.monte_carlo import MonteCarloSensitivity\n",
    "from emukit_new.sensitivity.monte_carlo import MonteCarloSecondOrderSensitivity\n",
    "\n",
    "senstivity = MonteCarloSecondOrderSensitivity(model = model_emukit, input_domain = space)\n",
    "\n",
    "main_effects_gp, secondary_effects_gp, total_effects_gp, _ = senstivity.compute_effects(num_monte_carlo_points = 1500000)"
   ]
  },
  {
   "cell_type": "code",
   "execution_count": 78,
   "metadata": {},
   "outputs": [
    {
     "data": {
      "text/plain": [
       "Text(0.5, 1.0, 'First Order Sobol Indices')"
      ]
     },
     "execution_count": 78,
     "metadata": {},
     "output_type": "execute_result"
    },
    {
     "data": {
      "image/png": "[encoded data removed]",
      "text/plain": [
       "<Figure size 720x432 with 1 Axes>"
      ]
     },
     "metadata": {
      "needs_background": "light"
     },
     "output_type": "display_data"
    }
   ],
   "source": [
    "# Plot Main Effects\n",
    "fig, ax = plt.subplots(figsize=plot.big_wide_figsize)\n",
    "main_effects_gp_plot = {ivar: main_effects_gp[ivar][0] for ivar in main_effects_gp}\n",
    "\n",
    "d = {'GP Monte Carlo':main_effects_gp_plot}\n",
    "\n",
    "pd.DataFrame(d).plot(kind='bar', ax=ax)\n",
    "plt.ylabel('% of explained output variance')\n",
    "\n",
    "ax.set_title(\"First Order Sobol Indices\")"
   ]
  },
  {
   "cell_type": "code",
   "execution_count": 79,
   "metadata": {},
   "outputs": [
    {
     "data": {
      "text/plain": [
       "Text(0.5, 1.0, 'Second Order Sobol Indices')"
      ]
     },
     "execution_count": 79,
     "metadata": {},
     "output_type": "execute_result"
    },
    {
     "data": {
      "image/png": "[encoded data removed]",
      "text/plain": [
       "<Figure size 720x432 with 1 Axes>"
      ]
     },
     "metadata": {
      "needs_background": "light"
     },
     "output_type": "display_data"
    }
   ],
   "source": [
    "# Plot Second Order Effects\n",
    "fig, ax = plt.subplots(figsize=plot.big_wide_figsize)\n",
    "secondary_effects_gp_plot = {ivar: secondary_effects_gp[ivar] for ivar in secondary_effects_gp}\n",
    "\n",
    "for ivar in secondary_effects_gp:\n",
    "    ax.bar(ivar,secondary_effects_gp[ivar], color = 'grey')\n",
    "    \n",
    "plt.ylabel('% of explained output variance')   \n",
    "ax.set_title(\"Second Order Sobol Indices\")"
   ]
  },
  {
   "cell_type": "code",
   "execution_count": 80,
   "metadata": {
    "scrolled": true
   },
   "outputs": [
    {
     "data": {
      "text/plain": [
       "Text(0.5, 1.0, 'Total Effects')"
      ]
     },
     "execution_count": 80,
     "metadata": {},
     "output_type": "execute_result"
    },
    {
     "data": {
      "image/png": "[encoded data removed]",
      "text/plain": [
       "<Figure size 720x432 with 1 Axes>"
      ]
     },
     "metadata": {
      "needs_background": "light"
     },
     "output_type": "display_data"
    }
   ],
   "source": [
    "# Plot Total Effects\n",
    "fig, ax = plt.subplots(figsize=plot.big_wide_figsize)\n",
    "total_effects_gp_plot = {ivar: total_effects_gp[ivar][0] for ivar in main_effects_gp}\n",
    "\n",
    "d = {'GP Monte Carlo':total_effects_gp_plot}\n",
    "\n",
    "pd.DataFrame(d).plot(kind='bar', ax=ax)\n",
    "plt.ylabel('% of explained output variance')\n",
    "\n",
    "ax.set_title(\"Total Effects\")"
   ]
  },
  {
   "cell_type": "code",
   "execution_count": 32,
   "metadata": {},
   "outputs": [
    {
     "data": {
      "text/plain": [
       "{'quarantine_length': array([0.37467955]),\n",
       " 'latent_period': array([0.44559006]),\n",
       " 'testing_delay': array([-0.3737278])}"
      ]
     },
     "execution_count": 32,
     "metadata": {},
     "output_type": "execute_result"
    }
   ],
   "source": [
    "total_effects_gp"
   ]
  },
  {
   "cell_type": "code",
   "execution_count": null,
   "metadata": {},
   "outputs": [],
   "source": []
  }
 ],
 "metadata": {
  "colab": {
   "include_colab_link": true,
   "name": "tti-experiment.ipynb",
   "provenance": []
  },
  "kernelspec": {
   "display_name": "Python 3",
   "language": "python",
   "name": "python3"
  },
  "language_info": {
   "codemirror_mode": {
    "name": "ipython",
    "version": 3
   },
   "file_extension": ".py",
   "mimetype": "text/x-python",
   "name": "python",
   "nbconvert_exporter": "python",
   "pygments_lexer": "ipython3",
   "version": "3.6.12"
  },
  "widgets": {
   "application/vnd.jupyter.widget-state+json": {
    "01c6627a03e747b7a0bcedc0e31e94c2": {
     "model_module": "@jupyter-widgets/controls",
     "model_name": "FloatProgressModel",
     "state": {
      "_dom_classes": [],
      "_model_module": "@jupyter-widgets/controls",
      "_model_module_version": "1.5.0",
      "_model_name": "FloatProgressModel",
      "_view_count": null,
      "_view_module": "@jupyter-widgets/controls",
      "_view_module_version": "1.5.0",
      "_view_name": "ProgressView",
      "bar_style": "success",
      "description": "100%",
      "description_tooltip": null,
      "layout": "IPY_MODEL_27ae62f93b924c9f90cf1023ec62e147",
      "max": 10000,
      "min": 0,
      "orientation": "horizontal",
      "style": "IPY_MODEL_d683e78b8341498cb158a434cbf70c12",
      "value": 10000
     }
    },
    "026757afe50d4f14a7ba0beaf180574e": {
     "model_module": "@jupyter-widgets/controls",
     "model_name": "DescriptionStyleModel",
     "state": {
      "_model_module": "@jupyter-widgets/controls",
      "_model_module_version": "1.5.0",
      "_model_name": "DescriptionStyleModel",
      "_view_count": null,
      "_view_module": "@jupyter-widgets/base",
      "_view_module_version": "1.2.0",
      "_view_name": "StyleView",
      "description_width": ""
     }
    },
    "27ae62f93b924c9f90cf1023ec62e147": {
     "model_module": "@jupyter-widgets/base",
     "model_name": "LayoutModel",
     "state": {
      "_model_module": "@jupyter-widgets/base",
      "_model_module_version": "1.2.0",
      "_model_name": "LayoutModel",
      "_view_count": null,
      "_view_module": "@jupyter-widgets/base",
      "_view_module_version": "1.2.0",
      "_view_name": "LayoutView",
      "align_content": null,
      "align_items": null,
      "align_self": null,
      "border": null,
      "bottom": null,
      "display": null,
      "flex": null,
      "flex_flow": null,
      "grid_area": null,
      "grid_auto_columns": null,
      "grid_auto_flow": null,
      "grid_auto_rows": null,
      "grid_column": null,
      "grid_gap": null,
      "grid_row": null,
      "grid_template_areas": null,
      "grid_template_columns": null,
      "grid_template_rows": null,
      "height": null,
      "justify_content": null,
      "justify_items": null,
      "left": null,
      "margin": null,
      "max_height": null,
      "max_width": null,
      "min_height": null,
      "min_width": null,
      "object_fit": null,
      "object_position": null,
      "order": null,
      "overflow": null,
      "overflow_x": null,
      "overflow_y": null,
      "padding": null,
      "right": null,
      "top": null,
      "visibility": null,
      "width": null
     }
    },
    "29401bc5d41a48bdae60957b7f3126e8": {
     "model_module": "@jupyter-widgets/controls",
     "model_name": "HTMLModel",
     "state": {
      "_dom_classes": [],
      "_model_module": "@jupyter-widgets/controls",
      "_model_module_version": "1.5.0",
      "_model_name": "HTMLModel",
      "_view_count": null,
      "_view_module": "@jupyter-widgets/controls",
      "_view_module_version": "1.5.0",
      "_view_name": "HTMLView",
      "description": "",
      "description_tooltip": null,
      "layout": "IPY_MODEL_44207771133e47f3a8fb7eaca6c5c1fc",
      "placeholder": "​",
      "style": "IPY_MODEL_026757afe50d4f14a7ba0beaf180574e",
      "value": " 10000/10000 [00:05&lt;00:00, 1685.76it/s]"
     }
    },
    "44207771133e47f3a8fb7eaca6c5c1fc": {
     "model_module": "@jupyter-widgets/base",
     "model_name": "LayoutModel",
     "state": {
      "_model_module": "@jupyter-widgets/base",
      "_model_module_version": "1.2.0",
      "_model_name": "LayoutModel",
      "_view_count": null,
      "_view_module": "@jupyter-widgets/base",
      "_view_module_version": "1.2.0",
      "_view_name": "LayoutView",
      "align_content": null,
      "align_items": null,
      "align_self": null,
      "border": null,
      "bottom": null,
      "display": null,
      "flex": null,
      "flex_flow": null,
      "grid_area": null,
      "grid_auto_columns": null,
      "grid_auto_flow": null,
      "grid_auto_rows": null,
      "grid_column": null,
      "grid_gap": null,
      "grid_row": null,
      "grid_template_areas": null,
      "grid_template_columns": null,
      "grid_template_rows": null,
      "height": null,
      "justify_content": null,
      "justify_items": null,
      "left": null,
      "margin": null,
      "max_height": null,
      "max_width": null,
      "min_height": null,
      "min_width": null,
      "object_fit": null,
      "object_position": null,
      "order": null,
      "overflow": null,
      "overflow_x": null,
      "overflow_y": null,
      "padding": null,
      "right": null,
      "top": null,
      "visibility": null,
      "width": null
     }
    },
    "6d622bc0a8f64f0d87aa499c94664085": {
     "model_module": "@jupyter-widgets/controls",
     "model_name": "HBoxModel",
     "state": {
      "_dom_classes": [],
      "_model_module": "@jupyter-widgets/controls",
      "_model_module_version": "1.5.0",
      "_model_name": "HBoxModel",
      "_view_count": null,
      "_view_module": "@jupyter-widgets/controls",
      "_view_module_version": "1.5.0",
      "_view_name": "HBoxView",
      "box_style": "",
      "children": [
       "IPY_MODEL_01c6627a03e747b7a0bcedc0e31e94c2",
       "IPY_MODEL_29401bc5d41a48bdae60957b7f3126e8"
      ],
      "layout": "IPY_MODEL_8105c4eb956744b0b5e1b9ac5207f9d5"
     }
    },
    "8105c4eb956744b0b5e1b9ac5207f9d5": {
     "model_module": "@jupyter-widgets/base",
     "model_name": "LayoutModel",
     "state": {
      "_model_module": "@jupyter-widgets/base",
      "_model_module_version": "1.2.0",
      "_model_name": "LayoutModel",
      "_view_count": null,
      "_view_module": "@jupyter-widgets/base",
      "_view_module_version": "1.2.0",
      "_view_name": "LayoutView",
      "align_content": null,
      "align_items": null,
      "align_self": null,
      "border": null,
      "bottom": null,
      "display": null,
      "flex": null,
      "flex_flow": null,
      "grid_area": null,
      "grid_auto_columns": null,
      "grid_auto_flow": null,
      "grid_auto_rows": null,
      "grid_column": null,
      "grid_gap": null,
      "grid_row": null,
      "grid_template_areas": null,
      "grid_template_columns": null,
      "grid_template_rows": null,
      "height": null,
      "justify_content": null,
      "justify_items": null,
      "left": null,
      "margin": null,
      "max_height": null,
      "max_width": null,
      "min_height": null,
      "min_width": null,
      "object_fit": null,
      "object_position": null,
      "order": null,
      "overflow": null,
      "overflow_x": null,
      "overflow_y": null,
      "padding": null,
      "right": null,
      "top": null,
      "visibility": null,
      "width": null
     }
    },
    "d683e78b8341498cb158a434cbf70c12": {
     "model_module": "@jupyter-widgets/controls",
     "model_name": "ProgressStyleModel",
     "state": {
      "_model_module": "@jupyter-widgets/controls",
      "_model_module_version": "1.5.0",
      "_model_name": "ProgressStyleModel",
      "_view_count": null,
      "_view_module": "@jupyter-widgets/base",
      "_view_module_version": "1.2.0",
      "_view_name": "StyleView",
      "bar_color": null,
      "description_width": "initial"
     }
    }
   }
  }
 },
 "nbformat": 4,
 "nbformat_minor": 1
}
