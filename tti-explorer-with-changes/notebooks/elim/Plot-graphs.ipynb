{
 "cells": [
  {
   "cell_type": "code",
   "execution_count": 10,
   "metadata": {},
   "outputs": [],
   "source": [
    "import pandas as pd\n",
    "import numpy as np"
   ]
  },
  {
   "cell_type": "code",
   "execution_count": 35,
   "metadata": {},
   "outputs": [
    {
     "name": "stdout",
     "output_type": "stream",
     "text": [
      "Empty DataFrame\n",
      "Columns: [[0.02068405], [0.74845158], [0.21690407]]\n",
      "Index: []\n"
     ]
    }
   ],
   "source": [
    "# raw_data_path = './plots/raw_data/Policy_noExp/'\n",
    "# df = pd.DataFrame([Si])\n",
    "# df.to_csv(raw_data_path + 'Si.csv', index=False)\n",
    "# df = pd.DataFrame([Si_fast])\n",
    "# df.to_csv(raw_data_path + 'Si_fast.csv', index=False)\n",
    "# df = pd.DataFrame([main_effects_gp])\n",
    "# df.to_csv(raw_data_path + 'main_effects_gp.csv', index=False)\n",
    "# df = pd.DataFrame([secondary_effects_gp])\n",
    "# df.to_csv(raw_data_path + 'secondary_effects_gp.csv', index=False)\n",
    "# df = pd.DataFrame([total_effects_gp])\n",
    "# df.to_csv(raw_data_path + 'total_effects_gp.csv', index=False)\n",
    "\n",
    "# raw_data_path = './plots/raw_data/Policy_withExp/'\n",
    "# df = pd.DataFrame([Si_e])\n",
    "# df.to_csv(raw_data_path + 'Si.csv', index=False)\n",
    "# df = pd.DataFrame([Si_fast_e])\n",
    "# df.to_csv(raw_data_path + 'Si_fast.csv', index=False)\n",
    "# df = pd.DataFrame([main_effects_gp_e])\n",
    "# df.to_csv(raw_data_path + 'main_effects_gp.csv', index=False)\n",
    "# df = pd.DataFrame([secondary_effects_gp_e])\n",
    "# df.to_csv(raw_data_path + 'secondary_effects_gp.csv', index=False)\n",
    "# df = pd.DataFrame([total_effects_gp_e])\n",
    "# df.to_csv(raw_data_path + 'total_effects_gp.csv', index=False)\n",
    "\n",
    "def load_data(path):\n",
    "    raw_data_path = './plots/raw_data/'+path\n",
    "    data = pd.read_csv(raw_data_path+'Si.csv') \n",
    "    arr = data['S1'][0][1:-1].split()\n",
    "    S1 =  [float(elem) for elem in arr]\n",
    "    arr = data['ST'][0][1:-1].split()\n",
    "    St =  [float(elem) for elem in arr]\n",
    "    S2 = np.loadtxt(raw_data_path + 'S2.csv', delimiter=',')\n",
    "    \n",
    "    data = pd.read_csv(raw_data_path+'Si_fast.csv') \n",
    "    arr = data['S1'][0][1:-1].split(',')\n",
    "    S1_fast =  [float(elem) for elem in arr]\n",
    "    arr = data['ST'][0][1:-1].split(',')\n",
    "    St_fast =  [float(elem) for elem in arr]\n",
    "    \n",
    "    data = pd.read_csv(raw_data_path+'main_effects_gp.csv',skiprows=[0])\n",
    "#     S1_emu.append(float(data))\n",
    "    print(data)\n",
    "    return S1, S2, St, S1_fast, St_fast\n",
    "\n",
    "Policy_S1, Policy_S2, Policy_St, Policy_S1_fast, Policy_St_fast= load_data('Policy_noExp/')\n",
    "# Policy_S1_e, Policy_S2_e, Policy_St_e, Policy_S1_fast_e, Policy_St_fast_e = load_data('Policy_withExp/')\n",
    "\n",
    "# raw_data_path = './plots/raw_data/Policy_withExp/'\n",
    "# data = pd.read_csv(raw_data_path+'Si.csv') \n",
    "# arr = data['S1'][0][1:-1].split()\n",
    "# Policy_S1_e =  [float(elem) for elem in arr]\n",
    "# arr = data['ST'][0][1:-1].split()\n",
    "# Policy_St_e =  [float(elem) for elem in arr]\n",
    "# Policy_S2_e = np.loadtxt(raw_data_path + 'S2.csv', delimiter=',')\n",
    "\n",
    "\n"
   ]
  },
  {
   "cell_type": "code",
   "execution_count": 17,
   "metadata": {},
   "outputs": [
    {
     "data": {
      "text/plain": [
       "[1.08656818e-11, 0.792027768, 0.16269239]"
      ]
     },
     "execution_count": 17,
     "metadata": {},
     "output_type": "execute_result"
    }
   ],
   "source": [
    "Policy_S1"
   ]
  },
  {
   "cell_type": "code",
   "execution_count": null,
   "metadata": {},
   "outputs": [],
   "source": []
  }
 ],
 "metadata": {
  "kernelspec": {
   "display_name": "Python 3",
   "language": "python",
   "name": "python3"
  },
  "language_info": {
   "codemirror_mode": {
    "name": "ipython",
    "version": 3
   },
   "file_extension": ".py",
   "mimetype": "text/x-python",
   "name": "python",
   "nbconvert_exporter": "python",
   "pygments_lexer": "ipython3",
   "version": "3.6.12"
  }
 },
 "nbformat": 4,
 "nbformat_minor": 4
}
