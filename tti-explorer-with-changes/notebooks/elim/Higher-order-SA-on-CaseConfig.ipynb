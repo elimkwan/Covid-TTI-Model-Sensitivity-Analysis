{
 "cells": [
  {
   "cell_type": "markdown",
   "metadata": {
    "colab_type": "text",
    "id": "view-in-github"
   },
   "source": [
    "<a href=\"https://colab.research.google.com/github/rs-delve/tti-explorer/blob/master/notebooks/tti-experiment.ipynb\" target=\"_parent\"><img src=\"https://colab.research.google.com/assets/colab-badge.svg\" alt=\"Open In Colab\"/></a>"
   ]
  },
  {
   "cell_type": "markdown",
   "metadata": {
    "colab_type": "text",
    "id": "7CmXXoii-iLo"
   },
   "source": [
    "## SA on Case Configs"
   ]
  },
  {
   "cell_type": "markdown",
   "metadata": {},
   "source": [
    "#### Experiment Parameters:\n",
    "- Parameters to be tested: p_day_noticed_symptoms(0.01, 2), asymptomatic(0.1-0.9), inf_profile(1-5)\n",
    "- Random Seed = 42\n",
    "- Run tti stimulator = 50 times\n",
    "- experiment design loop (if using) = 5 times"
   ]
  },
  {
   "cell_type": "markdown",
   "metadata": {
    "colab_type": "text",
    "id": "BHB568_y-iLp"
   },
   "source": [
    "## Running a Simulation"
   ]
  },
  {
   "cell_type": "code",
   "execution_count": 1,
   "metadata": {},
   "outputs": [],
   "source": [
    "from emukit_new.core import DiscreteParameter, ContinuousParameter, ParameterSpace\n",
    "from emukit_new.core.initial_designs import RandomDesign\n",
    "from emukit_new.model_wrappers import GPyModelWrapper\n",
    "from emukit_new.experimental_design.acquisitions import IntegratedVarianceReduction, ModelVariance\n",
    "from emukit_new.experimental_design.experimental_design_loop import ExperimentalDesignLoop\n",
    "from emukit_new.sensitivity.monte_carlo import ModelFreeMonteCarloSensitivity\n",
    "from emukit_new.sensitivity.monte_carlo import MonteCarloSensitivity\n",
    "from emukit_new.sensitivity.monte_carlo import MonteCarloSecondOrderSensitivity"
   ]
  },
  {
   "cell_type": "code",
   "execution_count": 2,
   "metadata": {
    "colab": {},
    "colab_type": "code",
    "id": "Ql0yp7H4-iLq"
   },
   "outputs": [],
   "source": [
    "# !git clone https://github.com/rs-delve/tti-explorer.git\n",
    "# %cd tti-explorer\n",
    "# %pip install -q .\n",
    "import os\n",
    "import numpy as np\n",
    "import pandas as pd\n",
    "from tqdm.notebook import trange\n",
    "\n",
    "from tti_explorer import config, utils\n",
    "from tti_explorer.case import simulate_case, CaseFactors\n",
    "from tti_explorer.contacts import EmpiricalContactsSimulator\n",
    "from tti_explorer.strategies import TTIFlowModel, RETURN_KEYS\n",
    "\n",
    "# %pip install pyDOE\n",
    "# %pip install emukit\n",
    "# %pip install gpy\n",
    "import urllib.request\n",
    "import numpy as np\n",
    "import matplotlib.pyplot as plt\n",
    "\n",
    "urllib.request.urlretrieve('https://raw.githubusercontent.com/lawrennd/talks/gh-pages/teaching_plots.py','teaching_plots.py')\n",
    "urllib.request.urlretrieve('https://raw.githubusercontent.com/lawrennd/talks/gh-pages/mlai.py','mlai.py')\n",
    "urllib.request.urlretrieve('https://raw.githubusercontent.com/lawrennd/talks/gh-pages/gp_tutorial.py','gp_tutorial.py')\n",
    "\n",
    "from matplotlib import colors as mcolors\n",
    "from matplotlib import cm\n",
    "import numpy as np\n",
    "import GPy\n",
    "from GPy.models import GPRegression\n",
    "import matplotlib.pyplot as plt\n",
    "import teaching_plots as plot\n",
    "import mlai\n",
    "import pandas as pd"
   ]
  },
  {
   "cell_type": "markdown",
   "metadata": {
    "colab_type": "text",
    "id": "t8xUXOXV-iLt"
   },
   "source": [
    "We will analyse the `S3_test_based_TTI` strategy from our report. For clarity, we will show the whole process."
   ]
  },
  {
   "cell_type": "code",
   "execution_count": 3,
   "metadata": {},
   "outputs": [],
   "source": [
    "def load_csv(pth):\n",
    "    return np.loadtxt(pth, dtype=int, skiprows=1, delimiter=\",\")\n",
    "\n",
    "path_to_bbc_data = os.path.join(\"../../data\", \"bbc-pandemic\")\n",
    "over18 = load_csv(os.path.join(path_to_bbc_data, \"contact_distributions_o18.csv\"))\n",
    "under18 = load_csv(os.path.join(path_to_bbc_data, \"contact_distributions_u18.csv\"))"
   ]
  },
  {
   "cell_type": "markdown",
   "metadata": {
    "colab_type": "text",
    "id": "CPvGkTFW-iLu"
   },
   "source": [
    "First get the configurations:"
   ]
  },
  {
   "cell_type": "code",
   "execution_count": 59,
   "metadata": {
    "colab": {},
    "colab_type": "code",
    "id": "dz1zBETF-iLu",
    "scrolled": true
   },
   "outputs": [
    {
     "data": {
      "text/plain": [
       "{'p_under18': 0.21,\n",
       " 'infection_proportions': {'dist': [0.8333333333333334,\n",
       "   0.07666666666666667,\n",
       "   0.09000000000000001],\n",
       "  'nppl': 120},\n",
       " 'p_day_noticed_symptoms': [0.19,\n",
       "  0.27,\n",
       "  0.21,\n",
       "  0.14,\n",
       "  0.09,\n",
       "  0.05,\n",
       "  0.03,\n",
       "  0.02,\n",
       "  0.01,\n",
       "  -0.01],\n",
       " 'inf_profile': [0.003389,\n",
       "  0.035706,\n",
       "  0.093383,\n",
       "  0.142127,\n",
       "  0.164027,\n",
       "  0.16021,\n",
       "  0.139988,\n",
       "  0.112964,\n",
       "  0.085878,\n",
       "  0.06232800000000005]}"
      ]
     },
     "execution_count": 59,
     "metadata": {},
     "output_type": "execute_result"
    }
   ],
   "source": [
    "name = 'S3_test_based_TTI'\n",
    "\n",
    "case_config = config.get_case_config(\"delve\")\n",
    "contacts_config = config.get_contacts_config(\"delve\")\n",
    "policy_config = config.get_strategy_configs(\"delve\", name)[name]"
   ]
  },
  {
   "cell_type": "code",
   "execution_count": 6,
   "metadata": {},
   "outputs": [],
   "source": [
    "factor_config = utils.get_sub_dictionary(policy_config, config.DELVE_CASE_FACTOR_KEYS)\n",
    "strategy_config = utils.get_sub_dictionary(policy_config, config.DELVE_STRATEGY_FACTOR_KEYS)"
   ]
  },
  {
   "cell_type": "markdown",
   "metadata": {
    "colab_type": "text",
    "id": "le8N86QT-iLx"
   },
   "source": [
    "Set a random state:"
   ]
  },
  {
   "cell_type": "code",
   "execution_count": 7,
   "metadata": {
    "colab": {},
    "colab_type": "code",
    "id": "f9LUG5IH-iLy"
   },
   "outputs": [],
   "source": [
    "rng = np.random.RandomState(42)"
   ]
  },
  {
   "cell_type": "markdown",
   "metadata": {
    "colab_type": "text",
    "id": "fOxJ84t3-iL1"
   },
   "source": [
    "Make contact simulator:"
   ]
  },
  {
   "cell_type": "code",
   "execution_count": 8,
   "metadata": {
    "colab": {},
    "colab_type": "code",
    "id": "cr92iit4-iL2"
   },
   "outputs": [],
   "source": [
    "simulate_contacts = EmpiricalContactsSimulator(over18, under18, rng)"
   ]
  },
  {
   "cell_type": "markdown",
   "metadata": {
    "colab_type": "text",
    "id": "HAgmj657-iL6"
   },
   "source": [
    "Make the TTI Model:"
   ]
  },
  {
   "cell_type": "code",
   "execution_count": 9,
   "metadata": {
    "colab": {},
    "colab_type": "code",
    "id": "NjH7Ih7x-iL7"
   },
   "outputs": [],
   "source": [
    "tti_model = TTIFlowModel(rng, **strategy_config)"
   ]
  },
  {
   "cell_type": "markdown",
   "metadata": {},
   "source": [
    "Define function that update desired case configs"
   ]
  },
  {
   "cell_type": "code",
   "execution_count": 63,
   "metadata": {
    "scrolled": true
   },
   "outputs": [
    {
     "data": {
      "text/plain": [
       "{'p_under18': 0.21,\n",
       " 'infection_proportions': {'dist': [0.8333333333333334,\n",
       "   0.15,\n",
       "   0.016666666666666663],\n",
       "  'nppl': 120},\n",
       " 'p_day_noticed_symptoms': [0.0,\n",
       "  0.02,\n",
       "  0.06,\n",
       "  0.11,\n",
       "  0.15,\n",
       "  0.16,\n",
       "  0.16,\n",
       "  0.14,\n",
       "  0.12,\n",
       "  0.08],\n",
       " 'inf_profile': [0.498927,\n",
       "  0.25025,\n",
       "  0.125519,\n",
       "  0.062957,\n",
       "  0.031578,\n",
       "  0.015839,\n",
       "  0.007944,\n",
       "  0.003985,\n",
       "  0.001999,\n",
       "  0.0010020000000000584]}"
      ]
     },
     "execution_count": 63,
     "metadata": {},
     "output_type": "execute_result"
    }
   ],
   "source": [
    "from scipy.stats import gamma\n",
    "\n",
    "def he_infection_profile(period, gamma_params):\n",
    "    \"\"\"he_infection_profile\n",
    "\n",
    "    Args:\n",
    "        period (int): length of infectious period\n",
    "        gamma_params (dict): shape and scale gamma parameters\n",
    "        of infection profile\n",
    "\n",
    "    Returns:\n",
    "        infection_profile (np.array[float]): discretised and\n",
    "        truncated gamma cdf, modelling the infection profile\n",
    "        over period\n",
    "    \"\"\"\n",
    "    inf_days = np.arange(period)\n",
    "    mass = gamma.cdf(inf_days + 1, **gamma_params) - gamma.cdf(inf_days, **gamma_params)\n",
    "    return mass / np.sum(mass)\n",
    "\n",
    "def update_case_config(p_day_noticed_symptoms_a, asymptomatic_delve, inf_profile_a):\n",
    "#     alpha = p_day_noticed_symptoms_a\n",
    "#     x = np.linspace(gamma.pdf(0.01, a=alpha),\n",
    "#                     gamma.pdf(0.99, a=alpha), 10)\n",
    "#     #apply softmax\n",
    "#     norm = np.exp(x)\n",
    "#     s = sum(norm)\n",
    "#     norm = np.round(norm/s, decimals=2)\n",
    "#     np.nan_to_num(norm, copy=False)\n",
    "#     norm[-1] = 1- sum(norm[:-1])\n",
    "#     case_config['p_day_noticed_symptoms'] = norm\n",
    "    \n",
    "    days = np.around(he_infection_profile(period=10, gamma_params={\"a\": p_day_noticed_symptoms_a, \"scale\": 1 / 0.69}), 2)\n",
    "    np.nan_to_num(days, copy=False)\n",
    "    days = np.absolute(days)\n",
    "    case_config['p_day_noticed_symptoms']=days.tolist()\n",
    "    \n",
    "    sum_to_nine = sum(case_config['p_day_noticed_symptoms'][:-1])\n",
    "    if sum_to_nine > 1:\n",
    "        even = 1-sum(case_config['p_day_noticed_symptoms'][:-2])\n",
    "        case_config['p_day_noticed_symptoms'][-2] = even*0.5\n",
    "        case_config['p_day_noticed_symptoms'][-1] = even*0.5\n",
    "    else:       \n",
    "        case_config['p_day_noticed_symptoms'][-1] = round((1-sum_to_nine),2)\n",
    "    \n",
    "    \n",
    "    #asympmatic covid probability affect both case and contact config and the hyper parameters in the config file\n",
    "    #change this if it is not delve policy\n",
    "    prop_covid_symptomatic_delve = round(1-asymptomatic_delve,2)\n",
    "    case_config['infection_proportions']={\n",
    "        \"dist\": [\n",
    "            100 / 120,\n",
    "            prop_covid_symptomatic_delve * 20 / 120,\n",
    "            (1 - prop_covid_symptomatic_delve) * 20 / 120,\n",
    "        ],\n",
    "        \"nppl\": 120,\n",
    "    }\n",
    "    contacts_config['asymp_factor'] = round(asymptomatic_delve,2)\n",
    "    config.PROP_COVID_SYMPTOMATIC = 1-asymptomatic_delve\n",
    "    \n",
    "    \n",
    "    inf = np.around(he_infection_profile(period=10, gamma_params={\"a\": inf_profile_a, \"scale\": 1 / 0.69}), 6)\n",
    "    case_config['inf_profile']=inf.tolist()\n",
    "    case_config['inf_profile'][-1] = 1- sum(case_config['inf_profile'][:-1])\n",
    "    return case_config\n",
    "\n",
    "def update_contacts_config():\n",
    "    return contacts_config\n",
    "\n",
    "update_case_config(5,0.1,1)"
   ]
  },
  {
   "cell_type": "markdown",
   "metadata": {
    "colab_type": "text",
    "id": "7IFGP5K6-iL-"
   },
   "source": [
    "Generate cases, contacts and run simulation:"
   ]
  },
  {
   "cell_type": "code",
   "execution_count": 26,
   "metadata": {},
   "outputs": [],
   "source": [
    "\"\"\"\n",
    "Runs TTI simulator as many times as the different input initialisations.\n",
    "The main reason we need this is to put in to EmuKit for the Experimental\n",
    "Design Loop.\n",
    "\n",
    "Args:\n",
    "    configs (list): Inputs are [app_cov, compliance]\n",
    "\n",
    "Returns:\n",
    "    effective_rs (np.expand_dims(np.array(to_return), 1)): For every simulation run, return\n",
    "    the effective r, as was plotted form Bryn and Andrei previously.\n",
    "\n",
    "\"\"\"\n",
    "rng = np.random.RandomState(42)\n",
    "simulate_contacts = EmpiricalContactsSimulator(over18, under18, rng)\n",
    "\n",
    "def run_tti_sim(configs):\n",
    "    to_return=[]\n",
    "    for vals in configs:\n",
    "        case_config = update_case_config(vals[0],vals[1],vals[2])\n",
    "        contacts_config = update_contacts_config()\n",
    "        tti_model = TTIFlowModel(rng, **strategy_config)\n",
    "        n_cases = 10000\n",
    "        outputs = list()\n",
    "        temp =[]\n",
    "        for _ in trange(n_cases):\n",
    "            case = simulate_case(rng, **case_config)\n",
    "            case_factors = CaseFactors.simulate_from(rng, case, **factor_config)\n",
    "            contacts = simulate_contacts(case, **contacts_config)\n",
    "            res = tti_model(case, contacts, case_factors)\n",
    "            outputs.append(res)\n",
    "            if res[\"Effective R\"] >= 0:\n",
    "                temp.append(res[\"Effective R\"]) # Get effective R. Only non-nan vals are kept\n",
    "        to_return.append(np.mean(temp))\n",
    "    return np.expand_dims(np.array(to_return), 1)"
   ]
  },
  {
   "cell_type": "code",
   "execution_count": 64,
   "metadata": {
    "scrolled": true
   },
   "outputs": [
    {
     "data": {
      "application/vnd.jupyter.widget-view+json": {
       "model_id": "29419e00e5864c8faa643924cd9119ee",
       "version_major": 2,
       "version_minor": 0
      },
      "text/plain": [
       "HBox(children=(HTML(value=''), FloatProgress(value=0.0, max=10000.0), HTML(value='')))"
      ]
     },
     "metadata": {},
     "output_type": "display_data"
    },
    {
     "name": "stdout",
     "output_type": "stream",
     "text": [
      "\n"
     ]
    },
    {
     "data": {
      "application/vnd.jupyter.widget-view+json": {
       "model_id": "67497994baed436985b1987980bb5b86",
       "version_major": 2,
       "version_minor": 0
      },
      "text/plain": [
       "HBox(children=(HTML(value=''), FloatProgress(value=0.0, max=10000.0), HTML(value='')))"
      ]
     },
     "metadata": {},
     "output_type": "display_data"
    },
    {
     "name": "stdout",
     "output_type": "stream",
     "text": [
      "\n"
     ]
    },
    {
     "data": {
      "application/vnd.jupyter.widget-view+json": {
       "model_id": "0ddeae8d502d43d99cc3e045e8522beb",
       "version_major": 2,
       "version_minor": 0
      },
      "text/plain": [
       "HBox(children=(HTML(value=''), FloatProgress(value=0.0, max=10000.0), HTML(value='')))"
      ]
     },
     "metadata": {},
     "output_type": "display_data"
    },
    {
     "name": "stdout",
     "output_type": "stream",
     "text": [
      "\n"
     ]
    },
    {
     "data": {
      "application/vnd.jupyter.widget-view+json": {
       "model_id": "bc4939a9bca0454aa54a4a0be9c93967",
       "version_major": 2,
       "version_minor": 0
      },
      "text/plain": [
       "HBox(children=(HTML(value=''), FloatProgress(value=0.0, max=10000.0), HTML(value='')))"
      ]
     },
     "metadata": {},
     "output_type": "display_data"
    },
    {
     "name": "stdout",
     "output_type": "stream",
     "text": [
      "\n"
     ]
    },
    {
     "data": {
      "application/vnd.jupyter.widget-view+json": {
       "model_id": "5d4a74200fba4e91889a55239602e957",
       "version_major": 2,
       "version_minor": 0
      },
      "text/plain": [
       "HBox(children=(HTML(value=''), FloatProgress(value=0.0, max=10000.0), HTML(value='')))"
      ]
     },
     "metadata": {},
     "output_type": "display_data"
    },
    {
     "name": "stdout",
     "output_type": "stream",
     "text": [
      "\n"
     ]
    },
    {
     "data": {
      "application/vnd.jupyter.widget-view+json": {
       "model_id": "32d7d21375894893b444fd5856010c5a",
       "version_major": 2,
       "version_minor": 0
      },
      "text/plain": [
       "HBox(children=(HTML(value=''), FloatProgress(value=0.0, max=10000.0), HTML(value='')))"
      ]
     },
     "metadata": {},
     "output_type": "display_data"
    },
    {
     "name": "stdout",
     "output_type": "stream",
     "text": [
      "\n"
     ]
    },
    {
     "data": {
      "application/vnd.jupyter.widget-view+json": {
       "model_id": "82356bf36626470e97a8025bf539afe9",
       "version_major": 2,
       "version_minor": 0
      },
      "text/plain": [
       "HBox(children=(HTML(value=''), FloatProgress(value=0.0, max=10000.0), HTML(value='')))"
      ]
     },
     "metadata": {},
     "output_type": "display_data"
    },
    {
     "name": "stdout",
     "output_type": "stream",
     "text": [
      "\n"
     ]
    },
    {
     "data": {
      "application/vnd.jupyter.widget-view+json": {
       "model_id": "bef15daabd624f8e9815a0a28c1c3cc8",
       "version_major": 2,
       "version_minor": 0
      },
      "text/plain": [
       "HBox(children=(HTML(value=''), FloatProgress(value=0.0, max=10000.0), HTML(value='')))"
      ]
     },
     "metadata": {},
     "output_type": "display_data"
    },
    {
     "name": "stdout",
     "output_type": "stream",
     "text": [
      "\n"
     ]
    },
    {
     "data": {
      "application/vnd.jupyter.widget-view+json": {
       "model_id": "bee57af470284362a7f83508bd350dcf",
       "version_major": 2,
       "version_minor": 0
      },
      "text/plain": [
       "HBox(children=(HTML(value=''), FloatProgress(value=0.0, max=10000.0), HTML(value='')))"
      ]
     },
     "metadata": {},
     "output_type": "display_data"
    },
    {
     "name": "stdout",
     "output_type": "stream",
     "text": [
      "\n"
     ]
    },
    {
     "data": {
      "application/vnd.jupyter.widget-view+json": {
       "model_id": "3c4b2d397b29488eb3010913e39753e4",
       "version_major": 2,
       "version_minor": 0
      },
      "text/plain": [
       "HBox(children=(HTML(value=''), FloatProgress(value=0.0, max=10000.0), HTML(value='')))"
      ]
     },
     "metadata": {},
     "output_type": "display_data"
    },
    {
     "name": "stdout",
     "output_type": "stream",
     "text": [
      "\n"
     ]
    },
    {
     "data": {
      "application/vnd.jupyter.widget-view+json": {
       "model_id": "c29b8d44e3414ddf8a372f61ce30c237",
       "version_major": 2,
       "version_minor": 0
      },
      "text/plain": [
       "HBox(children=(HTML(value=''), FloatProgress(value=0.0, max=10000.0), HTML(value='')))"
      ]
     },
     "metadata": {},
     "output_type": "display_data"
    },
    {
     "name": "stdout",
     "output_type": "stream",
     "text": [
      "\n"
     ]
    },
    {
     "data": {
      "application/vnd.jupyter.widget-view+json": {
       "model_id": "24c3d69d85b44586ba631863dbfa4e45",
       "version_major": 2,
       "version_minor": 0
      },
      "text/plain": [
       "HBox(children=(HTML(value=''), FloatProgress(value=0.0, max=10000.0), HTML(value='')))"
      ]
     },
     "metadata": {},
     "output_type": "display_data"
    },
    {
     "name": "stdout",
     "output_type": "stream",
     "text": [
      "\n"
     ]
    },
    {
     "data": {
      "application/vnd.jupyter.widget-view+json": {
       "model_id": "29e030dee3f0445ea30e37c67731dac0",
       "version_major": 2,
       "version_minor": 0
      },
      "text/plain": [
       "HBox(children=(HTML(value=''), FloatProgress(value=0.0, max=10000.0), HTML(value='')))"
      ]
     },
     "metadata": {},
     "output_type": "display_data"
    },
    {
     "name": "stdout",
     "output_type": "stream",
     "text": [
      "\n"
     ]
    },
    {
     "data": {
      "application/vnd.jupyter.widget-view+json": {
       "model_id": "8268fb5934224c7a8e4cea2f010b6aa7",
       "version_major": 2,
       "version_minor": 0
      },
      "text/plain": [
       "HBox(children=(HTML(value=''), FloatProgress(value=0.0, max=10000.0), HTML(value='')))"
      ]
     },
     "metadata": {},
     "output_type": "display_data"
    },
    {
     "name": "stdout",
     "output_type": "stream",
     "text": [
      "\n"
     ]
    },
    {
     "data": {
      "application/vnd.jupyter.widget-view+json": {
       "model_id": "4f680137329f4a1dbf0faa851e735bbf",
       "version_major": 2,
       "version_minor": 0
      },
      "text/plain": [
       "HBox(children=(HTML(value=''), FloatProgress(value=0.0, max=10000.0), HTML(value='')))"
      ]
     },
     "metadata": {},
     "output_type": "display_data"
    },
    {
     "name": "stdout",
     "output_type": "stream",
     "text": [
      "\n"
     ]
    },
    {
     "data": {
      "application/vnd.jupyter.widget-view+json": {
       "model_id": "01f3e7d191af4099ba3d33ab7d07371d",
       "version_major": 2,
       "version_minor": 0
      },
      "text/plain": [
       "HBox(children=(HTML(value=''), FloatProgress(value=0.0, max=10000.0), HTML(value='')))"
      ]
     },
     "metadata": {},
     "output_type": "display_data"
    },
    {
     "name": "stdout",
     "output_type": "stream",
     "text": [
      "\n"
     ]
    },
    {
     "data": {
      "application/vnd.jupyter.widget-view+json": {
       "model_id": "3b510bb8d245472aa0ae56c8ecb86658",
       "version_major": 2,
       "version_minor": 0
      },
      "text/plain": [
       "HBox(children=(HTML(value=''), FloatProgress(value=0.0, max=10000.0), HTML(value='')))"
      ]
     },
     "metadata": {},
     "output_type": "display_data"
    },
    {
     "name": "stdout",
     "output_type": "stream",
     "text": [
      "\n"
     ]
    },
    {
     "data": {
      "application/vnd.jupyter.widget-view+json": {
       "model_id": "b0b534b9193840e08aacb25a24e1a521",
       "version_major": 2,
       "version_minor": 0
      },
      "text/plain": [
       "HBox(children=(HTML(value=''), FloatProgress(value=0.0, max=10000.0), HTML(value='')))"
      ]
     },
     "metadata": {},
     "output_type": "display_data"
    },
    {
     "name": "stdout",
     "output_type": "stream",
     "text": [
      "\n"
     ]
    },
    {
     "data": {
      "application/vnd.jupyter.widget-view+json": {
       "model_id": "7b60cdae96384e7e9ee4d3d9c1314cc7",
       "version_major": 2,
       "version_minor": 0
      },
      "text/plain": [
       "HBox(children=(HTML(value=''), FloatProgress(value=0.0, max=10000.0), HTML(value='')))"
      ]
     },
     "metadata": {},
     "output_type": "display_data"
    },
    {
     "name": "stdout",
     "output_type": "stream",
     "text": [
      "\n"
     ]
    },
    {
     "data": {
      "application/vnd.jupyter.widget-view+json": {
       "model_id": "1a596224c69b4a3eb284ef1575974603",
       "version_major": 2,
       "version_minor": 0
      },
      "text/plain": [
       "HBox(children=(HTML(value=''), FloatProgress(value=0.0, max=10000.0), HTML(value='')))"
      ]
     },
     "metadata": {},
     "output_type": "display_data"
    },
    {
     "name": "stdout",
     "output_type": "stream",
     "text": [
      "\n"
     ]
    },
    {
     "data": {
      "application/vnd.jupyter.widget-view+json": {
       "model_id": "08c185a0629e466c958d6ac94f31f2b5",
       "version_major": 2,
       "version_minor": 0
      },
      "text/plain": [
       "HBox(children=(HTML(value=''), FloatProgress(value=0.0, max=10000.0), HTML(value='')))"
      ]
     },
     "metadata": {},
     "output_type": "display_data"
    },
    {
     "name": "stdout",
     "output_type": "stream",
     "text": [
      "\n"
     ]
    },
    {
     "data": {
      "application/vnd.jupyter.widget-view+json": {
       "model_id": "7fc7d7771af84630accb4bd0921c235e",
       "version_major": 2,
       "version_minor": 0
      },
      "text/plain": [
       "HBox(children=(HTML(value=''), FloatProgress(value=0.0, max=10000.0), HTML(value='')))"
      ]
     },
     "metadata": {},
     "output_type": "display_data"
    },
    {
     "name": "stdout",
     "output_type": "stream",
     "text": [
      "\n"
     ]
    },
    {
     "data": {
      "application/vnd.jupyter.widget-view+json": {
       "model_id": "254d711971614d228e82110723a770e9",
       "version_major": 2,
       "version_minor": 0
      },
      "text/plain": [
       "HBox(children=(HTML(value=''), FloatProgress(value=0.0, max=10000.0), HTML(value='')))"
      ]
     },
     "metadata": {},
     "output_type": "display_data"
    },
    {
     "name": "stdout",
     "output_type": "stream",
     "text": [
      "\n"
     ]
    },
    {
     "data": {
      "application/vnd.jupyter.widget-view+json": {
       "model_id": "47fea13b14d141e495d430b3627436da",
       "version_major": 2,
       "version_minor": 0
      },
      "text/plain": [
       "HBox(children=(HTML(value=''), FloatProgress(value=0.0, max=10000.0), HTML(value='')))"
      ]
     },
     "metadata": {},
     "output_type": "display_data"
    },
    {
     "name": "stdout",
     "output_type": "stream",
     "text": [
      "\n"
     ]
    },
    {
     "data": {
      "application/vnd.jupyter.widget-view+json": {
       "model_id": "13bcd5f6a00c491daadda65d90ad5b7d",
       "version_major": 2,
       "version_minor": 0
      },
      "text/plain": [
       "HBox(children=(HTML(value=''), FloatProgress(value=0.0, max=10000.0), HTML(value='')))"
      ]
     },
     "metadata": {},
     "output_type": "display_data"
    },
    {
     "name": "stdout",
     "output_type": "stream",
     "text": [
      "\n"
     ]
    },
    {
     "data": {
      "application/vnd.jupyter.widget-view+json": {
       "model_id": "82ad5158016f4502ba8fcca3e96c43e0",
       "version_major": 2,
       "version_minor": 0
      },
      "text/plain": [
       "HBox(children=(HTML(value=''), FloatProgress(value=0.0, max=10000.0), HTML(value='')))"
      ]
     },
     "metadata": {},
     "output_type": "display_data"
    },
    {
     "name": "stdout",
     "output_type": "stream",
     "text": [
      "\n"
     ]
    },
    {
     "data": {
      "application/vnd.jupyter.widget-view+json": {
       "model_id": "2698bd7d028047fda03d33057d9c57ed",
       "version_major": 2,
       "version_minor": 0
      },
      "text/plain": [
       "HBox(children=(HTML(value=''), FloatProgress(value=0.0, max=10000.0), HTML(value='')))"
      ]
     },
     "metadata": {},
     "output_type": "display_data"
    },
    {
     "name": "stdout",
     "output_type": "stream",
     "text": [
      "\n"
     ]
    },
    {
     "data": {
      "application/vnd.jupyter.widget-view+json": {
       "model_id": "545d7a3bdec04182bd5836305a7cb7cb",
       "version_major": 2,
       "version_minor": 0
      },
      "text/plain": [
       "HBox(children=(HTML(value=''), FloatProgress(value=0.0, max=10000.0), HTML(value='')))"
      ]
     },
     "metadata": {},
     "output_type": "display_data"
    },
    {
     "name": "stdout",
     "output_type": "stream",
     "text": [
      "\n"
     ]
    },
    {
     "data": {
      "application/vnd.jupyter.widget-view+json": {
       "model_id": "53959630b652436299d8023bcc4c8937",
       "version_major": 2,
       "version_minor": 0
      },
      "text/plain": [
       "HBox(children=(HTML(value=''), FloatProgress(value=0.0, max=10000.0), HTML(value='')))"
      ]
     },
     "metadata": {},
     "output_type": "display_data"
    },
    {
     "name": "stdout",
     "output_type": "stream",
     "text": [
      "\n"
     ]
    },
    {
     "data": {
      "application/vnd.jupyter.widget-view+json": {
       "model_id": "ec5ce8137b8e40a2908df5ca34c6b334",
       "version_major": 2,
       "version_minor": 0
      },
      "text/plain": [
       "HBox(children=(HTML(value=''), FloatProgress(value=0.0, max=10000.0), HTML(value='')))"
      ]
     },
     "metadata": {},
     "output_type": "display_data"
    },
    {
     "name": "stdout",
     "output_type": "stream",
     "text": [
      "\n"
     ]
    },
    {
     "data": {
      "application/vnd.jupyter.widget-view+json": {
       "model_id": "c7bb3c963d5b47d5b7e7a1e34b0a05a4",
       "version_major": 2,
       "version_minor": 0
      },
      "text/plain": [
       "HBox(children=(HTML(value=''), FloatProgress(value=0.0, max=10000.0), HTML(value='')))"
      ]
     },
     "metadata": {},
     "output_type": "display_data"
    },
    {
     "name": "stdout",
     "output_type": "stream",
     "text": [
      "\n"
     ]
    },
    {
     "data": {
      "application/vnd.jupyter.widget-view+json": {
       "model_id": "1ee7932dbe404641944d5e1ad5cee15a",
       "version_major": 2,
       "version_minor": 0
      },
      "text/plain": [
       "HBox(children=(HTML(value=''), FloatProgress(value=0.0, max=10000.0), HTML(value='')))"
      ]
     },
     "metadata": {},
     "output_type": "display_data"
    },
    {
     "name": "stdout",
     "output_type": "stream",
     "text": [
      "\n"
     ]
    },
    {
     "data": {
      "application/vnd.jupyter.widget-view+json": {
       "model_id": "21c1ebcf551e458182c253ffa0ea6b08",
       "version_major": 2,
       "version_minor": 0
      },
      "text/plain": [
       "HBox(children=(HTML(value=''), FloatProgress(value=0.0, max=10000.0), HTML(value='')))"
      ]
     },
     "metadata": {},
     "output_type": "display_data"
    },
    {
     "name": "stdout",
     "output_type": "stream",
     "text": [
      "\n"
     ]
    },
    {
     "data": {
      "application/vnd.jupyter.widget-view+json": {
       "model_id": "2d4a3e8055294e6797cc69de499f3d2c",
       "version_major": 2,
       "version_minor": 0
      },
      "text/plain": [
       "HBox(children=(HTML(value=''), FloatProgress(value=0.0, max=10000.0), HTML(value='')))"
      ]
     },
     "metadata": {},
     "output_type": "display_data"
    },
    {
     "name": "stdout",
     "output_type": "stream",
     "text": [
      "\n"
     ]
    },
    {
     "data": {
      "application/vnd.jupyter.widget-view+json": {
       "model_id": "21818f4c660a420595fd50cea10e6baa",
       "version_major": 2,
       "version_minor": 0
      },
      "text/plain": [
       "HBox(children=(HTML(value=''), FloatProgress(value=0.0, max=10000.0), HTML(value='')))"
      ]
     },
     "metadata": {},
     "output_type": "display_data"
    },
    {
     "name": "stdout",
     "output_type": "stream",
     "text": [
      "\n"
     ]
    },
    {
     "data": {
      "application/vnd.jupyter.widget-view+json": {
       "model_id": "86af666667d94402802b3d71a130b6c6",
       "version_major": 2,
       "version_minor": 0
      },
      "text/plain": [
       "HBox(children=(HTML(value=''), FloatProgress(value=0.0, max=10000.0), HTML(value='')))"
      ]
     },
     "metadata": {},
     "output_type": "display_data"
    },
    {
     "name": "stdout",
     "output_type": "stream",
     "text": [
      "\n"
     ]
    },
    {
     "data": {
      "application/vnd.jupyter.widget-view+json": {
       "model_id": "b5df3676b14e4265b422f06e74adef8c",
       "version_major": 2,
       "version_minor": 0
      },
      "text/plain": [
       "HBox(children=(HTML(value=''), FloatProgress(value=0.0, max=10000.0), HTML(value='')))"
      ]
     },
     "metadata": {},
     "output_type": "display_data"
    },
    {
     "name": "stdout",
     "output_type": "stream",
     "text": [
      "\n"
     ]
    },
    {
     "data": {
      "application/vnd.jupyter.widget-view+json": {
       "model_id": "cca837d6429e4f60a5789a260e545be4",
       "version_major": 2,
       "version_minor": 0
      },
      "text/plain": [
       "HBox(children=(HTML(value=''), FloatProgress(value=0.0, max=10000.0), HTML(value='')))"
      ]
     },
     "metadata": {},
     "output_type": "display_data"
    },
    {
     "name": "stdout",
     "output_type": "stream",
     "text": [
      "\n"
     ]
    },
    {
     "data": {
      "application/vnd.jupyter.widget-view+json": {
       "model_id": "c1a92e8cd35a47cb90e2a8281163b405",
       "version_major": 2,
       "version_minor": 0
      },
      "text/plain": [
       "HBox(children=(HTML(value=''), FloatProgress(value=0.0, max=10000.0), HTML(value='')))"
      ]
     },
     "metadata": {},
     "output_type": "display_data"
    },
    {
     "name": "stdout",
     "output_type": "stream",
     "text": [
      "\n"
     ]
    },
    {
     "data": {
      "application/vnd.jupyter.widget-view+json": {
       "model_id": "7f4f69c8b4dc4fc38cbe038ba5ce0add",
       "version_major": 2,
       "version_minor": 0
      },
      "text/plain": [
       "HBox(children=(HTML(value=''), FloatProgress(value=0.0, max=10000.0), HTML(value='')))"
      ]
     },
     "metadata": {},
     "output_type": "display_data"
    },
    {
     "name": "stdout",
     "output_type": "stream",
     "text": [
      "\n"
     ]
    },
    {
     "data": {
      "application/vnd.jupyter.widget-view+json": {
       "model_id": "71b9dc1e1c884675b2810da84363dba8",
       "version_major": 2,
       "version_minor": 0
      },
      "text/plain": [
       "HBox(children=(HTML(value=''), FloatProgress(value=0.0, max=10000.0), HTML(value='')))"
      ]
     },
     "metadata": {},
     "output_type": "display_data"
    },
    {
     "name": "stdout",
     "output_type": "stream",
     "text": [
      "\n"
     ]
    },
    {
     "data": {
      "application/vnd.jupyter.widget-view+json": {
       "model_id": "ecda43840d5d453196112f6941832842",
       "version_major": 2,
       "version_minor": 0
      },
      "text/plain": [
       "HBox(children=(HTML(value=''), FloatProgress(value=0.0, max=10000.0), HTML(value='')))"
      ]
     },
     "metadata": {},
     "output_type": "display_data"
    },
    {
     "name": "stdout",
     "output_type": "stream",
     "text": [
      "\n"
     ]
    },
    {
     "data": {
      "application/vnd.jupyter.widget-view+json": {
       "model_id": "76e12c5ca5304da0a5541079d9122c22",
       "version_major": 2,
       "version_minor": 0
      },
      "text/plain": [
       "HBox(children=(HTML(value=''), FloatProgress(value=0.0, max=10000.0), HTML(value='')))"
      ]
     },
     "metadata": {},
     "output_type": "display_data"
    },
    {
     "name": "stdout",
     "output_type": "stream",
     "text": [
      "\n"
     ]
    },
    {
     "data": {
      "application/vnd.jupyter.widget-view+json": {
       "model_id": "93fc8b353524482e88196d01fb0438fb",
       "version_major": 2,
       "version_minor": 0
      },
      "text/plain": [
       "HBox(children=(HTML(value=''), FloatProgress(value=0.0, max=10000.0), HTML(value='')))"
      ]
     },
     "metadata": {},
     "output_type": "display_data"
    },
    {
     "name": "stdout",
     "output_type": "stream",
     "text": [
      "\n"
     ]
    },
    {
     "data": {
      "application/vnd.jupyter.widget-view+json": {
       "model_id": "bd868afbf4a848d0ab6e21369b9ce908",
       "version_major": 2,
       "version_minor": 0
      },
      "text/plain": [
       "HBox(children=(HTML(value=''), FloatProgress(value=0.0, max=10000.0), HTML(value='')))"
      ]
     },
     "metadata": {},
     "output_type": "display_data"
    },
    {
     "name": "stdout",
     "output_type": "stream",
     "text": [
      "\n"
     ]
    },
    {
     "data": {
      "application/vnd.jupyter.widget-view+json": {
       "model_id": "41c8c2c1da3b4f7a88f980692edec938",
       "version_major": 2,
       "version_minor": 0
      },
      "text/plain": [
       "HBox(children=(HTML(value=''), FloatProgress(value=0.0, max=10000.0), HTML(value='')))"
      ]
     },
     "metadata": {},
     "output_type": "display_data"
    },
    {
     "name": "stdout",
     "output_type": "stream",
     "text": [
      "\n"
     ]
    },
    {
     "data": {
      "application/vnd.jupyter.widget-view+json": {
       "model_id": "95aac15a2caa499e8f0cf8346cf29a33",
       "version_major": 2,
       "version_minor": 0
      },
      "text/plain": [
       "HBox(children=(HTML(value=''), FloatProgress(value=0.0, max=10000.0), HTML(value='')))"
      ]
     },
     "metadata": {},
     "output_type": "display_data"
    },
    {
     "name": "stdout",
     "output_type": "stream",
     "text": [
      "\n"
     ]
    },
    {
     "data": {
      "application/vnd.jupyter.widget-view+json": {
       "model_id": "1ea11be4f24045a9af2327b1d99a55d9",
       "version_major": 2,
       "version_minor": 0
      },
      "text/plain": [
       "HBox(children=(HTML(value=''), FloatProgress(value=0.0, max=10000.0), HTML(value='')))"
      ]
     },
     "metadata": {},
     "output_type": "display_data"
    },
    {
     "name": "stdout",
     "output_type": "stream",
     "text": [
      "\n"
     ]
    },
    {
     "data": {
      "application/vnd.jupyter.widget-view+json": {
       "model_id": "22ae34204349470ea779c8e05257c0e1",
       "version_major": 2,
       "version_minor": 0
      },
      "text/plain": [
       "HBox(children=(HTML(value=''), FloatProgress(value=0.0, max=10000.0), HTML(value='')))"
      ]
     },
     "metadata": {},
     "output_type": "display_data"
    },
    {
     "name": "stdout",
     "output_type": "stream",
     "text": [
      "\n"
     ]
    },
    {
     "data": {
      "application/vnd.jupyter.widget-view+json": {
       "model_id": "8eaf72d75a1449ffb38eb1dd3cedaf1f",
       "version_major": 2,
       "version_minor": 0
      },
      "text/plain": [
       "HBox(children=(HTML(value=''), FloatProgress(value=0.0, max=10000.0), HTML(value='')))"
      ]
     },
     "metadata": {},
     "output_type": "display_data"
    },
    {
     "name": "stdout",
     "output_type": "stream",
     "text": [
      "\n"
     ]
    }
   ],
   "source": [
    "variable_domain1 = [1, 5] \n",
    "variable_domain2 = [0.1, 0.9]\n",
    "variable_domain3 = [1, 5] \n",
    "\n",
    "\n",
    "initial_samples = 50 # number of random runs to perform before starting experimental design \n",
    "space = ParameterSpace([ContinuousParameter('p_day_noticed_symptoms', *variable_domain1),\n",
    "                        ContinuousParameter('infection_proportions', *variable_domain2),\n",
    "                        ContinuousParameter('inf_profile', *variable_domain3)]) # init param space for experimental design\n",
    "design = RandomDesign(space)\n",
    "x = design.get_samples(initial_samples) # get n random combinations of initialisations\n",
    "y = run_tti_sim(x) # obtain corresponding effective_rs"
   ]
  },
  {
   "cell_type": "code",
   "execution_count": 65,
   "metadata": {},
   "outputs": [
    {
     "name": "stdout",
     "output_type": "stream",
     "text": [
      "Optimization restart 1/1, f = -23.805786274822292\n"
     ]
    },
    {
     "data": {
      "text/html": [
       "<style type=\"text/css\">\n",
       ".pd{\n",
       "    font-family: \"Courier New\", Courier, monospace !important;\n",
       "    width: 100%;\n",
       "    padding: 3px;\n",
       "}\n",
       "</style>\n",
       "\n",
       "<p class=pd>\n",
       "<b>Model</b>: GP regression<br>\n",
       "<b>Objective</b>: -23.805786274822292<br>\n",
       "<b>Number of Parameters</b>: 7<br>\n",
       "<b>Number of Optimization Parameters</b>: 7<br>\n",
       "<b>Updates</b>: True<br>\n",
       "</p>\n",
       "<style type=\"text/css\">\n",
       ".tg  {font-family:\"Courier New\", Courier, monospace !important;padding:2px 3px;word-break:normal;border-collapse:collapse;border-spacing:0;border-color:#DCDCDC;margin:0px auto;width:100%;}\n",
       ".tg td{font-family:\"Courier New\", Courier, monospace !important;font-weight:bold;color:#444;background-color:#F7FDFA;border-style:solid;border-width:1px;overflow:hidden;word-break:normal;border-color:#DCDCDC;}\n",
       ".tg th{font-family:\"Courier New\", Courier, monospace !important;font-weight:normal;color:#fff;background-color:#26ADE4;border-style:solid;border-width:1px;overflow:hidden;word-break:normal;border-color:#DCDCDC;}\n",
       ".tg .tg-left{font-family:\"Courier New\", Courier, monospace !important;font-weight:normal;text-align:left;}\n",
       ".tg .tg-center{font-family:\"Courier New\", Courier, monospace !important;font-weight:normal;text-align:center;}\n",
       ".tg .tg-right{font-family:\"Courier New\", Courier, monospace !important;font-weight:normal;text-align:right;}\n",
       "</style>\n",
       "<table class=\"tg\"><tr><th><b>  GP_regression.         </b></th><th><b>                value</b></th><th><b>constraints</b></th><th><b>priors</b></th></tr>\n",
       "<tr><td class=tg-left>  sum.rbf.variance       </td><td class=tg-right>    4.551123999910798</td><td class=tg-center>    +ve    </td><td class=tg-center>      </td></tr>\n",
       "<tr><td class=tg-left>  sum.rbf.lengthscale    </td><td class=tg-right>                 (3,)</td><td class=tg-center>    +ve    </td><td class=tg-center>      </td></tr>\n",
       "<tr><td class=tg-left>  sum.white.variance     </td><td class=tg-right>0.0037251067292934617</td><td class=tg-center>    +ve    </td><td class=tg-center>      </td></tr>\n",
       "<tr><td class=tg-left>  sum.bias.variance      </td><td class=tg-right>    8.636313520149278</td><td class=tg-center>    +ve    </td><td class=tg-center>      </td></tr>\n",
       "<tr><td class=tg-left>  Gaussian_noise.variance</td><td class=tg-right>0.0037251067292934617</td><td class=tg-center>    +ve    </td><td class=tg-center>      </td></tr>\n",
       "</table>"
      ],
      "text/plain": [
       "<GPy.models.gp_regression.GPRegression at 0x7f48e15bb278>"
      ]
     },
     "metadata": {},
     "output_type": "display_data"
    }
   ],
   "source": [
    "# Fitting emulator to data, x: (parameters to be tested), y: effective_r\n",
    "Num_of_param = 3\n",
    "kern_eq = GPy.kern.RBF(input_dim=Num_of_param, ARD = True) +  GPy.kern.White(input_dim=Num_of_param, variance=1)\n",
    "kern_bias = GPy.kern.Bias(input_dim=Num_of_param)\n",
    "kern = kern_eq + kern_bias\n",
    "model_gpy = GPRegression(x,y, kern)\n",
    "model_gpy.kern.variance = 1**2\n",
    "# model_gpy.likelihood.variance.fix(1e-5)\n",
    "model_emukit = GPyModelWrapper(model_gpy) \n",
    "model_emukit.optimize() # optimise (max log-lik)\n",
    "display(model_gpy)"
   ]
  },
  {
   "cell_type": "markdown",
   "metadata": {},
   "source": [
    "----\n",
    "## SA without Experiment Design Loop\n",
    "- SA Lib -> Sobol Monte Carlo (100000 times)\n",
    "- Emukit -> Sobol Monte Carlo (100000 times)\n",
    "- SA Lib -> Fast (100000 times)"
   ]
  },
  {
   "cell_type": "code",
   "execution_count": 67,
   "metadata": {},
   "outputs": [],
   "source": [
    "#SALib Sobol\n",
    "from SALib.sample import saltelli\n",
    "from SALib.analyze import sobol\n",
    "\n",
    "param = ['DNS','A','IP']\n",
    "no_of_samples = 100000\n",
    "problem = {\n",
    "'num_vars': 3,\n",
    "'names': param,\n",
    "'bounds': [\n",
    "            variable_domain1, \n",
    "            variable_domain2,\n",
    "            variable_domain3]\n",
    "}\n",
    "\n",
    "xt = saltelli.sample(problem, no_of_samples)\n",
    "Y,_= model_gpy.predict(xt)\n",
    "Y = np.squeeze(Y)\n",
    "Si = sobol.analyze(problem, Y)\n",
    "\n",
    "#Emukit Sobol\n",
    "senstivity = MonteCarloSecondOrderSensitivity(model = model_emukit, input_domain = space)\n",
    "main_effects_gp, secondary_effects_gp, total_effects_gp, _ = senstivity.compute_effects(num_monte_carlo_points = no_of_samples)\n",
    "\n",
    "\n",
    "#SALib Fast\n",
    "from SALib.analyze import fast\n",
    "from SALib.sample import fast_sampler\n",
    "\n",
    "xt = fast_sampler.sample(problem, no_of_samples)\n",
    "Y,_= model_gpy.predict(xt)\n",
    "Y = np.squeeze(Y)\n",
    "Si_fast = fast.analyze(problem, Y, print_to_console=False)"
   ]
  },
  {
   "cell_type": "code",
   "execution_count": 71,
   "metadata": {
    "scrolled": true
   },
   "outputs": [
    {
     "data": {
      "image/png": "[encoded data removed]",
      "text/plain": [
       "<Figure size 720x432 with 9 Axes>"
      ]
     },
     "metadata": {
      "needs_background": "light"
     },
     "output_type": "display_data"
    }
   ],
   "source": [
    "param = ['DNS','A','IP']\n",
    "param2 = []\n",
    "\n",
    "first_lim = [0, 0.85]\n",
    "second_lim = [0, 0.05]\n",
    "total_lim = [0, 0.85]\n",
    "\n",
    "fig, ax = plt.subplots(3, 3, figsize=plot.big_wide_figsize)\n",
    "\n",
    "\n",
    "ax[0][0].set_title(\"1st Order Sobol (SALab)\")\n",
    "for index,val in enumerate(Si['S1']):\n",
    "    ax[0][0].bar(param[index],val, color = 'grey')\n",
    "ax[0][0].set_ylim(first_lim)\n",
    "\n",
    "ax[1][0].set_title(\"2nd Order Sobol (SALab)\")\n",
    "for i in range(len(param)):\n",
    "    for j in range(len(param)):\n",
    "        val =  Si['S2'][i][j]\n",
    "        if val > -0.5:\n",
    "            name = param[i] + '+'+ param[j]\n",
    "            ax[1][0].bar(name, Si['S2'][i][j], color = 'grey')\n",
    "            param2.append(name)\n",
    "ax[1][0].set_ylim(second_lim)\n",
    "\n",
    "ax[2][0].set_title(\"Total Effect Sobol (SALab)\")\n",
    "for index,val in enumerate(Si['ST']):\n",
    "    ax[2][0].bar(param[index],val, color = 'grey')\n",
    "ax[2][0].set_ylim(total_lim)\n",
    "    \n",
    "ax[0][1].set_title(\"1st Order Sobol (Emukit)\")\n",
    "for index, ivar in enumerate(main_effects_gp):\n",
    "    ax[0][1].bar(param[index], main_effects_gp[ivar][0], color = 'grey')\n",
    "ax[0][1].set_ylim(first_lim)\n",
    "\n",
    "\n",
    "ax[1][1].set_title(\"2nd Order Sobol (Emukit)\")\n",
    "for index, ivar in enumerate(secondary_effects_gp):\n",
    "    ax[1][1].bar(param2[index], secondary_effects_gp[ivar][0], color = 'grey')\n",
    "ax[1][1].set_ylim(second_lim)\n",
    "\n",
    " \n",
    "ax[2][1].set_title(\"Total Effect Sobol (Emukit)\")\n",
    "for index, ivar in enumerate(total_effects_gp):\n",
    "    ax[2][1].bar(param[index], total_effects_gp[ivar][0], color = 'grey')\n",
    "ax[2][1].set_ylim(total_lim)\n",
    "    \n",
    "ax[0][2].set_title(\"1st Order FAST (SALab)\")\n",
    "for index,val in enumerate(Si_fast['S1']):\n",
    "    ax[0][2].bar(param[index],val, color = 'grey')\n",
    "ax[0][2].set_ylim(first_lim)\n",
    "\n",
    "ax[1][2].set_title(\"2nd Order FAST - NA\")\n",
    "ax[1][2].set_ylim(second_lim)\n",
    "\n",
    "ax[2][2].set_title(\"Total Effect FAST (SALab)\")\n",
    "for index,val in enumerate(Si_fast['ST']):\n",
    "    ax[2][2].bar(param[index],val, color = 'grey')\n",
    "ax[2][2].set_ylim(total_lim)\n",
    "    \n",
    "# ax[0][1].set_title('Sensitivity Analysis on Policy Configurations Without Experimental Design Loop')\n",
    "ax[1][0].set_ylabel('Percentage of explained output variance')\n",
    "ax[2][1].set_xlabel('DNS = Days Noticed Symptoms; A = Asymptomatic Rate; IP = Infectious Profile')\n",
    "\n",
    "plt.tight_layout()\n",
    "# plt.show()\n",
    "plt.savefig('./plots/SA-Case-NoExp.jpg')"
   ]
  },
  {
   "cell_type": "markdown",
   "metadata": {},
   "source": [
    "## SA with Experiment Design Loop"
   ]
  },
  {
   "cell_type": "code",
   "execution_count": null,
   "metadata": {},
   "outputs": [
    {
     "name": "stdout",
     "output_type": "stream",
     "text": [
      "Optimization restart 1/1, f = -23.805786276359147\n"
     ]
    },
    {
     "data": {
      "application/vnd.jupyter.widget-view+json": {
       "model_id": "59dd0c786b214570bdc49028f2c5a583",
       "version_major": 2,
       "version_minor": 0
      },
      "text/plain": [
       "HBox(children=(HTML(value=''), FloatProgress(value=0.0, max=10000.0), HTML(value='')))"
      ]
     },
     "metadata": {},
     "output_type": "display_data"
    },
    {
     "name": "stdout",
     "output_type": "stream",
     "text": [
      "\n",
      "Optimization restart 1/1, f = -23.594895714486892\n"
     ]
    },
    {
     "data": {
      "application/vnd.jupyter.widget-view+json": {
       "model_id": "24d90e74afe34f3188cb569724a37307",
       "version_major": 2,
       "version_minor": 0
      },
      "text/plain": [
       "HBox(children=(HTML(value=''), FloatProgress(value=0.0, max=10000.0), HTML(value='')))"
      ]
     },
     "metadata": {},
     "output_type": "display_data"
    },
    {
     "name": "stdout",
     "output_type": "stream",
     "text": [
      "\n",
      "Optimization restart 1/1, f = -24.452040045792547\n"
     ]
    },
    {
     "data": {
      "application/vnd.jupyter.widget-view+json": {
       "model_id": "bf41085e413745799a056eb57f661492",
       "version_major": 2,
       "version_minor": 0
      },
      "text/plain": [
       "HBox(children=(HTML(value=''), FloatProgress(value=0.0, max=10000.0), HTML(value='')))"
      ]
     },
     "metadata": {},
     "output_type": "display_data"
    },
    {
     "name": "stdout",
     "output_type": "stream",
     "text": [
      "\n",
      "Optimization restart 1/1, f = -25.497612500006152\n"
     ]
    }
   ],
   "source": [
    "# Initialise experimental design loop. Using integrated variance as acquisition\n",
    "# to \"query\" the input space aiming to reduce uncertainty over the func we're approx. i.e. effective_r\n",
    "num_of_loops = 5\n",
    "integrated_variance = IntegratedVarianceReduction(space=space, model=model_emukit)\n",
    "ed = ExperimentalDesignLoop(space=space, model=model_emukit, acquisition = integrated_variance)\n",
    "ed.run_loop(run_tti_sim, num_of_loops)"
   ]
  },
  {
   "cell_type": "code",
   "execution_count": null,
   "metadata": {},
   "outputs": [],
   "source": [
    "display(model_gpy)"
   ]
  },
  {
   "cell_type": "code",
   "execution_count": null,
   "metadata": {},
   "outputs": [],
   "source": [
    "#SALib Sobol\n",
    "from SALib.sample import saltelli\n",
    "from SALib.analyze import sobol\n",
    "\n",
    "no_of_samples = 100000\n",
    "problem = {\n",
    "'num_vars': 3,\n",
    "'names': param,\n",
    "'bounds': [\n",
    "            variable_domain1, \n",
    "            variable_domain2,\n",
    "            variable_domain3]\n",
    "}\n",
    "\n",
    "\n",
    "xt = saltelli.sample(problem, no_of_samples)\n",
    "Y,_= model_gpy.predict(xt)\n",
    "Y = np.squeeze(Y)\n",
    "\n",
    "Si_e = sobol.analyze(problem, Y)\n",
    "\n",
    "#Emukit Sobol\n",
    "senstivity = MonteCarloSecondOrderSensitivity(model = model_emukit, input_domain = space)\n",
    "main_effects_gp_e, secondary_effects_gp_e, total_effects_gp_e, _e = senstivity.compute_effects(num_monte_carlo_points = no_of_samples)\n",
    "\n",
    "\n",
    "#SALib Fast\n",
    "from SALib.analyze import fast\n",
    "from SALib.sample import fast_sampler\n",
    "\n",
    "xt = fast_sampler.sample(problem, no_of_samples)\n",
    "Y,_= model_gpy.predict(xt)\n",
    "Y = np.squeeze(Y)\n",
    "Si_fast_e = fast.analyze(problem, Y, print_to_console=False)"
   ]
  },
  {
   "cell_type": "code",
   "execution_count": null,
   "metadata": {},
   "outputs": [],
   "source": [
    "param = ['DNS','A','IP']\n",
    "param2 = []\n",
    "\n",
    "first_lim = [0, 0.85]\n",
    "second_lim = [0, 0.05]\n",
    "total_lim = [0, 0.85]\n",
    "\n",
    "fig, ax = plt.subplots(3, 3, figsize=plot.big_wide_figsize)\n",
    "\n",
    "\n",
    "ax[0][0].set_title(\"1st Order Sobol (SALab)\")\n",
    "for index,val in enumerate(Si_e['S1']):\n",
    "    ax[0][0].bar(param[index],val, color = 'grey')\n",
    "ax[0][0].set_ylim(first_lim)\n",
    "\n",
    "ax[1][0].set_title(\"2nd Order Sobol (SALab)\")\n",
    "for i in range(len(param)):\n",
    "    for j in range(len(param)):\n",
    "        val =  Si_e['S2'][i][j]\n",
    "        if val > -0.5:\n",
    "            name = param[i] + '+'+ param[j]\n",
    "            ax[1][0].bar(name, Si_e['S2'][i][j], color = 'grey')\n",
    "            param2.append(name)\n",
    "ax[1][0].set_ylim(second_lim)\n",
    "\n",
    "ax[2][0].set_title(\"Total Effect Sobol (SALab)\")\n",
    "for index,val in enumerate(Si_e['ST']):\n",
    "    ax[2][0].bar(param[index],val, color = 'grey')\n",
    "ax[2][0].set_ylim(total_lim)\n",
    "    \n",
    "ax[0][1].set_title(\"1st Order Sobol (Emukit)\")\n",
    "for index, ivar in enumerate(main_effects_gp_e):\n",
    "    ax[0][1].bar(param[index], main_effects_gp_e[ivar][0], color = 'grey')\n",
    "ax[0][1].set_ylim(first_lim)\n",
    "\n",
    "\n",
    "ax[1][1].set_title(\"2nd Order Sobol (Emukit)\")\n",
    "for index, ivar in enumerate(secondary_effects_gp_e):\n",
    "    ax[1][1].bar(param2[index], secondary_effects_gp_e[ivar][0], color = 'grey')\n",
    "ax[1][1].set_ylim(second_lim)\n",
    "\n",
    " \n",
    "ax[2][1].set_title(\"Total Effect Sobol (Emukit)\")\n",
    "for index, ivar in enumerate(total_effects_gp_e):\n",
    "    ax[2][1].bar(param[index], total_effects_gp_e[ivar][0], color = 'grey')\n",
    "ax[2][1].set_ylim(total_lim)\n",
    "    \n",
    "ax[0][2].set_title(\"1st Order FAST (SALab)\")\n",
    "for index,val in enumerate(Si_fast_e['S1']):\n",
    "    ax[0][2].bar(param[index],val, color = 'grey')\n",
    "ax[0][2].set_ylim(first_lim)\n",
    "\n",
    "ax[1][2].set_title(\"2nd Order FAST - NA\")\n",
    "ax[1][2].set_ylim(second_lim)\n",
    "\n",
    "ax[2][2].set_title(\"Total Effect FAST (SALab)\")\n",
    "for index,val in enumerate(Si_fast_e['ST']):\n",
    "    ax[2][2].bar(param[index],val, color = 'grey')\n",
    "ax[2][2].set_ylim(total_lim)\n",
    "    \n",
    "ax[1][0].set_ylabel('Percentage of explained output variance')\n",
    "ax[2][1].set_xlabel('DNS = Days Noticed Symptoms; A = Asymptomatic Rate; IP = Infectious Profile')\n",
    "\n",
    "plt.tight_layout()\n",
    "# plt.show()\n",
    "plt.savefig('./plots/SA-Case-Exp.jpg')"
   ]
  }
 ],
 "metadata": {
  "colab": {
   "include_colab_link": true,
   "name": "tti-experiment.ipynb",
   "provenance": []
  },
  "kernelspec": {
   "display_name": "Python 3",
   "language": "python",
   "name": "python3"
  },
  "language_info": {
   "codemirror_mode": {
    "name": "ipython",
    "version": 3
   },
   "file_extension": ".py",
   "mimetype": "text/x-python",
   "name": "python",
   "nbconvert_exporter": "python",
   "pygments_lexer": "ipython3",
   "version": "3.6.12"
  },
  "widgets": {
   "application/vnd.jupyter.widget-state+json": {
    "01c6627a03e747b7a0bcedc0e31e94c2": {
     "model_module": "@jupyter-widgets/controls",
     "model_name": "FloatProgressModel",
     "state": {
      "_dom_classes": [],
      "_model_module": "@jupyter-widgets/controls",
      "_model_module_version": "1.5.0",
      "_model_name": "FloatProgressModel",
      "_view_count": null,
      "_view_module": "@jupyter-widgets/controls",
      "_view_module_version": "1.5.0",
      "_view_name": "ProgressView",
      "bar_style": "success",
      "description": "100%",
      "description_tooltip": null,
      "layout": "IPY_MODEL_27ae62f93b924c9f90cf1023ec62e147",
      "max": 10000,
      "min": 0,
      "orientation": "horizontal",
      "style": "IPY_MODEL_d683e78b8341498cb158a434cbf70c12",
      "value": 10000
     }
    },
    "026757afe50d4f14a7ba0beaf180574e": {
     "model_module": "@jupyter-widgets/controls",
     "model_name": "DescriptionStyleModel",
     "state": {
      "_model_module": "@jupyter-widgets/controls",
      "_model_module_version": "1.5.0",
      "_model_name": "DescriptionStyleModel",
      "_view_count": null,
      "_view_module": "@jupyter-widgets/base",
      "_view_module_version": "1.2.0",
      "_view_name": "StyleView",
      "description_width": ""
     }
    },
    "27ae62f93b924c9f90cf1023ec62e147": {
     "model_module": "@jupyter-widgets/base",
     "model_name": "LayoutModel",
     "state": {
      "_model_module": "@jupyter-widgets/base",
      "_model_module_version": "1.2.0",
      "_model_name": "LayoutModel",
      "_view_count": null,
      "_view_module": "@jupyter-widgets/base",
      "_view_module_version": "1.2.0",
      "_view_name": "LayoutView",
      "align_content": null,
      "align_items": null,
      "align_self": null,
      "border": null,
      "bottom": null,
      "display": null,
      "flex": null,
      "flex_flow": null,
      "grid_area": null,
      "grid_auto_columns": null,
      "grid_auto_flow": null,
      "grid_auto_rows": null,
      "grid_column": null,
      "grid_gap": null,
      "grid_row": null,
      "grid_template_areas": null,
      "grid_template_columns": null,
      "grid_template_rows": null,
      "height": null,
      "justify_content": null,
      "justify_items": null,
      "left": null,
      "margin": null,
      "max_height": null,
      "max_width": null,
      "min_height": null,
      "min_width": null,
      "object_fit": null,
      "object_position": null,
      "order": null,
      "overflow": null,
      "overflow_x": null,
      "overflow_y": null,
      "padding": null,
      "right": null,
      "top": null,
      "visibility": null,
      "width": null
     }
    },
    "29401bc5d41a48bdae60957b7f3126e8": {
     "model_module": "@jupyter-widgets/controls",
     "model_name": "HTMLModel",
     "state": {
      "_dom_classes": [],
      "_model_module": "@jupyter-widgets/controls",
      "_model_module_version": "1.5.0",
      "_model_name": "HTMLModel",
      "_view_count": null,
      "_view_module": "@jupyter-widgets/controls",
      "_view_module_version": "1.5.0",
      "_view_name": "HTMLView",
      "description": "",
      "description_tooltip": null,
      "layout": "IPY_MODEL_44207771133e47f3a8fb7eaca6c5c1fc",
      "placeholder": "​",
      "style": "IPY_MODEL_026757afe50d4f14a7ba0beaf180574e",
      "value": " 10000/10000 [00:05&lt;00:00, 1685.76it/s]"
     }
    },
    "44207771133e47f3a8fb7eaca6c5c1fc": {
     "model_module": "@jupyter-widgets/base",
     "model_name": "LayoutModel",
     "state": {
      "_model_module": "@jupyter-widgets/base",
      "_model_module_version": "1.2.0",
      "_model_name": "LayoutModel",
      "_view_count": null,
      "_view_module": "@jupyter-widgets/base",
      "_view_module_version": "1.2.0",
      "_view_name": "LayoutView",
      "align_content": null,
      "align_items": null,
      "align_self": null,
      "border": null,
      "bottom": null,
      "display": null,
      "flex": null,
      "flex_flow": null,
      "grid_area": null,
      "grid_auto_columns": null,
      "grid_auto_flow": null,
      "grid_auto_rows": null,
      "grid_column": null,
      "grid_gap": null,
      "grid_row": null,
      "grid_template_areas": null,
      "grid_template_columns": null,
      "grid_template_rows": null,
      "height": null,
      "justify_content": null,
      "justify_items": null,
      "left": null,
      "margin": null,
      "max_height": null,
      "max_width": null,
      "min_height": null,
      "min_width": null,
      "object_fit": null,
      "object_position": null,
      "order": null,
      "overflow": null,
      "overflow_x": null,
      "overflow_y": null,
      "padding": null,
      "right": null,
      "top": null,
      "visibility": null,
      "width": null
     }
    },
    "6d622bc0a8f64f0d87aa499c94664085": {
     "model_module": "@jupyter-widgets/controls",
     "model_name": "HBoxModel",
     "state": {
      "_dom_classes": [],
      "_model_module": "@jupyter-widgets/controls",
      "_model_module_version": "1.5.0",
      "_model_name": "HBoxModel",
      "_view_count": null,
      "_view_module": "@jupyter-widgets/controls",
      "_view_module_version": "1.5.0",
      "_view_name": "HBoxView",
      "box_style": "",
      "children": [
       "IPY_MODEL_01c6627a03e747b7a0bcedc0e31e94c2",
       "IPY_MODEL_29401bc5d41a48bdae60957b7f3126e8"
      ],
      "layout": "IPY_MODEL_8105c4eb956744b0b5e1b9ac5207f9d5"
     }
    },
    "8105c4eb956744b0b5e1b9ac5207f9d5": {
     "model_module": "@jupyter-widgets/base",
     "model_name": "LayoutModel",
     "state": {
      "_model_module": "@jupyter-widgets/base",
      "_model_module_version": "1.2.0",
      "_model_name": "LayoutModel",
      "_view_count": null,
      "_view_module": "@jupyter-widgets/base",
      "_view_module_version": "1.2.0",
      "_view_name": "LayoutView",
      "align_content": null,
      "align_items": null,
      "align_self": null,
      "border": null,
      "bottom": null,
      "display": null,
      "flex": null,
      "flex_flow": null,
      "grid_area": null,
      "grid_auto_columns": null,
      "grid_auto_flow": null,
      "grid_auto_rows": null,
      "grid_column": null,
      "grid_gap": null,
      "grid_row": null,
      "grid_template_areas": null,
      "grid_template_columns": null,
      "grid_template_rows": null,
      "height": null,
      "justify_content": null,
      "justify_items": null,
      "left": null,
      "margin": null,
      "max_height": null,
      "max_width": null,
      "min_height": null,
      "min_width": null,
      "object_fit": null,
      "object_position": null,
      "order": null,
      "overflow": null,
      "overflow_x": null,
      "overflow_y": null,
      "padding": null,
      "right": null,
      "top": null,
      "visibility": null,
      "width": null
     }
    },
    "d683e78b8341498cb158a434cbf70c12": {
     "model_module": "@jupyter-widgets/controls",
     "model_name": "ProgressStyleModel",
     "state": {
      "_model_module": "@jupyter-widgets/controls",
      "_model_module_version": "1.5.0",
      "_model_name": "ProgressStyleModel",
      "_view_count": null,
      "_view_module": "@jupyter-widgets/base",
      "_view_module_version": "1.2.0",
      "_view_name": "StyleView",
      "bar_color": null,
      "description_width": "initial"
     }
    }
   }
  }
 },
 "nbformat": 4,
 "nbformat_minor": 1
}
