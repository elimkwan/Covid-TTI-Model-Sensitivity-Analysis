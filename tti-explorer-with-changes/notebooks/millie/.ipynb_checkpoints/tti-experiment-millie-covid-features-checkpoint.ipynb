{
 "cells": [
  {
   "cell_type": "markdown",
   "metadata": {
    "colab_type": "text",
    "id": "view-in-github"
   },
   "source": [
    "<a href=\"https://colab.research.google.com/github/rs-delve/tti-explorer/blob/master/notebooks/tti-experiment.ipynb\" target=\"_parent\"><img src=\"https://colab.research.google.com/assets/colab-badge.svg\" alt=\"Open In Colab\"/></a>"
   ]
  },
  {
   "cell_type": "markdown",
   "metadata": {
    "colab_type": "text",
    "id": "7CmXXoii-iLo"
   },
   "source": [
    "## TTI Strategies"
   ]
  },
  {
   "cell_type": "markdown",
   "metadata": {
    "colab_type": "text",
    "id": "ponSUAl6-iLo"
   },
   "source": [
    "All of the information about the primary case's infection and how they infect their social contacts (under no government intervention) is now contained in `primary_case` and `social_contacts`.\n",
    "\n",
    "Now we run a simulation, which works as follows. We start by generating a large number of cases, each with associated contacts. Given a particular strategy (e.g. test-based TTI with NPI of stringency level S3), each case is passed through the strategy, which computes various metrics for the case. For example, it computes the number of secondary cases due to primary case (reproduction number) and the number of tests required. We then collect the results for each case and average them, returning the final evaluation of the strategy."
   ]
  },
  {
   "cell_type": "markdown",
   "metadata": {
    "colab_type": "text",
    "id": "BHB568_y-iLp"
   },
   "source": [
    "## Running a Simulation"
   ]
  },
  {
   "cell_type": "code",
   "execution_count": 1,
   "metadata": {
    "colab": {},
    "colab_type": "code",
    "id": "Ql0yp7H4-iLq"
   },
   "outputs": [
    {
     "name": "stdout",
     "output_type": "stream",
     "text": [
      "fatal: destination path 'tti-explorer' already exists and is not an empty directory.\n",
      "/Users/milliemcquillin/Desktop/MPhil/ML & PW/project/tti-le48/tti-explorer-with-changes/notebooks/millie/tti-explorer\n",
      "Note: you may need to restart the kernel to use updated packages.\n",
      "Requirement already satisfied: pyDOE in /Users/milliemcquillin/opt/anaconda3/envs/ml-pw-init/lib/python3.6/site-packages (0.3.8)\n",
      "Requirement already satisfied: numpy in /Users/milliemcquillin/opt/anaconda3/envs/ml-pw-init/lib/python3.6/site-packages (from pyDOE) (1.19.2)\n",
      "Requirement already satisfied: scipy in /Users/milliemcquillin/opt/anaconda3/envs/ml-pw-init/lib/python3.6/site-packages (from pyDOE) (1.1.0)\n",
      "Note: you may need to restart the kernel to use updated packages.\n",
      "Requirement already satisfied: emukit in /Users/milliemcquillin/opt/anaconda3/envs/ml-pw-init/lib/python3.6/site-packages (0.4.7)\n",
      "Requirement already satisfied: setuptools>=40.8.0 in /Users/milliemcquillin/opt/anaconda3/envs/ml-pw-init/lib/python3.6/site-packages (from emukit) (49.6.0.post20200925)\n",
      "Requirement already satisfied: numpy>=1.14.5 in /Users/milliemcquillin/opt/anaconda3/envs/ml-pw-init/lib/python3.6/site-packages (from emukit) (1.19.2)\n",
      "Requirement already satisfied: emcee==2.2.1 in /Users/milliemcquillin/opt/anaconda3/envs/ml-pw-init/lib/python3.6/site-packages (from emukit) (2.2.1)\n",
      "Requirement already satisfied: GPy[plotting]>=1.9.9 in /Users/milliemcquillin/opt/anaconda3/envs/ml-pw-init/lib/python3.6/site-packages (from emukit) (1.9.9)\n",
      "Requirement already satisfied: scipy==1.1.0 in /Users/milliemcquillin/opt/anaconda3/envs/ml-pw-init/lib/python3.6/site-packages (from emukit) (1.1.0)\n",
      "Requirement already satisfied: paramz>=0.9.0 in /Users/milliemcquillin/opt/anaconda3/envs/ml-pw-init/lib/python3.6/site-packages (from GPy[plotting]>=1.9.9->emukit) (0.9.5)\n",
      "Requirement already satisfied: six in /Users/milliemcquillin/opt/anaconda3/envs/ml-pw-init/lib/python3.6/site-packages (from GPy[plotting]>=1.9.9->emukit) (1.15.0)\n",
      "Requirement already satisfied: plotly>=1.8.6; extra == \"plotting\" in /Users/milliemcquillin/opt/anaconda3/envs/ml-pw-init/lib/python3.6/site-packages (from GPy[plotting]>=1.9.9->emukit) (4.14.0)\n",
      "Requirement already satisfied: matplotlib>=3.0; extra == \"plotting\" in /Users/milliemcquillin/opt/anaconda3/envs/ml-pw-init/lib/python3.6/site-packages (from GPy[plotting]>=1.9.9->emukit) (3.3.2)\n",
      "Requirement already satisfied: decorator>=4.0.10 in /Users/milliemcquillin/opt/anaconda3/envs/ml-pw-init/lib/python3.6/site-packages (from paramz>=0.9.0->GPy[plotting]>=1.9.9->emukit) (4.4.2)\n",
      "Requirement already satisfied: retrying>=1.3.3 in /Users/milliemcquillin/opt/anaconda3/envs/ml-pw-init/lib/python3.6/site-packages (from plotly>=1.8.6; extra == \"plotting\"->GPy[plotting]>=1.9.9->emukit) (1.3.3)\n",
      "Requirement already satisfied: kiwisolver>=1.0.1 in /Users/milliemcquillin/opt/anaconda3/envs/ml-pw-init/lib/python3.6/site-packages (from matplotlib>=3.0; extra == \"plotting\"->GPy[plotting]>=1.9.9->emukit) (1.2.0)\n",
      "Requirement already satisfied: pillow>=6.2.0 in /Users/milliemcquillin/opt/anaconda3/envs/ml-pw-init/lib/python3.6/site-packages (from matplotlib>=3.0; extra == \"plotting\"->GPy[plotting]>=1.9.9->emukit) (7.2.0)\n",
      "Requirement already satisfied: pyparsing!=2.0.4,!=2.1.2,!=2.1.6,>=2.0.3 in /Users/milliemcquillin/opt/anaconda3/envs/ml-pw-init/lib/python3.6/site-packages (from matplotlib>=3.0; extra == \"plotting\"->GPy[plotting]>=1.9.9->emukit) (2.4.7)\n",
      "Requirement already satisfied: cycler>=0.10 in /Users/milliemcquillin/opt/anaconda3/envs/ml-pw-init/lib/python3.6/site-packages (from matplotlib>=3.0; extra == \"plotting\"->GPy[plotting]>=1.9.9->emukit) (0.10.0)\n",
      "Requirement already satisfied: python-dateutil>=2.1 in /Users/milliemcquillin/opt/anaconda3/envs/ml-pw-init/lib/python3.6/site-packages (from matplotlib>=3.0; extra == \"plotting\"->GPy[plotting]>=1.9.9->emukit) (2.8.1)\n",
      "Requirement already satisfied: certifi>=2020.06.20 in /Users/milliemcquillin/opt/anaconda3/envs/ml-pw-init/lib/python3.6/site-packages (from matplotlib>=3.0; extra == \"plotting\"->GPy[plotting]>=1.9.9->emukit) (2020.11.8)\n",
      "Note: you may need to restart the kernel to use updated packages.\n",
      "Requirement already satisfied: gpy in /Users/milliemcquillin/opt/anaconda3/envs/ml-pw-init/lib/python3.6/site-packages (1.9.9)\n",
      "Requirement already satisfied: numpy>=1.7 in /Users/milliemcquillin/opt/anaconda3/envs/ml-pw-init/lib/python3.6/site-packages (from gpy) (1.19.2)\n",
      "Requirement already satisfied: six in /Users/milliemcquillin/opt/anaconda3/envs/ml-pw-init/lib/python3.6/site-packages (from gpy) (1.15.0)\n",
      "Requirement already satisfied: paramz>=0.9.0 in /Users/milliemcquillin/opt/anaconda3/envs/ml-pw-init/lib/python3.6/site-packages (from gpy) (0.9.5)\n",
      "Requirement already satisfied: scipy>=0.16 in /Users/milliemcquillin/opt/anaconda3/envs/ml-pw-init/lib/python3.6/site-packages (from gpy) (1.1.0)\n",
      "Requirement already satisfied: decorator>=4.0.10 in /Users/milliemcquillin/opt/anaconda3/envs/ml-pw-init/lib/python3.6/site-packages (from paramz>=0.9.0->gpy) (4.4.2)\n",
      "Note: you may need to restart the kernel to use updated packages.\n"
     ]
    }
   ],
   "source": [
    "!git clone https://github.com/rs-delve/tti-explorer.git\n",
    "%cd tti-explorer\n",
    "%pip install -q .\n",
    "\n",
    "import os\n",
    "\n",
    "import numpy as np\n",
    "import pandas as pd\n",
    "from tqdm.notebook import trange\n",
    "\n",
    "from tti_explorer import config, utils\n",
    "from tti_explorer.case import simulate_case, CaseFactors\n",
    "from tti_explorer.contacts import EmpiricalContactsSimulator\n",
    "from tti_explorer.strategies import TTIFlowModel, RETURN_KEYS\n",
    "\n",
    "%pip install pyDOE\n",
    "%pip install emukit\n",
    "%pip install gpy\n",
    "import urllib.request\n",
    "import numpy as np\n",
    "import matplotlib.pyplot as plt\n",
    "\n",
    "urllib.request.urlretrieve('https://raw.githubusercontent.com/lawrennd/talks/gh-pages/teaching_plots.py','teaching_plots.py')\n",
    "urllib.request.urlretrieve('https://raw.githubusercontent.com/lawrennd/talks/gh-pages/mlai.py','mlai.py')\n",
    "urllib.request.urlretrieve('https://raw.githubusercontent.com/lawrennd/talks/gh-pages/gp_tutorial.py','gp_tutorial.py')\n",
    "\n",
    "\n",
    "from matplotlib import colors as mcolors\n",
    "from matplotlib import cm\n",
    "import numpy as np\n",
    "import GPy\n",
    "from emukit.core import ContinuousParameter, ParameterSpace\n",
    "from emukit.sensitivity.monte_carlo import ModelFreeMonteCarloSensitivity\n",
    "from emukit.core.initial_designs import RandomDesign\n",
    "from GPy.models import GPRegression\n",
    "from emukit.model_wrappers import GPyModelWrapper\n",
    "from emukit.sensitivity.monte_carlo import MonteCarloSensitivity\n",
    "from emukit.experimental_design.acquisitions import IntegratedVarianceReduction, ModelVariance\n",
    "from emukit.experimental_design.experimental_design_loop import ExperimentalDesignLoop\n",
    "import matplotlib.pyplot as pltb\n",
    "import teaching_plots as plot\n",
    "import mlai\n",
    "import pandas as pd"
   ]
  },
  {
   "cell_type": "markdown",
   "metadata": {
    "colab_type": "text",
    "id": "t8xUXOXV-iLt"
   },
   "source": [
    "We will analyse the `S3_test_based_TTI` strategy from our report. For clarity, we will show the whole process."
   ]
  },
  {
   "cell_type": "code",
   "execution_count": 2,
   "metadata": {},
   "outputs": [],
   "source": [
    "def load_csv(pth):\n",
    "    return np.loadtxt(pth, dtype=int, skiprows=1, delimiter=\",\")\n",
    "\n",
    "path_to_bbc_data = os.path.join(\"data\", \"bbc-pandemic\")\n",
    "\n",
    "over18 = load_csv(os.path.join(path_to_bbc_data, \"contact_distributions_o18.csv\"))\n",
    "under18 = load_csv(os.path.join(path_to_bbc_data, \"contact_distributions_u18.csv\"))"
   ]
  },
  {
   "cell_type": "markdown",
   "metadata": {
    "colab_type": "text",
    "id": "CPvGkTFW-iLu"
   },
   "source": [
    "First get the configurations:"
   ]
  },
  {
   "cell_type": "code",
   "execution_count": 3,
   "metadata": {
    "colab": {},
    "colab_type": "code",
    "id": "dz1zBETF-iLu"
   },
   "outputs": [],
   "source": [
    "name = 'S3_test_based_TTI'\n",
    "\n",
    "case_config = config.get_case_config(\"delve\")\n",
    "contacts_config = config.get_contacts_config(\"delve\")\n",
    "policy_config = config.get_strategy_configs(\"delve\", name)[name]"
   ]
  },
  {
   "cell_type": "code",
   "execution_count": 4,
   "metadata": {
    "scrolled": false
   },
   "outputs": [],
   "source": [
    "from scipy.stats import gamma\n",
    "\n",
    "def update_case_config_day_noticed(p_day_noticed_symptoms_ab):\n",
    "    alpha = p_day_noticed_symptoms_ab[0]\n",
    "    beta = p_day_noticed_symptoms_ab[1]\n",
    "\n",
    "    x = np.linspace(gamma.pdf(0.01, a=alpha, scale=1/beta),\n",
    "                    gamma.pdf(0.99, a=alpha, scale=1/beta), 10)\n",
    "    \n",
    "    #apply softmax\n",
    "    norm = np.exp(x)\n",
    "    s = sum(norm)\n",
    "    norm = np.round(norm/s, decimals=2)\n",
    "    norm[-1] = 1- sum(norm[:-1])\n",
    "    \n",
    "    case_config['p_day_noticed_symptoms'] = norm\n",
    "    \n",
    "    return case_config\n",
    "\n",
    "\n",
    "\n",
    "def update_case_config_daily(vals):\n",
    "    \n",
    "    case_config['inf_profile'] = vals\n",
    "    \n",
    "    return case_config\n",
    "\n",
    "\n",
    "\n",
    "\n",
    "def update_case_inf_profile(inf_profile):\n",
    "    alpha = inf_profile[0]\n",
    "    beta = inf_profile[1]\n",
    "\n",
    "    x = np.linspace(gamma.pdf(0.01, a=alpha, scale=1/beta),\n",
    "                    gamma.pdf(0.99, a=alpha, scale=1/beta), 10)\n",
    "    \n",
    "    #apply softmax\n",
    "    norm = np.exp(x)\n",
    "    s = sum(norm)\n",
    "    norm = np.round(norm/s, decimals=2)\n",
    "    norm[-1] = 1- sum(norm[:-1])\n",
    "    \n",
    "    case_config['p_day_noticed_symptoms'] = norm\n",
    "    \n",
    "    return case_config\n",
    "\n",
    "# update_case_config([1,3])"
   ]
  },
  {
   "cell_type": "code",
   "execution_count": 5,
   "metadata": {},
   "outputs": [],
   "source": [
    "def update_policy_config(app_uptake, pol_compl):\n",
    "    policy_config['app_cov'] = app_uptake\n",
    "    policy_config['compliance'] = pol_compl\n",
    "    return policy_config\n",
    "\n",
    "# policy_config = update_policy_config(0.5, 0.05)"
   ]
  },
  {
   "cell_type": "code",
   "execution_count": 6,
   "metadata": {},
   "outputs": [],
   "source": [
    "# Separating this because it is built from the ammended policy_config\n",
    "\n",
    "factor_config = utils.get_sub_dictionary(policy_config, config.DELVE_CASE_FACTOR_KEYS)\n",
    "strategy_config = utils.get_sub_dictionary(policy_config, config.DELVE_STRATEGY_FACTOR_KEYS)"
   ]
  },
  {
   "cell_type": "markdown",
   "metadata": {
    "colab_type": "text",
    "id": "le8N86QT-iLx"
   },
   "source": [
    "Set a random state:"
   ]
  },
  {
   "cell_type": "code",
   "execution_count": 7,
   "metadata": {
    "colab": {},
    "colab_type": "code",
    "id": "f9LUG5IH-iLy"
   },
   "outputs": [],
   "source": [
    "rng = np.random.RandomState(42)"
   ]
  },
  {
   "cell_type": "markdown",
   "metadata": {
    "colab_type": "text",
    "id": "fOxJ84t3-iL1"
   },
   "source": [
    "Make contact simulator:"
   ]
  },
  {
   "cell_type": "code",
   "execution_count": 8,
   "metadata": {
    "colab": {},
    "colab_type": "code",
    "id": "cr92iit4-iL2"
   },
   "outputs": [],
   "source": [
    "simulate_contacts = EmpiricalContactsSimulator(over18, under18, rng)"
   ]
  },
  {
   "cell_type": "markdown",
   "metadata": {
    "colab_type": "text",
    "id": "HAgmj657-iL6"
   },
   "source": [
    "Make the TTI Model:"
   ]
  },
  {
   "cell_type": "code",
   "execution_count": 9,
   "metadata": {
    "colab": {},
    "colab_type": "code",
    "id": "NjH7Ih7x-iL7"
   },
   "outputs": [],
   "source": [
    "tti_model = TTIFlowModel(rng, **strategy_config)"
   ]
  },
  {
   "cell_type": "markdown",
   "metadata": {
    "colab_type": "text",
    "id": "7IFGP5K6-iL-"
   },
   "source": [
    "Generate cases, contacts and run simulation:"
   ]
  },
  {
   "cell_type": "code",
   "execution_count": 10,
   "metadata": {},
   "outputs": [],
   "source": [
    "\"\"\"\n",
    "Runs TTI simulator as many times as the different input initialisations.\n",
    "The main reason we need this is to put in to EmuKit for the Experimental\n",
    "Design Loop.\n",
    "\n",
    "Args:\n",
    "    pol_configs (list): Inputs are [app_cov, compliance]\n",
    "\n",
    "Returns:\n",
    "    effective_rs (np.expand_dims(np.array(to_return), 1)): For every simulation run, return\n",
    "    the effective r, as was plotted form Bryn and Andrei previously.\n",
    "\n",
    "\"\"\"\n",
    "rng = np.random.RandomState(42)\n",
    "simulate_contacts = EmpiricalContactsSimulator(over18, under18, rng)\n",
    "\n",
    "def run_tti_sim(pol_configs):\n",
    "    \n",
    "    to_return=[]\n",
    "\n",
    "    for vals in pol_configs:\n",
    "\n",
    "        case_config = update_case_config_daily(vals)\n",
    "        #policy_config = update_policy_config(vals[0],vals[1])\n",
    "        factor_config = utils.get_sub_dictionary(policy_config, config.DELVE_CASE_FACTOR_KEYS)\n",
    "        strategy_config = utils.get_sub_dictionary(policy_config, config.DELVE_STRATEGY_FACTOR_KEYS)\n",
    "        tti_model = TTIFlowModel(rng, **strategy_config)\n",
    "        \n",
    "        n_cases = 10000\n",
    "        outputs = list()\n",
    "        temp =[]\n",
    "        \n",
    "        for _ in trange(n_cases):\n",
    "            case = simulate_case(rng, **case_config)\n",
    "            \n",
    "            case_factors = CaseFactors.simulate_from(rng, case, **factor_config)\n",
    "            contacts = simulate_contacts(case, **contacts_config)\n",
    "            res = tti_model(case, contacts, case_factors)\n",
    "            outputs.append(res)\n",
    "            \n",
    "            if res[\"Effective R\"] >= 0:\n",
    "                temp.append(res[\"Effective R\"]) # Get effective R. Only non-nan vals are kept\n",
    "                \n",
    "        to_return.append(np.mean(temp))\n",
    "        \n",
    "    return np.expand_dims(np.array(to_return), 1)\n",
    "\n",
    "\n"
   ]
  },
  {
   "cell_type": "code",
   "execution_count": 11,
   "metadata": {},
   "outputs": [],
   "source": [
    "variable_domain = [0.05, 1] \n",
    "variable_domain2 = [0.01,1]\n",
    "\n",
    "# space = ParameterSpace([ContinuousParameter('alpha', *variable_domain2),\n",
    "#                         ContinuousParameter('beta', *variable_domain2)]) # init param space for experimental design\n",
    "\n",
    "space = ParameterSpace([ContinuousParameter('Day_1', *variable_domain2),\n",
    "                        ContinuousParameter('Day_2', *variable_domain2),\n",
    "                        ContinuousParameter('Day_3', *variable_domain2),\n",
    "                        ContinuousParameter('Day_4', *variable_domain2),\n",
    "                        ContinuousParameter('Day_5', *variable_domain2),\n",
    "                        ContinuousParameter('Day_6', *variable_domain2),\n",
    "                        ContinuousParameter('Day_7', *variable_domain2),\n",
    "                        ContinuousParameter('Day_8', *variable_domain2),\n",
    "                        ContinuousParameter('Day_9', *variable_domain2),\n",
    "                        ContinuousParameter('Day_10', *variable_domain2)]) "
   ]
  },
  {
   "cell_type": "code",
   "execution_count": null,
   "metadata": {},
   "outputs": [
    {
     "name": "stdout",
     "output_type": "stream",
     "text": [
      "[[0.46243333 0.86750741 0.65346697 0.10171396 0.25956629 0.10049564\n",
      "  0.11414997 0.52398042 0.51036222 0.3594597 ]\n",
      " [0.10798412 0.93568451 0.76225464 0.40964096 0.01481444 0.90857831\n",
      "  0.57823106 0.78128946 0.92320009 0.48319236]\n",
      " [0.07238618 0.52130198 0.30367855 0.31062709 0.77921597 0.94149982\n",
      "  0.70406302 0.53603004 0.41651127 0.77998812]\n",
      " [0.07698574 0.79038286 0.73815259 0.31007673 0.2982028  0.53899632\n",
      "  0.57077496 0.56150668 0.33793579 0.98259558]\n",
      " [0.59862005 0.42310772 0.99841369 0.56908791 0.49340244 0.30780094\n",
      "  0.28467862 0.51721607 0.37263853 0.77488381]\n",
      " [0.53684783 0.34529806 0.0234322  0.02136884 0.53427507 0.51005969\n",
      "  0.427093   0.48249601 0.22559211 0.95518254]\n",
      " [0.07610121 0.79206773 0.57116993 0.80492821 0.23815576 0.33491096\n",
      "  0.17664108 0.70998265 0.13182477 0.27386196]\n",
      " [0.36309059 0.91682156 0.88930423 0.56866592 0.86910072 0.67656354\n",
      "  0.60298879 0.51629526 0.510996   0.65736076]\n",
      " [0.59535453 0.70988881 0.58591481 0.98965804 0.28027138 0.75222279\n",
      "  0.59948748 0.2091588  0.92412206 0.20361505]\n",
      " [0.93449539 0.44901513 0.12215388 0.4232977  0.17048776 0.13110294\n",
      "  0.17866236 0.07290751 0.37310285 0.29740187]\n",
      " [0.89336753 0.37857849 0.92825737 0.14205453 0.48906655 0.66851842\n",
      "  0.87695279 0.57139812 0.79843055 0.82516961]\n",
      " [0.74280663 0.21024665 0.68960383 0.02642189 0.91848504 0.30663926\n",
      "  0.30455118 0.64638334 0.63676575 0.33529636]\n",
      " [0.15608003 0.74123789 0.77472316 0.10214949 0.99894547 0.03235896\n",
      "  0.19618124 0.683325   0.71969273 0.01348344]\n",
      " [0.34137393 0.04999892 0.45302122 0.95445386 0.19388047 0.70594439\n",
      "  0.47897608 0.83694114 0.79781076 0.1225812 ]\n",
      " [0.07445636 0.11507927 0.04580672 0.05510228 0.42937819 0.13117753\n",
      "  0.62689806 0.02775847 0.35722378 0.18727453]\n",
      " [0.07667269 0.60864982 0.46408171 0.63230102 0.62977471 0.4724338\n",
      "  0.71944898 0.83017232 0.08660451 0.33490842]\n",
      " [0.46396394 0.22740729 0.13010554 0.37509693 0.99878462 0.22301957\n",
      "  0.64632532 0.12282881 0.13413727 0.38804781]\n",
      " [0.19422468 0.57573198 0.02845772 0.03114076 0.24931505 0.31516598\n",
      "  0.85403821 0.22599708 0.49367851 0.90116167]\n",
      " [0.3200361  0.74005324 0.10729723 0.16972386 0.01057868 0.6105453\n",
      "  0.3711697  0.57836031 0.49854663 0.40597012]\n",
      " [0.94632457 0.4597184  0.22953737 0.05664342 0.1165141  0.26555582\n",
      "  0.65490643 0.05669495 0.29032012 0.18498252]]\n"
     ]
    },
    {
     "data": {
      "application/vnd.jupyter.widget-view+json": {
       "model_id": "c114d6664508420c98b7eb764ede6c50",
       "version_major": 2,
       "version_minor": 0
      },
      "text/plain": [
       "HBox(children=(HTML(value=''), FloatProgress(value=0.0, max=10000.0), HTML(value='')))"
      ]
     },
     "metadata": {},
     "output_type": "display_data"
    },
    {
     "name": "stdout",
     "output_type": "stream",
     "text": [
      "\n"
     ]
    },
    {
     "data": {
      "application/vnd.jupyter.widget-view+json": {
       "model_id": "a8e87f1f550d448dba09f4f45191b58b",
       "version_major": 2,
       "version_minor": 0
      },
      "text/plain": [
       "HBox(children=(HTML(value=''), FloatProgress(value=0.0, max=10000.0), HTML(value='')))"
      ]
     },
     "metadata": {},
     "output_type": "display_data"
    },
    {
     "name": "stdout",
     "output_type": "stream",
     "text": [
      "\n"
     ]
    },
    {
     "data": {
      "application/vnd.jupyter.widget-view+json": {
       "model_id": "3eeab0c48af248e0bca9e00a753519a6",
       "version_major": 2,
       "version_minor": 0
      },
      "text/plain": [
       "HBox(children=(HTML(value=''), FloatProgress(value=0.0, max=10000.0), HTML(value='')))"
      ]
     },
     "metadata": {},
     "output_type": "display_data"
    },
    {
     "name": "stdout",
     "output_type": "stream",
     "text": [
      "\n"
     ]
    },
    {
     "data": {
      "application/vnd.jupyter.widget-view+json": {
       "model_id": "bec32168a57c493089a1f77b52df11db",
       "version_major": 2,
       "version_minor": 0
      },
      "text/plain": [
       "HBox(children=(HTML(value=''), FloatProgress(value=0.0, max=10000.0), HTML(value='')))"
      ]
     },
     "metadata": {},
     "output_type": "display_data"
    },
    {
     "name": "stdout",
     "output_type": "stream",
     "text": [
      "\n"
     ]
    },
    {
     "data": {
      "application/vnd.jupyter.widget-view+json": {
       "model_id": "8a73af6ad23b4542ad8d55bbecb34f96",
       "version_major": 2,
       "version_minor": 0
      },
      "text/plain": [
       "HBox(children=(HTML(value=''), FloatProgress(value=0.0, max=10000.0), HTML(value='')))"
      ]
     },
     "metadata": {},
     "output_type": "display_data"
    },
    {
     "name": "stdout",
     "output_type": "stream",
     "text": [
      "\n"
     ]
    },
    {
     "data": {
      "application/vnd.jupyter.widget-view+json": {
       "model_id": "db08eb7c335244a68d5648b6c951d699",
       "version_major": 2,
       "version_minor": 0
      },
      "text/plain": [
       "HBox(children=(HTML(value=''), FloatProgress(value=0.0, max=10000.0), HTML(value='')))"
      ]
     },
     "metadata": {},
     "output_type": "display_data"
    },
    {
     "name": "stdout",
     "output_type": "stream",
     "text": [
      "\n"
     ]
    },
    {
     "data": {
      "application/vnd.jupyter.widget-view+json": {
       "model_id": "baff871af95f44bd942eb161dbc02e16",
       "version_major": 2,
       "version_minor": 0
      },
      "text/plain": [
       "HBox(children=(HTML(value=''), FloatProgress(value=0.0, max=10000.0), HTML(value='')))"
      ]
     },
     "metadata": {},
     "output_type": "display_data"
    },
    {
     "name": "stdout",
     "output_type": "stream",
     "text": [
      "\n"
     ]
    },
    {
     "data": {
      "application/vnd.jupyter.widget-view+json": {
       "model_id": "98896d2d35a647a699187b9bfb61c4b4",
       "version_major": 2,
       "version_minor": 0
      },
      "text/plain": [
       "HBox(children=(HTML(value=''), FloatProgress(value=0.0, max=10000.0), HTML(value='')))"
      ]
     },
     "metadata": {},
     "output_type": "display_data"
    },
    {
     "name": "stdout",
     "output_type": "stream",
     "text": [
      "\n"
     ]
    },
    {
     "data": {
      "application/vnd.jupyter.widget-view+json": {
       "model_id": "c906f4771aca4cd280e9c7e46eca8dd1",
       "version_major": 2,
       "version_minor": 0
      },
      "text/plain": [
       "HBox(children=(HTML(value=''), FloatProgress(value=0.0, max=10000.0), HTML(value='')))"
      ]
     },
     "metadata": {},
     "output_type": "display_data"
    },
    {
     "name": "stdout",
     "output_type": "stream",
     "text": [
      "\n"
     ]
    },
    {
     "data": {
      "application/vnd.jupyter.widget-view+json": {
       "model_id": "0adc61e836be4e43822cb06a861cec87",
       "version_major": 2,
       "version_minor": 0
      },
      "text/plain": [
       "HBox(children=(HTML(value=''), FloatProgress(value=0.0, max=10000.0), HTML(value='')))"
      ]
     },
     "metadata": {},
     "output_type": "display_data"
    },
    {
     "name": "stdout",
     "output_type": "stream",
     "text": [
      "\n"
     ]
    },
    {
     "data": {
      "application/vnd.jupyter.widget-view+json": {
       "model_id": "2a1a0d58f0ab4983ab032e2261dbdf5d",
       "version_major": 2,
       "version_minor": 0
      },
      "text/plain": [
       "HBox(children=(HTML(value=''), FloatProgress(value=0.0, max=10000.0), HTML(value='')))"
      ]
     },
     "metadata": {},
     "output_type": "display_data"
    },
    {
     "name": "stdout",
     "output_type": "stream",
     "text": [
      "\n"
     ]
    },
    {
     "data": {
      "application/vnd.jupyter.widget-view+json": {
       "model_id": "6ad0b29ff969432b8f1664a69ee60b2f",
       "version_major": 2,
       "version_minor": 0
      },
      "text/plain": [
       "HBox(children=(HTML(value=''), FloatProgress(value=0.0, max=10000.0), HTML(value='')))"
      ]
     },
     "metadata": {},
     "output_type": "display_data"
    },
    {
     "name": "stdout",
     "output_type": "stream",
     "text": [
      "\n"
     ]
    },
    {
     "data": {
      "application/vnd.jupyter.widget-view+json": {
       "model_id": "045ec4ed508a40969ccb8d37d0848ae6",
       "version_major": 2,
       "version_minor": 0
      },
      "text/plain": [
       "HBox(children=(HTML(value=''), FloatProgress(value=0.0, max=10000.0), HTML(value='')))"
      ]
     },
     "metadata": {},
     "output_type": "display_data"
    },
    {
     "name": "stdout",
     "output_type": "stream",
     "text": [
      "\n"
     ]
    },
    {
     "data": {
      "application/vnd.jupyter.widget-view+json": {
       "model_id": "ff935070f59040eb9ba68149a7bd8aa8",
       "version_major": 2,
       "version_minor": 0
      },
      "text/plain": [
       "HBox(children=(HTML(value=''), FloatProgress(value=0.0, max=10000.0), HTML(value='')))"
      ]
     },
     "metadata": {},
     "output_type": "display_data"
    }
   ],
   "source": [
    "# Set variables range. Since we are dealing with percentages (app_cov, compliance)\n",
    "# [0.05, 1] should do.\n",
    "initial_samples = 20 # number of random runs to perform before starting experimental design \n",
    "\n",
    "design = RandomDesign(space)\n",
    "\n",
    "x = design.get_samples(initial_samples) # get 5 random combinations of initialisations\n",
    "print(x)\n",
    "\n",
    "for i, values in enumerate(x):\n",
    "    x[i] = list(values/values.sum())\n",
    "\n",
    "y = run_tti_sim(x) # obtain corresponding effective_rs"
   ]
  },
  {
   "cell_type": "code",
   "execution_count": null,
   "metadata": {},
   "outputs": [],
   "source": [
    "# Fitting emulator to data, x: (app_cov, compliance), y: effective_r\n",
    "Num_of_param = 10\n",
    "kern_eq = GPy.kern.RBF(input_dim=Num_of_param, ARD = True)\n",
    "kern_bias = GPy.kern.Bias(input_dim=Num_of_param)\n",
    "kern = kern_eq + kern_bias\n",
    "model_gpy = GPRegression(x,y, kern)\n",
    "model_gpy.kern.variance = 1**2\n",
    "model_gpy.likelihood.variance.fix(1e-5)\n",
    "model_emukit = GPyModelWrapper(model_gpy) \n",
    "model_emukit.optimize() # optimise (max log-lik)\n",
    "display(model_gpy)\n",
    "\n"
   ]
  },
  {
   "cell_type": "code",
   "execution_count": null,
   "metadata": {},
   "outputs": [],
   "source": [
    "# Initialise experimental design loop. Using integrated variance as acquisition\n",
    "# to \"query\" the input space aiming to reduce uncertainty over the func we're approx. i.e. effective_r\n",
    "num_of_loops = 50\n",
    "integrated_variance = IntegratedVarianceReduction(space=space, model=model_emukit)\n",
    "ed = ExperimentalDesignLoop(space=space, model=model_emukit, acquisition = integrated_variance)\n",
    "ed.run_loop(run_tti_sim, num_of_loops)"
   ]
  },
  {
   "cell_type": "code",
   "execution_count": null,
   "metadata": {},
   "outputs": [],
   "source": [
    "# Plot Main Effects\n",
    "\n",
    "num_mc = 10000\n",
    "senstivity = MonteCarloSensitivity(model = model_emukit, input_domain = space)\n",
    "main_effects_gp, total_effects_gp, _ = senstivity.compute_effects(num_monte_carlo_points = num_mc)\n",
    "print(\"main_effects: \", main_effects_gp)\n",
    "print(\"total_effects: \", total_effects_gp)\n",
    "\n",
    "\n",
    "fig, ax = plt.subplots(figsize=plot.big_wide_figsize)\n",
    "main_effects_gp_plot = {ivar: main_effects_gp[ivar][0] for ivar in main_effects_gp}\n",
    "\n",
    "d = {'GP Monte Carlo':main_effects_gp_plot}\n",
    "\n",
    "pd.DataFrame(d).plot(kind='bar', ax=ax)\n",
    "plt.ylabel('% of explained output variance')\n",
    "\n",
    "mlai.write_figure(filename='first-order-sobol-indices-gp-catapult.svg', directory='./uq')"
   ]
  },
  {
   "cell_type": "code",
   "execution_count": null,
   "metadata": {
    "scrolled": true
   },
   "outputs": [],
   "source": [
    "# Plot Total Effects\n",
    "\n",
    "fig, ax = plt.subplots(figsize=plot.big_wide_figsize)\n",
    "\n",
    "total_effects_gp_plot = {ivar: total_effects_gp[ivar][0] for ivar in total_effects_gp}\n",
    "\n",
    "d = {'GP Monte Carlo':total_effects_gp_plot}\n",
    "\n",
    "pd.DataFrame(d).plot(kind='bar', ax=ax)\n",
    "ax.set_ylabel('% of explained output variance')\n",
    "\n",
    "mlai.write_figure(filename='total-effects-sobol-indices-gp-catapult.svg', directory='./uq')"
   ]
  },
  {
   "cell_type": "code",
   "execution_count": null,
   "metadata": {},
   "outputs": [],
   "source": []
  },
  {
   "cell_type": "code",
   "execution_count": null,
   "metadata": {},
   "outputs": [],
   "source": []
  }
 ],
 "metadata": {
  "colab": {
   "include_colab_link": true,
   "name": "tti-experiment.ipynb",
   "provenance": []
  },
  "kernelspec": {
   "display_name": "Python 3",
   "language": "python",
   "name": "python3"
  },
  "language_info": {
   "codemirror_mode": {
    "name": "ipython",
    "version": 3
   },
   "file_extension": ".py",
   "mimetype": "text/x-python",
   "name": "python",
   "nbconvert_exporter": "python",
   "pygments_lexer": "ipython3",
   "version": "3.6.12"
  },
  "widgets": {
   "application/vnd.jupyter.widget-state+json": {
    "01c6627a03e747b7a0bcedc0e31e94c2": {
     "model_module": "@jupyter-widgets/controls",
     "model_name": "FloatProgressModel",
     "state": {
      "_dom_classes": [],
      "_model_module": "@jupyter-widgets/controls",
      "_model_module_version": "1.5.0",
      "_model_name": "FloatProgressModel",
      "_view_count": null,
      "_view_module": "@jupyter-widgets/controls",
      "_view_module_version": "1.5.0",
      "_view_name": "ProgressView",
      "bar_style": "success",
      "description": "100%",
      "description_tooltip": null,
      "layout": "IPY_MODEL_27ae62f93b924c9f90cf1023ec62e147",
      "max": 10000,
      "min": 0,
      "orientation": "horizontal",
      "style": "IPY_MODEL_d683e78b8341498cb158a434cbf70c12",
      "value": 10000
     }
    },
    "026757afe50d4f14a7ba0beaf180574e": {
     "model_module": "@jupyter-widgets/controls",
     "model_name": "DescriptionStyleModel",
     "state": {
      "_model_module": "@jupyter-widgets/controls",
      "_model_module_version": "1.5.0",
      "_model_name": "DescriptionStyleModel",
      "_view_count": null,
      "_view_module": "@jupyter-widgets/base",
      "_view_module_version": "1.2.0",
      "_view_name": "StyleView",
      "description_width": ""
     }
    },
    "27ae62f93b924c9f90cf1023ec62e147": {
     "model_module": "@jupyter-widgets/base",
     "model_name": "LayoutModel",
     "state": {
      "_model_module": "@jupyter-widgets/base",
      "_model_module_version": "1.2.0",
      "_model_name": "LayoutModel",
      "_view_count": null,
      "_view_module": "@jupyter-widgets/base",
      "_view_module_version": "1.2.0",
      "_view_name": "LayoutView",
      "align_content": null,
      "align_items": null,
      "align_self": null,
      "border": null,
      "bottom": null,
      "display": null,
      "flex": null,
      "flex_flow": null,
      "grid_area": null,
      "grid_auto_columns": null,
      "grid_auto_flow": null,
      "grid_auto_rows": null,
      "grid_column": null,
      "grid_gap": null,
      "grid_row": null,
      "grid_template_areas": null,
      "grid_template_columns": null,
      "grid_template_rows": null,
      "height": null,
      "justify_content": null,
      "justify_items": null,
      "left": null,
      "margin": null,
      "max_height": null,
      "max_width": null,
      "min_height": null,
      "min_width": null,
      "object_fit": null,
      "object_position": null,
      "order": null,
      "overflow": null,
      "overflow_x": null,
      "overflow_y": null,
      "padding": null,
      "right": null,
      "top": null,
      "visibility": null,
      "width": null
     }
    },
    "29401bc5d41a48bdae60957b7f3126e8": {
     "model_module": "@jupyter-widgets/controls",
     "model_name": "HTMLModel",
     "state": {
      "_dom_classes": [],
      "_model_module": "@jupyter-widgets/controls",
      "_model_module_version": "1.5.0",
      "_model_name": "HTMLModel",
      "_view_count": null,
      "_view_module": "@jupyter-widgets/controls",
      "_view_module_version": "1.5.0",
      "_view_name": "HTMLView",
      "description": "",
      "description_tooltip": null,
      "layout": "IPY_MODEL_44207771133e47f3a8fb7eaca6c5c1fc",
      "placeholder": "​",
      "style": "IPY_MODEL_026757afe50d4f14a7ba0beaf180574e",
      "value": " 10000/10000 [00:05&lt;00:00, 1685.76it/s]"
     }
    },
    "44207771133e47f3a8fb7eaca6c5c1fc": {
     "model_module": "@jupyter-widgets/base",
     "model_name": "LayoutModel",
     "state": {
      "_model_module": "@jupyter-widgets/base",
      "_model_module_version": "1.2.0",
      "_model_name": "LayoutModel",
      "_view_count": null,
      "_view_module": "@jupyter-widgets/base",
      "_view_module_version": "1.2.0",
      "_view_name": "LayoutView",
      "align_content": null,
      "align_items": null,
      "align_self": null,
      "border": null,
      "bottom": null,
      "display": null,
      "flex": null,
      "flex_flow": null,
      "grid_area": null,
      "grid_auto_columns": null,
      "grid_auto_flow": null,
      "grid_auto_rows": null,
      "grid_column": null,
      "grid_gap": null,
      "grid_row": null,
      "grid_template_areas": null,
      "grid_template_columns": null,
      "grid_template_rows": null,
      "height": null,
      "justify_content": null,
      "justify_items": null,
      "left": null,
      "margin": null,
      "max_height": null,
      "max_width": null,
      "min_height": null,
      "min_width": null,
      "object_fit": null,
      "object_position": null,
      "order": null,
      "overflow": null,
      "overflow_x": null,
      "overflow_y": null,
      "padding": null,
      "right": null,
      "top": null,
      "visibility": null,
      "width": null
     }
    },
    "6d622bc0a8f64f0d87aa499c94664085": {
     "model_module": "@jupyter-widgets/controls",
     "model_name": "HBoxModel",
     "state": {
      "_dom_classes": [],
      "_model_module": "@jupyter-widgets/controls",
      "_model_module_version": "1.5.0",
      "_model_name": "HBoxModel",
      "_view_count": null,
      "_view_module": "@jupyter-widgets/controls",
      "_view_module_version": "1.5.0",
      "_view_name": "HBoxView",
      "box_style": "",
      "children": [
       "IPY_MODEL_01c6627a03e747b7a0bcedc0e31e94c2",
       "IPY_MODEL_29401bc5d41a48bdae60957b7f3126e8"
      ],
      "layout": "IPY_MODEL_8105c4eb956744b0b5e1b9ac5207f9d5"
     }
    },
    "8105c4eb956744b0b5e1b9ac5207f9d5": {
     "model_module": "@jupyter-widgets/base",
     "model_name": "LayoutModel",
     "state": {
      "_model_module": "@jupyter-widgets/base",
      "_model_module_version": "1.2.0",
      "_model_name": "LayoutModel",
      "_view_count": null,
      "_view_module": "@jupyter-widgets/base",
      "_view_module_version": "1.2.0",
      "_view_name": "LayoutView",
      "align_content": null,
      "align_items": null,
      "align_self": null,
      "border": null,
      "bottom": null,
      "display": null,
      "flex": null,
      "flex_flow": null,
      "grid_area": null,
      "grid_auto_columns": null,
      "grid_auto_flow": null,
      "grid_auto_rows": null,
      "grid_column": null,
      "grid_gap": null,
      "grid_row": null,
      "grid_template_areas": null,
      "grid_template_columns": null,
      "grid_template_rows": null,
      "height": null,
      "justify_content": null,
      "justify_items": null,
      "left": null,
      "margin": null,
      "max_height": null,
      "max_width": null,
      "min_height": null,
      "min_width": null,
      "object_fit": null,
      "object_position": null,
      "order": null,
      "overflow": null,
      "overflow_x": null,
      "overflow_y": null,
      "padding": null,
      "right": null,
      "top": null,
      "visibility": null,
      "width": null
     }
    },
    "d683e78b8341498cb158a434cbf70c12": {
     "model_module": "@jupyter-widgets/controls",
     "model_name": "ProgressStyleModel",
     "state": {
      "_model_module": "@jupyter-widgets/controls",
      "_model_module_version": "1.5.0",
      "_model_name": "ProgressStyleModel",
      "_view_count": null,
      "_view_module": "@jupyter-widgets/base",
      "_view_module_version": "1.2.0",
      "_view_name": "StyleView",
      "bar_color": null,
      "description_width": "initial"
     }
    }
   }
  }
 },
 "nbformat": 4,
 "nbformat_minor": 1
}
