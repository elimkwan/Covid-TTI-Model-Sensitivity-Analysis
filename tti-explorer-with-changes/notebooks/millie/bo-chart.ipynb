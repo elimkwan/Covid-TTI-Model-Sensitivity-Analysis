{
 "cells": [
  {
   "cell_type": "code",
   "execution_count": 1,
   "metadata": {},
   "outputs": [],
   "source": [
    "import matplotlib.pyplot as plt"
   ]
  },
  {
   "cell_type": "code",
   "execution_count": 30,
   "metadata": {},
   "outputs": [],
   "source": [
    "cols = ['red', 'tomato', 'orange', 'deepskyblue', 'green']"
   ]
  },
  {
   "cell_type": "code",
   "execution_count": 31,
   "metadata": {},
   "outputs": [
    {
     "data": {
      "text/plain": [
       "<function matplotlib.pyplot.show(close=None, block=None)>"
      ]
     },
     "execution_count": 31,
     "metadata": {},
     "output_type": "execute_result"
    },
    {
     "data": {
      "image/png": "[encoded data removed]",
      "text/plain": [
       "<Figure size 432x288 with 1 Axes>"
      ]
     },
     "metadata": {
      "needs_background": "light"
     },
     "output_type": "display_data"
    }
   ],
   "source": [
    "x = (9, 10, 5, 10, 4)\n",
    "y = (1.71, 1.47, 1.0959, 0.8352, 0.5412)\n",
    "\n",
    "\n",
    "s1 = plt.scatter(x[0], y[0], marker='o', color=cols[0])\n",
    "s2 = plt.scatter(x[1], y[1], marker='o', color=cols[1])\n",
    "s3 = plt.scatter(x[2], y[2], marker='o', color=cols[2])\n",
    "s4 = plt.scatter(x[3], y[3], marker='o', color=cols[3])\n",
    "s5 = plt.scatter(x[4], y[4], marker='o', color=cols[4])\n",
    "\n",
    "# Add title and axis names\n",
    "plt.title('Min R Latent Period')\n",
    "plt.ylabel('R')\n",
    "plt.xlabel('Latent Period')\n",
    "\n",
    "plt.legend((s1, s2, s3, s4, s5),\n",
    "           ('S1', 'S2', 'S3', 'S4', 'S5'),\n",
    "           scatterpoints=1,\n",
    "           loc='upper left',\n",
    "           ncol=2,\n",
    "           fontsize=10)\n",
    "\n",
    "plt.show"
   ]
  },
  {
   "cell_type": "code",
   "execution_count": 36,
   "metadata": {},
   "outputs": [
    {
     "data": {
      "text/plain": [
       "<function matplotlib.pyplot.show(close=None, block=None)>"
      ]
     },
     "execution_count": 36,
     "metadata": {},
     "output_type": "execute_result"
    },
    {
     "data": {
      "image/png": "[encoded data removed]",
      "text/plain": [
       "<Figure size 432x288 with 1 Axes>"
      ]
     },
     "metadata": {
      "needs_background": "light"
     },
     "output_type": "display_data"
    }
   ],
   "source": [
    "x = (1, 1, 1, 1, 9)\n",
    "y = (2.1972, 1.843, 1.4919, 1.0822, 0.7635)\n",
    "\n",
    "\n",
    "s1 = plt.scatter(x[0], y[0], marker='o', color=cols[0])\n",
    "s2 = plt.scatter(x[1], y[1], marker='o', color=cols[1])\n",
    "s3 = plt.scatter(x[2], y[2], marker='o', color=cols[2])\n",
    "s4 = plt.scatter(x[3], y[3], marker='o', color=cols[3])\n",
    "s5 = plt.scatter(x[4], y[4], marker='o', color=cols[4])\n",
    "\n",
    "# Add title and axis names\n",
    "plt.title('Max R Latent Period')\n",
    "plt.ylabel('R')\n",
    "plt.xlabel('Latent Period')\n",
    "\n",
    "plt.legend((s1, s2, s3, s4, s5),\n",
    "           ('S1', 'S2', 'S3', 'S4', 'S5'),\n",
    "           scatterpoints=1,\n",
    "           loc='upper right',\n",
    "           ncol=2,\n",
    "           fontsize=10)\n",
    "\n",
    "plt.show"
   ]
  },
  {
   "cell_type": "code",
   "execution_count": null,
   "metadata": {},
   "outputs": [],
   "source": []
  }
 ],
 "metadata": {
  "kernelspec": {
   "display_name": "Python 3",
   "language": "python",
   "name": "python3"
  },
  "language_info": {
   "codemirror_mode": {
    "name": "ipython",
    "version": 3
   },
   "file_extension": ".py",
   "mimetype": "text/x-python",
   "name": "python",
   "nbconvert_exporter": "python",
   "pygments_lexer": "ipython3",
   "version": "3.6.12"
  }
 },
 "nbformat": 4,
 "nbformat_minor": 4
}
